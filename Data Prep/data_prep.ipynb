{
 "cells": [
  {
   "cell_type": "code",
   "execution_count": 1,
   "id": "ecf81fb1",
   "metadata": {},
   "outputs": [],
   "source": [
    "import pandas as pd\n",
    "from PIL import Image\n",
    "import matplotlib.pyplot as plt\n",
    "import os\n",
    "\n",
    "import numpy as np"
   ]
  },
  {
   "cell_type": "code",
   "execution_count": 2,
   "id": "d178df8c",
   "metadata": {},
   "outputs": [],
   "source": [
    "def display_image (path:str):\n",
    "    img = Image.open(path)  \n",
    "    plt.imshow(img)\n",
    "    plt.axis('off') \n",
    "    plt.show()"
   ]
  },
  {
   "cell_type": "markdown",
   "id": "6a9c0722",
   "metadata": {},
   "source": [
    "### Handwritten Dataset Split"
   ]
  },
  {
   "cell_type": "code",
   "execution_count": 3,
   "id": "e4b40798",
   "metadata": {},
   "outputs": [],
   "source": [
    "hand_df = pd.read_csv(\"../raw_data/cleaned_no_dupli_hand.csv\")"
   ]
  },
  {
   "cell_type": "code",
   "execution_count": 4,
   "id": "5b1649e8",
   "metadata": {},
   "outputs": [
    {
     "data": {
      "application/vnd.microsoft.datawrangler.viewer.v0+json": {
       "columns": [
        {
         "name": "index",
         "rawType": "int64",
         "type": "integer"
        },
        {
         "name": "image_filename",
         "rawType": "object",
         "type": "string"
        },
        {
         "name": "line_text",
         "rawType": "object",
         "type": "string"
        }
       ],
       "conversionMethod": "pd.DataFrame",
       "ref": "dcfc1132-da12-4aa1-be5e-7105c44d12f7",
       "rows": [
        [
         "0",
         "3777_line_1.png",
         "ዦክሃር  ሳርናየቭ  የተባለው  የ 21 ዓመት  ወጣት  አሸባሪ  ይህን  ያስታወቀው  የሞት  ቅጣት  ፍርዱን  \n"
        ],
        [
         "1",
         "3777_line_2.png",
         "ባፀደቀው  ፍርድ  ቤት ከትናንት  በስቲያ  በቀረበበት ወቅት  እንደሆነ  የሲኤንኤን  ዘገባ አረጋግጧል።  \n"
        ],
        [
         "2",
         "3777_line_3.png",
         "ለምሳሌ  ያህል  ፣ ልጆቻችሁ  በትምህርት  ቤት ጥሩ ውጤት  ቢያመጡ  የጉልበተኞች  የጥቃት  ዒላማ  \n"
        ],
        [
         "3",
         "3777_line_4.png",
         "እንደሚሆኑ  ይሰማቸዋል  ?። የፓትርያርኩ  በዓለ  ሢመት  ቀን በጾም  የሚውልባቸው  ጊዜያት  በመኖራ\n"
        ],
        [
         "4",
         "3777_line_5.png",
         "ቸው  ቀኑን  በለውጥ  ስለ መበየን  በጽ / ቤታቸው የቀረበውን  አጀንዳ  በተመለከተ  ምልአተ  ጉባኤው  \n"
        ]
       ],
       "shape": {
        "columns": 2,
        "rows": 5
       }
      },
      "text/html": [
       "<div>\n",
       "<style scoped>\n",
       "    .dataframe tbody tr th:only-of-type {\n",
       "        vertical-align: middle;\n",
       "    }\n",
       "\n",
       "    .dataframe tbody tr th {\n",
       "        vertical-align: top;\n",
       "    }\n",
       "\n",
       "    .dataframe thead th {\n",
       "        text-align: right;\n",
       "    }\n",
       "</style>\n",
       "<table border=\"1\" class=\"dataframe\">\n",
       "  <thead>\n",
       "    <tr style=\"text-align: right;\">\n",
       "      <th></th>\n",
       "      <th>image_filename</th>\n",
       "      <th>line_text</th>\n",
       "    </tr>\n",
       "  </thead>\n",
       "  <tbody>\n",
       "    <tr>\n",
       "      <th>0</th>\n",
       "      <td>3777_line_1.png</td>\n",
       "      <td>ዦክሃር  ሳርናየቭ  የተባለው  የ 21 ዓመት  ወጣት  አሸባሪ  ይህን  ...</td>\n",
       "    </tr>\n",
       "    <tr>\n",
       "      <th>1</th>\n",
       "      <td>3777_line_2.png</td>\n",
       "      <td>ባፀደቀው  ፍርድ  ቤት ከትናንት  በስቲያ  በቀረበበት ወቅት  እንደሆነ ...</td>\n",
       "    </tr>\n",
       "    <tr>\n",
       "      <th>2</th>\n",
       "      <td>3777_line_3.png</td>\n",
       "      <td>ለምሳሌ  ያህል  ፣ ልጆቻችሁ  በትምህርት  ቤት ጥሩ ውጤት  ቢያመጡ  የ...</td>\n",
       "    </tr>\n",
       "    <tr>\n",
       "      <th>3</th>\n",
       "      <td>3777_line_4.png</td>\n",
       "      <td>እንደሚሆኑ  ይሰማቸዋል  ?። የፓትርያርኩ  በዓለ  ሢመት  ቀን በጾም  ...</td>\n",
       "    </tr>\n",
       "    <tr>\n",
       "      <th>4</th>\n",
       "      <td>3777_line_5.png</td>\n",
       "      <td>ቸው  ቀኑን  በለውጥ  ስለ መበየን  በጽ / ቤታቸው የቀረበውን  አጀንዳ...</td>\n",
       "    </tr>\n",
       "  </tbody>\n",
       "</table>\n",
       "</div>"
      ],
      "text/plain": [
       "    image_filename                                          line_text\n",
       "0  3777_line_1.png  ዦክሃር  ሳርናየቭ  የተባለው  የ 21 ዓመት  ወጣት  አሸባሪ  ይህን  ...\n",
       "1  3777_line_2.png  ባፀደቀው  ፍርድ  ቤት ከትናንት  በስቲያ  በቀረበበት ወቅት  እንደሆነ ...\n",
       "2  3777_line_3.png  ለምሳሌ  ያህል  ፣ ልጆቻችሁ  በትምህርት  ቤት ጥሩ ውጤት  ቢያመጡ  የ...\n",
       "3  3777_line_4.png  እንደሚሆኑ  ይሰማቸዋል  ?። የፓትርያርኩ  በዓለ  ሢመት  ቀን በጾም  ...\n",
       "4  3777_line_5.png  ቸው  ቀኑን  በለውጥ  ስለ መበየን  በጽ / ቤታቸው የቀረበውን  አጀንዳ..."
      ]
     },
     "execution_count": 4,
     "metadata": {},
     "output_type": "execute_result"
    }
   ],
   "source": [
    "hand_df.head(5)"
   ]
  },
  {
   "cell_type": "code",
   "execution_count": 5,
   "id": "4e9f12a5",
   "metadata": {},
   "outputs": [],
   "source": [
    "hand_root = \"../raw_data/extracted_handwritten_lines/\""
   ]
  },
  {
   "cell_type": "code",
   "execution_count": 20,
   "id": "12946d58",
   "metadata": {},
   "outputs": [
    {
     "ename": "FileNotFoundError",
     "evalue": "[Errno 2] No such file or directory: '/home/admin/Gabby/Amharic OCR/HandWritten_Amharic_English_OCR/raw_data/Amharic_Data/train/synthetic_image_10288_2.png'",
     "output_type": "error",
     "traceback": [
      "\u001b[0;31m---------------------------------------------------------------------------\u001b[0m",
      "\u001b[0;31mFileNotFoundError\u001b[0m                         Traceback (most recent call last)",
      "Cell \u001b[0;32mIn[20], line 1\u001b[0m\n\u001b[0;32m----> 1\u001b[0m \u001b[43mdisplay_image\u001b[49m\u001b[43m(\u001b[49m\u001b[38;5;124;43m\"\u001b[39;49m\u001b[38;5;124;43m/home/admin/Gabby/Amharic OCR/HandWritten_Amharic_English_OCR/raw_data/Amharic_Data/train/synthetic_image_10288_2.png\u001b[39;49m\u001b[38;5;124;43m\"\u001b[39;49m\u001b[43m)\u001b[49m  \n\u001b[1;32m      2\u001b[0m \u001b[38;5;28mprint\u001b[39m(hand_df\u001b[38;5;241m.\u001b[39miloc[\u001b[38;5;241m0\u001b[39m][\u001b[38;5;124m'\u001b[39m\u001b[38;5;124mline_text\u001b[39m\u001b[38;5;124m'\u001b[39m])\n",
      "Cell \u001b[0;32mIn[2], line 2\u001b[0m, in \u001b[0;36mdisplay_image\u001b[0;34m(path)\u001b[0m\n\u001b[1;32m      1\u001b[0m \u001b[38;5;28;01mdef\u001b[39;00m\u001b[38;5;250m \u001b[39m\u001b[38;5;21mdisplay_image\u001b[39m (path:\u001b[38;5;28mstr\u001b[39m):\n\u001b[0;32m----> 2\u001b[0m     img \u001b[38;5;241m=\u001b[39m \u001b[43mImage\u001b[49m\u001b[38;5;241;43m.\u001b[39;49m\u001b[43mopen\u001b[49m\u001b[43m(\u001b[49m\u001b[43mpath\u001b[49m\u001b[43m)\u001b[49m  \n\u001b[1;32m      3\u001b[0m     plt\u001b[38;5;241m.\u001b[39mimshow(img)\n\u001b[1;32m      4\u001b[0m     plt\u001b[38;5;241m.\u001b[39maxis(\u001b[38;5;124m'\u001b[39m\u001b[38;5;124moff\u001b[39m\u001b[38;5;124m'\u001b[39m) \n",
      "File \u001b[0;32m~/anaconda3/envs/pytorch-idl/lib/python3.9/site-packages/PIL/Image.py:3465\u001b[0m, in \u001b[0;36mopen\u001b[0;34m(fp, mode, formats)\u001b[0m\n\u001b[1;32m   3462\u001b[0m     filename \u001b[38;5;241m=\u001b[39m os\u001b[38;5;241m.\u001b[39mfspath(fp)\n\u001b[1;32m   3464\u001b[0m \u001b[38;5;28;01mif\u001b[39;00m filename:\n\u001b[0;32m-> 3465\u001b[0m     fp \u001b[38;5;241m=\u001b[39m \u001b[43mbuiltins\u001b[49m\u001b[38;5;241;43m.\u001b[39;49m\u001b[43mopen\u001b[49m\u001b[43m(\u001b[49m\u001b[43mfilename\u001b[49m\u001b[43m,\u001b[49m\u001b[43m \u001b[49m\u001b[38;5;124;43m\"\u001b[39;49m\u001b[38;5;124;43mrb\u001b[39;49m\u001b[38;5;124;43m\"\u001b[39;49m\u001b[43m)\u001b[49m\n\u001b[1;32m   3466\u001b[0m     exclusive_fp \u001b[38;5;241m=\u001b[39m \u001b[38;5;28;01mTrue\u001b[39;00m\n\u001b[1;32m   3467\u001b[0m \u001b[38;5;28;01melse\u001b[39;00m:\n",
      "\u001b[0;31mFileNotFoundError\u001b[0m: [Errno 2] No such file or directory: '/home/admin/Gabby/Amharic OCR/HandWritten_Amharic_English_OCR/raw_data/Amharic_Data/train/synthetic_image_10288_2.png'"
     ]
    }
   ],
   "source": [
    "display_image(\"/home/admin/Gabby/Amharic OCR/HandWritten_Amharic_English_OCR/raw_data/Amharic_Data/train/synthetic_image_10288_2.png\")  \n",
    "print(hand_df.iloc[0]['line_text'])"
   ]
  },
  {
   "cell_type": "code",
   "execution_count": 7,
   "id": "14cde518",
   "metadata": {},
   "outputs": [],
   "source": [
    "texts = hand_df['line_text'].tolist()"
   ]
  },
  {
   "cell_type": "code",
   "execution_count": 9,
   "id": "de7ff1fe",
   "metadata": {},
   "outputs": [],
   "source": [
    "from collections import Counter\n",
    "all_text = ''.join(texts)\n",
    "char_counts = Counter(all_text)\n",
    "\n"
   ]
  },
  {
   "cell_type": "code",
   "execution_count": 10,
   "id": "c2ed5ac5",
   "metadata": {},
   "outputs": [],
   "source": [
    "sorted_counts = dict(sorted(char_counts.items(), key=lambda item: item[1], reverse=True))\n",
    "\n"
   ]
  },
  {
   "cell_type": "code",
   "execution_count": 11,
   "id": "4fe8f7bb",
   "metadata": {},
   "outputs": [
    {
     "name": "stdout",
     "output_type": "stream",
     "text": [
      "Percentage of entries with rare characters: 14.77%\n"
     ]
    }
   ],
   "source": [
    "\n",
    "texts = hand_df['line_text'].dropna().astype(str)\n",
    "char_df = pd.DataFrame(char_counts.items(), columns=[\"char\", \"count\"])\n",
    "\n",
    "# Compute 95th percentile threshold\n",
    "threshold = np.percentile(char_df['count'], 30)\n",
    "\n",
    "# Define rare characters: strictly below 95th percentile\n",
    "rare_chars = set(char_df[char_df['count'] < threshold]['char'])\n",
    "\n",
    "# Tag rows that contain rare characters\n",
    "def contains_rare_char(text):\n",
    "    return any(char in rare_chars for char in text)\n",
    "\n",
    "hand_df['has_rare'] = texts.apply(contains_rare_char)\n",
    "\n",
    "# Calculate percentage\n",
    "percentage = (hand_df['has_rare'].sum() / len(hand_df)) * 100\n",
    "print(f\"Percentage of entries with rare characters: {percentage:.2f}%\")\n"
   ]
  },
  {
   "cell_type": "code",
   "execution_count": 12,
   "id": "aff16c5d",
   "metadata": {},
   "outputs": [],
   "source": [
    "\n",
    "#seperate df with rare and non rare characters\n",
    "hand_df_rare = hand_df[hand_df['has_rare'] == True]\n",
    "hand_df_non_rare = hand_df[hand_df['has_rare'] == False]"
   ]
  },
  {
   "cell_type": "code",
   "execution_count": 13,
   "id": "78a8a7c7",
   "metadata": {},
   "outputs": [
    {
     "data": {
      "text/plain": [
       "(6036, 34820)"
      ]
     },
     "execution_count": 13,
     "metadata": {},
     "output_type": "execute_result"
    }
   ],
   "source": [
    "len(hand_df_rare), len(hand_df_non_rare)"
   ]
  },
  {
   "cell_type": "code",
   "execution_count": 14,
   "id": "5e4dff53",
   "metadata": {},
   "outputs": [
    {
     "name": "stderr",
     "output_type": "stream",
     "text": [
      "/tmp/ipykernel_83660/3912901920.py:1: SettingWithCopyWarning: \n",
      "A value is trying to be set on a copy of a slice from a DataFrame.\n",
      "Try using .loc[row_indexer,col_indexer] = value instead\n",
      "\n",
      "See the caveats in the documentation: https://pandas.pydata.org/pandas-docs/stable/user_guide/indexing.html#returning-a-view-versus-a-copy\n",
      "  hand_df_non_rare['type'] = 'handwritten'\n"
     ]
    }
   ],
   "source": [
    "hand_df_non_rare['type'] = 'handwritten'"
   ]
  },
  {
   "cell_type": "code",
   "execution_count": 15,
   "id": "6cf6ad5b",
   "metadata": {},
   "outputs": [
    {
     "data": {
      "application/vnd.microsoft.datawrangler.viewer.v0+json": {
       "columns": [
        {
         "name": "index",
         "rawType": "int64",
         "type": "integer"
        },
        {
         "name": "image_filename",
         "rawType": "object",
         "type": "string"
        },
        {
         "name": "line_text",
         "rawType": "object",
         "type": "string"
        },
        {
         "name": "has_rare",
         "rawType": "bool",
         "type": "boolean"
        },
        {
         "name": "type",
         "rawType": "object",
         "type": "string"
        }
       ],
       "conversionMethod": "pd.DataFrame",
       "ref": "ef19bbc5-5cf6-4869-9f5e-818d5a9399fb",
       "rows": [
        [
         "2",
         "3777_line_3.png",
         "ለምሳሌ  ያህል  ፣ ልጆቻችሁ  በትምህርት  ቤት ጥሩ ውጤት  ቢያመጡ  የጉልበተኞች  የጥቃት  ዒላማ  \n",
         "False",
         "handwritten"
        ],
        [
         "4",
         "3777_line_5.png",
         "ቸው  ቀኑን  በለውጥ  ስለ መበየን  በጽ / ቤታቸው የቀረበውን  አጀንዳ  በተመለከተ  ምልአተ  ጉባኤው  \n",
         "False",
         "handwritten"
        ],
        [
         "5",
         "3777_line_6.png",
         "የተለያዩ  አማራጮችን  አይቷል።  አንዲት  ወላድ  ሴት ( ከአራስ  ቤት ከወጣች  5 ወር ቢሆናት  ነው ) \n",
         "False",
         "handwritten"
        ],
        [
         "6",
         "3777_line_7.png",
         "በአንዋር  መስጂድ  ተገኝተሻል  በመርካቶ  አራተኛ  ፖሊስ  ጣቢያ  አስረዋት  አራስ  ልጇ ተርቦ  እሪሪ  \n",
         "False",
         "handwritten"
        ],
        [
         "7",
         "3777_line_8.png",
         "እያለ  እያዩት  አውሬዎቹ  ፖሊሶቻችሁ  ልጇን  እንኳ  እንዳታጠባ  የከለከሏት  ዘግናኝ  ድርጊት  ከተፈፀመ  \n",
         "False",
         "handwritten"
        ]
       ],
       "shape": {
        "columns": 4,
        "rows": 5
       }
      },
      "text/html": [
       "<div>\n",
       "<style scoped>\n",
       "    .dataframe tbody tr th:only-of-type {\n",
       "        vertical-align: middle;\n",
       "    }\n",
       "\n",
       "    .dataframe tbody tr th {\n",
       "        vertical-align: top;\n",
       "    }\n",
       "\n",
       "    .dataframe thead th {\n",
       "        text-align: right;\n",
       "    }\n",
       "</style>\n",
       "<table border=\"1\" class=\"dataframe\">\n",
       "  <thead>\n",
       "    <tr style=\"text-align: right;\">\n",
       "      <th></th>\n",
       "      <th>image_filename</th>\n",
       "      <th>line_text</th>\n",
       "      <th>has_rare</th>\n",
       "      <th>type</th>\n",
       "    </tr>\n",
       "  </thead>\n",
       "  <tbody>\n",
       "    <tr>\n",
       "      <th>2</th>\n",
       "      <td>3777_line_3.png</td>\n",
       "      <td>ለምሳሌ  ያህል  ፣ ልጆቻችሁ  በትምህርት  ቤት ጥሩ ውጤት  ቢያመጡ  የ...</td>\n",
       "      <td>False</td>\n",
       "      <td>handwritten</td>\n",
       "    </tr>\n",
       "    <tr>\n",
       "      <th>4</th>\n",
       "      <td>3777_line_5.png</td>\n",
       "      <td>ቸው  ቀኑን  በለውጥ  ስለ መበየን  በጽ / ቤታቸው የቀረበውን  አጀንዳ...</td>\n",
       "      <td>False</td>\n",
       "      <td>handwritten</td>\n",
       "    </tr>\n",
       "    <tr>\n",
       "      <th>5</th>\n",
       "      <td>3777_line_6.png</td>\n",
       "      <td>የተለያዩ  አማራጮችን  አይቷል።  አንዲት  ወላድ  ሴት ( ከአራስ  ቤት...</td>\n",
       "      <td>False</td>\n",
       "      <td>handwritten</td>\n",
       "    </tr>\n",
       "    <tr>\n",
       "      <th>6</th>\n",
       "      <td>3777_line_7.png</td>\n",
       "      <td>በአንዋር  መስጂድ  ተገኝተሻል  በመርካቶ  አራተኛ  ፖሊስ  ጣቢያ  አስ...</td>\n",
       "      <td>False</td>\n",
       "      <td>handwritten</td>\n",
       "    </tr>\n",
       "    <tr>\n",
       "      <th>7</th>\n",
       "      <td>3777_line_8.png</td>\n",
       "      <td>እያለ  እያዩት  አውሬዎቹ  ፖሊሶቻችሁ  ልጇን  እንኳ  እንዳታጠባ  የከ...</td>\n",
       "      <td>False</td>\n",
       "      <td>handwritten</td>\n",
       "    </tr>\n",
       "  </tbody>\n",
       "</table>\n",
       "</div>"
      ],
      "text/plain": [
       "    image_filename                                          line_text  \\\n",
       "2  3777_line_3.png  ለምሳሌ  ያህል  ፣ ልጆቻችሁ  በትምህርት  ቤት ጥሩ ውጤት  ቢያመጡ  የ...   \n",
       "4  3777_line_5.png  ቸው  ቀኑን  በለውጥ  ስለ መበየን  በጽ / ቤታቸው የቀረበውን  አጀንዳ...   \n",
       "5  3777_line_6.png  የተለያዩ  አማራጮችን  አይቷል።  አንዲት  ወላድ  ሴት ( ከአራስ  ቤት...   \n",
       "6  3777_line_7.png  በአንዋር  መስጂድ  ተገኝተሻል  በመርካቶ  አራተኛ  ፖሊስ  ጣቢያ  አስ...   \n",
       "7  3777_line_8.png  እያለ  እያዩት  አውሬዎቹ  ፖሊሶቻችሁ  ልጇን  እንኳ  እንዳታጠባ  የከ...   \n",
       "\n",
       "   has_rare         type  \n",
       "2     False  handwritten  \n",
       "4     False  handwritten  \n",
       "5     False  handwritten  \n",
       "6     False  handwritten  \n",
       "7     False  handwritten  "
      ]
     },
     "execution_count": 15,
     "metadata": {},
     "output_type": "execute_result"
    }
   ],
   "source": [
    "hand_df_non_rare.head(5)"
   ]
  },
  {
   "cell_type": "code",
   "execution_count": 16,
   "id": "ec3fa500",
   "metadata": {},
   "outputs": [],
   "source": [
    "train_df = pd.DataFrame(columns=['image_filename', 'line_text', 'type'])"
   ]
  },
  {
   "cell_type": "code",
   "execution_count": 17,
   "id": "b0cfadf0",
   "metadata": {},
   "outputs": [],
   "source": [
    "import os\n",
    "import shutil\n",
    "from PIL import Image\n",
    "count = 0\n",
    "\n",
    "for i in range(len(hand_df_non_rare)):\n",
    "    source_file = (os.path.join(hand_root , hand_df_non_rare.iloc[i]['image_filename']))  \n",
    "    destination_file = os.path.join(\"../raw_data/Amharic_Data/train\", (\"hand_\" + hand_df_non_rare.iloc[i]['image_filename']))\n",
    "    \n",
    "    # if os.path.isfile(source_file):\n",
    "    #     shutil.copy2(source_file, destination_file)\n",
    "    # # display_image(destination_file)\n",
    "    # print(hand_df_rare.iloc[i]['line_text'])\n",
    "    # print(hand_df_rare.iloc[i]['has_rare'])\n",
    "    # print(hand_df_rare.iloc[i]['type'])\n",
    "    # print(\"--------------------------------------------------\")\n",
    "    \n",
    "    new_row = pd.DataFrame({'image_filename': [\"handwritten_\" + hand_df_non_rare.iloc[i]['image_filename']], \n",
    "                        'line_text': [hand_df_non_rare.iloc[i]['line_text']], \n",
    "                        'type': ['handwritten']})\n",
    "\n",
    "    # Use pd.concat to append the new row to the DataFrame\n",
    "    train_df = pd.concat([train_df, new_row], ignore_index=True)\n",
    "   "
   ]
  },
  {
   "cell_type": "code",
   "execution_count": 19,
   "id": "d5761eb9",
   "metadata": {},
   "outputs": [],
   "source": [
    "train_df.to_csv(\"../raw_data/Amharic_Data/train/hand_train.csv\", index=False)"
   ]
  },
  {
   "cell_type": "code",
   "execution_count": 18,
   "id": "115b02d9",
   "metadata": {},
   "outputs": [
    {
     "data": {
      "text/plain": [
       "34820"
      ]
     },
     "execution_count": 18,
     "metadata": {},
     "output_type": "execute_result"
    }
   ],
   "source": [
    "len(train_df)"
   ]
  },
  {
   "cell_type": "code",
   "execution_count": null,
   "id": "6bdc61fa",
   "metadata": {},
   "outputs": [],
   "source": []
  }
 ],
 "metadata": {
  "kernelspec": {
   "display_name": "pytorch-idl",
   "language": "python",
   "name": "python3"
  },
  "language_info": {
   "codemirror_mode": {
    "name": "ipython",
    "version": 3
   },
   "file_extension": ".py",
   "mimetype": "text/x-python",
   "name": "python",
   "nbconvert_exporter": "python",
   "pygments_lexer": "ipython3",
   "version": "3.9.18"
  }
 },
 "nbformat": 4,
 "nbformat_minor": 5
}
