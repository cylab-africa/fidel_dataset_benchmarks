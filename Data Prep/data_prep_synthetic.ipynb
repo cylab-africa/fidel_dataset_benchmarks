{
 "cells": [
  {
   "cell_type": "code",
   "execution_count": 1,
   "id": "ecf81fb1",
   "metadata": {},
   "outputs": [],
   "source": [
    "import pandas as pd\n",
    "from PIL import Image\n",
    "import matplotlib.pyplot as plt\n",
    "import os\n",
    "\n",
    "import numpy as np"
   ]
  },
  {
   "cell_type": "code",
   "execution_count": 2,
   "id": "d178df8c",
   "metadata": {},
   "outputs": [],
   "source": [
    "def display_image (path:str):\n",
    "    img = Image.open(path)  \n",
    "    plt.imshow(img)\n",
    "    plt.axis('off') \n",
    "    plt.show()"
   ]
  },
  {
   "cell_type": "markdown",
   "id": "6a9c0722",
   "metadata": {},
   "source": [
    "### Handwritten Dataset Split"
   ]
  },
  {
   "cell_type": "code",
   "execution_count": 3,
   "id": "e4b40798",
   "metadata": {},
   "outputs": [],
   "source": [
    "sythetic_df = pd.read_csv(\"../raw_data/sythetic_labels.csv\")"
   ]
  },
  {
   "cell_type": "code",
   "execution_count": 4,
   "id": "5b1649e8",
   "metadata": {},
   "outputs": [
    {
     "data": {
      "application/vnd.microsoft.datawrangler.viewer.v0+json": {
       "columns": [
        {
         "name": "index",
         "rawType": "int64",
         "type": "integer"
        },
        {
         "name": "images",
         "rawType": "object",
         "type": "string"
        },
        {
         "name": "text",
         "rawType": "object",
         "type": "string"
        }
       ],
       "conversionMethod": "pd.DataFrame",
       "ref": "9bb00e39-8f18-4cc5-b589-9242abf7b4e1",
       "rows": [
        [
         "0",
         "image_0_0.png",
         "ሁከትና ብጥብጥ የሚያነሳሳ ቅስቀሳ እና ግንኙነት መፍጠር::"
        ],
        [
         "1",
         "image_1_0.png",
         "ይላል ከዚህ አንቀፅ በግልፅ እንደምንረዳው በህቡዕም ሆነ በግልፅ መደራጀት መብት ነው መደራጀት የሚከለከለው ህግ በመጣስ ወይም ህገመንግስታዊ ስርአቱን በህገወጥ መንገድ"
        ],
        [
         "2",
         "image_1_1.png",
         "ለማፍረስ ከሆነ ብቻ ነው::"
        ],
        [
         "3",
         "image_3_0.png",
         "ሉቃስ ደቀ መዛሙርቱም ተመልሰው ያገኙትን ውጤት ሲነግሩት አመስግኗቸዋል ብሎም አበረታቷቸዋል::"
        ],
        [
         "4",
         "image_4_0.png",
         "እምነትን በስራ መግለጥ ስራ ብቻውን ያድናል አይባልም::"
        ]
       ],
       "shape": {
        "columns": 2,
        "rows": 5
       }
      },
      "text/html": [
       "<div>\n",
       "<style scoped>\n",
       "    .dataframe tbody tr th:only-of-type {\n",
       "        vertical-align: middle;\n",
       "    }\n",
       "\n",
       "    .dataframe tbody tr th {\n",
       "        vertical-align: top;\n",
       "    }\n",
       "\n",
       "    .dataframe thead th {\n",
       "        text-align: right;\n",
       "    }\n",
       "</style>\n",
       "<table border=\"1\" class=\"dataframe\">\n",
       "  <thead>\n",
       "    <tr style=\"text-align: right;\">\n",
       "      <th></th>\n",
       "      <th>images</th>\n",
       "      <th>text</th>\n",
       "    </tr>\n",
       "  </thead>\n",
       "  <tbody>\n",
       "    <tr>\n",
       "      <th>0</th>\n",
       "      <td>image_0_0.png</td>\n",
       "      <td>ሁከትና ብጥብጥ የሚያነሳሳ ቅስቀሳ እና ግንኙነት መፍጠር::</td>\n",
       "    </tr>\n",
       "    <tr>\n",
       "      <th>1</th>\n",
       "      <td>image_1_0.png</td>\n",
       "      <td>ይላል ከዚህ አንቀፅ በግልፅ እንደምንረዳው በህቡዕም ሆነ በግልፅ መደራጀት...</td>\n",
       "    </tr>\n",
       "    <tr>\n",
       "      <th>2</th>\n",
       "      <td>image_1_1.png</td>\n",
       "      <td>ለማፍረስ ከሆነ ብቻ ነው::</td>\n",
       "    </tr>\n",
       "    <tr>\n",
       "      <th>3</th>\n",
       "      <td>image_3_0.png</td>\n",
       "      <td>ሉቃስ ደቀ መዛሙርቱም ተመልሰው ያገኙትን ውጤት ሲነግሩት አመስግኗቸዋል ብ...</td>\n",
       "    </tr>\n",
       "    <tr>\n",
       "      <th>4</th>\n",
       "      <td>image_4_0.png</td>\n",
       "      <td>እምነትን በስራ መግለጥ ስራ ብቻውን ያድናል አይባልም::</td>\n",
       "    </tr>\n",
       "  </tbody>\n",
       "</table>\n",
       "</div>"
      ],
      "text/plain": [
       "          images                                               text\n",
       "0  image_0_0.png              ሁከትና ብጥብጥ የሚያነሳሳ ቅስቀሳ እና ግንኙነት መፍጠር::\n",
       "1  image_1_0.png  ይላል ከዚህ አንቀፅ በግልፅ እንደምንረዳው በህቡዕም ሆነ በግልፅ መደራጀት...\n",
       "2  image_1_1.png                                  ለማፍረስ ከሆነ ብቻ ነው::\n",
       "3  image_3_0.png  ሉቃስ ደቀ መዛሙርቱም ተመልሰው ያገኙትን ውጤት ሲነግሩት አመስግኗቸዋል ብ...\n",
       "4  image_4_0.png                እምነትን በስራ መግለጥ ስራ ብቻውን ያድናል አይባልም::"
      ]
     },
     "execution_count": 4,
     "metadata": {},
     "output_type": "execute_result"
    }
   ],
   "source": [
    "sythetic_df.head(5)"
   ]
  },
  {
   "cell_type": "code",
   "execution_count": 14,
   "id": "cb0efa52",
   "metadata": {},
   "outputs": [
    {
     "data": {
      "text/plain": [
       "297810"
      ]
     },
     "execution_count": 14,
     "metadata": {},
     "output_type": "execute_result"
    }
   ],
   "source": [
    "len(sythetic_df)"
   ]
  },
  {
   "cell_type": "code",
   "execution_count": 5,
   "id": "4e9f12a5",
   "metadata": {},
   "outputs": [],
   "source": [
    "synthetic_root = \"../raw_data/data/\""
   ]
  },
  {
   "cell_type": "code",
   "execution_count": 6,
   "id": "12946d58",
   "metadata": {},
   "outputs": [
    {
     "data": {
      "image/png": "[encoded data removed]",
      "text/plain": [
       "<Figure size 640x480 with 1 Axes>"
      ]
     },
     "metadata": {},
     "output_type": "display_data"
    },
    {
     "name": "stdout",
     "output_type": "stream",
     "text": [
      "ሁከትና ብጥብጥ የሚያነሳሳ ቅስቀሳ እና ግንኙነት መፍጠር::\n"
     ]
    }
   ],
   "source": [
    "display_image(os.path.join(synthetic_root , sythetic_df.iloc[0]['images']))  \n",
    "print(sythetic_df.iloc[0]['text'])"
   ]
  },
  {
   "cell_type": "code",
   "execution_count": 7,
   "id": "14cde518",
   "metadata": {},
   "outputs": [],
   "source": [
    "texts = sythetic_df['text'].tolist()"
   ]
  },
  {
   "cell_type": "code",
   "execution_count": 8,
   "id": "de7ff1fe",
   "metadata": {},
   "outputs": [],
   "source": [
    "from collections import Counter\n",
    "all_text = ''.join(texts)\n",
    "char_counts = Counter(all_text)\n",
    "\n"
   ]
  },
  {
   "cell_type": "code",
   "execution_count": 9,
   "id": "c2ed5ac5",
   "metadata": {},
   "outputs": [],
   "source": [
    "sorted_counts = dict(sorted(char_counts.items(), key=lambda item: item[1], reverse=True))\n",
    "\n"
   ]
  },
  {
   "cell_type": "code",
   "execution_count": 10,
   "id": "4fe8f7bb",
   "metadata": {},
   "outputs": [
    {
     "name": "stdout",
     "output_type": "stream",
     "text": [
      "Percentage of entries with rare characters: 2.03%\n"
     ]
    }
   ],
   "source": [
    "\n",
    "texts = sythetic_df['text'].dropna().astype(str)\n",
    "char_df = pd.DataFrame(char_counts.items(), columns=[\"char\", \"count\"])\n",
    "\n",
    "# Compute 95th percentile threshold\n",
    "threshold = np.percentile(char_df['count'], 14)\n",
    "\n",
    "# Define rare characters: strictly below 95th percentile\n",
    "rare_chars = set(char_df[char_df['count'] < threshold]['char'])\n",
    "\n",
    "# Tag rows that contain rare characters\n",
    "def contains_rare_char(text):\n",
    "    return any(char in rare_chars for char in text)\n",
    "\n",
    "sythetic_df['has_rare'] = texts.apply(contains_rare_char)\n",
    "\n",
    "# Calculate percentage\n",
    "percentage = (sythetic_df['has_rare'].sum() / len(sythetic_df)) * 100\n",
    "print(f\"Percentage of entries with rare characters: {percentage:.2f}%\")\n"
   ]
  },
  {
   "cell_type": "code",
   "execution_count": 11,
   "id": "aff16c5d",
   "metadata": {},
   "outputs": [],
   "source": [
    "\n",
    "#seperate df with rare and non rare characters\n",
    "sythetic_df_rare = sythetic_df[sythetic_df['has_rare'] == True]\n",
    "sythetic_df_non_rare = sythetic_df[sythetic_df['has_rare'] == False]"
   ]
  },
  {
   "cell_type": "code",
   "execution_count": 13,
   "id": "78a8a7c7",
   "metadata": {},
   "outputs": [
    {
     "data": {
      "text/plain": [
       "(6052, 291758)"
      ]
     },
     "execution_count": 13,
     "metadata": {},
     "output_type": "execute_result"
    }
   ],
   "source": [
    "len(sythetic_df_rare), len(sythetic_df_non_rare)"
   ]
  },
  {
   "cell_type": "code",
   "execution_count": 13,
   "id": "5e4dff53",
   "metadata": {},
   "outputs": [
    {
     "name": "stderr",
     "output_type": "stream",
     "text": [
      "/tmp/ipykernel_1490861/3837450089.py:1: SettingWithCopyWarning: \n",
      "A value is trying to be set on a copy of a slice from a DataFrame.\n",
      "Try using .loc[row_indexer,col_indexer] = value instead\n",
      "\n",
      "See the caveats in the documentation: https://pandas.pydata.org/pandas-docs/stable/user_guide/indexing.html#returning-a-view-versus-a-copy\n",
      "  sythetic_df_non_rare['type'] = 'synthetic'\n"
     ]
    }
   ],
   "source": [
    "sythetic_df_non_rare['type'] = 'synthetic'"
   ]
  },
  {
   "cell_type": "code",
   "execution_count": 14,
   "id": "6cf6ad5b",
   "metadata": {},
   "outputs": [
    {
     "data": {
      "application/vnd.microsoft.datawrangler.viewer.v0+json": {
       "columns": [
        {
         "name": "index",
         "rawType": "int64",
         "type": "integer"
        },
        {
         "name": "images",
         "rawType": "object",
         "type": "string"
        },
        {
         "name": "text",
         "rawType": "object",
         "type": "string"
        },
        {
         "name": "has_rare",
         "rawType": "bool",
         "type": "boolean"
        },
        {
         "name": "type",
         "rawType": "object",
         "type": "string"
        }
       ],
       "conversionMethod": "pd.DataFrame",
       "ref": "b533a8e6-cc06-474d-a00a-664a97015cc6",
       "rows": [
        [
         "0",
         "image_0_0.png",
         "ሁከትና ብጥብጥ የሚያነሳሳ ቅስቀሳ እና ግንኙነት መፍጠር::",
         "False",
         "synthetic"
        ],
        [
         "1",
         "image_1_0.png",
         "ይላል ከዚህ አንቀፅ በግልፅ እንደምንረዳው በህቡዕም ሆነ በግልፅ መደራጀት መብት ነው መደራጀት የሚከለከለው ህግ በመጣስ ወይም ህገመንግስታዊ ስርአቱን በህገወጥ መንገድ",
         "False",
         "synthetic"
        ],
        [
         "2",
         "image_1_1.png",
         "ለማፍረስ ከሆነ ብቻ ነው::",
         "False",
         "synthetic"
        ],
        [
         "3",
         "image_3_0.png",
         "ሉቃስ ደቀ መዛሙርቱም ተመልሰው ያገኙትን ውጤት ሲነግሩት አመስግኗቸዋል ብሎም አበረታቷቸዋል::",
         "False",
         "synthetic"
        ],
        [
         "4",
         "image_4_0.png",
         "እምነትን በስራ መግለጥ ስራ ብቻውን ያድናል አይባልም::",
         "False",
         "synthetic"
        ]
       ],
       "shape": {
        "columns": 4,
        "rows": 5
       }
      },
      "text/html": [
       "<div>\n",
       "<style scoped>\n",
       "    .dataframe tbody tr th:only-of-type {\n",
       "        vertical-align: middle;\n",
       "    }\n",
       "\n",
       "    .dataframe tbody tr th {\n",
       "        vertical-align: top;\n",
       "    }\n",
       "\n",
       "    .dataframe thead th {\n",
       "        text-align: right;\n",
       "    }\n",
       "</style>\n",
       "<table border=\"1\" class=\"dataframe\">\n",
       "  <thead>\n",
       "    <tr style=\"text-align: right;\">\n",
       "      <th></th>\n",
       "      <th>images</th>\n",
       "      <th>text</th>\n",
       "      <th>has_rare</th>\n",
       "      <th>type</th>\n",
       "    </tr>\n",
       "  </thead>\n",
       "  <tbody>\n",
       "    <tr>\n",
       "      <th>0</th>\n",
       "      <td>image_0_0.png</td>\n",
       "      <td>ሁከትና ብጥብጥ የሚያነሳሳ ቅስቀሳ እና ግንኙነት መፍጠር::</td>\n",
       "      <td>False</td>\n",
       "      <td>synthetic</td>\n",
       "    </tr>\n",
       "    <tr>\n",
       "      <th>1</th>\n",
       "      <td>image_1_0.png</td>\n",
       "      <td>ይላል ከዚህ አንቀፅ በግልፅ እንደምንረዳው በህቡዕም ሆነ በግልፅ መደራጀት...</td>\n",
       "      <td>False</td>\n",
       "      <td>synthetic</td>\n",
       "    </tr>\n",
       "    <tr>\n",
       "      <th>2</th>\n",
       "      <td>image_1_1.png</td>\n",
       "      <td>ለማፍረስ ከሆነ ብቻ ነው::</td>\n",
       "      <td>False</td>\n",
       "      <td>synthetic</td>\n",
       "    </tr>\n",
       "    <tr>\n",
       "      <th>3</th>\n",
       "      <td>image_3_0.png</td>\n",
       "      <td>ሉቃስ ደቀ መዛሙርቱም ተመልሰው ያገኙትን ውጤት ሲነግሩት አመስግኗቸዋል ብ...</td>\n",
       "      <td>False</td>\n",
       "      <td>synthetic</td>\n",
       "    </tr>\n",
       "    <tr>\n",
       "      <th>4</th>\n",
       "      <td>image_4_0.png</td>\n",
       "      <td>እምነትን በስራ መግለጥ ስራ ብቻውን ያድናል አይባልም::</td>\n",
       "      <td>False</td>\n",
       "      <td>synthetic</td>\n",
       "    </tr>\n",
       "  </tbody>\n",
       "</table>\n",
       "</div>"
      ],
      "text/plain": [
       "          images                                               text  has_rare  \\\n",
       "0  image_0_0.png              ሁከትና ብጥብጥ የሚያነሳሳ ቅስቀሳ እና ግንኙነት መፍጠር::     False   \n",
       "1  image_1_0.png  ይላል ከዚህ አንቀፅ በግልፅ እንደምንረዳው በህቡዕም ሆነ በግልፅ መደራጀት...     False   \n",
       "2  image_1_1.png                                  ለማፍረስ ከሆነ ብቻ ነው::     False   \n",
       "3  image_3_0.png  ሉቃስ ደቀ መዛሙርቱም ተመልሰው ያገኙትን ውጤት ሲነግሩት አመስግኗቸዋል ብ...     False   \n",
       "4  image_4_0.png                እምነትን በስራ መግለጥ ስራ ብቻውን ያድናል አይባልም::     False   \n",
       "\n",
       "        type  \n",
       "0  synthetic  \n",
       "1  synthetic  \n",
       "2  synthetic  \n",
       "3  synthetic  \n",
       "4  synthetic  "
      ]
     },
     "execution_count": 14,
     "metadata": {},
     "output_type": "execute_result"
    }
   ],
   "source": [
    "sythetic_df_non_rare.head(5)"
   ]
  },
  {
   "cell_type": "code",
   "execution_count": 15,
   "id": "ec3fa500",
   "metadata": {},
   "outputs": [],
   "source": [
    "train_df = pd.DataFrame(columns=['image_filename', 'line_text', 'type'])"
   ]
  },
  {
   "cell_type": "code",
   "execution_count": 16,
   "id": "2b7bd539",
   "metadata": {},
   "outputs": [
    {
     "data": {
      "text/plain": [
       "291758"
      ]
     },
     "execution_count": 16,
     "metadata": {},
     "output_type": "execute_result"
    }
   ],
   "source": [
    "len(sythetic_df_non_rare)"
   ]
  },
  {
   "cell_type": "code",
   "execution_count": 17,
   "id": "b0cfadf0",
   "metadata": {},
   "outputs": [],
   "source": [
    "import os\n",
    "import shutil\n",
    "from PIL import Image\n",
    "count = 0\n",
    "possible_duplicates = []\n",
    "for i in range(55478):\n",
    "    source_file = (os.path.join(synthetic_root , sythetic_df_non_rare.iloc[i]['images']))  \n",
    "    destination_file = os.path.join(\"../raw_data/Amharic_Data/train\", (\"synth_\" + sythetic_df_non_rare.iloc[i]['images']))\n",
    "\n",
    "    if os.path.isfile(source_file):\n",
    "        shutil.copy2(source_file, destination_file)\n",
    "    \n",
    "    new_row = pd.DataFrame({'image_filename': [\"synthetic_\" + sythetic_df_non_rare.iloc[i]['images']], \n",
    "                        'line_text': [sythetic_df_non_rare.iloc[i]['text']], \n",
    "                        'type': ['synthetic']})\n",
    "\n",
    "    # Use pd.concat to append the new row to the DataFrame\n",
    "    train_df = pd.concat([train_df, new_row], ignore_index=True)\n",
    "   "
   ]
  },
  {
   "cell_type": "code",
   "execution_count": 18,
   "id": "d5761eb9",
   "metadata": {},
   "outputs": [],
   "source": [
    "train_df.to_csv(\"../raw_data/Amharic_Data/train/synth_train.csv\", index=False)"
   ]
  },
  {
   "cell_type": "code",
   "execution_count": null,
   "id": "b14396c6",
   "metadata": {},
   "outputs": [
    {
     "data": {
      "application/vnd.microsoft.datawrangler.viewer.v0+json": {
       "columns": [
        {
         "name": "index",
         "rawType": "int64",
         "type": "integer"
        },
        {
         "name": "image_filename",
         "rawType": "object",
         "type": "string"
        },
        {
         "name": "line_text",
         "rawType": "object",
         "type": "string"
        },
        {
         "name": "type",
         "rawType": "object",
         "type": "string"
        }
       ],
       "conversionMethod": "pd.DataFrame",
       "ref": "f07cd145-d427-4c9b-ae42-ee7e715f8a88",
       "rows": [
        [
         "0",
         "synth_image_0_0.png",
         "ሁከትና ብጥብጥ የሚያነሳሳ ቅስቀሳ እና ግንኙነት መፍጠር::",
         "synthetic"
        ],
        [
         "1",
         "synth_image_1_0.png",
         "ይላል ከዚህ አንቀፅ በግልፅ እንደምንረዳው በህቡዕም ሆነ በግልፅ መደራጀት መብት ነው መደራጀት የሚከለከለው ህግ በመጣስ ወይም ህገመንግስታዊ ስርአቱን በህገወጥ መንገድ",
         "synthetic"
        ],
        [
         "2",
         "synth_image_1_1.png",
         "ለማፍረስ ከሆነ ብቻ ነው::",
         "synthetic"
        ],
        [
         "3",
         "synth_image_3_0.png",
         "ሉቃስ ደቀ መዛሙርቱም ተመልሰው ያገኙትን ውጤት ሲነግሩት አመስግኗቸዋል ብሎም አበረታቷቸዋል::",
         "synthetic"
        ],
        [
         "4",
         "synth_image_4_0.png",
         "እምነትን በስራ መግለጥ ስራ ብቻውን ያድናል አይባልም::",
         "synthetic"
        ]
       ],
       "shape": {
        "columns": 3,
        "rows": 5
       }
      },
      "text/html": [
       "<div>\n",
       "<style scoped>\n",
       "    .dataframe tbody tr th:only-of-type {\n",
       "        vertical-align: middle;\n",
       "    }\n",
       "\n",
       "    .dataframe tbody tr th {\n",
       "        vertical-align: top;\n",
       "    }\n",
       "\n",
       "    .dataframe thead th {\n",
       "        text-align: right;\n",
       "    }\n",
       "</style>\n",
       "<table border=\"1\" class=\"dataframe\">\n",
       "  <thead>\n",
       "    <tr style=\"text-align: right;\">\n",
       "      <th></th>\n",
       "      <th>image_filename</th>\n",
       "      <th>line_text</th>\n",
       "      <th>type</th>\n",
       "    </tr>\n",
       "  </thead>\n",
       "  <tbody>\n",
       "    <tr>\n",
       "      <th>0</th>\n",
       "      <td>synth_image_0_0.png</td>\n",
       "      <td>ሁከትና ብጥብጥ የሚያነሳሳ ቅስቀሳ እና ግንኙነት መፍጠር::</td>\n",
       "      <td>synthetic</td>\n",
       "    </tr>\n",
       "    <tr>\n",
       "      <th>1</th>\n",
       "      <td>synth_image_1_0.png</td>\n",
       "      <td>ይላል ከዚህ አንቀፅ በግልፅ እንደምንረዳው በህቡዕም ሆነ በግልፅ መደራጀት...</td>\n",
       "      <td>synthetic</td>\n",
       "    </tr>\n",
       "    <tr>\n",
       "      <th>2</th>\n",
       "      <td>synth_image_1_1.png</td>\n",
       "      <td>ለማፍረስ ከሆነ ብቻ ነው::</td>\n",
       "      <td>synthetic</td>\n",
       "    </tr>\n",
       "    <tr>\n",
       "      <th>3</th>\n",
       "      <td>synth_image_3_0.png</td>\n",
       "      <td>ሉቃስ ደቀ መዛሙርቱም ተመልሰው ያገኙትን ውጤት ሲነግሩት አመስግኗቸዋል ብ...</td>\n",
       "      <td>synthetic</td>\n",
       "    </tr>\n",
       "    <tr>\n",
       "      <th>4</th>\n",
       "      <td>synth_image_4_0.png</td>\n",
       "      <td>እምነትን በስራ መግለጥ ስራ ብቻውን ያድናል አይባልም::</td>\n",
       "      <td>synthetic</td>\n",
       "    </tr>\n",
       "  </tbody>\n",
       "</table>\n",
       "</div>"
      ],
      "text/plain": [
       "        image_filename                                          line_text  \\\n",
       "0  synth_image_0_0.png              ሁከትና ብጥብጥ የሚያነሳሳ ቅስቀሳ እና ግንኙነት መፍጠር::   \n",
       "1  synth_image_1_0.png  ይላል ከዚህ አንቀፅ በግልፅ እንደምንረዳው በህቡዕም ሆነ በግልፅ መደራጀት...   \n",
       "2  synth_image_1_1.png                                  ለማፍረስ ከሆነ ብቻ ነው::   \n",
       "3  synth_image_3_0.png  ሉቃስ ደቀ መዛሙርቱም ተመልሰው ያገኙትን ውጤት ሲነግሩት አመስግኗቸዋል ብ...   \n",
       "4  synth_image_4_0.png                እምነትን በስራ መግለጥ ስራ ብቻውን ያድናል አይባልም::   \n",
       "\n",
       "        type  \n",
       "0  synthetic  \n",
       "1  synthetic  \n",
       "2  synthetic  \n",
       "3  synthetic  \n",
       "4  synthetic  "
      ]
     },
     "execution_count": 26,
     "metadata": {},
     "output_type": "execute_result"
    }
   ],
   "source": [
    "train_df\n"
   ]
  },
  {
   "cell_type": "code",
   "execution_count": 19,
   "id": "3b541074",
   "metadata": {},
   "outputs": [
    {
     "data": {
      "image/png": "[encoded data removed]",
      "text/plain": [
       "<Figure size 640x480 with 1 Axes>"
      ]
     },
     "metadata": {},
     "output_type": "display_data"
    },
    {
     "name": "stdout",
     "output_type": "stream",
     "text": [
      "ሁከትና ብጥብጥ የሚያነሳሳ ቅስቀሳ እና ግንኙነት መፍጠር::\n"
     ]
    }
   ],
   "source": [
    "display_image(os.path.join(\"../raw_data/Amharic_Data/train\", train_df.iloc[0]['image_filename']))\n",
    "print(train_df.iloc[0]['line_text'])"
   ]
  },
  {
   "cell_type": "code",
   "execution_count": null,
   "id": "a8a67b6e",
   "metadata": {},
   "outputs": [],
   "source": []
  }
 ],
 "metadata": {
  "kernelspec": {
   "display_name": "pytorch-idl",
   "language": "python",
   "name": "python3"
  },
  "language_info": {
   "codemirror_mode": {
    "name": "ipython",
    "version": 3
   },
   "file_extension": ".py",
   "mimetype": "text/x-python",
   "name": "python",
   "nbconvert_exporter": "python",
   "pygments_lexer": "ipython3",
   "version": "3.9.18"
  }
 },
 "nbformat": 4,
 "nbformat_minor": 5
}
