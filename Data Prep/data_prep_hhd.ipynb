{
 "cells": [
  {
   "cell_type": "code",
   "execution_count": 1,
   "id": "ecf81fb1",
   "metadata": {},
   "outputs": [],
   "source": [
    "import pandas as pd\n",
    "from PIL import Image\n",
    "import matplotlib.pyplot as plt\n",
    "import os\n",
    "\n",
    "import numpy as np"
   ]
  },
  {
   "cell_type": "code",
   "execution_count": 2,
   "id": "d178df8c",
   "metadata": {},
   "outputs": [],
   "source": [
    "def display_image (path:str):\n",
    "    img = Image.open(path)  \n",
    "    plt.imshow(img)\n",
    "    plt.axis('off') \n",
    "    plt.show()"
   ]
  },
  {
   "cell_type": "code",
   "execution_count": 3,
   "id": "d41bfd07",
   "metadata": {},
   "outputs": [],
   "source": [
    "import glob\n",
    "\n",
    "# For current directory\n",
    "txt_files = glob.glob(\"../raw_data/old/hhd/test/test_rand/image_text_pairs_test_rand.csv\")"
   ]
  },
  {
   "cell_type": "markdown",
   "id": "6a9c0722",
   "metadata": {},
   "source": [
    "### Handwritten Dataset Split"
   ]
  },
  {
   "cell_type": "code",
   "execution_count": 4,
   "id": "e4b40798",
   "metadata": {},
   "outputs": [],
   "source": [
    "hhd_df = pd.read_csv(\"../raw_data/old/hhd/train_raw/image_text_pairs_train.csv\",header=None, names=[\"images\",\"text\"]) "
   ]
  },
  {
   "cell_type": "code",
   "execution_count": 5,
   "id": "5b1649e8",
   "metadata": {},
   "outputs": [
    {
     "data": {
      "application/vnd.microsoft.datawrangler.viewer.v0+json": {
       "columns": [
        {
         "name": "index",
         "rawType": "int64",
         "type": "integer"
        },
        {
         "name": "images",
         "rawType": "object",
         "type": "string"
        },
        {
         "name": "text",
         "rawType": "object",
         "type": "string"
        }
       ],
       "conversionMethod": "pd.DataFrame",
       "ref": "fe60be8e-0cc9-4bda-9168-9bd558827e1e",
       "rows": [
        [
         "0",
         "train_00000.png",
         "ን፡አስቦ፡እኔምጂ፡እሞታለሁ፡፥                             "
        ],
        [
         "1",
         "train_00001.png",
         "እግዚእነ፡ኢየሱስ፡                                    "
        ],
        [
         "2",
         "train_00002.png",
         "ኢይፈርህ፡እምአእላፍ፡አሕዛብ                              "
        ],
        [
         "3",
         "train_00003.png",
         "ው፡ነገር፡ያልሰሙ፡ከዕ                                  "
        ],
        [
         "4",
         "train_00004.png",
         "ዕዋፈ፡አጸ                                         "
        ]
       ],
       "shape": {
        "columns": 2,
        "rows": 5
       }
      },
      "text/html": [
       "<div>\n",
       "<style scoped>\n",
       "    .dataframe tbody tr th:only-of-type {\n",
       "        vertical-align: middle;\n",
       "    }\n",
       "\n",
       "    .dataframe tbody tr th {\n",
       "        vertical-align: top;\n",
       "    }\n",
       "\n",
       "    .dataframe thead th {\n",
       "        text-align: right;\n",
       "    }\n",
       "</style>\n",
       "<table border=\"1\" class=\"dataframe\">\n",
       "  <thead>\n",
       "    <tr style=\"text-align: right;\">\n",
       "      <th></th>\n",
       "      <th>images</th>\n",
       "      <th>text</th>\n",
       "    </tr>\n",
       "  </thead>\n",
       "  <tbody>\n",
       "    <tr>\n",
       "      <th>0</th>\n",
       "      <td>train_00000.png</td>\n",
       "      <td>ን፡አስቦ፡እኔምጂ፡እሞታለሁ፡፥</td>\n",
       "    </tr>\n",
       "    <tr>\n",
       "      <th>1</th>\n",
       "      <td>train_00001.png</td>\n",
       "      <td>እግዚእነ፡ኢየሱስ፡</td>\n",
       "    </tr>\n",
       "    <tr>\n",
       "      <th>2</th>\n",
       "      <td>train_00002.png</td>\n",
       "      <td>ኢይፈርህ፡እምአእላፍ፡አሕዛብ</td>\n",
       "    </tr>\n",
       "    <tr>\n",
       "      <th>3</th>\n",
       "      <td>train_00003.png</td>\n",
       "      <td>ው፡ነገር፡ያልሰሙ፡ከዕ</td>\n",
       "    </tr>\n",
       "    <tr>\n",
       "      <th>4</th>\n",
       "      <td>train_00004.png</td>\n",
       "      <td>ዕዋፈ፡አጸ</td>\n",
       "    </tr>\n",
       "  </tbody>\n",
       "</table>\n",
       "</div>"
      ],
      "text/plain": [
       "            images                                             text\n",
       "0  train_00000.png  ን፡አስቦ፡እኔምጂ፡እሞታለሁ፡፥                             \n",
       "1  train_00001.png  እግዚእነ፡ኢየሱስ፡                                    \n",
       "2  train_00002.png  ኢይፈርህ፡እምአእላፍ፡አሕዛብ                              \n",
       "3  train_00003.png  ው፡ነገር፡ያልሰሙ፡ከዕ                                  \n",
       "4  train_00004.png  ዕዋፈ፡አጸ                                         "
      ]
     },
     "execution_count": 5,
     "metadata": {},
     "output_type": "execute_result"
    }
   ],
   "source": [
    "hhd_df.head(5)"
   ]
  },
  {
   "cell_type": "code",
   "execution_count": 6,
   "id": "cb0efa52",
   "metadata": {},
   "outputs": [
    {
     "data": {
      "text/plain": [
       "57374"
      ]
     },
     "execution_count": 6,
     "metadata": {},
     "output_type": "execute_result"
    }
   ],
   "source": [
    "len(hhd_df)"
   ]
  },
  {
   "cell_type": "code",
   "execution_count": 7,
   "id": "4e9f12a5",
   "metadata": {},
   "outputs": [],
   "source": [
    "hdrand_root = \"../raw_data/old/hhd/train_raw/image_train\""
   ]
  },
  {
   "cell_type": "code",
   "execution_count": 8,
   "id": "12946d58",
   "metadata": {},
   "outputs": [
    {
     "data": {
      "image/png": "[encoded data removed]",
      "text/plain": [
       "<Figure size 640x480 with 1 Axes>"
      ]
     },
     "metadata": {},
     "output_type": "display_data"
    },
    {
     "name": "stdout",
     "output_type": "stream",
     "text": [
      "እግዚእነ፡ኢየሱስ፡                                    \n"
     ]
    }
   ],
   "source": [
    "display_image(os.path.join(hdrand_root , hhd_df.iloc[1]['images']))  \n",
    "print(hhd_df.iloc[1]['text'])"
   ]
  },
  {
   "cell_type": "code",
   "execution_count": 9,
   "id": "14cde518",
   "metadata": {},
   "outputs": [],
   "source": [
    "texts = hhd_df['text'].tolist()"
   ]
  },
  {
   "cell_type": "code",
   "execution_count": 10,
   "id": "de7ff1fe",
   "metadata": {},
   "outputs": [],
   "source": [
    "from collections import Counter\n",
    "all_text = ''.join(texts)\n",
    "char_counts = Counter(all_text)\n",
    "\n"
   ]
  },
  {
   "cell_type": "code",
   "execution_count": 11,
   "id": "bc33d125",
   "metadata": {},
   "outputs": [
    {
     "data": {
      "text/plain": [
       "57374"
      ]
     },
     "execution_count": 11,
     "metadata": {},
     "output_type": "execute_result"
    }
   ],
   "source": [
    "len(hhd_df)"
   ]
  },
  {
   "cell_type": "code",
   "execution_count": 12,
   "id": "c2ed5ac5",
   "metadata": {},
   "outputs": [],
   "source": [
    "sorted_counts = dict(sorted(char_counts.items(), key=lambda item: item[1], reverse=True))\n",
    "\n"
   ]
  },
  {
   "cell_type": "code",
   "execution_count": 13,
   "id": "4fe8f7bb",
   "metadata": {},
   "outputs": [
    {
     "name": "stdout",
     "output_type": "stream",
     "text": [
      "Percentage of entries with rare characters: 22.79%\n"
     ]
    }
   ],
   "source": [
    "\n",
    "texts = hhd_df['text'].dropna().astype(str)\n",
    "char_df = pd.DataFrame(char_counts.items(), columns=[\"char\", \"count\"])\n",
    "\n",
    "# Compute 95th percentile threshold\n",
    "threshold = np.percentile(char_df['count'], 55)\n",
    "\n",
    "# Define rare characters: strictly below 95th percentile\n",
    "rare_chars = set(char_df[char_df['count'] < threshold]['char'])\n",
    "\n",
    "# Tag rows that contain rare characters\n",
    "def contains_rare_char(text):\n",
    "    return any(char in rare_chars for char in text)\n",
    "\n",
    "hhd_df['has_rare'] = texts.apply(contains_rare_char)\n",
    "\n",
    "# Calculate percentage\n",
    "percentage = (hhd_df['has_rare'].sum() / len(hhd_df)) * 100\n",
    "print(f\"Percentage of entries with rare characters: {percentage:.2f}%\")\n"
   ]
  },
  {
   "cell_type": "code",
   "execution_count": 14,
   "id": "aff16c5d",
   "metadata": {},
   "outputs": [],
   "source": [
    "\n",
    "#seperate df with rare and non rare characters\n",
    "hddrand_df_rare = hhd_df[hhd_df['has_rare'] == True]\n",
    "hddrand_df_non_rare = hhd_df[hhd_df['has_rare'] == False]"
   ]
  },
  {
   "cell_type": "code",
   "execution_count": 65,
   "id": "78a8a7c7",
   "metadata": {},
   "outputs": [
    {
     "data": {
      "text/plain": [
       "(2405, 3970)"
      ]
     },
     "execution_count": 65,
     "metadata": {},
     "output_type": "execute_result"
    }
   ],
   "source": [
    "len(hddrand_df_rare), len(hddrand_df_non_rare) "
   ]
  },
  {
   "cell_type": "code",
   "execution_count": 66,
   "id": "5e4dff53",
   "metadata": {},
   "outputs": [],
   "source": [
    "hhd_df['type'] = 'hdd_rand'"
   ]
  },
  {
   "cell_type": "code",
   "execution_count": 67,
   "id": "6cf6ad5b",
   "metadata": {},
   "outputs": [
    {
     "data": {
      "application/vnd.microsoft.datawrangler.viewer.v0+json": {
       "columns": [
        {
         "name": "index",
         "rawType": "int64",
         "type": "integer"
        },
        {
         "name": "images",
         "rawType": "object",
         "type": "string"
        },
        {
         "name": "text",
         "rawType": "object",
         "type": "string"
        },
        {
         "name": "has_rare",
         "rawType": "bool",
         "type": "boolean"
        }
       ],
       "conversionMethod": "pd.DataFrame",
       "ref": "e2f59977-f151-4419-a916-f8f3cff9798c",
       "rows": [
        [
         "0",
         "test_rand_00000.png",
         "ፅ፡ዳዊት፡፻፵፱፡ሰብሕዎ፡                                ",
         "True"
        ],
        [
         "1",
         "test_rand_00001.png",
         "ኦሰ፡ኤጲሰ፡ቆጶስ፡፲፬እስተ                               ",
         "True"
        ],
        [
         "2",
         "test_rand_00002.png",
         "የምንሰራው፡ብዙ፡በጎ፡ነገር                               ",
         "True"
        ],
        [
         "7",
         "test_rand_00007.png",
         "ዓኪኀበ፡ቁሰጠገጢ                                     ",
         "True"
        ],
        [
         "9",
         "test_rand_00009.png",
         "ሜን።ወበአሐቲ፡                                      ",
         "True"
        ]
       ],
       "shape": {
        "columns": 3,
        "rows": 5
       }
      },
      "text/html": [
       "<div>\n",
       "<style scoped>\n",
       "    .dataframe tbody tr th:only-of-type {\n",
       "        vertical-align: middle;\n",
       "    }\n",
       "\n",
       "    .dataframe tbody tr th {\n",
       "        vertical-align: top;\n",
       "    }\n",
       "\n",
       "    .dataframe thead th {\n",
       "        text-align: right;\n",
       "    }\n",
       "</style>\n",
       "<table border=\"1\" class=\"dataframe\">\n",
       "  <thead>\n",
       "    <tr style=\"text-align: right;\">\n",
       "      <th></th>\n",
       "      <th>images</th>\n",
       "      <th>text</th>\n",
       "      <th>has_rare</th>\n",
       "    </tr>\n",
       "  </thead>\n",
       "  <tbody>\n",
       "    <tr>\n",
       "      <th>0</th>\n",
       "      <td>test_rand_00000.png</td>\n",
       "      <td>ፅ፡ዳዊት፡፻፵፱፡ሰብሕዎ፡</td>\n",
       "      <td>True</td>\n",
       "    </tr>\n",
       "    <tr>\n",
       "      <th>1</th>\n",
       "      <td>test_rand_00001.png</td>\n",
       "      <td>ኦሰ፡ኤጲሰ፡ቆጶስ፡፲፬እስተ</td>\n",
       "      <td>True</td>\n",
       "    </tr>\n",
       "    <tr>\n",
       "      <th>2</th>\n",
       "      <td>test_rand_00002.png</td>\n",
       "      <td>የምንሰራው፡ብዙ፡በጎ፡ነገር</td>\n",
       "      <td>True</td>\n",
       "    </tr>\n",
       "    <tr>\n",
       "      <th>7</th>\n",
       "      <td>test_rand_00007.png</td>\n",
       "      <td>ዓኪኀበ፡ቁሰጠገጢ</td>\n",
       "      <td>True</td>\n",
       "    </tr>\n",
       "    <tr>\n",
       "      <th>9</th>\n",
       "      <td>test_rand_00009.png</td>\n",
       "      <td>ሜን።ወበአሐቲ፡</td>\n",
       "      <td>True</td>\n",
       "    </tr>\n",
       "  </tbody>\n",
       "</table>\n",
       "</div>"
      ],
      "text/plain": [
       "                images                                             text  \\\n",
       "0  test_rand_00000.png  ፅ፡ዳዊት፡፻፵፱፡ሰብሕዎ፡                                   \n",
       "1  test_rand_00001.png  ኦሰ፡ኤጲሰ፡ቆጶስ፡፲፬እስተ                                  \n",
       "2  test_rand_00002.png  የምንሰራው፡ብዙ፡በጎ፡ነገር                                  \n",
       "7  test_rand_00007.png  ዓኪኀበ፡ቁሰጠገጢ                                        \n",
       "9  test_rand_00009.png  ሜን።ወበአሐቲ፡                                         \n",
       "\n",
       "   has_rare  \n",
       "0      True  \n",
       "1      True  \n",
       "2      True  \n",
       "7      True  \n",
       "9      True  "
      ]
     },
     "execution_count": 67,
     "metadata": {},
     "output_type": "execute_result"
    }
   ],
   "source": [
    "hddrand_df_rare.head(5)"
   ]
  },
  {
   "cell_type": "code",
   "execution_count": 15,
   "id": "ec3fa500",
   "metadata": {},
   "outputs": [],
   "source": [
    "train_df = pd.DataFrame(columns=['image_filename', 'line_text', 'type'])"
   ]
  },
  {
   "cell_type": "code",
   "execution_count": 69,
   "id": "2b7bd539",
   "metadata": {},
   "outputs": [
    {
     "data": {
      "text/plain": [
       "2405"
      ]
     },
     "execution_count": 69,
     "metadata": {},
     "output_type": "execute_result"
    }
   ],
   "source": [
    "len(hddrand_df_rare)"
   ]
  },
  {
   "cell_type": "code",
   "execution_count": 17,
   "id": "b0cfadf0",
   "metadata": {},
   "outputs": [],
   "source": [
    "import os\n",
    "import shutil\n",
    "from PIL import Image\n",
    "count = 0\n",
    "possible_duplicates = []\n",
    "for i in range(len(hhd_df)):\n",
    "    source_file = (os.path.join(hdrand_root , hhd_df.iloc[i]['images']))  \n",
    "    destination_file = os.path.join(\"../raw_data/Amharic_Data/train\", (\"hdd_\" + hhd_df.iloc[i]['images']))\n",
    "\n",
    "    if os.path.isfile(source_file):\n",
    "        shutil.copy2(source_file, destination_file)\n",
    "   \n",
    "    new_row = pd.DataFrame({'image_filename': [\"hdd_\" + hhd_df.iloc[i]['images']], \n",
    "                        'line_text': [hhd_df.iloc[i]['text']], \n",
    "                        'type': ['hdd']})\n",
    "\n",
    "    # Use pd.concat to append the new row to the DataFrame\n",
    "    train_df = pd.concat([train_df, new_row], ignore_index=True)"
   ]
  },
  {
   "cell_type": "code",
   "execution_count": 18,
   "id": "d5761eb9",
   "metadata": {},
   "outputs": [],
   "source": [
    "train_df.to_csv(\"../raw_data/Amharic_Data/train/train_hd.csv\", index=False)"
   ]
  },
  {
   "cell_type": "code",
   "execution_count": 25,
   "id": "b14396c6",
   "metadata": {},
   "outputs": [
    {
     "data": {
      "text/plain": [
       "57374"
      ]
     },
     "execution_count": 25,
     "metadata": {},
     "output_type": "execute_result"
    }
   ],
   "source": [
    "len(train_df)\n"
   ]
  },
  {
   "cell_type": "code",
   "execution_count": null,
   "id": "3b541074",
   "metadata": {},
   "outputs": [],
   "source": []
  },
  {
   "cell_type": "code",
   "execution_count": null,
   "id": "a8a67b6e",
   "metadata": {},
   "outputs": [],
   "source": []
  },
  {
   "cell_type": "code",
   "execution_count": null,
   "id": "554f4cc0",
   "metadata": {},
   "outputs": [],
   "source": [
    "<"
   ]
  }
 ],
 "metadata": {
  "kernelspec": {
   "display_name": "pytorch-idl",
   "language": "python",
   "name": "python3"
  },
  "language_info": {
   "codemirror_mode": {
    "name": "ipython",
    "version": 3
   },
   "file_extension": ".py",
   "mimetype": "text/x-python",
   "name": "python",
   "nbconvert_exporter": "python",
   "pygments_lexer": "ipython3",
   "version": "3.9.18"
  }
 },
 "nbformat": 4,
 "nbformat_minor": 5
}
