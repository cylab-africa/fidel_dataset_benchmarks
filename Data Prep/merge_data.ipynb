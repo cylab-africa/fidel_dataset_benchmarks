{
 "cells": [
  {
   "cell_type": "code",
   "execution_count": 1,
   "id": "7c0c6f2b",
   "metadata": {},
   "outputs": [],
   "source": [
    "import pandas as pd\n",
    "import glob\n",
    "import os\n",
    "directory_path = '../raw_data/Amharic_Data/train'\n",
    "\n",
    "# Use glob to get all CSV file paths\n",
    "# csv_files = glob.glob(os.path.join(directory_path, \"*.csv\"))\n",
    "\n",
    "# Load and concatenate all CSVs\n",
    "# df = pd.concat([pd.read_csv(file) for file in csv_files], ignore_index=True)\n",
    "\n"
   ]
  },
  {
   "cell_type": "code",
   "execution_count": 2,
   "id": "8868c950",
   "metadata": {},
   "outputs": [
    {
     "data": {
      "text/plain": [
       "170090"
      ]
     },
     "execution_count": 2,
     "metadata": {},
     "output_type": "execute_result"
    }
   ],
   "source": [
    "len(df)"
   ]
  },
  {
   "cell_type": "code",
   "execution_count": 7,
   "id": "a9130154",
   "metadata": {},
   "outputs": [
    {
     "ename": "NameError",
     "evalue": "name 'train_df_new' is not defined",
     "output_type": "error",
     "traceback": [
      "\u001b[0;31m---------------------------------------------------------------------------\u001b[0m",
      "\u001b[0;31mNameError\u001b[0m                                 Traceback (most recent call last)",
      "Cell \u001b[0;32mIn[7], line 1\u001b[0m\n\u001b[0;32m----> 1\u001b[0m \u001b[43mtrain_df_new\u001b[49m\u001b[38;5;241m.\u001b[39mto_csv(\u001b[38;5;124m'\u001b[39m\u001b[38;5;124m../raw_data/Amharic_Data/train/synth_train.csv\u001b[39m\u001b[38;5;124m'\u001b[39m, index\u001b[38;5;241m=\u001b[39m\u001b[38;5;28;01mFalse\u001b[39;00m)\n",
      "\u001b[0;31mNameError\u001b[0m: name 'train_df_new' is not defined"
     ]
    }
   ],
   "source": [
    "train_df_new.to_csv('../raw_data/Amharic_Data/train/synth_train.csv', index=False)"
   ]
  },
  {
   "cell_type": "code",
   "execution_count": 10,
   "id": "df2b6267",
   "metadata": {},
   "outputs": [
    {
     "name": "stdout",
     "output_type": "stream",
     "text": [
      "170090\n"
     ]
    }
   ],
   "source": [
    "test= pd.read_csv('../raw_data/Amharic_Data/train/all_train.csv')\n",
    "# train_df_new['image_filename'] = train_df_new['image_filename'].apply(lambda x: x.replace('synthetic_', 'synth_', 1) if x.startswith('synthetic_') else x)\n",
    "print(len(test))"
   ]
  },
  {
   "cell_type": "code",
   "execution_count": 18,
   "id": "2028a287",
   "metadata": {},
   "outputs": [],
   "source": [
    "train_df_new['image_filename'] = train_df_new['image_filename'].apply(lambda x: x.replace('handwritten_', 'hand_', 1) if x.startswith('handwritten_') else x)\n"
   ]
  },
  {
   "cell_type": "code",
   "execution_count": 13,
   "id": "a348e8bf",
   "metadata": {},
   "outputs": [],
   "source": [
    "are_columns_identical = (train_df_new['image_filename'].isin( train_df['image_filename'])).all()"
   ]
  },
  {
   "cell_type": "code",
   "execution_count": 16,
   "id": "9549d41d",
   "metadata": {},
   "outputs": [
    {
     "name": "stdout",
     "output_type": "stream",
     "text": [
      "                 image_filename  \\\n",
      "0          hand_3777_line_3.png   \n",
      "1          hand_3777_line_5.png   \n",
      "2          hand_3777_line_6.png   \n",
      "3          hand_3777_line_7.png   \n",
      "4          hand_3777_line_8.png   \n",
      "...                         ...   \n",
      "170085  synth_image_37229_1.png   \n",
      "170086  synth_image_37230_0.png   \n",
      "170087  synth_image_37232_0.png   \n",
      "170088  synth_image_37233_0.png   \n",
      "170089  synth_image_37234_0.png   \n",
      "\n",
      "                                                line_text         type  \n",
      "0       ለምሳሌ  ያህል  ፣ ልጆቻችሁ  በትምህርት  ቤት ጥሩ ውጤት  ቢያመጡ  የ...  handwritten  \n",
      "1       ቸው  ቀኑን  በለውጥ  ስለ መበየን  በጽ / ቤታቸው የቀረበውን  አጀንዳ...  handwritten  \n",
      "2       የተለያዩ  አማራጮችን  አይቷል።  አንዲት  ወላድ  ሴት ( ከአራስ  ቤት...  handwritten  \n",
      "3       በአንዋር  መስጂድ  ተገኝተሻል  በመርካቶ  አራተኛ  ፖሊስ  ጣቢያ  አስ...  handwritten  \n",
      "4       እያለ  እያዩት  አውሬዎቹ  ፖሊሶቻችሁ  ልጇን  እንኳ  እንዳታጠባ  የከ...  handwritten  \n",
      "...                                                   ...          ...  \n",
      "170085  ለማዳበርና በአገሪቷ ኢኮኖሚያዊ ዕድገት ላይ የበኩሉን አስተዋፅኦ ለማድረግ...    synthetic  \n",
      "170086  የዲሞክራሲያዊ ሥርዓት ምሳሌ ተደርጋ የምተጠቀሰው አሜሪካ በወቅቱ የመንግሥ...    synthetic  \n",
      "170087  አንደኛው መለስ ዜናዊ የጻፈው የራሱ የሆነውና ህገ መንግስት ብሎ ህዝብ ላ...    synthetic  \n",
      "170088  ቀጣዩ ፅሁፍ በዑጋንዳ አሸናፊነት ከተጠናቀቀው ጨዋታ በፊት የነበሩ አነጋጋ...    synthetic  \n",
      "170089  ከእናንተ የተሻለ በጣም ትርፋማ ዘዴዎች አውቃለሁ አንዴ ስልክ ሩሌት እንዴ...    synthetic  \n",
      "\n",
      "[90298 rows x 3 columns]\n"
     ]
    }
   ],
   "source": [
    "not_in_column2 = train_df_new[~train_df_new['image_filename'].isin(train_df['image_filename'])]\n",
    "\n",
    "print(not_in_column2)"
   ]
  },
  {
   "cell_type": "code",
   "execution_count": 15,
   "id": "93c74413",
   "metadata": {},
   "outputs": [
    {
     "data": {
      "text/plain": [
       "170090"
      ]
     },
     "execution_count": 15,
     "metadata": {},
     "output_type": "execute_result"
    }
   ],
   "source": [
    "len(train_df_new)"
   ]
  },
  {
   "cell_type": "code",
   "execution_count": 3,
   "id": "40bd1121",
   "metadata": {},
   "outputs": [],
   "source": [
    "import matplotlib.pyplot as plt\n",
    "from PIL import Image\n",
    "def display_image (path:str):\n",
    "    img = Image.open(path)  \n",
    "    plt.imshow(img)\n",
    "    plt.axis('off') \n",
    "    plt.show()"
   ]
  },
  {
   "cell_type": "code",
   "execution_count": 7,
   "id": "a12231b2",
   "metadata": {},
   "outputs": [
    {
     "ename": "FileNotFoundError",
     "evalue": "[Errno 2] No such file or directory: '../raw_data/Amharic_Data/train/typed_2691_line_3.png'",
     "output_type": "error",
     "traceback": [
      "\u001b[0;31m---------------------------------------------------------------------------\u001b[0m",
      "\u001b[0;31mFileNotFoundError\u001b[0m                         Traceback (most recent call last)",
      "Cell \u001b[0;32mIn[7], line 1\u001b[0m\n\u001b[0;32m----> 1\u001b[0m \u001b[43mdisplay_image\u001b[49m\u001b[43m(\u001b[49m\u001b[43mos\u001b[49m\u001b[38;5;241;43m.\u001b[39;49m\u001b[43mpath\u001b[49m\u001b[38;5;241;43m.\u001b[39;49m\u001b[43mjoin\u001b[49m\u001b[43m(\u001b[49m\u001b[38;5;124;43m'\u001b[39;49m\u001b[38;5;124;43m../raw_data/Amharic_Data/train\u001b[39;49m\u001b[38;5;124;43m'\u001b[39;49m\u001b[43m,\u001b[49m\u001b[38;5;124;43m'\u001b[39;49m\u001b[38;5;124;43mtyped_2691_line_3.png\u001b[39;49m\u001b[38;5;124;43m'\u001b[39;49m\u001b[43m)\u001b[49m\u001b[43m)\u001b[49m\n",
      "Cell \u001b[0;32mIn[3], line 4\u001b[0m, in \u001b[0;36mdisplay_image\u001b[0;34m(path)\u001b[0m\n\u001b[1;32m      3\u001b[0m \u001b[38;5;28;01mdef\u001b[39;00m\u001b[38;5;250m \u001b[39m\u001b[38;5;21mdisplay_image\u001b[39m (path:\u001b[38;5;28mstr\u001b[39m):\n\u001b[0;32m----> 4\u001b[0m     img \u001b[38;5;241m=\u001b[39m \u001b[43mImage\u001b[49m\u001b[38;5;241;43m.\u001b[39;49m\u001b[43mopen\u001b[49m\u001b[43m(\u001b[49m\u001b[43mpath\u001b[49m\u001b[43m)\u001b[49m  \n\u001b[1;32m      5\u001b[0m     plt\u001b[38;5;241m.\u001b[39mimshow(img)\n\u001b[1;32m      6\u001b[0m     plt\u001b[38;5;241m.\u001b[39maxis(\u001b[38;5;124m'\u001b[39m\u001b[38;5;124moff\u001b[39m\u001b[38;5;124m'\u001b[39m) \n",
      "File \u001b[0;32m~/anaconda3/envs/pytorch-idl/lib/python3.9/site-packages/PIL/Image.py:3465\u001b[0m, in \u001b[0;36mopen\u001b[0;34m(fp, mode, formats)\u001b[0m\n\u001b[1;32m   3462\u001b[0m     filename \u001b[38;5;241m=\u001b[39m os\u001b[38;5;241m.\u001b[39mfspath(fp)\n\u001b[1;32m   3464\u001b[0m \u001b[38;5;28;01mif\u001b[39;00m filename:\n\u001b[0;32m-> 3465\u001b[0m     fp \u001b[38;5;241m=\u001b[39m \u001b[43mbuiltins\u001b[49m\u001b[38;5;241;43m.\u001b[39;49m\u001b[43mopen\u001b[49m\u001b[43m(\u001b[49m\u001b[43mfilename\u001b[49m\u001b[43m,\u001b[49m\u001b[43m \u001b[49m\u001b[38;5;124;43m\"\u001b[39;49m\u001b[38;5;124;43mrb\u001b[39;49m\u001b[38;5;124;43m\"\u001b[39;49m\u001b[43m)\u001b[49m\n\u001b[1;32m   3466\u001b[0m     exclusive_fp \u001b[38;5;241m=\u001b[39m \u001b[38;5;28;01mTrue\u001b[39;00m\n\u001b[1;32m   3467\u001b[0m \u001b[38;5;28;01melse\u001b[39;00m:\n",
      "\u001b[0;31mFileNotFoundError\u001b[0m: [Errno 2] No such file or directory: '../raw_data/Amharic_Data/train/typed_2691_line_3.png'"
     ]
    }
   ],
   "source": [
    "display_image(os.path.join('../raw_data/Amharic_Data/train','typed_2691_line_3.png'))"
   ]
  },
  {
   "cell_type": "code",
   "execution_count": 16,
   "id": "e386f0a9",
   "metadata": {},
   "outputs": [
    {
     "data": {
      "text/plain": [
       "'በመከላከያ ውስጥ የሚገኙ ቁለፍ ቦታዎች መምሪያዎቸና የኤታማዦር ሹምነቱን ጨምሮ በሙሉ የተያዙት በትግሬዎች ነው::'"
      ]
     },
     "execution_count": 16,
     "metadata": {},
     "output_type": "execute_result"
    }
   ],
   "source": [
    "test_df['line_text'][20000]"
   ]
  },
  {
   "cell_type": "code",
   "execution_count": null,
   "id": "77e8775a",
   "metadata": {},
   "outputs": [],
   "source": []
  }
 ],
 "metadata": {
  "kernelspec": {
   "display_name": "pytorch-idl",
   "language": "python",
   "name": "python3"
  },
  "language_info": {
   "codemirror_mode": {
    "name": "ipython",
    "version": 3
   },
   "file_extension": ".py",
   "mimetype": "text/x-python",
   "name": "python",
   "nbconvert_exporter": "python",
   "pygments_lexer": "ipython3",
   "version": "3.9.18"
  }
 },
 "nbformat": 4,
 "nbformat_minor": 5
}
