{
 "cells": [
  {
   "cell_type": "code",
   "execution_count": 1,
   "metadata": {},
   "outputs": [],
   "source": [
    "import pandas as pd\n",
    "import re"
   ]
  },
  {
   "cell_type": "code",
   "execution_count": 25,
   "metadata": {},
   "outputs": [],
   "source": [
    "def is_amharic(text):\n",
    "    \"\"\"\n",
    "    Check if text contains Amharic characters.\n",
    "    Amharic Unicode range: 0x1200-0x137F (Ethiopic)\n",
    "    \"\"\"\n",
    "    if pd.isna(text):\n",
    "        return False\n",
    "    amharic_pattern = re.compile(r'[\\u1200-\\u137F]')\n",
    "    return bool(amharic_pattern.search(str(text)))\n",
    "\n",
    "def filter_non_amharic_rows(csv_path):\n",
    "    \"\"\"\n",
    "    Filter out rows containing Amharic text and save to a new CSV.\n",
    "    Returns the filtered DataFrame.\n",
    "    \"\"\"\n",
    "    # Read the original CSV\n",
    "    df = pd.read_csv(csv_path)\n",
    "\n",
    "    # Replace the path prefix\n",
    "    df['images'] = df['ocr'].str.replace('/data/local-files/?d=', './')\n",
    "\n",
    "    # Replace NaN values with empty string in genre column\n",
    "    df['text'] = df['genre'].fillna('')\n",
    "\n",
    "    # Create a mask for non-Amharic rows\n",
    "    non_amharic_mask = ~df['genre'].apply(is_amharic)\n",
    "\n",
    "    # Filter the DataFrame\n",
    "    df_english = df[non_amharic_mask].copy()\n",
    "\n",
    "    df_english = df_english[df_english['text'].notna() & (df_english['text'] != '')]\n",
    "    df_english = df_english[[\"text\", \"images\"]]\n",
    "    # Save to new CSV\n",
    "    df_english.to_csv('labeled_english.csv', index=False)\n",
    "\n",
    "    # Print statistics\n",
    "    total_rows = len(df)\n",
    "    english_rows = len(df_english)\n",
    "    amharic_rows = total_rows - english_rows\n",
    "\n",
    "    print(f\"Original number of rows: {total_rows}\")\n",
    "    print(f\"Rows with Amharic text: {amharic_rows}\")\n",
    "    print(f\"Rows without Amharic text: {english_rows}\")\n",
    "    print(\"Filtered data saved to 'labeled_english.csv'\")\n",
    "\n",
    "\n",
    "    return df_english"
   ]
  },
  {
   "cell_type": "code",
   "execution_count": 26,
   "metadata": {},
   "outputs": [
    {
     "name": "stdout",
     "output_type": "stream",
     "text": [
      "Original number of rows: 615\n",
      "Rows with Amharic text: 274\n",
      "Rows without Amharic text: 341\n",
      "Filtered data saved to 'labeled_english.csv'\n"
     ]
    }
   ],
   "source": [
    "df_english = filter_non_amharic_rows(\"/home/admin/blessed/HandWritten_Amharic_English_OCR/datasets/Labeled dummy regions/project-1-at-2024-12-19-10-47-bbac5eeb.csv\")"
   ]
  },
  {
   "cell_type": "code",
   "execution_count": 27,
   "metadata": {},
   "outputs": [
    {
     "data": {
      "text/html": [
       "<div>\n",
       "<style scoped>\n",
       "    .dataframe tbody tr th:only-of-type {\n",
       "        vertical-align: middle;\n",
       "    }\n",
       "\n",
       "    .dataframe tbody tr th {\n",
       "        vertical-align: top;\n",
       "    }\n",
       "\n",
       "    .dataframe thead th {\n",
       "        text-align: right;\n",
       "    }\n",
       "</style>\n",
       "<table border=\"1\" class=\"dataframe\">\n",
       "  <thead>\n",
       "    <tr style=\"text-align: right;\">\n",
       "      <th></th>\n",
       "      <th>text</th>\n",
       "      <th>images</th>\n",
       "    </tr>\n",
       "  </thead>\n",
       "  <tbody>\n",
       "    <tr>\n",
       "      <th>0</th>\n",
       "      <td>52</td>\n",
       "      <td>./regions/1000020569_1.png</td>\n",
       "    </tr>\n",
       "    <tr>\n",
       "      <th>1</th>\n",
       "      <td>909121212</td>\n",
       "      <td>./regions/1000020569_10.png</td>\n",
       "    </tr>\n",
       "    <tr>\n",
       "      <th>5</th>\n",
       "      <td>04/01/1972</td>\n",
       "      <td>./regions/1000020569_14.png</td>\n",
       "    </tr>\n",
       "    <tr>\n",
       "      <th>7</th>\n",
       "      <td>Addis Ababa</td>\n",
       "      <td>./regions/1000020569_3.png</td>\n",
       "    </tr>\n",
       "    <tr>\n",
       "      <th>9</th>\n",
       "      <td>Hailemeskel Gebreegziabher kidane</td>\n",
       "      <td>./regions/1000020569_5.png</td>\n",
       "    </tr>\n",
       "  </tbody>\n",
       "</table>\n",
       "</div>"
      ],
      "text/plain": [
       "                                text                       images\n",
       "0                                 52   ./regions/1000020569_1.png\n",
       "1                          909121212  ./regions/1000020569_10.png\n",
       "5                         04/01/1972  ./regions/1000020569_14.png\n",
       "7                        Addis Ababa   ./regions/1000020569_3.png\n",
       "9  Hailemeskel Gebreegziabher kidane   ./regions/1000020569_5.png"
      ]
     },
     "execution_count": 27,
     "metadata": {},
     "output_type": "execute_result"
    }
   ],
   "source": [
    "df_english.head()"
   ]
  }
 ],
 "metadata": {
  "kernelspec": {
   "display_name": "Python 3",
   "language": "python",
   "name": "python3"
  },
  "language_info": {
   "codemirror_mode": {
    "name": "ipython",
    "version": 3
   },
   "file_extension": ".py",
   "mimetype": "text/x-python",
   "name": "python",
   "nbconvert_exporter": "python",
   "pygments_lexer": "ipython3",
   "version": "3.8.10"
  }
 },
 "nbformat": 4,
 "nbformat_minor": 2
}
