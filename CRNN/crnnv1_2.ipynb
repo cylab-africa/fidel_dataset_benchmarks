{
 "cells": [
  {
   "cell_type": "code",
   "execution_count": 3,
   "id": "fe362a67",
   "metadata": {},
   "outputs": [],
   "source": [
    "import pandas as pd\n",
    "test_csv = pd.read_csv('../raw_data/Amharic_Data/test/all_test.csv')\n",
    "train_csv = pd.read_csv('../raw_data/Amharic_Data/train/all_train.csv')"
   ]
  },
  {
   "cell_type": "code",
   "execution_count": 4,
   "id": "6898526a",
   "metadata": {},
   "outputs": [],
   "source": [
    "all_text = ''.join(test_csv['line_text'].tolist() + train_csv['line_text'].tolist())"
   ]
  },
  {
   "cell_type": "code",
   "execution_count": 5,
   "id": "0cc9cc4b",
   "metadata": {},
   "outputs": [],
   "source": [
    "vocab = set(all_text)\n"
   ]
  },
  {
   "cell_type": "code",
   "execution_count": 8,
   "id": "1f9931b3",
   "metadata": {},
   "outputs": [],
   "source": [
    "CHARS = ''.join(sorted(vocab))"
   ]
  },
  {
   "cell_type": "code",
   "execution_count": 9,
   "id": "ffa190e1",
   "metadata": {},
   "outputs": [
    {
     "name": "stdout",
     "output_type": "stream",
     "text": [
      "380\n"
     ]
    }
   ],
   "source": [
    "print(len(CHARS))"
   ]
  },
  {
   "cell_type": "code",
   "execution_count": 10,
   "id": "dd8e6186",
   "metadata": {},
   "outputs": [],
   "source": [
    "import os\n",
    "import glob\n",
    "\n",
    "import torch\n",
    "from torch.utils.data import Dataset\n",
    "from scipy import signal\n",
    "from scipy.io import wavfile\n",
    "import cv2\n",
    "from PIL import Image\n",
    "import numpy as np\n",
    "\n",
    "\n",
    "class MyDataset(Dataset):\n",
    "    CHARS = ''.join(sorted(vocab))\n",
    "    CHAR2LABEL = {char: i + 1 for i, char in enumerate(CHARS)}\n",
    "    LABEL2CHAR = {label: char for char, label in CHAR2LABEL.items()}\n",
    "\n",
    "    def __init__(self, root_dir=None, mode=None, df=None, img_height=80, img_width=364):\n",
    "       \n",
    "\n",
    "        self.paths = df['image_filename'].tolist()\n",
    "        self.texts = df['line_text'].tolist()\n",
    "        self.img_height = img_height\n",
    "        self.img_width = img_width\n",
    "        self.root_dir = root_dir\n",
    "\n",
    "    def __len__(self):\n",
    "        return len(self.paths)\n",
    "\n",
    "    def __getitem__(self, index):\n",
    "        path = os.path.join(self.root_dir, self.paths[index])\n",
    "\n",
    "        try:\n",
    "            image = Image.open(path).convert('L')  # grey-scale\n",
    "        except IOError:\n",
    "            print('Corrupted image for %d' % index)\n",
    "            return self[index + 1]\n",
    "\n",
    "        image = image.resize((self.img_width, self.img_height), resample=Image.BILINEAR)\n",
    "        image = np.array(image)\n",
    "        image = image.reshape((1, self.img_height, self.img_width))\n",
    "        image = (image / 127.5) - 1.0\n",
    "\n",
    "        image = torch.FloatTensor(image)\n",
    "        if self.texts:\n",
    "            text = self.texts[index].strip()\n",
    "            \n",
    "            target = [self.CHAR2LABEL[c] for c in text]\n",
    "            target_length = [len(target)]\n",
    "\n",
    "            target = torch.LongTensor(target)\n",
    "            target_length = torch.LongTensor(target_length)\n",
    "            return image, target, target_length\n",
    "        else:\n",
    "            return image\n",
    "\n",
    "\n",
    "def my_collate_fn(batch):\n",
    "    images, targets, target_lengths = zip(*batch)\n",
    "    images = torch.stack(images, 0)\n",
    "    targets = torch.cat(targets, 0)\n",
    "    target_lengths = torch.cat(target_lengths, 0)\n",
    "    return images, targets, target_lengths"
   ]
  },
  {
   "cell_type": "code",
   "execution_count": 11,
   "id": "fc150fad",
   "metadata": {},
   "outputs": [],
   "source": [
    "from __future__ import annotations\n",
    "from typing import List, Tuple, Sequence\n",
    "class LabelConverter:\n",
    "    \"\"\"String ⇄ index-tensor converter for CTC.\n",
    "\n",
    "    ● blank index = 0\n",
    "    ● char indices start at 1 → len(charset) + 1 classes in the model.\n",
    "    \"\"\"\n",
    "\n",
    "    def __init__(self, charset: str):\n",
    "        self.charset   = charset\n",
    "        self.blank     = 0\n",
    "        self.char2idx  = {c: i + 1 for i, c in enumerate(charset)}  # 1‑based\n",
    "        self.idx2char  = {i + 1: c for i, c in enumerate(charset)}\n",
    "\n",
    "    # --------------------------- Encode ------------------------------------ #\n",
    "    def encode(self, texts: List[str]) -> Tuple[torch.Tensor, torch.Tensor]:\n",
    "        lengths = torch.tensor([len(t) for t in texts], dtype=torch.long)\n",
    "        flat    = torch.tensor([self.char2idx[c] for t in texts for c in t], dtype=torch.long)\n",
    "        return flat, lengths\n",
    "\n",
    "    # --------------------------- Decode log‑probs --------------------------- #\n",
    "    @torch.no_grad()\n",
    "    def decode(self, log_probs: torch.Tensor, raw: bool = False) -> List[str]:\n",
    "        \"\"\"Greedy decode from model output (T, B, C).\"\"\"\n",
    "        best = log_probs.argmax(2).permute(1, 0)  # (B,T)\n",
    "        return self.decode_indices(best, remove_repeats=True, raw=raw)\n",
    "\n",
    "    # --------------------------- Decode raw indices ------------------------ #\n",
    "    def decode_indices(\n",
    "        self,\n",
    "        sequences: Sequence[Sequence[int]] | torch.Tensor,\n",
    "        *,\n",
    "        remove_repeats: bool = False,\n",
    "        raw: bool = True,\n",
    "    ) -> List[str]:\n",
    "        \"\"\"Convert index sequences → strings.\n",
    "\n",
    "        Parameters\n",
    "        ----------\n",
    "        sequences : (B,T) tensor or list of lists containing *model indices* (0 = blank).\n",
    "        remove_repeats : drop consecutive duplicate indices (CTC best‑path post‑process).\n",
    "        raw   : if True, return the indices as space‑separated strings instead of chars.\n",
    "        \"\"\"\n",
    "        if isinstance(sequences, torch.Tensor):\n",
    "            sequences = sequences.tolist()\n",
    "\n",
    "        out: List[str] = []\n",
    "        for seq in sequences:\n",
    "            chars: List[str] = []\n",
    "            prev: int | None = None\n",
    "            for idx in seq:\n",
    "                if isinstance(idx, torch.Tensor):\n",
    "                    idx = idx.item()\n",
    "                if idx != self.blank:\n",
    "                    if raw:\n",
    "                        chars.append(str(idx))\n",
    "                    else:\n",
    "                        \n",
    "                        chars.append(self.idx2char.get(idx, \"\"))\n",
    "               \n",
    "            out.append(\" \".join(chars) if raw else \"\".join(chars))\n",
    "        return out"
   ]
  },
  {
   "cell_type": "code",
   "execution_count": null,
   "id": "c0497946",
   "metadata": {},
   "outputs": [],
   "source": []
  },
  {
   "cell_type": "code",
   "execution_count": 53,
   "id": "c6ec464d",
   "metadata": {},
   "outputs": [],
   "source": [
    "\n",
    "data_type = \"synthetic\"\n",
    "# Assuming your DataFrame is named `df`\n",
    "typed_df = train_csv[train_csv['type'] == data_type]"
   ]
  },
  {
   "cell_type": "code",
   "execution_count": 13,
   "id": "e081cf60",
   "metadata": {},
   "outputs": [
    {
     "data": {
      "text/plain": [
       "22418"
      ]
     },
     "execution_count": 13,
     "metadata": {},
     "output_type": "execute_result"
    }
   ],
   "source": [
    "len(typed_df)"
   ]
  },
  {
   "cell_type": "code",
   "execution_count": 14,
   "id": "13b9aae4",
   "metadata": {},
   "outputs": [
    {
     "data": {
      "text/plain": [
       "34820"
      ]
     },
     "execution_count": 14,
     "metadata": {},
     "output_type": "execute_result"
    }
   ],
   "source": [
    "len(train_csv[train_csv['type'] == 'handwritten'])"
   ]
  },
  {
   "cell_type": "code",
   "execution_count": 73,
   "id": "02d1fc8c",
   "metadata": {},
   "outputs": [],
   "source": [
    "test_filter = \"hdd_18\"\n",
    "\n",
    "test_df = test_csv[test_csv['type'] == test_filter][100:101] \n",
    "\n",
    "# test_df_1 = test_csv[test_csv['type'] == 'hdd_18'] \n",
    "# test_df_2 = test_csv[test_csv['type'] == 'hdd_rand'] \n",
    "# # test_df_3 = test_csv[test_csv['type'] == 'handwritten'] \n",
    "# test_df = pd.concat([test_df_1, test_df_2], ignore_index=True)\n",
    "# # test_df = pd.concat([test_df_1, test_df_2, test_df_3], ignore_index=True)"
   ]
  },
  {
   "cell_type": "code",
   "execution_count": 74,
   "id": "7fe3ace7",
   "metadata": {},
   "outputs": [
    {
     "data": {
      "text/plain": [
       "1"
      ]
     },
     "execution_count": 74,
     "metadata": {},
     "output_type": "execute_result"
    }
   ],
   "source": [
    "len(test_df)"
   ]
  },
  {
   "cell_type": "code",
   "execution_count": 75,
   "id": "95878cf1",
   "metadata": {},
   "outputs": [],
   "source": [
    "converter = LabelConverter(MyDataset.CHARS)"
   ]
  },
  {
   "cell_type": "code",
   "execution_count": 76,
   "id": "9e27c1de",
   "metadata": {},
   "outputs": [],
   "source": [
    "from sklearn.model_selection import train_test_split\n",
    "train_df, val_df = train_test_split(typed_df, test_size=0.2, random_state=42, shuffle=True)\n"
   ]
  },
  {
   "cell_type": "code",
   "execution_count": 77,
   "id": "38f8c54e",
   "metadata": {},
   "outputs": [],
   "source": [
    "img_width = 1000\n",
    "img_height = 100\n",
    "data_dir_train =  '/home/admin/Gabby/Amharic OCR/HandWritten_Amharic_English_OCR/raw_data/Amharic_Data/train'\n",
    "data_dir_test =  '/home/admin/Gabby/Amharic OCR/HandWritten_Amharic_English_OCR/raw_data/Amharic_Data/test'"
   ]
  },
  {
   "cell_type": "code",
   "execution_count": 78,
   "id": "5e3198ce",
   "metadata": {},
   "outputs": [],
   "source": [
    "train_dataset =MyDataset(root_dir=data_dir_train, mode='train',\n",
    "                                    df=train_df, img_height=img_height, img_width=img_width)\n",
    "valid_dataset = MyDataset(root_dir=data_dir_train, mode='valid',\n",
    "                                    df=val_df, img_height=img_height, img_width=img_width)\n",
    "test_dataset = MyDataset(root_dir=data_dir_test, mode='valid',\n",
    "                                    df=test_df, img_height=img_height, img_width=img_width)\n",
    "train_loader = torch.utils.data.DataLoader(\n",
    "    train_dataset,\n",
    "    batch_size=64,\n",
    "    shuffle=True,\n",
    "    num_workers=4,\n",
    "    collate_fn=my_collate_fn,\n",
    ")\n",
    "valid_loader = torch.utils.data.DataLoader(\n",
    "    valid_dataset,\n",
    "    batch_size=64,\n",
    "    shuffle=False,\n",
    "    num_workers=4,\n",
    "    collate_fn=my_collate_fn,\n",
    ")\n",
    "test_loader = torch.utils.data.DataLoader(\n",
    "    test_dataset,\n",
    "    batch_size=64,\n",
    "    shuffle=False,\n",
    "    num_workers=4,\n",
    "    collate_fn=my_collate_fn,\n",
    ")"
   ]
  },
  {
   "cell_type": "code",
   "execution_count": 79,
   "id": "68ee2c46",
   "metadata": {},
   "outputs": [
    {
     "data": {
      "text/plain": [
       "<matplotlib.image.AxesImage at 0x7f2fcc07b490>"
      ]
     },
     "execution_count": 79,
     "metadata": {},
     "output_type": "execute_result"
    },
    {
     "data": {
      "image/png": "[encoded data removed]",
      "text/plain": [
       "<Figure size 640x480 with 1 Axes>"
      ]
     },
     "metadata": {},
     "output_type": "display_data"
    }
   ],
   "source": [
    "import matplotlib.pyplot as plt\n",
    "image = test_dataset.__getitem__(0)[0]\n",
    "image = image.squeeze(0).numpy()\n",
    "\n",
    "\n",
    "plt.imshow(image, cmap='gray')\n"
   ]
  },
  {
   "cell_type": "code",
   "execution_count": 81,
   "id": "7cdbc712",
   "metadata": {},
   "outputs": [
    {
     "name": "stdout",
     "output_type": "stream",
     "text": [
      "Image 0 shape: torch.Size([1, 100, 1000])\n",
      "Target indices: [72, 239, 212, 77, 180, 348, 183, 330, 131, 108, 348, 72, 209, 107, 115, 159, 115, 348, 183, 66, 348, 201, 185, 209, 348, 260, 201, 241, 348, 87, 92, 70, 107, 348, 310, 229]\n",
      "Decoded text: ['ለዘኲልነ፡ናፈቅሮ፡ለክርስቶስ፡ናሁ፡እንክ፡ይእዚ፡መምህር፡ጳው']\n",
      "ለዘኲልነ፡ናፈቅሮ፡ለክርስቶስ፡ናሁ፡እንክ፡ይእዚ፡መምህር፡ጳው\n"
     ]
    },
    {
     "data": {
      "image/png": "[encoded data removed]",
      "text/plain": [
       "<Figure size 640x480 with 1 Axes>"
      ]
     },
     "metadata": {},
     "output_type": "display_data"
    }
   ],
   "source": [
    "for images, targets, target_lengths in test_loader:\n",
    "    \n",
    "    batch_size = images.size(0)\n",
    "    \n",
    "    # Split targets back using target_lengths\n",
    "    split_targets = torch.split(targets, target_lengths.tolist())\n",
    "\n",
    "    for i in range(batch_size):\n",
    "        img = images[i]\n",
    "        target_tensor = split_targets[i]  # 1D tensor of label indices for this sample\n",
    "        plt.imshow(img.squeeze(0).numpy(), cmap='gray')\n",
    "        print(f\"Image {i} shape: {img.shape}\")\n",
    "        print(f\"Target indices: {target_tensor.tolist()}\")\n",
    "        \n",
    "        # Optionally decode target_tensor using your label converter\n",
    "        decoded_text = converter.decode_indices([target_tensor], raw=False)\n",
    "        print(f\"Decoded text: {decoded_text}\")\n",
    "        print(\" \".join(decoded_text))\n",
    "        \n",
    "        break  # remove or modify to check more\n",
    "    break"
   ]
  },
  {
   "cell_type": "code",
   "execution_count": null,
   "id": "d4189ca8",
   "metadata": {},
   "outputs": [],
   "source": []
  },
  {
   "cell_type": "markdown",
   "id": "48273a29",
   "metadata": {},
   "source": [
    "### Modeling"
   ]
  },
  {
   "cell_type": "code",
   "execution_count": 23,
   "id": "912015f1",
   "metadata": {},
   "outputs": [],
   "source": [
    "import torch\n",
    "import torch.nn as nn\n",
    "import torch.nn.functional as F\n",
    "\n",
    "\n",
    "class CRNN(nn.Module):\n",
    "    def __init__(self, num_classes: int, hidden_size: int = 256):\n",
    "        super().__init__()\n",
    "        self.cnn = nn.Sequential(\n",
    "            nn.Conv2d(1, 64, 3, 1, 1), nn.ReLU(True), nn.MaxPool2d(2, 2),\n",
    "            nn.Conv2d(64, 128, 3, 1, 1), nn.ReLU(True), nn.MaxPool2d(2, 2),\n",
    "            nn.Conv2d(128, 256, 3, 1, 1), nn.BatchNorm2d(256), nn.ReLU(True),\n",
    "            nn.Conv2d(256, 256, 3, 1, 1), nn.ReLU(True), nn.MaxPool2d((2, 1), (2, 1)),\n",
    "            nn.Conv2d(256, 512, 3, 1, 1), nn.BatchNorm2d(512), nn.ReLU(True),\n",
    "            nn.MaxPool2d((2, 1), (2, 1)),\n",
    "            nn.Conv2d(512, 512, 3, 1, 1), nn.ReLU(True),\n",
    "            nn.AdaptiveAvgPool2d((1, None)),\n",
    "        )\n",
    "        self.map_to_seq = nn.Linear(512, hidden_size)\n",
    "        self.rnn = nn.LSTM(hidden_size, hidden_size, bidirectional=True, batch_first=True)\n",
    "        self.classifier = nn.Linear(hidden_size * 2, num_classes)\n",
    "\n",
    "    def forward(self, x: torch.Tensor) -> torch.Tensor:\n",
    "        \"\"\"Forward pass.\n",
    "        Accepts (B,1,80,W) and outputs CTC‑ready log‑probs (T, B, C).\n",
    "        We **average over the height dimension** instead of squeezing so we\n",
    "        never hit a dim‑mismatch even if `AdaptiveAvgPool2d` leaves H>1 on\n",
    "        some PyTorch builds.\n",
    "        \"\"\"\n",
    "        feats = self.cnn(x)              # (B, 512, H', W')\n",
    "        feats = feats.mean(2)            # collapse H' → (B, 512, W')\n",
    "        feats = feats.permute(0, 2, 1)   # (B, W', 512)\n",
    "        seq, _ = self.rnn(self.map_to_seq(feats))\n",
    "        logits = self.classifier(seq)    # (B, W', C)\n",
    "        log_probs = F.log_softmax(logits, dim=-1)  # (B,W',C)\n",
    "        return log_probs.permute(1, 0, 2)  "
   ]
  },
  {
   "cell_type": "code",
   "execution_count": 24,
   "id": "a2745003",
   "metadata": {},
   "outputs": [],
   "source": [
    "device = torch.device(\"cuda\" if torch.cuda.is_available() else \"cpu\")"
   ]
  },
  {
   "cell_type": "code",
   "execution_count": 25,
   "id": "546d82a0",
   "metadata": {},
   "outputs": [],
   "source": [
    "model = CRNN(len(MyDataset.CHARS)+1).to(device)\n"
   ]
  },
  {
   "cell_type": "code",
   "execution_count": 26,
   "id": "f56a6883",
   "metadata": {},
   "outputs": [],
   "source": [
    "criterion = nn.CTCLoss(blank=0, zero_infinity=True)\n",
    "optimizer = torch.optim.AdamW(model.parameters(), lr=3e-4)"
   ]
  },
  {
   "cell_type": "code",
   "execution_count": null,
   "id": "c7072b85",
   "metadata": {},
   "outputs": [],
   "source": []
  },
  {
   "cell_type": "code",
   "execution_count": 27,
   "id": "96fa3dc1",
   "metadata": {},
   "outputs": [],
   "source": [
    "def _levenshtein(a: str, b: str) -> int:\n",
    "    if a == b:\n",
    "        return 0\n",
    "    if len(a) < len(b):\n",
    "        a, b = b, a\n",
    "    prev = list(range(len(b) + 1))\n",
    "    for i, ca in enumerate(a, 1):\n",
    "        cur = [i]\n",
    "        for j, cb in enumerate(b, 1):\n",
    "            cur.append(min(prev[j]+1,      # deletion\n",
    "                            cur[-1]+1,     # insertion\n",
    "                            prev[j-1] + (ca != cb)))  # substitution\n",
    "        prev = cur\n",
    "    return prev[-1]\n",
    "\n",
    "\n",
    "def _update_char_counts(pred: str, gt: str):\n",
    "    dist = _levenshtein(pred, gt)\n",
    "    tp = len(gt) - dist  # correct chars = ground truth − edit distance\n",
    "    return tp, len(pred), len(gt)\n",
    "\n",
    "def _split_targets(targets: torch.Tensor, lengths: torch.Tensor) -> List[List[int]]:\n",
    "    out, ptr = [], 0\n",
    "    for l in lengths:\n",
    "        out.append(targets[ptr:ptr+l].tolist())\n",
    "        ptr += l\n",
    "    return out"
   ]
  },
  {
   "cell_type": "code",
   "execution_count": 28,
   "id": "8a4ae7d7",
   "metadata": {},
   "outputs": [],
   "source": [
    "import json\n",
    "from tqdm.auto import tqdm\n",
    "from collections import Counter\n",
    "\n",
    "def run_epoch(model, loader, crit, opt, device, conv, *, train=True,\n",
    "              save_samples: bool=False, sample_count: int=20,\n",
    "              log_dir: str=\"logs\", epoch_idx: int=0,\n",
    "              best_cer: float=float(\"inf\")) -> Tuple[dict, float]:\n",
    "    os.makedirs(log_dir, exist_ok=True)\n",
    "    model.train() if train else model.eval()\n",
    "    name = \"train\" if train else \"val\"\n",
    "    bar = tqdm(loader, desc=f\"[{name}]\", leave=False)\n",
    "\n",
    "    tot_loss = tot_ed = tot_wed = 0\n",
    "    tp_char = pred_tot = gt_tot = 0\n",
    "    tp_word = 0\n",
    "    samples = []\n",
    "    tp_word = fp_word = fn_word = 0  \n",
    "    for imgs, tgt, tlen in bar:\n",
    "        imgs, tgt, tlen = imgs.to(device), tgt.to(device), tlen.to(device)\n",
    "        with torch.set_grad_enabled(train):\n",
    "            logp = model(imgs)\n",
    "            in_len = torch.full((imgs.size(0),), logp.size(0), dtype=torch.long, device=device)\n",
    "            loss = crit(logp, tgt, in_len, tlen)\n",
    "            if train:\n",
    "                opt.zero_grad(set_to_none=True); loss.backward(); opt.step()\n",
    "        # metrics\n",
    "        gts  = conv.decode_indices(_split_targets(tgt.cpu(), tlen.cpu()), remove_repeats=False)\n",
    "        gts = [list(map(int, g.split())) for g in gts]\n",
    "        gts = conv.decode_indices(gts, raw=False)\n",
    "        \n",
    "     \n",
    "        preds= conv.decode(logp.detach().cpu())\n",
    "        for p, g in zip(preds, gts):\n",
    "            if save_samples and len(samples) < sample_count:\n",
    "                samples.append({\"gt\": g, \"pred\": p})\n",
    "\n",
    "            # Levenshtein for CER and WER\n",
    "            ed = _levenshtein(p, g)\n",
    "            tot_ed += ed\n",
    "            tot_wed += _levenshtein(p.split(), g.split())\n",
    "\n",
    "            # Char-level stats\n",
    "            tp_char += len(g) - ed\n",
    "            pred_tot += len(p)\n",
    "            gt_tot += len(g)\n",
    "\n",
    "            # Word-level stats\n",
    "            p_words = p.split()\n",
    "            g_words = g.split()\n",
    "            p_counter = Counter(p_words)\n",
    "            g_counter = Counter(g_words)\n",
    "\n",
    "            for word in p_counter:\n",
    "                tp_word += min(p_counter[word], g_counter.get(word, 0))\n",
    "                fp_word += max(0, p_counter[word] - g_counter.get(word, 0))\n",
    "            for word in g_counter:\n",
    "                fn_word += max(0, g_counter[word] - p_counter.get(word, 0))\n",
    "\n",
    "            tot_loss += loss.item()\n",
    "            bar.set_postfix(loss=loss.item())\n",
    "\n",
    "    cer = tot_ed/max(1,gt_tot)\n",
    "    wer = tot_wed/max(1,gt_tot)\n",
    "    prec = tp_char/pred_tot if pred_tot else 0; rec = tp_char/gt_tot if gt_tot else 0\n",
    "    f1c = 2*prec*rec/(prec+rec) if prec+rec else 0\n",
    "    word_prec = tp_word / (tp_word + fp_word + 1e-8)\n",
    "    word_rec = tp_word / (tp_word + fn_word + 1e-8)\n",
    "    f1w = 2 * word_prec * word_rec / (word_prec + word_rec + 1e-8)\n",
    "    stats = dict(loss=tot_loss/len(loader), CER=cer, WER=wer, F1_char=f1c, F1_word=f1w)\n",
    "\n",
    "    # ── save sample predictions\n",
    "    if save_samples:\n",
    "        samp_path = os.path.join(log_dir, f\"samples_epoch{epoch_idx}.json\")\n",
    "        with open(samp_path, \"w\", encoding=\"utf8\") as f:\n",
    "            json.dump(samples, f, ensure_ascii=False, indent=2)\n",
    "\n",
    "    # ── checkpoint best CER\n",
    "    if not train and cer < best_cer:\n",
    "        ckpt = {\n",
    "            \"epoch\": epoch_idx,\n",
    "            \"model\": model.state_dict(),\n",
    "            \"optimizer\": opt.state_dict(),\n",
    "            \"CER\": cer,\n",
    "        }\n",
    "        torch.save(ckpt, os.path.join(log_dir, \"best_cer.pt\"))\n",
    "        best_cer = cer\n",
    "\n",
    "    return stats, best_cer"
   ]
  },
  {
   "cell_type": "code",
   "execution_count": 29,
   "id": "74921d0a",
   "metadata": {},
   "outputs": [
    {
     "name": "stderr",
     "output_type": "stream",
     "text": [
      "\u001b[34m\u001b[1mwandb\u001b[0m: Using wandb-core as the SDK backend.  Please refer to https://wandb.me/wandb-core for more information.\n",
      "\u001b[34m\u001b[1mwandb\u001b[0m: \u001b[33mWARNING\u001b[0m If you're specifying your api key in code, ensure this code is not shared publicly.\n",
      "\u001b[34m\u001b[1mwandb\u001b[0m: \u001b[33mWARNING\u001b[0m Consider setting the WANDB_API_KEY environment variable, or running `wandb login` from the command line.\n",
      "\u001b[34m\u001b[1mwandb\u001b[0m: Appending key for api.wandb.ai to your netrc file: /home/admin/.netrc\n",
      "\u001b[34m\u001b[1mwandb\u001b[0m: Currently logged in as: \u001b[33mgzenchaa\u001b[0m to \u001b[32mhttps://api.wandb.ai\u001b[0m. Use \u001b[1m`wandb login --relogin`\u001b[0m to force relogin\n"
     ]
    },
    {
     "data": {
      "text/plain": [
       "True"
      ]
     },
     "execution_count": 29,
     "metadata": {},
     "output_type": "execute_result"
    }
   ],
   "source": [
    "import wandb\n",
    "\n",
    "# This prompts you to enter your API key the first time\n",
    "wandb.login(key=\"7a2297338ed4c184a8cf1c11b29bd7f0f010f9e3\")"
   ]
  },
  {
   "cell_type": "code",
   "execution_count": 83,
   "id": "3323bd7e",
   "metadata": {},
   "outputs": [],
   "source": [
    "model_name = \"hd_ocr\"\n",
    "# wandb.init(project=\"Amharic OCR\", name=model_name)"
   ]
  },
  {
   "cell_type": "code",
   "execution_count": 84,
   "id": "0750a5a0",
   "metadata": {},
   "outputs": [],
   "source": [
    "checkpoint = torch.load(f'{model_name}_logs/best_cer.pt')"
   ]
  },
  {
   "cell_type": "code",
   "execution_count": 85,
   "id": "e0b6f2dd",
   "metadata": {},
   "outputs": [
    {
     "data": {
      "text/plain": [
       "<All keys matched successfully>"
      ]
     },
     "execution_count": 85,
     "metadata": {},
     "output_type": "execute_result"
    }
   ],
   "source": [
    "model.load_state_dict(checkpoint['model'])"
   ]
  },
  {
   "cell_type": "code",
   "execution_count": 86,
   "id": "1d536df9",
   "metadata": {},
   "outputs": [],
   "source": [
    "#  # ── training loop ────────────────────────────────\n",
    "# wandb.watch(model, log=\"all\")\n",
    "# epochs = 50\n",
    "# LOG_DIR = f\"{model_name}_logs\"\n",
    "# best_cer = float(\"inf\")\n",
    "# for epoch in range(1, epochs+1):\n",
    "#     print(f\"\\nEpoch {epoch}/{epochs}\")\n",
    "#     train_stats , _ = run_epoch(model, train_loader, criterion, optimizer, device, converter, train=True,\n",
    "#                            epoch_idx=epoch)\n",
    "#     val_stats, best_cer = run_epoch(model, valid_loader, criterion, optimizer, device, converter,\n",
    "#                                         train=False, save_samples=True, sample_count=10,\n",
    "#                                         log_dir=LOG_DIR, epoch_idx=epoch, best_cer=best_cer)\n",
    "#     print(f\"train: {train_stats}\\nval  : {val_stats}\")\n",
    "#     ## add T to train starts keys\n",
    "#     train_stats = {f\"train_{k}\": v for k, v in train_stats.items()}\n",
    "#     val_stats   = {f\"val_{k}\": v for k, v in val_stats.items()}\n",
    "#     wandb.log({\"epoch\": epoch, **train_stats, **val_stats})"
   ]
  },
  {
   "cell_type": "code",
   "execution_count": 87,
   "id": "ee108274",
   "metadata": {},
   "outputs": [
    {
     "data": {
      "application/vnd.jupyter.widget-view+json": {
       "model_id": "b3ba12449a624f0a95ad9405e29e4a91",
       "version_major": 2,
       "version_minor": 0
      },
      "text/plain": [
       "[test]:   0%|          | 0/1 [00:00<?, ?it/s]"
      ]
     },
     "metadata": {},
     "output_type": "display_data"
    }
   ],
   "source": [
    "import json\n",
    "from tqdm.auto import tqdm\n",
    "from collections import Counter\n",
    "\n",
    "def predict(model, loader, device, conv, ) -> Tuple[dict, float]:\n",
    "    model.eval()\n",
    "    name =  \"test\"\n",
    "    bar = tqdm(loader, desc=f\"[{name}]\", leave=False)\n",
    "\n",
    "    results = {'preds': [], 'gts': []}\n",
    "    for imgs, tgt, tlen in bar:\n",
    "        imgs, tgt, tlen = imgs.to(device), tgt.to(device), tlen.to(device)\n",
    "        with torch.set_grad_enabled(False):\n",
    "            logp = model(imgs)\n",
    "            in_len = torch.full((imgs.size(0),), logp.size(0), dtype=torch.long, device=device)\n",
    "           \n",
    "        gts  = conv.decode_indices(_split_targets(tgt.cpu(), tlen.cpu()), remove_repeats=False)\n",
    "        gts = [list(map(int, g.split())) for g in gts]\n",
    "        gts = conv.decode_indices(gts, raw=False)\n",
    "        \n",
    "     \n",
    "        preds= conv.decode(logp.detach().cpu())\n",
    "        for p, g in zip(preds, gts):\n",
    "            results['preds'].append(p)\n",
    "            results['gts'].append(g)\n",
    "        bar.set_postfix()\n",
    "            \n",
    "    result_df = pd.DataFrame(results)\n",
    "    return result_df\n",
    "\n",
    "test_results = predict(model, test_loader, device, converter)"
   ]
  },
  {
   "cell_type": "code",
   "execution_count": 52,
   "id": "e6ab779e",
   "metadata": {},
   "outputs": [
    {
     "data": {
      "application/vnd.microsoft.datawrangler.viewer.v0+json": {
       "columns": [
        {
         "name": "index",
         "rawType": "int64",
         "type": "integer"
        },
        {
         "name": "preds",
         "rawType": "object",
         "type": "string"
        },
        {
         "name": "gts",
         "rawType": "object",
         "type": "string"
        }
       ],
       "conversionMethod": "pd.DataFrame",
       "ref": "5525f4cf-b5f7-4718-9e14-036fed037117",
       "rows": [
        [
         "0",
         "ሆነ ለጠየቀው  ሁሉ እጁ ሰፊ መፍርም  ምን አይነት  ውለታ  ነው ስሙ  ግድ  ነው ወይስ  ኪሳራ  የገቢቭኢ ምንጩ  ጋብቻ  ጥሎሽ  ወይስ  ሎተሪ  ፍቹ",
         "ሆነ ለጠየቀው  ሁሉ እጁ ሰፊ መፍርም  ምን አይነት  ውለታ  ነው ስሙ  ንግድ  ነው ወይስ  ኪሳራ  የገቢቭኢ  ምንጩ  ጋብቻ  ጥሎሽ  ወይስ  ሎተሪ  ፍቹ"
        ]
       ],
       "shape": {
        "columns": 2,
        "rows": 1
       }
      },
      "text/html": [
       "<div>\n",
       "<style scoped>\n",
       "    .dataframe tbody tr th:only-of-type {\n",
       "        vertical-align: middle;\n",
       "    }\n",
       "\n",
       "    .dataframe tbody tr th {\n",
       "        vertical-align: top;\n",
       "    }\n",
       "\n",
       "    .dataframe thead th {\n",
       "        text-align: right;\n",
       "    }\n",
       "</style>\n",
       "<table border=\"1\" class=\"dataframe\">\n",
       "  <thead>\n",
       "    <tr style=\"text-align: right;\">\n",
       "      <th></th>\n",
       "      <th>preds</th>\n",
       "      <th>gts</th>\n",
       "    </tr>\n",
       "  </thead>\n",
       "  <tbody>\n",
       "    <tr>\n",
       "      <th>0</th>\n",
       "      <td>ሆነ ለጠየቀው  ሁሉ እጁ ሰፊ መፍርም  ምን አይነት  ውለታ  ነው ስሙ  ...</td>\n",
       "      <td>ሆነ ለጠየቀው  ሁሉ እጁ ሰፊ መፍርም  ምን አይነት  ውለታ  ነው ስሙ  ...</td>\n",
       "    </tr>\n",
       "  </tbody>\n",
       "</table>\n",
       "</div>"
      ],
      "text/plain": [
       "                                               preds  \\\n",
       "0  ሆነ ለጠየቀው  ሁሉ እጁ ሰፊ መፍርም  ምን አይነት  ውለታ  ነው ስሙ  ...   \n",
       "\n",
       "                                                 gts  \n",
       "0  ሆነ ለጠየቀው  ሁሉ እጁ ሰፊ መፍርም  ምን አይነት  ውለታ  ነው ስሙ  ...  "
      ]
     },
     "execution_count": 52,
     "metadata": {},
     "output_type": "execute_result"
    }
   ],
   "source": [
    "test_results.head()"
   ]
  },
  {
   "cell_type": "code",
   "execution_count": 221,
   "id": "c3c73e64",
   "metadata": {},
   "outputs": [],
   "source": [
    "test_results = pd.read_csv(\"/home/admin/Gabby/Amharic OCR/HandWritten_Amharic_English_OCR/CRNN/ocr_predictions_typed.csv\")"
   ]
  },
  {
   "cell_type": "code",
   "execution_count": 222,
   "id": "a40cc8ac",
   "metadata": {},
   "outputs": [],
   "source": [
    "test_results['gts'] = test_results['ground_truth'].astype(str)\n",
    "test_results['preds'] = test_results['prediction'].astype(str)"
   ]
  },
  {
   "cell_type": "code",
   "execution_count": 223,
   "id": "6484c713",
   "metadata": {},
   "outputs": [
    {
     "data": {
      "application/vnd.microsoft.datawrangler.viewer.v0+json": {
       "columns": [
        {
         "name": "index",
         "rawType": "int64",
         "type": "integer"
        },
        {
         "name": "image_filename",
         "rawType": "object",
         "type": "string"
        },
        {
         "name": "ground_truth",
         "rawType": "object",
         "type": "string"
        },
        {
         "name": "prediction",
         "rawType": "object",
         "type": "string"
        },
        {
         "name": "gts",
         "rawType": "object",
         "type": "string"
        },
        {
         "name": "preds",
         "rawType": "object",
         "type": "string"
        }
       ],
       "conversionMethod": "pd.DataFrame",
       "ref": "7afb1593-0616-428a-906b-2e8815c5f34b",
       "rows": [
        [
         "0",
         "typed_3642_line_6.png",
         "የመቀሌ  ከተማ  መሆኑን  ዘገባው  አስነብቧል።  ምንጮቹ  በአከባቢያቸው  ያለውን  ሁኔታ  በማየት  እንዳሉት  ለጠቅላይ  ሚኒስትሩ  በሃይለቃል  ጭምር",
         "የመቀሌ ከተማ መሆኑን ዘ7ባው አስነብቧል። ምንጮቹ በአከባቢያቸው ያለውን ሁኔታ በማየት እንዳሉት ለጠቅላይ ሚኒስትሩ በሃይለቃል ጭምር",
         "የመቀሌ  ከተማ  መሆኑን  ዘገባው  አስነብቧል።  ምንጮቹ  በአከባቢያቸው  ያለውን  ሁኔታ  በማየት  እንዳሉት  ለጠቅላይ  ሚኒስትሩ  በሃይለቃል  ጭምር",
         "የመቀሌ ከተማ መሆኑን ዘ7ባው አስነብቧል። ምንጮቹ በአከባቢያቸው ያለውን ሁኔታ በማየት እንዳሉት ለጠቅላይ ሚኒስትሩ በሃይለቃል ጭምር"
        ],
        [
         "1",
         "typed_283_line_2.png",
         "ነበር።  ፈገግታ  ከፊቷ  የማይለያት  ነጺ ፣ አባ ለማን  እንዳሰቡሽ  ባወቅኹ  አለችኝ።  ከዚህ  አይነቱ  ፣ የሰላማዊ  ትግል  በኁላ  ፣ ድብልቅልቁ  ፣ ይወጣል።",
         "ነበር። ፈ7ግታ ከፊቷ የማይለያት ነጺ ፣ አባ ለማን እንዳሰቡሽ ባወቅኹ አለችኝ። ከዚህ አይነቱ ፣ የሰላማዊ ትግል በንላ ፣ ድብልቅልቁ ፣ ይወጣል።",
         "ነበር።  ፈገግታ  ከፊቷ  የማይለያት  ነጺ ፣ አባ ለማን  እንዳሰቡሽ  ባወቅኹ  አለችኝ።  ከዚህ  አይነቱ  ፣ የሰላማዊ  ትግል  በኁላ  ፣ ድብልቅልቁ  ፣ ይወጣል።",
         "ነበር። ፈ7ግታ ከፊቷ የማይለያት ነጺ ፣ አባ ለማን እንዳሰቡሽ ባወቅኹ አለችኝ። ከዚህ አይነቱ ፣ የሰላማዊ ትግል በንላ ፣ ድብልቅልቁ ፣ ይወጣል።"
        ],
        [
         "2",
         "typed_283_line_3.png",
         "ተመሳሳይ  ዓላማና  ግብ ይዣለሁ  ብሎ  የተበታተነ  ድርጅት  የሚገነባውና  የሚያፈርሰው  ሁሉ ልብ የማይለው  ነገር ቢኖር  ራሱን  ከመሰሎቹ  ማወዳደር",
         "ተመሳሳይ ዓላማና                                   ",
         "ተመሳሳይ  ዓላማና  ግብ ይዣለሁ  ብሎ  የተበታተነ  ድርጅት  የሚገነባውና  የሚያፈርሰው  ሁሉ ልብ የማይለው  ነገር ቢኖር  ራሱን  ከመሰሎቹ  ማወዳደር",
         "ተመሳሳይ ዓላማና                                   "
        ],
        [
         "3",
         "typed_283_line_5.png",
         "የሚያሰማውን  ጩኸት  ላለመስማት  ጆሮውን  የሚደፍን  ሁሉ ፣ እሱ ራሱ ይጮኻል  ፤ መልስም  አያገኝም።  ( ዮሐንስ  4 : 1 , 2 ) ነገር ግን በ 33",
         "የሚያሰማውን ጩኸት ላለመስማት ጆሮውን የሚደፍን ሁሉ ፣ እሱ ራሱ ይጮኸል ፤ መልስም አያንኝም። ( ዮሐንስ 4 : 1 , 2 )                                ",
         "የሚያሰማውን  ጩኸት  ላለመስማት  ጆሮውን  የሚደፍን  ሁሉ ፣ እሱ ራሱ ይጮኻል  ፤ መልስም  አያገኝም።  ( ዮሐንስ  4 : 1 , 2 ) ነገር ግን በ 33",
         "የሚያሰማውን ጩኸት ላለመስማት ጆሮውን የሚደፍን ሁሉ ፣ እሱ ራሱ ይጮኸል ፤ መልስም አያንኝም። ( ዮሐንስ 4 : 1 , 2 )                                "
        ],
        [
         "4",
         "typed_3777_line_1.png",
         "ዦክሃር  ሳርናየቭ  የተባለው  የ 21 ዓመት  ወጣት  አሸባሪ  ይህን  ያስታወቀው  የሞት  ቅጣት  ፍርዱን  ባፀደቀው  ፍርድ  ቤት ከትናንት  በስቲያ  በቀረበበት",
         "ዦክሃር ሳርናየቭ የተባለው የ 21 ዓመት ወጣት አሸባሪ ይህን ያስታወቀው የሞት ቅጣት ፍርዱን ባፀደቀው ፍርድ ቤት ከትናንት በስቲያ በቀረበበት",
         "ዦክሃር  ሳርናየቭ  የተባለው  የ 21 ዓመት  ወጣት  አሸባሪ  ይህን  ያስታወቀው  የሞት  ቅጣት  ፍርዱን  ባፀደቀው  ፍርድ  ቤት ከትናንት  በስቲያ  በቀረበበት",
         "ዦክሃር ሳርናየቭ የተባለው የ 21 ዓመት ወጣት አሸባሪ ይህን ያስታወቀው የሞት ቅጣት ፍርዱን ባፀደቀው ፍርድ ቤት ከትናንት በስቲያ በቀረበበት"
        ]
       ],
       "shape": {
        "columns": 5,
        "rows": 5
       }
      },
      "text/html": [
       "<div>\n",
       "<style scoped>\n",
       "    .dataframe tbody tr th:only-of-type {\n",
       "        vertical-align: middle;\n",
       "    }\n",
       "\n",
       "    .dataframe tbody tr th {\n",
       "        vertical-align: top;\n",
       "    }\n",
       "\n",
       "    .dataframe thead th {\n",
       "        text-align: right;\n",
       "    }\n",
       "</style>\n",
       "<table border=\"1\" class=\"dataframe\">\n",
       "  <thead>\n",
       "    <tr style=\"text-align: right;\">\n",
       "      <th></th>\n",
       "      <th>image_filename</th>\n",
       "      <th>ground_truth</th>\n",
       "      <th>prediction</th>\n",
       "      <th>gts</th>\n",
       "      <th>preds</th>\n",
       "    </tr>\n",
       "  </thead>\n",
       "  <tbody>\n",
       "    <tr>\n",
       "      <th>0</th>\n",
       "      <td>typed_3642_line_6.png</td>\n",
       "      <td>የመቀሌ  ከተማ  መሆኑን  ዘገባው  አስነብቧል።  ምንጮቹ  በአከባቢያቸው...</td>\n",
       "      <td>የመቀሌ ከተማ መሆኑን ዘ7ባው አስነብቧል። ምንጮቹ በአከባቢያቸው ያለውን ...</td>\n",
       "      <td>የመቀሌ  ከተማ  መሆኑን  ዘገባው  አስነብቧል።  ምንጮቹ  በአከባቢያቸው...</td>\n",
       "      <td>የመቀሌ ከተማ መሆኑን ዘ7ባው አስነብቧል። ምንጮቹ በአከባቢያቸው ያለውን ...</td>\n",
       "    </tr>\n",
       "    <tr>\n",
       "      <th>1</th>\n",
       "      <td>typed_283_line_2.png</td>\n",
       "      <td>ነበር።  ፈገግታ  ከፊቷ  የማይለያት  ነጺ ፣ አባ ለማን  እንዳሰቡሽ  ...</td>\n",
       "      <td>ነበር። ፈ7ግታ ከፊቷ የማይለያት ነጺ ፣ አባ ለማን እንዳሰቡሽ ባወቅኹ አ...</td>\n",
       "      <td>ነበር።  ፈገግታ  ከፊቷ  የማይለያት  ነጺ ፣ አባ ለማን  እንዳሰቡሽ  ...</td>\n",
       "      <td>ነበር። ፈ7ግታ ከፊቷ የማይለያት ነጺ ፣ አባ ለማን እንዳሰቡሽ ባወቅኹ አ...</td>\n",
       "    </tr>\n",
       "    <tr>\n",
       "      <th>2</th>\n",
       "      <td>typed_283_line_3.png</td>\n",
       "      <td>ተመሳሳይ  ዓላማና  ግብ ይዣለሁ  ብሎ  የተበታተነ  ድርጅት  የሚገነባው...</td>\n",
       "      <td>ተመሳሳይ ዓላማና</td>\n",
       "      <td>ተመሳሳይ  ዓላማና  ግብ ይዣለሁ  ብሎ  የተበታተነ  ድርጅት  የሚገነባው...</td>\n",
       "      <td>ተመሳሳይ ዓላማና</td>\n",
       "    </tr>\n",
       "    <tr>\n",
       "      <th>3</th>\n",
       "      <td>typed_283_line_5.png</td>\n",
       "      <td>የሚያሰማውን  ጩኸት  ላለመስማት  ጆሮውን  የሚደፍን  ሁሉ ፣ እሱ ራሱ ...</td>\n",
       "      <td>የሚያሰማውን ጩኸት ላለመስማት ጆሮውን የሚደፍን ሁሉ ፣ እሱ ራሱ ይጮኸል ...</td>\n",
       "      <td>የሚያሰማውን  ጩኸት  ላለመስማት  ጆሮውን  የሚደፍን  ሁሉ ፣ እሱ ራሱ ...</td>\n",
       "      <td>የሚያሰማውን ጩኸት ላለመስማት ጆሮውን የሚደፍን ሁሉ ፣ እሱ ራሱ ይጮኸል ...</td>\n",
       "    </tr>\n",
       "    <tr>\n",
       "      <th>4</th>\n",
       "      <td>typed_3777_line_1.png</td>\n",
       "      <td>ዦክሃር  ሳርናየቭ  የተባለው  የ 21 ዓመት  ወጣት  አሸባሪ  ይህን  ...</td>\n",
       "      <td>ዦክሃር ሳርናየቭ የተባለው የ 21 ዓመት ወጣት አሸባሪ ይህን ያስታወቀው ...</td>\n",
       "      <td>ዦክሃር  ሳርናየቭ  የተባለው  የ 21 ዓመት  ወጣት  አሸባሪ  ይህን  ...</td>\n",
       "      <td>ዦክሃር ሳርናየቭ የተባለው የ 21 ዓመት ወጣት አሸባሪ ይህን ያስታወቀው ...</td>\n",
       "    </tr>\n",
       "  </tbody>\n",
       "</table>\n",
       "</div>"
      ],
      "text/plain": [
       "          image_filename                                       ground_truth  \\\n",
       "0  typed_3642_line_6.png  የመቀሌ  ከተማ  መሆኑን  ዘገባው  አስነብቧል።  ምንጮቹ  በአከባቢያቸው...   \n",
       "1   typed_283_line_2.png  ነበር።  ፈገግታ  ከፊቷ  የማይለያት  ነጺ ፣ አባ ለማን  እንዳሰቡሽ  ...   \n",
       "2   typed_283_line_3.png  ተመሳሳይ  ዓላማና  ግብ ይዣለሁ  ብሎ  የተበታተነ  ድርጅት  የሚገነባው...   \n",
       "3   typed_283_line_5.png  የሚያሰማውን  ጩኸት  ላለመስማት  ጆሮውን  የሚደፍን  ሁሉ ፣ እሱ ራሱ ...   \n",
       "4  typed_3777_line_1.png  ዦክሃር  ሳርናየቭ  የተባለው  የ 21 ዓመት  ወጣት  አሸባሪ  ይህን  ...   \n",
       "\n",
       "                                          prediction  \\\n",
       "0  የመቀሌ ከተማ መሆኑን ዘ7ባው አስነብቧል። ምንጮቹ በአከባቢያቸው ያለውን ...   \n",
       "1  ነበር። ፈ7ግታ ከፊቷ የማይለያት ነጺ ፣ አባ ለማን እንዳሰቡሽ ባወቅኹ አ...   \n",
       "2      ተመሳሳይ ዓላማና                                      \n",
       "3  የሚያሰማውን ጩኸት ላለመስማት ጆሮውን የሚደፍን ሁሉ ፣ እሱ ራሱ ይጮኸል ...   \n",
       "4  ዦክሃር ሳርናየቭ የተባለው የ 21 ዓመት ወጣት አሸባሪ ይህን ያስታወቀው ...   \n",
       "\n",
       "                                                 gts  \\\n",
       "0  የመቀሌ  ከተማ  መሆኑን  ዘገባው  አስነብቧል።  ምንጮቹ  በአከባቢያቸው...   \n",
       "1  ነበር።  ፈገግታ  ከፊቷ  የማይለያት  ነጺ ፣ አባ ለማን  እንዳሰቡሽ  ...   \n",
       "2  ተመሳሳይ  ዓላማና  ግብ ይዣለሁ  ብሎ  የተበታተነ  ድርጅት  የሚገነባው...   \n",
       "3  የሚያሰማውን  ጩኸት  ላለመስማት  ጆሮውን  የሚደፍን  ሁሉ ፣ እሱ ራሱ ...   \n",
       "4  ዦክሃር  ሳርናየቭ  የተባለው  የ 21 ዓመት  ወጣት  አሸባሪ  ይህን  ...   \n",
       "\n",
       "                                               preds  \n",
       "0  የመቀሌ ከተማ መሆኑን ዘ7ባው አስነብቧል። ምንጮቹ በአከባቢያቸው ያለውን ...  \n",
       "1  ነበር። ፈ7ግታ ከፊቷ የማይለያት ነጺ ፣ አባ ለማን እንዳሰቡሽ ባወቅኹ አ...  \n",
       "2      ተመሳሳይ ዓላማና                                     \n",
       "3  የሚያሰማውን ጩኸት ላለመስማት ጆሮውን የሚደፍን ሁሉ ፣ እሱ ራሱ ይጮኸል ...  \n",
       "4  ዦክሃር ሳርናየቭ የተባለው የ 21 ዓመት ወጣት አሸባሪ ይህን ያስታወቀው ...  "
      ]
     },
     "execution_count": 223,
     "metadata": {},
     "output_type": "execute_result"
    }
   ],
   "source": [
    "test_results.head()"
   ]
  },
  {
   "cell_type": "code",
   "execution_count": 224,
   "id": "73336e79",
   "metadata": {},
   "outputs": [
    {
     "name": "stdout",
     "output_type": "stream",
     "text": [
      "WER: 1.0063261285757887\n",
      "CER: 0.2710552538488366\n",
      "F1 Score (word-level): 0.7573435442410577\n",
      "F1 Score (character-level): 0.5713504564685487\n"
     ]
    }
   ],
   "source": [
    "import numpy as np\n",
    "import editdistance  # For calculating Levenshtein distance (for CER)\n",
    "\n",
    "def calculate_metrics(test_df):\n",
    "    # Initialize variables to store total errors and counts\n",
    "    total_subs, total_deletions, total_insertions, total_words, total_chars = 0, 0, 0, 0, 0\n",
    "    total_true_positive_words, total_false_positive_words, total_false_negative_words = 0, 0, 0\n",
    "    total_true_positive_chars, total_false_positive_chars, total_false_negative_chars = 0, 0, 0\n",
    "    \n",
    "    for idx, row in test_df.iterrows():\n",
    "        # Get ground truth and predicted text\n",
    "        ground_truth = row['gts'].strip()\n",
    "        prediction = row['preds'].strip()\n",
    "        \n",
    "        # Split ground truth and prediction into words\n",
    "        gt_words = ground_truth.split()\n",
    "        pred_words = prediction.split()\n",
    "        \n",
    "        # Calculate WER (Word Error Rate)\n",
    "        # Using Levenshtein distance (edit distance) for word-level WER\n",
    "        wer_result = editdistance.eval(gt_words, pred_words)\n",
    "        total_subs += wer_result  # Substitutions in words\n",
    "        total_deletions += len(gt_words) - len(pred_words)  # Deletions in words\n",
    "        total_insertions += len(pred_words) - len(gt_words)  # Insertions in words\n",
    "        total_words += len(gt_words)\n",
    "        \n",
    "        # Calculate F1 at word level\n",
    "        true_positives_words = len(set(gt_words).intersection(pred_words))\n",
    "        false_positives_words = len(pred_words) - true_positives_words\n",
    "        false_negatives_words = len(gt_words) - true_positives_words\n",
    "        \n",
    "        total_true_positive_words += true_positives_words\n",
    "        total_false_positive_words += false_positives_words\n",
    "        total_false_negative_words += false_negatives_words\n",
    "        \n",
    "        # Calculate CER (Character Error Rate)\n",
    "        gt_chars = ''.join(gt_words)\n",
    "        pred_chars = ''.join(pred_words)\n",
    "        \n",
    "        # Using Levenshtein distance (edit distance) for character-level CER\n",
    "        cer_result = editdistance.eval(gt_chars, pred_chars)\n",
    "        total_subs += cer_result  # Substitutions in characters\n",
    "        total_deletions += len(gt_chars) - len(pred_chars)  # Deletions in characters\n",
    "        total_insertions += len(pred_chars) - len(gt_chars)  # Insertions in characters\n",
    "        total_chars += len(gt_chars)\n",
    "        \n",
    "        # Calculate F1 at character level\n",
    "        true_positives_chars = len(set(gt_chars).intersection(pred_chars))\n",
    "        false_positives_chars = len(pred_chars) - true_positives_chars\n",
    "        false_negatives_chars = len(gt_chars) - true_positives_chars\n",
    "        \n",
    "        total_true_positive_chars += true_positives_chars\n",
    "        total_false_positive_chars += false_positives_chars\n",
    "        total_false_negative_chars += false_negatives_chars\n",
    "        \n",
    "    # Calculate WER\n",
    "    wer = (total_subs + total_deletions + total_insertions) / total_words if total_words > 0 else 0\n",
    "    \n",
    "    # Calculate CER\n",
    "    cer = (total_subs + total_deletions + total_insertions) / total_chars if total_chars > 0 else 0\n",
    "    \n",
    "    # Calculate F1 Score at word level\n",
    "    precision_word = total_true_positive_words / (total_true_positive_words + total_false_positive_words) if total_true_positive_words + total_false_positive_words > 0 else 0\n",
    "    recall_word = total_true_positive_words / (total_true_positive_words + total_false_negative_words) if total_true_positive_words + total_false_negative_words > 0 else 0\n",
    "    f1_word = (2 * precision_word * recall_word) / (precision_word + recall_word) if precision_word + recall_word > 0 else 0\n",
    "    \n",
    "    # Calculate F1 Score at character level\n",
    "    precision_char = total_true_positive_chars / (total_true_positive_chars + total_false_positive_chars) if total_true_positive_chars + total_false_positive_chars > 0 else 0\n",
    "    recall_char = total_true_positive_chars / (total_true_positive_chars + total_false_negative_chars) if total_true_positive_chars + total_false_negative_chars > 0 else 0\n",
    "    f1_char = (2 * precision_char * recall_char) / (precision_char + recall_char) if precision_char + recall_char > 0 else 0\n",
    "    \n",
    "    return wer, cer, f1_word, f1_char\n",
    "\n",
    "\n",
    "\n",
    "# Get metrics\n",
    "wer, cer, f1_word, f1_char = calculate_metrics(test_results)\n",
    "\n",
    "print(f\"WER: {wer}\")\n",
    "print(f\"CER: {cer}\")\n",
    "print(f\"F1 Score (word-level): {f1_word}\")\n",
    "print(f\"F1 Score (character-level): {f1_char}\")\n"
   ]
  },
  {
   "cell_type": "code",
   "execution_count": 225,
   "id": "12b52eb9",
   "metadata": {},
   "outputs": [
    {
     "data": {
      "text/plain": [
       "3.3266666666666667"
      ]
     },
     "execution_count": 225,
     "metadata": {},
     "output_type": "execute_result"
    }
   ],
   "source": [
    "(7.30 + 1.62 + 1.06)/3"
   ]
  },
  {
   "cell_type": "code",
   "execution_count": 226,
   "id": "fd6a536a",
   "metadata": {},
   "outputs": [
    {
     "data": {
      "text/plain": [
       "0.89"
      ]
     },
     "execution_count": 226,
     "metadata": {},
     "output_type": "execute_result"
    }
   ],
   "source": [
    "(2.00 + 0.40 + 0.27)/3"
   ]
  },
  {
   "cell_type": "code",
   "execution_count": 228,
   "id": "9203b22d",
   "metadata": {},
   "outputs": [
    {
     "data": {
      "text/plain": [
       "0.5233333333333333"
      ]
     },
     "execution_count": 228,
     "metadata": {},
     "output_type": "execute_result"
    }
   ],
   "source": [
    "(0.014 + 0.799 + 0.757)/3"
   ]
  },
  {
   "cell_type": "code",
   "execution_count": 227,
   "id": "835fcd81",
   "metadata": {},
   "outputs": [
    {
     "data": {
      "text/plain": [
       "0.3697333333333333"
      ]
     },
     "execution_count": 227,
     "metadata": {},
     "output_type": "execute_result"
    }
   ],
   "source": [
    "(0.036 + 0.5032 +0.57)/3"
   ]
  },
  {
   "cell_type": "code",
   "execution_count": null,
   "id": "94713a59",
   "metadata": {},
   "outputs": [],
   "source": []
  }
 ],
 "metadata": {
  "kernelspec": {
   "display_name": "pytorch-idl",
   "language": "python",
   "name": "python3"
  },
  "language_info": {
   "codemirror_mode": {
    "name": "ipython",
    "version": 3
   },
   "file_extension": ".py",
   "mimetype": "text/x-python",
   "name": "python",
   "nbconvert_exporter": "python",
   "pygments_lexer": "ipython3",
   "version": "3.9.18"
  }
 },
 "nbformat": 4,
 "nbformat_minor": 5
}
