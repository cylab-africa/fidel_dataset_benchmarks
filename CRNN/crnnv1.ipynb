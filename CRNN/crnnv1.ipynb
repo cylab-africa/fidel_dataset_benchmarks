{
 "cells": [
  {
   "cell_type": "code",
   "execution_count": 1,
   "id": "fe362a67",
   "metadata": {},
   "outputs": [],
   "source": [
    "import pandas as pd\n",
    "test_csv = pd.read_csv('../raw_data/Amharic_Data/test/all_test.csv')\n",
    "train_csv = pd.read_csv('../raw_data/Amharic_Data/train/all_train.csv')"
   ]
  },
  {
   "cell_type": "code",
   "execution_count": 2,
   "id": "6898526a",
   "metadata": {},
   "outputs": [],
   "source": [
    "all_text = ''.join(test_csv['line_text'].tolist() + train_csv['line_text'].tolist())"
   ]
  },
  {
   "cell_type": "code",
   "execution_count": 3,
   "id": "0cc9cc4b",
   "metadata": {},
   "outputs": [],
   "source": [
    "vocab = set(all_text)\n"
   ]
  },
  {
   "cell_type": "code",
   "execution_count": 4,
   "id": "1f9931b3",
   "metadata": {},
   "outputs": [],
   "source": [
    "CHARS = ''.join(sorted(vocab))"
   ]
  },
  {
   "cell_type": "code",
   "execution_count": 5,
   "id": "dd8e6186",
   "metadata": {},
   "outputs": [],
   "source": [
    "import os\n",
    "import glob\n",
    "\n",
    "import torch\n",
    "from torch.utils.data import Dataset\n",
    "from scipy import signal\n",
    "from scipy.io import wavfile\n",
    "import cv2\n",
    "from PIL import Image\n",
    "import numpy as np\n",
    "\n",
    "\n",
    "class MyDataset(Dataset):\n",
    "    CHARS = ''.join(sorted(vocab))\n",
    "    CHAR2LABEL = {char: i + 1 for i, char in enumerate(CHARS)}\n",
    "    LABEL2CHAR = {label: char for char, label in CHAR2LABEL.items()}\n",
    "\n",
    "    def __init__(self, root_dir=None, mode=None, df=None, img_height=80, img_width=364):\n",
    "       \n",
    "\n",
    "        self.paths = df['image_filename'].tolist()\n",
    "        self.texts = df['line_text'].tolist()\n",
    "        self.img_height = img_height\n",
    "        self.img_width = img_width\n",
    "        self.root_dir = root_dir\n",
    "\n",
    "    def __len__(self):\n",
    "        return len(self.paths)\n",
    "\n",
    "    def __getitem__(self, index):\n",
    "        path = os.path.join(self.root_dir, self.paths[index])\n",
    "\n",
    "        try:\n",
    "            image = Image.open(path).convert('L')  # grey-scale\n",
    "        except IOError:\n",
    "            print('Corrupted image for %d' % index)\n",
    "            return self[index + 1]\n",
    "\n",
    "        image = image.resize((self.img_width, self.img_height), resample=Image.BILINEAR)\n",
    "        image = np.array(image)\n",
    "        image = image.reshape((1, self.img_height, self.img_width))\n",
    "        image = (image / 127.5) - 1.0\n",
    "\n",
    "        image = torch.FloatTensor(image)\n",
    "        if self.texts:\n",
    "            text = self.texts[index]\n",
    "            target = [self.CHAR2LABEL[c] for c in text]\n",
    "            target_length = [len(target)]\n",
    "\n",
    "            target = torch.LongTensor(target)\n",
    "            target_length = torch.LongTensor(target_length)\n",
    "            return image, target, target_length\n",
    "        else:\n",
    "            return image\n",
    "\n",
    "\n",
    "def my_collate_fn(batch):\n",
    "    images, targets, target_lengths = zip(*batch)\n",
    "    images = torch.stack(images, 0)\n",
    "    targets = torch.cat(targets, 0)\n",
    "    target_lengths = torch.cat(target_lengths, 0)\n",
    "    return images, targets, target_lengths"
   ]
  },
  {
   "cell_type": "code",
   "execution_count": 6,
   "id": "fc150fad",
   "metadata": {},
   "outputs": [],
   "source": [
    "from __future__ import annotations\n",
    "from typing import List, Tuple, Sequence\n",
    "class LabelConverter:\n",
    "    \"\"\"String ⇄ index-tensor converter for CTC.\n",
    "\n",
    "    ● blank index = 0\n",
    "    ● char indices start at 1 → len(charset) + 1 classes in the model.\n",
    "    \"\"\"\n",
    "\n",
    "    def __init__(self, charset: str):\n",
    "        self.charset   = charset\n",
    "        self.blank     = 0\n",
    "        self.char2idx  = {c: i + 1 for i, c in enumerate(charset)}  # 1‑based\n",
    "        self.idx2char  = {i + 1: c for i, c in enumerate(charset)}\n",
    "\n",
    "    # --------------------------- Encode ------------------------------------ #\n",
    "    def encode(self, texts: List[str]) -> Tuple[torch.Tensor, torch.Tensor]:\n",
    "        lengths = torch.tensor([len(t) for t in texts], dtype=torch.long)\n",
    "        flat    = torch.tensor([self.char2idx[c] for t in texts for c in t], dtype=torch.long)\n",
    "        return flat, lengths\n",
    "\n",
    "    # --------------------------- Decode log‑probs --------------------------- #\n",
    "    @torch.no_grad()\n",
    "    def decode(self, log_probs: torch.Tensor, raw: bool = False) -> List[str]:\n",
    "        \"\"\"Greedy decode from model output (T, B, C).\"\"\"\n",
    "        best = log_probs.argmax(2).permute(1, 0)  # (B,T)\n",
    "        return self.decode_indices(best, remove_repeats=True, raw=raw)\n",
    "\n",
    "    # --------------------------- Decode raw indices ------------------------ #\n",
    "    def decode_indices(\n",
    "        self,\n",
    "        sequences: Sequence[Sequence[int]] | torch.Tensor,\n",
    "        *,\n",
    "        remove_repeats: bool = False,\n",
    "        raw: bool = True,\n",
    "    ) -> List[str]:\n",
    "        \"\"\"Convert index sequences → strings.\n",
    "\n",
    "        Parameters\n",
    "        ----------\n",
    "        sequences : (B,T) tensor or list of lists containing *model indices* (0 = blank).\n",
    "        remove_repeats : drop consecutive duplicate indices (CTC best‑path post‑process).\n",
    "        raw   : if True, return the indices as space‑separated strings instead of chars.\n",
    "        \"\"\"\n",
    "        if isinstance(sequences, torch.Tensor):\n",
    "            sequences = sequences.tolist()\n",
    "\n",
    "        out: List[str] = []\n",
    "        for seq in sequences:\n",
    "            chars: List[str] = []\n",
    "            prev: int | None = None\n",
    "            for idx in seq:\n",
    "                if isinstance(idx, torch.Tensor):\n",
    "                    idx = idx.item()\n",
    "                if idx != self.blank:\n",
    "                    if raw:\n",
    "                        chars.append(str(idx))\n",
    "                    else:\n",
    "                        \n",
    "                        chars.append(self.idx2char.get(idx, \"\"))\n",
    "               \n",
    "            out.append(\" \".join(chars) if raw else \"\".join(chars))\n",
    "        return out"
   ]
  },
  {
   "cell_type": "code",
   "execution_count": 8,
   "id": "c6ec464d",
   "metadata": {},
   "outputs": [],
   "source": [
    "\n",
    "data_type = \"hdd\"  # or \"real\"\n",
    "# Assuming your DataFrame is named `df`\n",
    "typed_df = train_csv[train_csv['type'] != data_type]"
   ]
  },
  {
   "cell_type": "code",
   "execution_count": 9,
   "id": "0d85bd9d",
   "metadata": {},
   "outputs": [
    {
     "data": {
      "text/plain": [
       "112716"
      ]
     },
     "execution_count": 9,
     "metadata": {},
     "output_type": "execute_result"
    }
   ],
   "source": [
    "len(typed_df)"
   ]
  },
  {
   "cell_type": "code",
   "execution_count": 8,
   "id": "95878cf1",
   "metadata": {},
   "outputs": [],
   "source": [
    "converter = LabelConverter(MyDataset.CHARS)"
   ]
  },
  {
   "cell_type": "code",
   "execution_count": 9,
   "id": "9e27c1de",
   "metadata": {},
   "outputs": [],
   "source": [
    "from sklearn.model_selection import train_test_split\n",
    "train_df, val_df = train_test_split(typed_df, test_size=0.2, random_state=42, shuffle=True)\n"
   ]
  },
  {
   "cell_type": "code",
   "execution_count": 10,
   "id": "38f8c54e",
   "metadata": {},
   "outputs": [],
   "source": [
    "img_width = 1000\n",
    "img_height = 100\n",
    "data_dir =  '/home/admin/Gabby/Amharic OCR/HandWritten_Amharic_English_OCR/raw_data/Amharic_Data/train'"
   ]
  },
  {
   "cell_type": "code",
   "execution_count": 11,
   "id": "5e3198ce",
   "metadata": {},
   "outputs": [],
   "source": [
    "train_dataset =MyDataset(root_dir=data_dir, mode='train',\n",
    "                                    df=train_df, img_height=img_height, img_width=img_width)\n",
    "valid_dataset = MyDataset(root_dir=data_dir, mode='valid',\n",
    "                                    df=val_df, img_height=img_height, img_width=img_width)\n",
    "train_loader = torch.utils.data.DataLoader(\n",
    "    train_dataset,\n",
    "    batch_size=64,\n",
    "    shuffle=True,\n",
    "    num_workers=4,\n",
    "    collate_fn=my_collate_fn,\n",
    ")\n",
    "valid_loader = torch.utils.data.DataLoader(\n",
    "    valid_dataset,\n",
    "    batch_size=64,\n",
    "    shuffle=False,\n",
    "    num_workers=4,\n",
    "    collate_fn=my_collate_fn,\n",
    ")"
   ]
  },
  {
   "cell_type": "code",
   "execution_count": 12,
   "id": "68ee2c46",
   "metadata": {},
   "outputs": [
    {
     "data": {
      "text/plain": [
       "<matplotlib.image.AxesImage at 0x7f3cf499ea90>"
      ]
     },
     "execution_count": 12,
     "metadata": {},
     "output_type": "execute_result"
    },
    {
     "data": {
      "image/png": "[encoded data removed]",
      "text/plain": [
       "<Figure size 640x480 with 1 Axes>"
      ]
     },
     "metadata": {},
     "output_type": "display_data"
    }
   ],
   "source": [
    "import matplotlib.pyplot as plt\n",
    "image = train_dataset.__getitem__(0)[0]\n",
    "image = image.squeeze(0).numpy()\n",
    "\n",
    "\n",
    "plt.imshow(image, cmap='gray')\n"
   ]
  },
  {
   "cell_type": "code",
   "execution_count": 13,
   "id": "7cdbc712",
   "metadata": {},
   "outputs": [
    {
     "name": "stdout",
     "output_type": "stream",
     "text": [
      "Image 0 shape: torch.Size([1, 100, 1000])\n",
      "Target indices: [137, 241, 70, 5, 5, 255, 95, 75, 113, 5, 5, 235, 87, 158, 5, 5, 280, 245, 5, 229, 115, 296, 5, 5, 227, 183, 5, 90, 237, 204, 77, 5, 5, 255, 71, 180, 229, 5, 5, 255, 210, 78, 193, 5, 5, 131, 263, 115, 5, 5, 89, 207, 200, 77, 5, 5, 141, 153, 209, 107, 115, 155, 258, 185, 185, 5, 5, 299, 92, 108, 5, 5, 137, 137, 107, 74, 185, 5, 5, 350, 5, 137, 65, 92, 138, 107, 284, 5, 5, 350, 5, 137, 207, 115, 77, 5, 5, 350, 5, 4, 3]\n",
      "Decoded text: ['በዚህ  የሠላሳ  ዓመት  ጉዞ ውስጥ  ዋና ማዕከል  የሆነው  የኮሎኝ  ቅዱስ  ሚካኤል  ቤተክርስቲያንን  ጨምሮ  በበርሊን  ፣ በሀምቡርግ  ፣ በካስል  ፣ \\r\\n']\n"
     ]
    },
    {
     "data": {
      "image/png": "[encoded data removed]",
      "text/plain": [
       "<Figure size 640x480 with 1 Axes>"
      ]
     },
     "metadata": {},
     "output_type": "display_data"
    }
   ],
   "source": [
    "for images, targets, target_lengths in train_loader:\n",
    "    \n",
    "    batch_size = images.size(0)\n",
    "    \n",
    "    # Split targets back using target_lengths\n",
    "    split_targets = torch.split(targets, target_lengths.tolist())\n",
    "\n",
    "    for i in range(batch_size):\n",
    "        img = images[i]\n",
    "        target_tensor = split_targets[i]  # 1D tensor of label indices for this sample\n",
    "        plt.imshow(img.squeeze(0).numpy(), cmap='gray')\n",
    "        print(f\"Image {i} shape: {img.shape}\")\n",
    "        print(f\"Target indices: {target_tensor.tolist()}\")\n",
    "        \n",
    "        # Optionally decode target_tensor using your label converter\n",
    "        decoded_text = converter.decode_indices([target_tensor], raw=False)\n",
    "        print(f\"Decoded text: {decoded_text}\")\n",
    "        \n",
    "        break  # remove or modify to check more\n",
    "    break"
   ]
  },
  {
   "cell_type": "code",
   "execution_count": null,
   "id": "d4189ca8",
   "metadata": {},
   "outputs": [],
   "source": []
  },
  {
   "cell_type": "markdown",
   "id": "48273a29",
   "metadata": {},
   "source": [
    "### Modeling"
   ]
  },
  {
   "cell_type": "code",
   "execution_count": 14,
   "id": "912015f1",
   "metadata": {},
   "outputs": [],
   "source": [
    "import torch\n",
    "import torch.nn as nn\n",
    "import torch.nn.functional as F\n",
    "\n",
    "\n",
    "class CRNN(nn.Module):\n",
    "    def __init__(self, num_classes: int, hidden_size: int = 256):\n",
    "        super().__init__()\n",
    "        self.cnn = nn.Sequential(\n",
    "            nn.Conv2d(1, 64, 3, 1, 1), nn.ReLU(True), nn.MaxPool2d(2, 2),\n",
    "            nn.Conv2d(64, 128, 3, 1, 1), nn.ReLU(True), nn.MaxPool2d(2, 2),\n",
    "            nn.Conv2d(128, 256, 3, 1, 1), nn.BatchNorm2d(256), nn.ReLU(True),\n",
    "            nn.Conv2d(256, 256, 3, 1, 1), nn.ReLU(True), nn.MaxPool2d((2, 1), (2, 1)),\n",
    "            nn.Conv2d(256, 512, 3, 1, 1), nn.BatchNorm2d(512), nn.ReLU(True),\n",
    "            nn.MaxPool2d((2, 1), (2, 1)),\n",
    "            nn.Conv2d(512, 512, 3, 1, 1), nn.ReLU(True),\n",
    "            nn.AdaptiveAvgPool2d((1, None)),\n",
    "        )\n",
    "        self.map_to_seq = nn.Linear(512, hidden_size)\n",
    "        self.rnn = nn.LSTM(hidden_size, hidden_size, bidirectional=True, batch_first=True)\n",
    "        self.classifier = nn.Linear(hidden_size * 2, num_classes)\n",
    "\n",
    "    def forward(self, x: torch.Tensor) -> torch.Tensor:\n",
    "        \"\"\"Forward pass.\n",
    "        Accepts (B,1,80,W) and outputs CTC‑ready log‑probs (T, B, C).\n",
    "        We **average over the height dimension** instead of squeezing so we\n",
    "        never hit a dim‑mismatch even if `AdaptiveAvgPool2d` leaves H>1 on\n",
    "        some PyTorch builds.\n",
    "        \"\"\"\n",
    "        feats = self.cnn(x)              # (B, 512, H', W')\n",
    "        feats = feats.mean(2)            # collapse H' → (B, 512, W')\n",
    "        feats = feats.permute(0, 2, 1)   # (B, W', 512)\n",
    "        seq, _ = self.rnn(self.map_to_seq(feats))\n",
    "        logits = self.classifier(seq)    # (B, W', C)\n",
    "        log_probs = F.log_softmax(logits, dim=-1)  # (B,W',C)\n",
    "        return log_probs.permute(1, 0, 2)  "
   ]
  },
  {
   "cell_type": "code",
   "execution_count": 15,
   "id": "a2745003",
   "metadata": {},
   "outputs": [],
   "source": [
    "device = torch.device(\"cuda\" if torch.cuda.is_available() else \"cpu\")"
   ]
  },
  {
   "cell_type": "code",
   "execution_count": 16,
   "id": "546d82a0",
   "metadata": {},
   "outputs": [],
   "source": [
    "model = CRNN(len(MyDataset.CHARS)+1).to(device)\n"
   ]
  },
  {
   "cell_type": "code",
   "execution_count": 17,
   "id": "f56a6883",
   "metadata": {},
   "outputs": [],
   "source": [
    "criterion = nn.CTCLoss(blank=0, zero_infinity=True)\n",
    "optimizer = torch.optim.AdamW(model.parameters(), lr=3e-4)"
   ]
  },
  {
   "cell_type": "code",
   "execution_count": 18,
   "id": "96fa3dc1",
   "metadata": {},
   "outputs": [],
   "source": [
    "def _levenshtein(a: str, b: str) -> int:\n",
    "    if a == b:\n",
    "        return 0\n",
    "    if len(a) < len(b):\n",
    "        a, b = b, a\n",
    "    prev = list(range(len(b) + 1))\n",
    "    for i, ca in enumerate(a, 1):\n",
    "        cur = [i]\n",
    "        for j, cb in enumerate(b, 1):\n",
    "            cur.append(min(prev[j]+1,      # deletion\n",
    "                            cur[-1]+1,     # insertion\n",
    "                            prev[j-1] + (ca != cb)))  # substitution\n",
    "        prev = cur\n",
    "    return prev[-1]\n",
    "\n",
    "\n",
    "def _update_char_counts(pred: str, gt: str):\n",
    "    dist = _levenshtein(pred, gt)\n",
    "    tp = len(gt) - dist  # correct chars = ground truth − edit distance\n",
    "    return tp, len(pred), len(gt)\n",
    "\n",
    "def _split_targets(targets: torch.Tensor, lengths: torch.Tensor) -> List[List[int]]:\n",
    "    out, ptr = [], 0\n",
    "    for l in lengths:\n",
    "        out.append(targets[ptr:ptr+l].tolist())\n",
    "        ptr += l\n",
    "    return out"
   ]
  },
  {
   "cell_type": "code",
   "execution_count": 19,
   "id": "8a4ae7d7",
   "metadata": {},
   "outputs": [],
   "source": [
    "import json\n",
    "from tqdm.auto import tqdm\n",
    "from collections import Counter\n",
    "\n",
    "def run_epoch(model, loader, crit, opt, device, conv, *, train=True,\n",
    "              save_samples: bool=False, sample_count: int=20,\n",
    "              log_dir: str=\"logs\", epoch_idx: int=0,\n",
    "              best_cer: float=float(\"inf\")) -> Tuple[dict, float]:\n",
    "    os.makedirs(log_dir, exist_ok=True)\n",
    "    model.train() if train else model.eval()\n",
    "    name = \"train\" if train else \"val\"\n",
    "    bar = tqdm(loader, desc=f\"[{name}]\", leave=False)\n",
    "\n",
    "    tot_loss = tot_ed = tot_wed = 0\n",
    "    tp_char = pred_tot = gt_tot = 0\n",
    "    tp_word = 0\n",
    "    samples = []\n",
    "    tp_word = fp_word = fn_word = 0  \n",
    "    for imgs, tgt, tlen in bar:\n",
    "        imgs, tgt, tlen = imgs.to(device), tgt.to(device), tlen.to(device)\n",
    "        with torch.set_grad_enabled(train):\n",
    "            logp = model(imgs)\n",
    "            in_len = torch.full((imgs.size(0),), logp.size(0), dtype=torch.long, device=device)\n",
    "            loss = crit(logp, tgt, in_len, tlen)\n",
    "            if train:\n",
    "                opt.zero_grad(set_to_none=True); loss.backward(); opt.step()\n",
    "        # metrics\n",
    "        gts  = conv.decode_indices(_split_targets(tgt.cpu(), tlen.cpu()), remove_repeats=False)\n",
    "        gts = [list(map(int, g.split())) for g in gts]\n",
    "        gts = conv.decode_indices(gts, raw=False)\n",
    "        \n",
    "     \n",
    "        preds= conv.decode(logp.detach().cpu())\n",
    "        for p, g in zip(preds, gts):\n",
    "            if save_samples and len(samples) < sample_count:\n",
    "                samples.append({\"gt\": g, \"pred\": p})\n",
    "\n",
    "            # Levenshtein for CER and WER\n",
    "            ed = _levenshtein(p, g)\n",
    "            tot_ed += ed\n",
    "            tot_wed += _levenshtein(p.split(), g.split())\n",
    "\n",
    "            # Char-level stats\n",
    "            tp_char += len(g) - ed\n",
    "            pred_tot += len(p)\n",
    "            gt_tot += len(g)\n",
    "\n",
    "            # Word-level stats\n",
    "            p_words = p.split()\n",
    "            g_words = g.split()\n",
    "            p_counter = Counter(p_words)\n",
    "            g_counter = Counter(g_words)\n",
    "\n",
    "            for word in p_counter:\n",
    "                tp_word += min(p_counter[word], g_counter.get(word, 0))\n",
    "                fp_word += max(0, p_counter[word] - g_counter.get(word, 0))\n",
    "            for word in g_counter:\n",
    "                fn_word += max(0, g_counter[word] - p_counter.get(word, 0))\n",
    "\n",
    "            tot_loss += loss.item()\n",
    "            bar.set_postfix(loss=loss.item())\n",
    "\n",
    "    cer = tot_ed/max(1,gt_tot)\n",
    "    wer = tot_wed/max(1,gt_tot)\n",
    "    prec = tp_char/pred_tot if pred_tot else 0; rec = tp_char/gt_tot if gt_tot else 0\n",
    "    f1c = 2*prec*rec/(prec+rec) if prec+rec else 0\n",
    "    word_prec = tp_word / (tp_word + fp_word + 1e-8)\n",
    "    word_rec = tp_word / (tp_word + fn_word + 1e-8)\n",
    "    f1w = 2 * word_prec * word_rec / (word_prec + word_rec + 1e-8)\n",
    "    stats = dict(loss=tot_loss/len(loader), CER=cer, WER=wer, F1_char=f1c, F1_word=f1w)\n",
    "\n",
    "    # ── save sample predictions\n",
    "    if save_samples:\n",
    "        samp_path = os.path.join(log_dir, f\"samples_epoch{epoch_idx}.json\")\n",
    "        with open(samp_path, \"w\", encoding=\"utf8\") as f:\n",
    "            json.dump(samples, f, ensure_ascii=False, indent=2)\n",
    "\n",
    "    # ── checkpoint best CER\n",
    "    if not train and cer < best_cer:\n",
    "        ckpt = {\n",
    "            \"epoch\": epoch_idx,\n",
    "            \"model\": model.state_dict(),\n",
    "            \"optimizer\": opt.state_dict(),\n",
    "            \"CER\": cer,\n",
    "        }\n",
    "        torch.save(ckpt, os.path.join(log_dir, \"best_cer.pt\"))\n",
    "        best_cer = cer\n",
    "\n",
    "    return stats, best_cer"
   ]
  },
  {
   "cell_type": "code",
   "execution_count": 20,
   "id": "74921d0a",
   "metadata": {},
   "outputs": [
    {
     "name": "stderr",
     "output_type": "stream",
     "text": [
      "\u001b[34m\u001b[1mwandb\u001b[0m: Using wandb-core as the SDK backend.  Please refer to https://wandb.me/wandb-core for more information.\n",
      "\u001b[34m\u001b[1mwandb\u001b[0m: \u001b[33mWARNING\u001b[0m If you're specifying your api key in code, ensure this code is not shared publicly.\n",
      "\u001b[34m\u001b[1mwandb\u001b[0m: \u001b[33mWARNING\u001b[0m Consider setting the WANDB_API_KEY environment variable, or running `wandb login` from the command line.\n",
      "\u001b[34m\u001b[1mwandb\u001b[0m: Appending key for api.wandb.ai to your netrc file: /home/admin/.netrc\n",
      "\u001b[34m\u001b[1mwandb\u001b[0m: Currently logged in as: \u001b[33mgzenchaa\u001b[0m to \u001b[32mhttps://api.wandb.ai\u001b[0m. Use \u001b[1m`wandb login --relogin`\u001b[0m to force relogin\n"
     ]
    },
    {
     "data": {
      "text/plain": [
       "True"
      ]
     },
     "execution_count": 20,
     "metadata": {},
     "output_type": "execute_result"
    }
   ],
   "source": [
    "import wandb\n",
    "\n",
    "# This prompts you to enter your API key the first time\n",
    "wandb.login(key=\"7a2297338ed4c184a8cf1c11b29bd7f0f010f9e3\")"
   ]
  },
  {
   "cell_type": "code",
   "execution_count": null,
   "id": "3323bd7e",
   "metadata": {},
   "outputs": [
    {
     "data": {
      "text/html": [
       "Tracking run with wandb version 0.19.9"
      ],
      "text/plain": [
       "<IPython.core.display.HTML object>"
      ]
     },
     "metadata": {},
     "output_type": "display_data"
    },
    {
     "data": {
      "text/html": [
       "Run data is saved locally in <code>/home/admin/Gabby/Amharic OCR/HandWritten_Amharic_English_OCR/CRNN/wandb/run-20250509_132542-artzx3hw</code>"
      ],
      "text/plain": [
       "<IPython.core.display.HTML object>"
      ]
     },
     "metadata": {},
     "output_type": "display_data"
    },
    {
     "data": {
      "text/html": [
       "Syncing run <strong><a href='https://wandb.ai/gzenchaa/Amharic%20OCR/runs/artzx3hw' target=\"_blank\">crnn_typed</a></strong> to <a href='https://wandb.ai/gzenchaa/Amharic%20OCR' target=\"_blank\">Weights & Biases</a> (<a href='https://wandb.me/developer-guide' target=\"_blank\">docs</a>)<br>"
      ],
      "text/plain": [
       "<IPython.core.display.HTML object>"
      ]
     },
     "metadata": {},
     "output_type": "display_data"
    },
    {
     "data": {
      "text/html": [
       " View project at <a href='https://wandb.ai/gzenchaa/Amharic%20OCR' target=\"_blank\">https://wandb.ai/gzenchaa/Amharic%20OCR</a>"
      ],
      "text/plain": [
       "<IPython.core.display.HTML object>"
      ]
     },
     "metadata": {},
     "output_type": "display_data"
    },
    {
     "data": {
      "text/html": [
       " View run at <a href='https://wandb.ai/gzenchaa/Amharic%20OCR/runs/artzx3hw' target=\"_blank\">https://wandb.ai/gzenchaa/Amharic%20OCR/runs/artzx3hw</a>"
      ],
      "text/plain": [
       "<IPython.core.display.HTML object>"
      ]
     },
     "metadata": {},
     "output_type": "display_data"
    },
    {
     "data": {
      "text/html": [
       "<button onClick=\"this.nextSibling.style.display='block';this.style.display='none';\">Display W&B run</button><iframe src='https://wandb.ai/gzenchaa/Amharic%20OCR/runs/artzx3hw?jupyter=true' style='border:none;width:100%;height:420px;display:none;'></iframe>"
      ],
      "text/plain": [
       "<wandb.sdk.wandb_run.Run at 0x7f3bc440e430>"
      ]
     },
     "execution_count": 21,
     "metadata": {},
     "output_type": "execute_result"
    }
   ],
   "source": [
    "model_name = \"crnn_typed\"\n",
    "wandb.init(project=\"Amharic OCR\", name=model_name)"
   ]
  },
  {
   "cell_type": "code",
   "execution_count": null,
   "id": "1d536df9",
   "metadata": {},
   "outputs": [
    {
     "name": "stdout",
     "output_type": "stream",
     "text": [
      "\n",
      "Epoch 1/50\n"
     ]
    },
    {
     "data": {
      "application/vnd.jupyter.widget-view+json": {
       "model_id": "52d2d6f084624cff823aba1a63e92c6b",
       "version_major": 2,
       "version_minor": 0
      },
      "text/plain": [
       "[train]:   0%|          | 0/281 [00:00<?, ?it/s]"
      ]
     },
     "metadata": {},
     "output_type": "display_data"
    },
    {
     "data": {
      "application/vnd.jupyter.widget-view+json": {
       "model_id": "77d0542198c5458e957a4a7384feaedc",
       "version_major": 2,
       "version_minor": 0
      },
      "text/plain": [
       "[val]:   0%|          | 0/71 [00:00<?, ?it/s]"
      ]
     },
     "metadata": {},
     "output_type": "display_data"
    },
    {
     "name": "stdout",
     "output_type": "stream",
     "text": [
      "train: {'loss': 273.95609938122624, 'CER': 1.005873991225904, 'WER': 0.17611977420358688, 'F1_char': -0.01163719351726276, 'F1_word': 0.0}\n",
      "val  : {'loss': 248.70973867765613, 'CER': 1.0, 'WER': 0.17576130333414386, 'F1_char': 0, 'F1_word': 0.0}\n",
      "\n",
      "Epoch 2/50\n"
     ]
    },
    {
     "data": {
      "application/vnd.jupyter.widget-view+json": {
       "model_id": "a7827929562c47b79a3c2ab88b83e213",
       "version_major": 2,
       "version_minor": 0
      },
      "text/plain": [
       "[train]:   0%|          | 0/281 [00:00<?, ?it/s]"
      ]
     },
     "metadata": {},
     "output_type": "display_data"
    },
    {
     "name": "stderr",
     "output_type": "stream",
     "text": [
      "Exception ignored in:     <function _MultiProcessingDataLoaderIter.__del__ at 0x7f3cbfe270d0>\n",
      "Traceback (most recent call last):\n",
      "  File \"/home/admin/anaconda3/envs/pytorch-idl/lib/python3.9/site-packages/torch/utils/data/dataloader.py\", line 1618, in __del__\n",
      "self._shutdown_workers()\n",
      "  File \"/home/admin/anaconda3/envs/pytorch-idl/lib/python3.9/site-packages/torch/utils/data/dataloader.py\", line 1601, in _shutdown_workers\n",
      "    if w.is_alive():\n",
      "  File \"/home/admin/anaconda3/envs/pytorch-idl/lib/python3.9/multiprocessing/process.py\", line 160, in is_alive\n",
      "    assert self._parent_pid == os.getpid(), 'can only test a child process'\n",
      "AssertionError: can only test a child process\n",
      "Exception ignored in: <function _MultiProcessingDataLoaderIter.__del__ at 0x7f3cbfe270d0>\n",
      "Traceback (most recent call last):\n",
      "  File \"/home/admin/anaconda3/envs/pytorch-idl/lib/python3.9/site-packages/torch/utils/data/dataloader.py\", line 1618, in __del__\n",
      "    self._shutdown_workers()\n",
      "  File \"/home/admin/anaconda3/envs/pytorch-idl/lib/python3.9/site-packages/torch/utils/data/dataloader.py\", line 1601, in _shutdown_workers\n",
      "    if w.is_alive():\n",
      "  File \"/home/admin/anaconda3/envs/pytorch-idl/lib/python3.9/multiprocessing/process.py\", line 160, in is_alive\n",
      "    assert self._parent_pid == os.getpid(), 'can only test a child process'\n",
      "AssertionError: can only test a child process\n",
      "Exception ignored in: self._shutdown_workers()<function _MultiProcessingDataLoaderIter.__del__ at 0x7f3cbfe270d0>\n",
      "Traceback (most recent call last):\n",
      "  File \"/home/admin/anaconda3/envs/pytorch-idl/lib/python3.9/site-packages/torch/utils/data/dataloader.py\", line 1618, in __del__\n",
      "    \n",
      "  File \"/home/admin/anaconda3/envs/pytorch-idl/lib/python3.9/site-packages/torch/utils/data/dataloader.py\", line 1601, in _shutdown_workers\n",
      "    if w.is_alive():\n",
      "  File \"/home/admin/anaconda3/envs/pytorch-idl/lib/python3.9/multiprocessing/process.py\", line 160, in is_alive\n",
      "    assert self._parent_pid == os.getpid(), 'can only test a child process'\n",
      "AssertionError: can only test a child process\n",
      "Exception ignored in: <function _MultiProcessingDataLoaderIter.__del__ at 0x7f3cbfe270d0>\n",
      "Traceback (most recent call last):\n",
      "  File \"/home/admin/anaconda3/envs/pytorch-idl/lib/python3.9/site-packages/torch/utils/data/dataloader.py\", line 1618, in __del__\n",
      "    self._shutdown_workers()\n",
      "  File \"/home/admin/anaconda3/envs/pytorch-idl/lib/python3.9/site-packages/torch/utils/data/dataloader.py\", line 1601, in _shutdown_workers\n",
      "    if w.is_alive():\n",
      "  File \"/home/admin/anaconda3/envs/pytorch-idl/lib/python3.9/multiprocessing/process.py\", line 160, in is_alive\n",
      "    assert self._parent_pid == os.getpid(), 'can only test a child process'\n",
      "AssertionError: can only test a child process\n"
     ]
    },
    {
     "data": {
      "application/vnd.jupyter.widget-view+json": {
       "model_id": "4abc181e02414c168952f06d1bd0e7ac",
       "version_major": 2,
       "version_minor": 0
      },
      "text/plain": [
       "[val]:   0%|          | 0/71 [00:00<?, ?it/s]"
      ]
     },
     "metadata": {},
     "output_type": "display_data"
    },
    {
     "name": "stderr",
     "output_type": "stream",
     "text": [
      "Exception ignored in: <function _MultiProcessingDataLoaderIter.__del__ at 0x7f3cbfe270d0>\n",
      "Traceback (most recent call last):\n",
      "  File \"/home/admin/anaconda3/envs/pytorch-idl/lib/python3.9/site-packages/torch/utils/data/dataloader.py\", line 1618, in __del__\n",
      "    self._shutdown_workers()\n",
      "  File \"/home/admin/anaconda3/envs/pytorch-idl/lib/python3.9/site-packages/torch/utils/data/dataloader.py\", line 1601, in _shutdown_workers\n",
      "    if w.is_alive():\n",
      "  File \"/home/admin/anaconda3/envs/pytorch-idl/lib/python3.9/multiprocessing/process.py\", line 160, in is_alive\n",
      "    assert self._parent_pid == os.getpid(), 'can only test a child process'\n",
      "AssertionError: can only test a child process\n",
      "Exception ignored in: <function _MultiProcessingDataLoaderIter.__del__ at 0x7f3cbfe270d0>\n",
      "Traceback (most recent call last):\n",
      "  File \"/home/admin/anaconda3/envs/pytorch-idl/lib/python3.9/site-packages/torch/utils/data/dataloader.py\", line 1618, in __del__\n",
      "    self._shutdown_workers()\n",
      "  File \"/home/admin/anaconda3/envs/pytorch-idl/lib/python3.9/site-packages/torch/utils/data/dataloader.py\", line 1601, in _shutdown_workers\n",
      "    if w.is_alive():\n",
      "  File \"/home/admin/anaconda3/envs/pytorch-idl/lib/python3.9/multiprocessing/process.py\", line 160, in is_alive\n",
      "    assert self._parent_pid == os.getpid(), 'can only test a child process'\n",
      "AssertionError: can only test a child process\n",
      "Exception ignored in: <function _MultiProcessingDataLoaderIter.__del__ at 0x7f3cbfe270d0>\n",
      "Traceback (most recent call last):\n",
      "  File \"/home/admin/anaconda3/envs/pytorch-idl/lib/python3.9/site-packages/torch/utils/data/dataloader.py\", line 1618, in __del__\n",
      "    self._shutdown_workers()\n",
      "  File \"/home/admin/anaconda3/envs/pytorch-idl/lib/python3.9/site-packages/torch/utils/data/dataloader.py\", line 1601, in _shutdown_workers\n",
      "    if w.is_alive():\n",
      "  File \"/home/admin/anaconda3/envs/pytorch-idl/lib/python3.9/multiprocessing/process.py\", line 160, in is_alive\n",
      "    assert self._parent_pid == os.getpid(), 'can only test a child process'\n",
      "AssertionError: can only test a child process\n",
      "Exception ignored in: <function _MultiProcessingDataLoaderIter.__del__ at 0x7f3cbfe270d0>\n",
      "Traceback (most recent call last):\n",
      "  File \"/home/admin/anaconda3/envs/pytorch-idl/lib/python3.9/site-packages/torch/utils/data/dataloader.py\", line 1618, in __del__\n",
      "    self._shutdown_workers()\n",
      "  File \"/home/admin/anaconda3/envs/pytorch-idl/lib/python3.9/site-packages/torch/utils/data/dataloader.py\", line 1601, in _shutdown_workers\n",
      "    if w.is_alive():\n",
      "  File \"/home/admin/anaconda3/envs/pytorch-idl/lib/python3.9/multiprocessing/process.py\", line 160, in is_alive\n",
      "    assert self._parent_pid == os.getpid(), 'can only test a child process'\n",
      "AssertionError: can only test a child process\n",
      "Exception ignored in: <function _MultiProcessingDataLoaderIter.__del__ at 0x7f3cbfe270d0>\n",
      "Traceback (most recent call last):\n",
      "  File \"/home/admin/anaconda3/envs/pytorch-idl/lib/python3.9/site-packages/torch/utils/data/dataloader.py\", line 1618, in __del__\n",
      "    self._shutdown_workers()\n",
      "  File \"/home/admin/anaconda3/envs/pytorch-idl/lib/python3.9/site-packages/torch/utils/data/dataloader.py\", line 1601, in _shutdown_workers\n",
      "    if w.is_alive():\n",
      "  File \"/home/admin/anaconda3/envs/pytorch-idl/lib/python3.9/multiprocessing/process.py\", line 160, in is_alive\n",
      "    assert self._parent_pid == os.getpid(), 'can only test a child process'\n",
      "AssertionError: can only test a child process\n",
      "Exception ignored in: <function _MultiProcessingDataLoaderIter.__del__ at 0x7f3cbfe270d0>\n",
      "Traceback (most recent call last):\n",
      "  File \"/home/admin/anaconda3/envs/pytorch-idl/lib/python3.9/site-packages/torch/utils/data/dataloader.py\", line 1618, in __del__\n",
      "    self._shutdown_workers()\n",
      "  File \"/home/admin/anaconda3/envs/pytorch-idl/lib/python3.9/site-packages/torch/utils/data/dataloader.py\", line 1601, in _shutdown_workers\n",
      "    if w.is_alive():\n",
      "  File \"/home/admin/anaconda3/envs/pytorch-idl/lib/python3.9/multiprocessing/process.py\", line 160, in is_alive\n",
      "    assert self._parent_pid == os.getpid(), 'can only test a child process'\n",
      "AssertionError: can only test a child process\n"
     ]
    },
    {
     "name": "stdout",
     "output_type": "stream",
     "text": [
      "train: {'loss': 191.62042347137614, 'CER': 0.7089381416124558, 'WER': 0.17563840681078335, 'F1_char': 0.37080354273169963, 'F1_word': 0.006240550196174407}\n",
      "val  : {'loss': 129.8602733746381, 'CER': 0.5705376682448186, 'WER': 0.17196849417609505, 'F1_char': 0.4117267268125175, 'F1_word': 0.02726809599558937}\n",
      "\n",
      "Epoch 3/50\n"
     ]
    },
    {
     "data": {
      "application/vnd.jupyter.widget-view+json": {
       "model_id": "a5d52b63e79f45e2858ee40940fe764c",
       "version_major": 2,
       "version_minor": 0
      },
      "text/plain": [
       "[train]:   0%|          | 0/281 [00:00<?, ?it/s]"
      ]
     },
     "metadata": {},
     "output_type": "display_data"
    },
    {
     "data": {
      "application/vnd.jupyter.widget-view+json": {
       "model_id": "6afde676b2f54988b07a12fe08472cae",
       "version_major": 2,
       "version_minor": 0
      },
      "text/plain": [
       "[val]:   0%|          | 0/71 [00:00<?, ?it/s]"
      ]
     },
     "metadata": {},
     "output_type": "display_data"
    },
    {
     "name": "stdout",
     "output_type": "stream",
     "text": [
      "train: {'loss': 72.5320204644865, 'CER': 0.3052018024204033, 'WER': 0.12484611416320913, 'F1_char': 0.6746215177305825, 'F1_word': 0.30453355886027134}\n",
      "val  : {'loss': 49.73885400866119, 'CER': 0.21295276510329506, 'WER': 0.09217885085749432, 'F1_char': 0.7669456237041855, 'F1_word': 0.49130455277902263}\n",
      "\n",
      "Epoch 4/50\n"
     ]
    },
    {
     "data": {
      "application/vnd.jupyter.widget-view+json": {
       "model_id": "259556b8dd26487b8fbd26466ed300ed",
       "version_major": 2,
       "version_minor": 0
      },
      "text/plain": [
       "[train]:   0%|          | 0/281 [00:00<?, ?it/s]"
      ]
     },
     "metadata": {},
     "output_type": "display_data"
    },
    {
     "data": {
      "application/vnd.jupyter.widget-view+json": {
       "model_id": "b5895d0802d145858ce87cf7b32616a3",
       "version_major": 2,
       "version_minor": 0
      },
      "text/plain": [
       "[val]:   0%|          | 0/71 [00:00<?, ?it/s]"
      ]
     },
     "metadata": {},
     "output_type": "display_data"
    },
    {
     "name": "stdout",
     "output_type": "stream",
     "text": [
      "train: {'loss': 36.14057366703753, 'CER': 0.16627762581747668, 'WER': 0.06556116787226687, 'F1_char': 0.8007726674600988, 'F1_word': 0.6400755990481455}\n",
      "val  : {'loss': 32.00975097233141, 'CER': 0.14839634021331274, 'WER': 0.05423883970077096, 'F1_char': 0.8152274498482983, 'F1_word': 0.7009613827779213}\n",
      "\n",
      "Epoch 5/50\n"
     ]
    },
    {
     "data": {
      "application/vnd.jupyter.widget-view+json": {
       "model_id": "93aed2d04c9d40d384d4ac4b22016eb3",
       "version_major": 2,
       "version_minor": 0
      },
      "text/plain": [
       "[train]:   0%|          | 0/281 [00:00<?, ?it/s]"
      ]
     },
     "metadata": {},
     "output_type": "display_data"
    },
    {
     "data": {
      "application/vnd.jupyter.widget-view+json": {
       "model_id": "47053771061242c6902ef26e821c6f42",
       "version_major": 2,
       "version_minor": 0
      },
      "text/plain": [
       "[val]:   0%|          | 0/71 [00:00<?, ?it/s]"
      ]
     },
     "metadata": {},
     "output_type": "display_data"
    },
    {
     "name": "stdout",
     "output_type": "stream",
     "text": [
      "train: {'loss': 27.643582553625954, 'CER': 0.13667977882090573, 'WER': 0.04822837163942786, 'F1_char': 0.8285347840809872, 'F1_word': 0.7357848354450389}\n",
      "val  : {'loss': 29.44407376017369, 'CER': 0.15563629081858882, 'WER': 0.0567181115576979, 'F1_char': 0.8020497793860399, 'F1_word': 0.6854002748493986}\n",
      "\n",
      "Epoch 6/50\n"
     ]
    },
    {
     "data": {
      "application/vnd.jupyter.widget-view+json": {
       "model_id": "28a8dd80195841cb8f218d4e120eecbd",
       "version_major": 2,
       "version_minor": 0
      },
      "text/plain": [
       "[train]:   0%|          | 0/281 [00:00<?, ?it/s]"
      ]
     },
     "metadata": {},
     "output_type": "display_data"
    },
    {
     "data": {
      "application/vnd.jupyter.widget-view+json": {
       "model_id": "b2a44891e8b740ec891fafc93700bd91",
       "version_major": 2,
       "version_minor": 0
      },
      "text/plain": [
       "[val]:   0%|          | 0/71 [00:00<?, ?it/s]"
      ]
     },
     "metadata": {},
     "output_type": "display_data"
    },
    {
     "name": "stdout",
     "output_type": "stream",
     "text": [
      "train: {'loss': 24.158858689230957, 'CER': 0.12815142425841752, 'WER': 0.044018638259842, 'F1_char': 0.8364575171793719, 'F1_word': 0.7588034027926647}\n",
      "val  : {'loss': 24.19657893164057, 'CER': 0.1309913749946362, 'WER': 0.04774267065257296, 'F1_char': 0.8300005123038303, 'F1_word': 0.7361579412633926}\n",
      "\n",
      "Epoch 7/50\n"
     ]
    },
    {
     "data": {
      "application/vnd.jupyter.widget-view+json": {
       "model_id": "1b477d6cff1f40be95f4cf3683d9b0fc",
       "version_major": 2,
       "version_minor": 0
      },
      "text/plain": [
       "[train]:   0%|          | 0/281 [00:00<?, ?it/s]"
      ]
     },
     "metadata": {},
     "output_type": "display_data"
    },
    {
     "data": {
      "application/vnd.jupyter.widget-view+json": {
       "model_id": "e60b7ef6867d477796efc69b4a37c430",
       "version_major": 2,
       "version_minor": 0
      },
      "text/plain": [
       "[val]:   0%|          | 0/71 [00:00<?, ?it/s]"
      ]
     },
     "metadata": {},
     "output_type": "display_data"
    },
    {
     "name": "stdout",
     "output_type": "stream",
     "text": [
      "train: {'loss': 22.520756046702004, 'CER': 0.1265198922546261, 'WER': 0.044668394987828965, 'F1_char': 0.8378496769161797, 'F1_word': 0.7550273181453807}\n",
      "val  : {'loss': 22.835011246338695, 'CER': 0.13544691259136354, 'WER': 0.05160222943753904, 'F1_char': 0.8235875215457041, 'F1_word': 0.7139118978361365}\n",
      "\n",
      "Epoch 8/50\n"
     ]
    },
    {
     "data": {
      "application/vnd.jupyter.widget-view+json": {
       "model_id": "aa4f99a68bc7433c946cf292bbaf80ac",
       "version_major": 2,
       "version_minor": 0
      },
      "text/plain": [
       "[train]:   0%|          | 0/281 [00:00<?, ?it/s]"
      ]
     },
     "metadata": {},
     "output_type": "display_data"
    },
    {
     "name": "stderr",
     "output_type": "stream",
     "text": [
      "Exception ignored in: <function _MultiProcessingDataLoaderIter.__del__ at 0x7f3cbfe270d0>\n",
      "Traceback (most recent call last):\n",
      "  File \"/home/admin/anaconda3/envs/pytorch-idl/lib/python3.9/site-packages/torch/utils/data/dataloader.py\", line 1618, in __del__\n",
      "    self._shutdown_workers()\n",
      "  File \"/home/admin/anaconda3/envs/pytorch-idl/lib/python3.9/site-packages/torch/utils/data/dataloader.py\", line 1601, in _shutdown_workers\n",
      "    if w.is_alive():\n",
      "  File \"/home/admin/anaconda3/envs/pytorch-idl/lib/python3.9/multiprocessing/process.py\", line 160, in is_alive\n",
      "    assert self._parent_pid == os.getpid(), 'can only test a child process'\n",
      "AssertionError: can only test a child process\n",
      "Exception ignored in: <function _MultiProcessingDataLoaderIter.__del__ at 0x7f3cbfe270d0>\n",
      "Traceback (most recent call last):\n",
      "  File \"/home/admin/anaconda3/envs/pytorch-idl/lib/python3.9/site-packages/torch/utils/data/dataloader.py\", line 1618, in __del__\n",
      "    self._shutdown_workers()\n",
      "  File \"/home/admin/anaconda3/envs/pytorch-idl/lib/python3.9/site-packages/torch/utils/data/dataloader.py\", line 1601, in _shutdown_workers\n",
      "    if w.is_alive():\n",
      "  File \"/home/admin/anaconda3/envs/pytorch-idl/lib/python3.9/multiprocessing/process.py\", line 160, in is_alive\n",
      "    assert self._parent_pid == os.getpid(), 'can only test a child process'\n",
      "AssertionError: can only test a child process\n",
      "Exception ignored in: <function _MultiProcessingDataLoaderIter.__del__ at 0x7f3cbfe270d0>\n",
      "Traceback (most recent call last):\n",
      "  File \"/home/admin/anaconda3/envs/pytorch-idl/lib/python3.9/site-packages/torch/utils/data/dataloader.py\", line 1618, in __del__\n",
      "    self._shutdown_workers()\n",
      "  File \"/home/admin/anaconda3/envs/pytorch-idl/lib/python3.9/site-packages/torch/utils/data/dataloader.py\", line 1601, in _shutdown_workers\n",
      "    if w.is_alive():\n",
      "  File \"/home/admin/anaconda3/envs/pytorch-idl/lib/python3.9/multiprocessing/process.py\", line 160, in is_alive\n",
      "    assert self._parent_pid == os.getpid(), 'can only test a child process'\n",
      "AssertionError: can only test a child process\n",
      "Exception ignored in: <function _MultiProcessingDataLoaderIter.__del__ at 0x7f3cbfe270d0>\n",
      "Traceback (most recent call last):\n",
      "  File \"/home/admin/anaconda3/envs/pytorch-idl/lib/python3.9/site-packages/torch/utils/data/dataloader.py\", line 1618, in __del__\n",
      "    self._shutdown_workers()\n",
      "  File \"/home/admin/anaconda3/envs/pytorch-idl/lib/python3.9/site-packages/torch/utils/data/dataloader.py\", line 1601, in _shutdown_workers\n",
      "    if w.is_alive():\n",
      "  File \"/home/admin/anaconda3/envs/pytorch-idl/lib/python3.9/multiprocessing/process.py\", line 160, in is_alive\n",
      "    assert self._parent_pid == os.getpid(), 'can only test a child process'\n",
      "AssertionError: can only test a child process\n",
      "Exception ignored in: <function _MultiProcessingDataLoaderIter.__del__ at 0x7f3cbfe270d0>\n",
      "Traceback (most recent call last):\n",
      "  File \"/home/admin/anaconda3/envs/pytorch-idl/lib/python3.9/site-packages/torch/utils/data/dataloader.py\", line 1618, in __del__\n",
      "    self._shutdown_workers()\n",
      "  File \"/home/admin/anaconda3/envs/pytorch-idl/lib/python3.9/site-packages/torch/utils/data/dataloader.py\", line 1601, in _shutdown_workers\n",
      "    if w.is_alive():\n",
      "  File \"/home/admin/anaconda3/envs/pytorch-idl/lib/python3.9/multiprocessing/process.py\", line 160, in is_alive\n",
      "    assert self._parent_pid == os.getpid(), 'can only test a child process'\n",
      "AssertionError: can only test a child process\n",
      "Exception ignored in: <function _MultiProcessingDataLoaderIter.__del__ at 0x7f3cbfe270d0>\n",
      "Traceback (most recent call last):\n",
      "  File \"/home/admin/anaconda3/envs/pytorch-idl/lib/python3.9/site-packages/torch/utils/data/dataloader.py\", line 1618, in __del__\n",
      "    self._shutdown_workers()\n",
      "  File \"/home/admin/anaconda3/envs/pytorch-idl/lib/python3.9/site-packages/torch/utils/data/dataloader.py\", line 1601, in _shutdown_workers\n",
      "    if w.is_alive():\n",
      "  File \"/home/admin/anaconda3/envs/pytorch-idl/lib/python3.9/multiprocessing/process.py\", line 160, in is_alive\n",
      "    assert self._parent_pid == os.getpid(), 'can only test a child process'\n",
      "AssertionError: can only test a child process\n",
      "Exception ignored in: <function _MultiProcessingDataLoaderIter.__del__ at 0x7f3cbfe270d0>\n",
      "Traceback (most recent call last):\n",
      "  File \"/home/admin/anaconda3/envs/pytorch-idl/lib/python3.9/site-packages/torch/utils/data/dataloader.py\", line 1618, in __del__\n",
      "    self._shutdown_workers()\n",
      "  File \"/home/admin/anaconda3/envs/pytorch-idl/lib/python3.9/site-packages/torch/utils/data/dataloader.py\", line 1601, in _shutdown_workers\n",
      "    if w.is_alive():\n",
      "  File \"/home/admin/anaconda3/envs/pytorch-idl/lib/python3.9/multiprocessing/process.py\", line 160, in is_alive\n",
      "    assert self._parent_pid == os.getpid(), 'can only test a child process'\n",
      "AssertionError: can only test a child process\n",
      "Exception ignored in: <function _MultiProcessingDataLoaderIter.__del__ at 0x7f3cbfe270d0>\n",
      "Traceback (most recent call last):\n",
      "  File \"/home/admin/anaconda3/envs/pytorch-idl/lib/python3.9/site-packages/torch/utils/data/dataloader.py\", line 1618, in __del__\n",
      "    self._shutdown_workers()\n",
      "  File \"/home/admin/anaconda3/envs/pytorch-idl/lib/python3.9/site-packages/torch/utils/data/dataloader.py\", line 1601, in _shutdown_workers\n",
      "    if w.is_alive():\n",
      "  File \"/home/admin/anaconda3/envs/pytorch-idl/lib/python3.9/multiprocessing/process.py\", line 160, in is_alive\n",
      "    assert self._parent_pid == os.getpid(), 'can only test a child process'\n",
      "AssertionError: can only test a child process\n",
      "Exception ignored in: <function _MultiProcessingDataLoaderIter.__del__ at 0x7f3cbfe270d0>\n",
      "Traceback (most recent call last):\n",
      "  File \"/home/admin/anaconda3/envs/pytorch-idl/lib/python3.9/site-packages/torch/utils/data/dataloader.py\", line 1618, in __del__\n",
      "    self._shutdown_workers()\n",
      "  File \"/home/admin/anaconda3/envs/pytorch-idl/lib/python3.9/site-packages/torch/utils/data/dataloader.py\", line 1601, in _shutdown_workers\n",
      "    if w.is_alive():\n",
      "  File \"/home/admin/anaconda3/envs/pytorch-idl/lib/python3.9/multiprocessing/process.py\", line 160, in is_alive\n",
      "    assert self._parent_pid == os.getpid(), 'can only test a child process'\n",
      "AssertionError: can only test a child process\n",
      "Exception ignored in: <function _MultiProcessingDataLoaderIter.__del__ at 0x7f3cbfe270d0>\n",
      "Traceback (most recent call last):\n",
      "  File \"/home/admin/anaconda3/envs/pytorch-idl/lib/python3.9/site-packages/torch/utils/data/dataloader.py\", line 1618, in __del__\n",
      "    self._shutdown_workers()\n",
      "  File \"/home/admin/anaconda3/envs/pytorch-idl/lib/python3.9/site-packages/torch/utils/data/dataloader.py\", line 1601, in _shutdown_workers\n",
      "    if w.is_alive():\n",
      "  File \"/home/admin/anaconda3/envs/pytorch-idl/lib/python3.9/multiprocessing/process.py\", line 160, in is_alive\n",
      "    assert self._parent_pid == os.getpid(), 'can only test a child process'\n",
      "AssertionError: can only test a child process\n",
      "Exception ignored in: <function _MultiProcessingDataLoaderIter.__del__ at 0x7f3cbfe270d0>\n",
      "Traceback (most recent call last):\n",
      "<function _MultiProcessingDataLoaderIter.__del__ at 0x7f3cbfe270d0>: self._shutdown_workers()\n",
      "  File \"/home/admin/anaconda3/envs/pytorch-idl/lib/python3.9/site-packages/torch/utils/data/dataloader.py\", line 1618, in __del__\n",
      "    self._shutdown_workers()\n",
      "  File \"/home/admin/anaconda3/envs/pytorch-idl/lib/python3.9/site-packages/torch/utils/data/dataloader.py\", line 1601, in _shutdown_workers\n",
      "    if w.is_alive():\n",
      "  File \"/home/admin/anaconda3/envs/pytorch-idl/lib/python3.9/multiprocessing/process.py\", line 160, in is_alive\n",
      "    assert self._parent_pid == os.getpid(), 'can only test a child process'\n",
      "AssertionError: can only test a child process\n",
      "Exception ignored in: \n",
      "Traceback (most recent call last):\n",
      "  File \"/home/admin/anaconda3/envs/pytorch-idl/lib/python3.9/site-packages/torch/utils/data/dataloader.py\", line 1618, in __del__\n",
      "    self._shutdown_workers()\n",
      "  File \"/home/admin/anaconda3/envs/pytorch-idl/lib/python3.9/site-packages/torch/utils/data/dataloader.py\", line 1601, in _shutdown_workers\n",
      "    if w.is_alive():\n",
      "  File \"/home/admin/anaconda3/envs/pytorch-idl/lib/python3.9/multiprocessing/process.py\", line 160, in is_alive\n",
      "    assert self._parent_pid == os.getpid(), 'can only test a child process'\n",
      "AssertionErrorcan only test a child process\n",
      "Exception ignored in: <function _MultiProcessingDataLoaderIter.__del__ at 0x7f3cbfe270d0>\n",
      "Traceback (most recent call last):\n",
      "  File \"/home/admin/anaconda3/envs/pytorch-idl/lib/python3.9/site-packages/torch/utils/data/dataloader.py\", line 1618, in __del__\n",
      "      File \"/home/admin/anaconda3/envs/pytorch-idl/lib/python3.9/site-packages/torch/utils/data/dataloader.py\", line 1601, in _shutdown_workers\n",
      "    if w.is_alive():\n",
      "  File \"/home/admin/anaconda3/envs/pytorch-idl/lib/python3.9/multiprocessing/process.py\", line 160, in is_alive\n",
      "    assert self._parent_pid == os.getpid(), 'can only test a child process'\n",
      "AssertionError: can only test a child process\n",
      "Exception ignored in: <function _MultiProcessingDataLoaderIter.__del__ at 0x7f3cbfe270d0>\n",
      "Traceback (most recent call last):\n",
      "  File \"/home/admin/anaconda3/envs/pytorch-idl/lib/python3.9/site-packages/torch/utils/data/dataloader.py\", line 1618, in __del__\n",
      "    self._shutdown_workers()\n",
      "  File \"/home/admin/anaconda3/envs/pytorch-idl/lib/python3.9/site-packages/torch/utils/data/dataloader.py\", line 1601, in _shutdown_workers\n",
      "    if w.is_alive():\n",
      "  File \"/home/admin/anaconda3/envs/pytorch-idl/lib/python3.9/multiprocessing/process.py\", line 160, in is_alive\n",
      "    assert self._parent_pid == os.getpid(), 'can only test a child process'\n",
      "AssertionError: can only test a child process\n",
      "Exception ignored in: <function _MultiProcessingDataLoaderIter.__del__ at 0x7f3cbfe270d0>\n",
      "Traceback (most recent call last):\n",
      "  File \"/home/admin/anaconda3/envs/pytorch-idl/lib/python3.9/site-packages/torch/utils/data/dataloader.py\", line 1618, in __del__\n",
      "    self._shutdown_workers()\n",
      "  File \"/home/admin/anaconda3/envs/pytorch-idl/lib/python3.9/site-packages/torch/utils/data/dataloader.py\", line 1601, in _shutdown_workers\n",
      "    if w.is_alive():\n",
      "  File \"/home/admin/anaconda3/envs/pytorch-idl/lib/python3.9/multiprocessing/process.py\", line 160, in is_alive\n",
      "    assert self._parent_pid == os.getpid(), 'can only test a child process'\n",
      "AssertionError: can only test a child process\n",
      "Exception ignored in: <function _MultiProcessingDataLoaderIter.__del__ at 0x7f3cbfe270d0>\n",
      "Traceback (most recent call last):\n",
      "  File \"/home/admin/anaconda3/envs/pytorch-idl/lib/python3.9/site-packages/torch/utils/data/dataloader.py\", line 1618, in __del__\n",
      "    self._shutdown_workers()\n",
      "  File \"/home/admin/anaconda3/envs/pytorch-idl/lib/python3.9/site-packages/torch/utils/data/dataloader.py\", line 1601, in _shutdown_workers\n",
      "    if w.is_alive():\n",
      "  File \"/home/admin/anaconda3/envs/pytorch-idl/lib/python3.9/multiprocessing/process.py\", line 160, in is_alive\n",
      "    assert self._parent_pid == os.getpid(), 'can only test a child process'\n",
      "AssertionError: can only test a child process\n",
      "Exception ignored in: <function _MultiProcessingDataLoaderIter.__del__ at 0x7f3cbfe270d0>\n",
      "Traceback (most recent call last):\n",
      "  File \"/home/admin/anaconda3/envs/pytorch-idl/lib/python3.9/site-packages/torch/utils/data/dataloader.py\", line 1618, in __del__\n",
      "    self._shutdown_workers()\n",
      "  File \"/home/admin/anaconda3/envs/pytorch-idl/lib/python3.9/site-packages/torch/utils/data/dataloader.py\", line 1601, in _shutdown_workers\n",
      "    if w.is_alive():\n",
      "  File \"/home/admin/anaconda3/envs/pytorch-idl/lib/python3.9/multiprocessing/process.py\", line 160, in is_alive\n",
      "    assert self._parent_pid == os.getpid(), 'can only test a child process'\n",
      "AssertionError: can only test a child process\n",
      "Exception ignored in: <function _MultiProcessingDataLoaderIter.__del__ at 0x7f3cbfe270d0>\n",
      "Traceback (most recent call last):\n",
      "  File \"/home/admin/anaconda3/envs/pytorch-idl/lib/python3.9/site-packages/torch/utils/data/dataloader.py\", line 1618, in __del__\n",
      "    self._shutdown_workers()\n",
      "  File \"/home/admin/anaconda3/envs/pytorch-idl/lib/python3.9/site-packages/torch/utils/data/dataloader.py\", line 1601, in _shutdown_workers\n",
      "    if w.is_alive():\n",
      "  File \"/home/admin/anaconda3/envs/pytorch-idl/lib/python3.9/multiprocessing/process.py\", line 160, in is_alive\n",
      "    assert self._parent_pid == os.getpid(), 'can only test a child process'\n",
      "AssertionError: can only test a child process\n",
      "Exception ignored in: <function _MultiProcessingDataLoaderIter.__del__ at 0x7f3cbfe270d0>\n",
      "Traceback (most recent call last):\n",
      "  File \"/home/admin/anaconda3/envs/pytorch-idl/lib/python3.9/site-packages/torch/utils/data/dataloader.py\", line 1618, in __del__\n",
      "    self._shutdown_workers()\n",
      "  File \"/home/admin/anaconda3/envs/pytorch-idl/lib/python3.9/site-packages/torch/utils/data/dataloader.py\", line 1601, in _shutdown_workers\n",
      "    if w.is_alive():\n",
      "  File \"/home/admin/anaconda3/envs/pytorch-idl/lib/python3.9/multiprocessing/process.py\", line 160, in is_alive\n",
      "    assert self._parent_pid == os.getpid(), 'can only test a child process'\n",
      "AssertionError: can only test a child process\n",
      "Exception ignored in: <function _MultiProcessingDataLoaderIter.__del__ at 0x7f3cbfe270d0>\n",
      "Traceback (most recent call last):\n",
      "  File \"/home/admin/anaconda3/envs/pytorch-idl/lib/python3.9/site-packages/torch/utils/data/dataloader.py\", line 1618, in __del__\n",
      "    self._shutdown_workers()\n",
      "  File \"/home/admin/anaconda3/envs/pytorch-idl/lib/python3.9/site-packages/torch/utils/data/dataloader.py\", line 1601, in _shutdown_workers\n",
      "    if w.is_alive():\n",
      "  File \"/home/admin/anaconda3/envs/pytorch-idl/lib/python3.9/multiprocessing/process.py\", line 160, in is_alive\n",
      "    assert self._parent_pid == os.getpid(), 'can only test a child process'\n",
      "AssertionError: can only test a child process\n"
     ]
    },
    {
     "data": {
      "application/vnd.jupyter.widget-view+json": {
       "model_id": "1ac73332381045d88d1fab364aab7fd0",
       "version_major": 2,
       "version_minor": 0
      },
      "text/plain": [
       "[val]:   0%|          | 0/71 [00:00<?, ?it/s]"
      ]
     },
     "metadata": {},
     "output_type": "display_data"
    },
    {
     "name": "stderr",
     "output_type": "stream",
     "text": [
      "Exception ignored in: self._shutdown_workers()<function _MultiProcessingDataLoaderIter.__del__ at 0x7f3cbfe270d0>\n",
      "Traceback (most recent call last):\n",
      "  File \"/home/admin/anaconda3/envs/pytorch-idl/lib/python3.9/site-packages/torch/utils/data/dataloader.py\", line 1618, in __del__\n",
      "    \n",
      "  File \"/home/admin/anaconda3/envs/pytorch-idl/lib/python3.9/site-packages/torch/utils/data/dataloader.py\", line 1601, in _shutdown_workers\n",
      "    if w.is_alive():\n",
      "  File \"/home/admin/anaconda3/envs/pytorch-idl/lib/python3.9/multiprocessing/process.py\", line 160, in is_alive\n",
      "    assert self._parent_pid == os.getpid(), 'can only test a child process'Exception ignored in: \n",
      "AssertionError: can only test a child process<function _MultiProcessingDataLoaderIter.__del__ at 0x7f3cbfe270d0>\n",
      "\n",
      "Exception ignored in: <function _MultiProcessingDataLoaderIter.__del__ at 0x7f3cbfe270d0>Traceback (most recent call last):\n",
      "\n",
      "  File \"/home/admin/anaconda3/envs/pytorch-idl/lib/python3.9/site-packages/torch/utils/data/dataloader.py\", line 1618, in __del__\n",
      "Traceback (most recent call last):\n",
      "      File \"/home/admin/anaconda3/envs/pytorch-idl/lib/python3.9/site-packages/torch/utils/data/dataloader.py\", line 1618, in __del__\n",
      "self._shutdown_workers()\n",
      "      File \"/home/admin/anaconda3/envs/pytorch-idl/lib/python3.9/site-packages/torch/utils/data/dataloader.py\", line 1601, in _shutdown_workers\n",
      "self._shutdown_workers()\n",
      "    if w.is_alive():  File \"/home/admin/anaconda3/envs/pytorch-idl/lib/python3.9/site-packages/torch/utils/data/dataloader.py\", line 1601, in _shutdown_workers\n",
      "\n",
      "      File \"/home/admin/anaconda3/envs/pytorch-idl/lib/python3.9/multiprocessing/process.py\", line 160, in is_alive\n",
      "if w.is_alive():\n",
      "    assert self._parent_pid == os.getpid(), 'can only test a child process'\n",
      "  File \"/home/admin/anaconda3/envs/pytorch-idl/lib/python3.9/multiprocessing/process.py\", line 160, in is_alive\n",
      "AssertionError:     can only test a child processassert self._parent_pid == os.getpid(), 'can only test a child process'\n",
      "\n",
      "AssertionError: can only test a child process\n",
      "Exception ignored in: <function _MultiProcessingDataLoaderIter.__del__ at 0x7f3cbfe270d0>\n",
      "Traceback (most recent call last):\n",
      "Exception ignored in:   File \"/home/admin/anaconda3/envs/pytorch-idl/lib/python3.9/site-packages/torch/utils/data/dataloader.py\", line 1618, in __del__\n",
      "<function _MultiProcessingDataLoaderIter.__del__ at 0x7f3cbfe270d0>    \n",
      "self._shutdown_workers()Traceback (most recent call last):\n",
      "\n",
      "  File \"/home/admin/anaconda3/envs/pytorch-idl/lib/python3.9/site-packages/torch/utils/data/dataloader.py\", line 1618, in __del__\n",
      "  File \"/home/admin/anaconda3/envs/pytorch-idl/lib/python3.9/site-packages/torch/utils/data/dataloader.py\", line 1601, in _shutdown_workers\n",
      "        self._shutdown_workers()if w.is_alive():\n",
      "  File \"/home/admin/anaconda3/envs/pytorch-idl/lib/python3.9/site-packages/torch/utils/data/dataloader.py\", line 1601, in _shutdown_workers\n",
      "\n",
      "  File \"/home/admin/anaconda3/envs/pytorch-idl/lib/python3.9/multiprocessing/process.py\", line 160, in is_alive\n",
      "        assert self._parent_pid == os.getpid(), 'can only test a child process'if w.is_alive():\n",
      "\n",
      "  File \"/home/admin/anaconda3/envs/pytorch-idl/lib/python3.9/multiprocessing/process.py\", line 160, in is_alive\n",
      "AssertionError:     can only test a child processassert self._parent_pid == os.getpid(), 'can only test a child process'\n",
      "\n",
      "AssertionError: Exception ignored in: can only test a child process\n",
      "<function _MultiProcessingDataLoaderIter.__del__ at 0x7f3cbfe270d0>\n",
      "Traceback (most recent call last):\n",
      "Exception ignored in:   File \"/home/admin/anaconda3/envs/pytorch-idl/lib/python3.9/site-packages/torch/utils/data/dataloader.py\", line 1618, in __del__\n",
      "<function _MultiProcessingDataLoaderIter.__del__ at 0x7f3cbfe270d0>\n",
      "    Traceback (most recent call last):\n",
      "  File \"/home/admin/anaconda3/envs/pytorch-idl/lib/python3.9/site-packages/torch/utils/data/dataloader.py\", line 1618, in __del__\n",
      "self._shutdown_workers()    \n",
      "self._shutdown_workers()\n",
      "  File \"/home/admin/anaconda3/envs/pytorch-idl/lib/python3.9/site-packages/torch/utils/data/dataloader.py\", line 1601, in _shutdown_workers\n",
      "  File \"/home/admin/anaconda3/envs/pytorch-idl/lib/python3.9/site-packages/torch/utils/data/dataloader.py\", line 1601, in _shutdown_workers\n",
      "    if w.is_alive():    if w.is_alive():\n",
      "\n",
      "  File \"/home/admin/anaconda3/envs/pytorch-idl/lib/python3.9/multiprocessing/process.py\", line 160, in is_alive\n",
      "    assert self._parent_pid == os.getpid(), 'can only test a child process'  File \"/home/admin/anaconda3/envs/pytorch-idl/lib/python3.9/multiprocessing/process.py\", line 160, in is_alive\n",
      "\n",
      "AssertionError:     can only test a child processassert self._parent_pid == os.getpid(), 'can only test a child process'\n",
      "\n",
      "AssertionError: Exception ignored in: <function _MultiProcessingDataLoaderIter.__del__ at 0x7f3cbfe270d0>can only test a child process\n",
      "\n",
      "Traceback (most recent call last):\n",
      "  File \"/home/admin/anaconda3/envs/pytorch-idl/lib/python3.9/site-packages/torch/utils/data/dataloader.py\", line 1618, in __del__\n",
      "Exception ignored in:     <function _MultiProcessingDataLoaderIter.__del__ at 0x7f3cbfe270d0>self._shutdown_workers()\n",
      "\n",
      "  File \"/home/admin/anaconda3/envs/pytorch-idl/lib/python3.9/site-packages/torch/utils/data/dataloader.py\", line 1601, in _shutdown_workers\n",
      "Traceback (most recent call last):\n",
      "    if w.is_alive():  File \"/home/admin/anaconda3/envs/pytorch-idl/lib/python3.9/site-packages/torch/utils/data/dataloader.py\", line 1618, in __del__\n",
      "\n",
      "    self._shutdown_workers()  File \"/home/admin/anaconda3/envs/pytorch-idl/lib/python3.9/multiprocessing/process.py\", line 160, in is_alive\n",
      "    \n",
      "assert self._parent_pid == os.getpid(), 'can only test a child process'  File \"/home/admin/anaconda3/envs/pytorch-idl/lib/python3.9/site-packages/torch/utils/data/dataloader.py\", line 1601, in _shutdown_workers\n",
      "\n",
      "    AssertionError: can only test a child process\n",
      "if w.is_alive():\n",
      "  File \"/home/admin/anaconda3/envs/pytorch-idl/lib/python3.9/multiprocessing/process.py\", line 160, in is_alive\n",
      "Exception ignored in: <function _MultiProcessingDataLoaderIter.__del__ at 0x7f3cbfe270d0>    \n",
      "assert self._parent_pid == os.getpid(), 'can only test a child process'Traceback (most recent call last):\n",
      "\n",
      "AssertionError  File \"/home/admin/anaconda3/envs/pytorch-idl/lib/python3.9/site-packages/torch/utils/data/dataloader.py\", line 1618, in __del__\n",
      ":     can only test a child processself._shutdown_workers()\n",
      "\n",
      "  File \"/home/admin/anaconda3/envs/pytorch-idl/lib/python3.9/site-packages/torch/utils/data/dataloader.py\", line 1601, in _shutdown_workers\n",
      "Exception ignored in:     <function _MultiProcessingDataLoaderIter.__del__ at 0x7f3cbfe270d0>if w.is_alive():\n",
      "\n",
      "Traceback (most recent call last):\n",
      "  File \"/home/admin/anaconda3/envs/pytorch-idl/lib/python3.9/site-packages/torch/utils/data/dataloader.py\", line 1618, in __del__\n",
      "  File \"/home/admin/anaconda3/envs/pytorch-idl/lib/python3.9/multiprocessing/process.py\", line 160, in is_alive\n",
      "        assert self._parent_pid == os.getpid(), 'can only test a child process'self._shutdown_workers()\n",
      "\n",
      "AssertionError  File \"/home/admin/anaconda3/envs/pytorch-idl/lib/python3.9/site-packages/torch/utils/data/dataloader.py\", line 1601, in _shutdown_workers\n",
      "    : can only test a child processif w.is_alive():\n",
      "\n",
      "  File \"/home/admin/anaconda3/envs/pytorch-idl/lib/python3.9/multiprocessing/process.py\", line 160, in is_alive\n",
      "    Exception ignored in: <function _MultiProcessingDataLoaderIter.__del__ at 0x7f3cbfe270d0>assert self._parent_pid == os.getpid(), 'can only test a child process'\n",
      "\n",
      "Traceback (most recent call last):\n",
      "AssertionError  File \"/home/admin/anaconda3/envs/pytorch-idl/lib/python3.9/site-packages/torch/utils/data/dataloader.py\", line 1618, in __del__\n",
      ": can only test a child process    \n",
      "self._shutdown_workers()\n",
      "  File \"/home/admin/anaconda3/envs/pytorch-idl/lib/python3.9/site-packages/torch/utils/data/dataloader.py\", line 1601, in _shutdown_workers\n",
      "    if w.is_alive():Exception ignored in: \n",
      "<function _MultiProcessingDataLoaderIter.__del__ at 0x7f3cbfe270d0>  File \"/home/admin/anaconda3/envs/pytorch-idl/lib/python3.9/multiprocessing/process.py\", line 160, in is_alive\n",
      "    \n",
      "assert self._parent_pid == os.getpid(), 'can only test a child process'Traceback (most recent call last):\n",
      "  File \"/home/admin/anaconda3/envs/pytorch-idl/lib/python3.9/site-packages/torch/utils/data/dataloader.py\", line 1618, in __del__\n",
      "\n",
      "AssertionError    self._shutdown_workers(): can only test a child process\n",
      "\n",
      "  File \"/home/admin/anaconda3/envs/pytorch-idl/lib/python3.9/site-packages/torch/utils/data/dataloader.py\", line 1601, in _shutdown_workers\n",
      "    if w.is_alive():\n",
      "  File \"/home/admin/anaconda3/envs/pytorch-idl/lib/python3.9/multiprocessing/process.py\", line 160, in is_alive\n",
      "Exception ignored in:     assert self._parent_pid == os.getpid(), 'can only test a child process'<function _MultiProcessingDataLoaderIter.__del__ at 0x7f3cbfe270d0>\n",
      "\n",
      "AssertionErrorTraceback (most recent call last):\n",
      ": can only test a child process\n",
      "  File \"/home/admin/anaconda3/envs/pytorch-idl/lib/python3.9/site-packages/torch/utils/data/dataloader.py\", line 1618, in __del__\n",
      "    self._shutdown_workers()Exception ignored in: \n",
      "<function _MultiProcessingDataLoaderIter.__del__ at 0x7f3cbfe270d0>  File \"/home/admin/anaconda3/envs/pytorch-idl/lib/python3.9/site-packages/torch/utils/data/dataloader.py\", line 1601, in _shutdown_workers\n",
      "\n",
      "    if w.is_alive():Traceback (most recent call last):\n",
      "\n",
      "  File \"/home/admin/anaconda3/envs/pytorch-idl/lib/python3.9/multiprocessing/process.py\", line 160, in is_alive\n",
      "  File \"/home/admin/anaconda3/envs/pytorch-idl/lib/python3.9/site-packages/torch/utils/data/dataloader.py\", line 1618, in __del__\n",
      "        assert self._parent_pid == os.getpid(), 'can only test a child process'self._shutdown_workers()\n",
      "\n",
      "AssertionError  File \"/home/admin/anaconda3/envs/pytorch-idl/lib/python3.9/site-packages/torch/utils/data/dataloader.py\", line 1601, in _shutdown_workers\n",
      ": can only test a child process    \n",
      "if w.is_alive():\n",
      "  File \"/home/admin/anaconda3/envs/pytorch-idl/lib/python3.9/multiprocessing/process.py\", line 160, in is_alive\n",
      "Exception ignored in:     <function _MultiProcessingDataLoaderIter.__del__ at 0x7f3cbfe270d0>\n",
      "assert self._parent_pid == os.getpid(), 'can only test a child process'Traceback (most recent call last):\n",
      "\n",
      "  File \"/home/admin/anaconda3/envs/pytorch-idl/lib/python3.9/site-packages/torch/utils/data/dataloader.py\", line 1618, in __del__\n",
      "AssertionError    : self._shutdown_workers()can only test a child process\n",
      "\n",
      "  File \"/home/admin/anaconda3/envs/pytorch-idl/lib/python3.9/site-packages/torch/utils/data/dataloader.py\", line 1601, in _shutdown_workers\n",
      "    if w.is_alive():Exception ignored in: \n",
      "<function _MultiProcessingDataLoaderIter.__del__ at 0x7f3cbfe270d0>  File \"/home/admin/anaconda3/envs/pytorch-idl/lib/python3.9/multiprocessing/process.py\", line 160, in is_alive\n",
      "    \n",
      "assert self._parent_pid == os.getpid(), 'can only test a child process'\n",
      "Traceback (most recent call last):\n",
      "AssertionError: can only test a child process  File \"/home/admin/anaconda3/envs/pytorch-idl/lib/python3.9/site-packages/torch/utils/data/dataloader.py\", line 1618, in __del__\n",
      "    \n",
      "self._shutdown_workers()\n",
      "  File \"/home/admin/anaconda3/envs/pytorch-idl/lib/python3.9/site-packages/torch/utils/data/dataloader.py\", line 1601, in _shutdown_workers\n",
      "Exception ignored in:     <function _MultiProcessingDataLoaderIter.__del__ at 0x7f3cbfe270d0>if w.is_alive():\n",
      "\n",
      "Traceback (most recent call last):\n",
      "  File \"/home/admin/anaconda3/envs/pytorch-idl/lib/python3.9/site-packages/torch/utils/data/dataloader.py\", line 1618, in __del__\n",
      "  File \"/home/admin/anaconda3/envs/pytorch-idl/lib/python3.9/multiprocessing/process.py\", line 160, in is_alive\n",
      "        self._shutdown_workers()\n",
      "assert self._parent_pid == os.getpid(), 'can only test a child process'  File \"/home/admin/anaconda3/envs/pytorch-idl/lib/python3.9/site-packages/torch/utils/data/dataloader.py\", line 1601, in _shutdown_workers\n",
      "\n",
      "    AssertionErrorif w.is_alive():: \n",
      "  File \"/home/admin/anaconda3/envs/pytorch-idl/lib/python3.9/multiprocessing/process.py\", line 160, in is_alive\n",
      "can only test a child process    \n",
      "assert self._parent_pid == os.getpid(), 'can only test a child process'\n",
      "Exception ignored in: <function _MultiProcessingDataLoaderIter.__del__ at 0x7f3cbfe270d0>AssertionError\n",
      ": Traceback (most recent call last):\n",
      "  File \"/home/admin/anaconda3/envs/pytorch-idl/lib/python3.9/site-packages/torch/utils/data/dataloader.py\", line 1618, in __del__\n",
      "can only test a child process    \n",
      "self._shutdown_workers()\n",
      "  File \"/home/admin/anaconda3/envs/pytorch-idl/lib/python3.9/site-packages/torch/utils/data/dataloader.py\", line 1601, in _shutdown_workers\n",
      "    Exception ignored in: if w.is_alive():\n",
      "  File \"/home/admin/anaconda3/envs/pytorch-idl/lib/python3.9/multiprocessing/process.py\", line 160, in is_alive\n",
      "<function _MultiProcessingDataLoaderIter.__del__ at 0x7f3cbfe270d0>\n",
      "Traceback (most recent call last):\n",
      "      File \"/home/admin/anaconda3/envs/pytorch-idl/lib/python3.9/site-packages/torch/utils/data/dataloader.py\", line 1618, in __del__\n",
      "assert self._parent_pid == os.getpid(), 'can only test a child process'    \n",
      "AssertionError: self._shutdown_workers()\n",
      "can only test a child process  File \"/home/admin/anaconda3/envs/pytorch-idl/lib/python3.9/site-packages/torch/utils/data/dataloader.py\", line 1601, in _shutdown_workers\n",
      "    \n",
      "Exception ignored in: if w.is_alive():<function _MultiProcessingDataLoaderIter.__del__ at 0x7f3cbfe270d0>\n",
      "\n",
      "Traceback (most recent call last):\n",
      "  File \"/home/admin/anaconda3/envs/pytorch-idl/lib/python3.9/site-packages/torch/utils/data/dataloader.py\", line 1618, in __del__\n",
      "  File \"/home/admin/anaconda3/envs/pytorch-idl/lib/python3.9/multiprocessing/process.py\", line 160, in is_alive\n",
      "    assert self._parent_pid == os.getpid(), 'can only test a child process'    \n",
      "self._shutdown_workers()AssertionError: \n",
      "  File \"/home/admin/anaconda3/envs/pytorch-idl/lib/python3.9/site-packages/torch/utils/data/dataloader.py\", line 1601, in _shutdown_workers\n",
      "    if w.is_alive():\n",
      "can only test a child process  File \"/home/admin/anaconda3/envs/pytorch-idl/lib/python3.9/multiprocessing/process.py\", line 160, in is_alive\n",
      "    \n",
      "assert self._parent_pid == os.getpid(), 'can only test a child process'\n",
      "AssertionError<function _MultiProcessingDataLoaderIter.__del__ at 0x7f3cbfe270d0>: can only test a child process\n",
      "Exception ignored in: \n",
      "Traceback (most recent call last):\n",
      "  File \"/home/admin/anaconda3/envs/pytorch-idl/lib/python3.9/site-packages/torch/utils/data/dataloader.py\", line 1618, in __del__\n",
      "    self._shutdown_workers()\n",
      "  File \"/home/admin/anaconda3/envs/pytorch-idl/lib/python3.9/site-packages/torch/utils/data/dataloader.py\", line 1601, in _shutdown_workers\n",
      "    if w.is_alive():\n",
      "  File \"/home/admin/anaconda3/envs/pytorch-idl/lib/python3.9/multiprocessing/process.py\", line 160, in is_alive\n",
      "    assert self._parent_pid == os.getpid(), 'can only test a child process'\n",
      "AssertionError: can only test a child process\n",
      "Exception ignored in: <function _MultiProcessingDataLoaderIter.__del__ at 0x7f3cbfe270d0>\n",
      "Traceback (most recent call last):\n",
      "  File \"/home/admin/anaconda3/envs/pytorch-idl/lib/python3.9/site-packages/torch/utils/data/dataloader.py\", line 1618, in __del__\n",
      "    self._shutdown_workers()\n",
      "  File \"/home/admin/anaconda3/envs/pytorch-idl/lib/python3.9/site-packages/torch/utils/data/dataloader.py\", line 1601, in _shutdown_workers\n",
      "    if w.is_alive():\n",
      "  File \"/home/admin/anaconda3/envs/pytorch-idl/lib/python3.9/multiprocessing/process.py\", line 160, in is_alive\n",
      "    assert self._parent_pid == os.getpid(), 'can only test a child process'Exception ignored in: \n",
      "AssertionError<function _MultiProcessingDataLoaderIter.__del__ at 0x7f3cbfe270d0>: \n",
      "can only test a child processTraceback (most recent call last):\n",
      "\n",
      "  File \"/home/admin/anaconda3/envs/pytorch-idl/lib/python3.9/site-packages/torch/utils/data/dataloader.py\", line 1618, in __del__\n",
      "    self._shutdown_workers()\n",
      "Exception ignored in:   File \"/home/admin/anaconda3/envs/pytorch-idl/lib/python3.9/site-packages/torch/utils/data/dataloader.py\", line 1601, in _shutdown_workers\n",
      "    if w.is_alive():<function _MultiProcessingDataLoaderIter.__del__ at 0x7f3cbfe270d0>\n",
      "  File \"/home/admin/anaconda3/envs/pytorch-idl/lib/python3.9/multiprocessing/process.py\", line 160, in is_alive\n",
      "\n",
      "    assert self._parent_pid == os.getpid(), 'can only test a child process'Traceback (most recent call last):\n",
      "  File \"/home/admin/anaconda3/envs/pytorch-idl/lib/python3.9/site-packages/torch/utils/data/dataloader.py\", line 1618, in __del__\n",
      "    self._shutdown_workers()\n",
      "\n",
      "AssertionError  File \"/home/admin/anaconda3/envs/pytorch-idl/lib/python3.9/site-packages/torch/utils/data/dataloader.py\", line 1601, in _shutdown_workers\n",
      ": can only test a child process    if w.is_alive():\n",
      "\n",
      "  File \"/home/admin/anaconda3/envs/pytorch-idl/lib/python3.9/multiprocessing/process.py\", line 160, in is_alive\n",
      "    assert self._parent_pid == os.getpid(), 'can only test a child process'\n",
      "AssertionError: Exception ignored in: <function _MultiProcessingDataLoaderIter.__del__ at 0x7f3cbfe270d0>can only test a child process\n",
      "\n",
      "Traceback (most recent call last):\n",
      "  File \"/home/admin/anaconda3/envs/pytorch-idl/lib/python3.9/site-packages/torch/utils/data/dataloader.py\", line 1618, in __del__\n",
      "    Exception ignored in: self._shutdown_workers()<function _MultiProcessingDataLoaderIter.__del__ at 0x7f3cbfe270d0>\n",
      "\n",
      "  File \"/home/admin/anaconda3/envs/pytorch-idl/lib/python3.9/site-packages/torch/utils/data/dataloader.py\", line 1601, in _shutdown_workers\n",
      "Traceback (most recent call last):\n",
      "    if w.is_alive():\n",
      "  File \"/home/admin/anaconda3/envs/pytorch-idl/lib/python3.9/site-packages/torch/utils/data/dataloader.py\", line 1618, in __del__\n",
      "  File \"/home/admin/anaconda3/envs/pytorch-idl/lib/python3.9/multiprocessing/process.py\", line 160, in is_alive\n",
      "        assert self._parent_pid == os.getpid(), 'can only test a child process'self._shutdown_workers()\n",
      "\n",
      "AssertionError  File \"/home/admin/anaconda3/envs/pytorch-idl/lib/python3.9/site-packages/torch/utils/data/dataloader.py\", line 1601, in _shutdown_workers\n",
      ":     can only test a child processif w.is_alive():\n",
      "\n",
      "  File \"/home/admin/anaconda3/envs/pytorch-idl/lib/python3.9/multiprocessing/process.py\", line 160, in is_alive\n",
      "    Exception ignored in: assert self._parent_pid == os.getpid(), 'can only test a child process'<function _MultiProcessingDataLoaderIter.__del__ at 0x7f3cbfe270d0>\n",
      "\n",
      "AssertionErrorTraceback (most recent call last):\n",
      ": can only test a child process  File \"/home/admin/anaconda3/envs/pytorch-idl/lib/python3.9/site-packages/torch/utils/data/dataloader.py\", line 1618, in __del__\n",
      "\n",
      "    self._shutdown_workers()Exception ignored in: \n",
      "<function _MultiProcessingDataLoaderIter.__del__ at 0x7f3cbfe270d0>\n",
      "  File \"/home/admin/anaconda3/envs/pytorch-idl/lib/python3.9/site-packages/torch/utils/data/dataloader.py\", line 1601, in _shutdown_workers\n",
      "Traceback (most recent call last):\n",
      "  File \"/home/admin/anaconda3/envs/pytorch-idl/lib/python3.9/site-packages/torch/utils/data/dataloader.py\", line 1618, in __del__\n",
      "        if w.is_alive():self._shutdown_workers()\n",
      "  File \"/home/admin/anaconda3/envs/pytorch-idl/lib/python3.9/multiprocessing/process.py\", line 160, in is_alive\n",
      "    assert self._parent_pid == os.getpid(), 'can only test a child process'\n",
      "\n",
      "  File \"/home/admin/anaconda3/envs/pytorch-idl/lib/python3.9/site-packages/torch/utils/data/dataloader.py\", line 1601, in _shutdown_workers\n",
      "AssertionError    : if w.is_alive():\n",
      "can only test a child process  File \"/home/admin/anaconda3/envs/pytorch-idl/lib/python3.9/multiprocessing/process.py\", line 160, in is_alive\n",
      "\n",
      "    assert self._parent_pid == os.getpid(), 'can only test a child process'Exception ignored in: \n",
      "<function _MultiProcessingDataLoaderIter.__del__ at 0x7f3cbfe270d0>AssertionError\n",
      ": Traceback (most recent call last):\n",
      "can only test a child process  File \"/home/admin/anaconda3/envs/pytorch-idl/lib/python3.9/site-packages/torch/utils/data/dataloader.py\", line 1618, in __del__\n",
      "\n",
      "    Exception ignored in: self._shutdown_workers()<function _MultiProcessingDataLoaderIter.__del__ at 0x7f3cbfe270d0>\n",
      "\n",
      "  File \"/home/admin/anaconda3/envs/pytorch-idl/lib/python3.9/site-packages/torch/utils/data/dataloader.py\", line 1601, in _shutdown_workers\n",
      "Traceback (most recent call last):\n",
      "      File \"/home/admin/anaconda3/envs/pytorch-idl/lib/python3.9/site-packages/torch/utils/data/dataloader.py\", line 1618, in __del__\n",
      "if w.is_alive():    \n",
      "  File \"/home/admin/anaconda3/envs/pytorch-idl/lib/python3.9/multiprocessing/process.py\", line 160, in is_alive\n",
      "self._shutdown_workers()\n",
      "  File \"/home/admin/anaconda3/envs/pytorch-idl/lib/python3.9/site-packages/torch/utils/data/dataloader.py\", line 1601, in _shutdown_workers\n",
      "        if w.is_alive():assert self._parent_pid == os.getpid(), 'can only test a child process'\n",
      "\n",
      "AssertionError:   File \"/home/admin/anaconda3/envs/pytorch-idl/lib/python3.9/multiprocessing/process.py\", line 160, in is_alive\n",
      "can only test a child process\n",
      "    Exception ignored in: assert self._parent_pid == os.getpid(), 'can only test a child process'<function _MultiProcessingDataLoaderIter.__del__ at 0x7f3cbfe270d0>\n",
      "\n",
      "AssertionErrorTraceback (most recent call last):\n",
      "  File \"/home/admin/anaconda3/envs/pytorch-idl/lib/python3.9/site-packages/torch/utils/data/dataloader.py\", line 1618, in __del__\n",
      ":     self._shutdown_workers()can only test a child process\n",
      "  File \"/home/admin/anaconda3/envs/pytorch-idl/lib/python3.9/site-packages/torch/utils/data/dataloader.py\", line 1601, in _shutdown_workers\n",
      "\n",
      "    if w.is_alive():\n",
      "Exception ignored in:   File \"/home/admin/anaconda3/envs/pytorch-idl/lib/python3.9/multiprocessing/process.py\", line 160, in is_alive\n",
      "    <function _MultiProcessingDataLoaderIter.__del__ at 0x7f3cbfe270d0>assert self._parent_pid == os.getpid(), 'can only test a child process'\n",
      "\n",
      "AssertionErrorTraceback (most recent call last):\n",
      ":   File \"/home/admin/anaconda3/envs/pytorch-idl/lib/python3.9/site-packages/torch/utils/data/dataloader.py\", line 1618, in __del__\n",
      "can only test a child process\n",
      "    self._shutdown_workers()Exception ignored in: <function _MultiProcessingDataLoaderIter.__del__ at 0x7f3cbfe270d0>\n",
      "\n",
      "  File \"/home/admin/anaconda3/envs/pytorch-idl/lib/python3.9/site-packages/torch/utils/data/dataloader.py\", line 1601, in _shutdown_workers\n",
      "Traceback (most recent call last):\n",
      "      File \"/home/admin/anaconda3/envs/pytorch-idl/lib/python3.9/site-packages/torch/utils/data/dataloader.py\", line 1618, in __del__\n",
      "if w.is_alive():    \n",
      "self._shutdown_workers()  File \"/home/admin/anaconda3/envs/pytorch-idl/lib/python3.9/multiprocessing/process.py\", line 160, in is_alive\n",
      "\n",
      "  File \"/home/admin/anaconda3/envs/pytorch-idl/lib/python3.9/site-packages/torch/utils/data/dataloader.py\", line 1601, in _shutdown_workers\n",
      "        assert self._parent_pid == os.getpid(), 'can only test a child process'\n",
      "if w.is_alive():AssertionError\n",
      ": can only test a child process\n",
      "  File \"/home/admin/anaconda3/envs/pytorch-idl/lib/python3.9/multiprocessing/process.py\", line 160, in is_alive\n",
      "    Exception ignored in: <function _MultiProcessingDataLoaderIter.__del__ at 0x7f3cbfe270d0>assert self._parent_pid == os.getpid(), 'can only test a child process'\n",
      "\n",
      "AssertionErrorTraceback (most recent call last):\n",
      "  File \"/home/admin/anaconda3/envs/pytorch-idl/lib/python3.9/site-packages/torch/utils/data/dataloader.py\", line 1618, in __del__\n",
      ":     can only test a child processself._shutdown_workers()\n",
      "\n",
      "  File \"/home/admin/anaconda3/envs/pytorch-idl/lib/python3.9/site-packages/torch/utils/data/dataloader.py\", line 1601, in _shutdown_workers\n",
      "    Exception ignored in: if w.is_alive():<function _MultiProcessingDataLoaderIter.__del__ at 0x7f3cbfe270d0>\n",
      "  File \"/home/admin/anaconda3/envs/pytorch-idl/lib/python3.9/multiprocessing/process.py\", line 160, in is_alive\n",
      "\n",
      "    Traceback (most recent call last):\n",
      "assert self._parent_pid == os.getpid(), 'can only test a child process'  File \"/home/admin/anaconda3/envs/pytorch-idl/lib/python3.9/site-packages/torch/utils/data/dataloader.py\", line 1618, in __del__\n",
      "\n",
      "AssertionError    : can only test a child processself._shutdown_workers()\n",
      "\n",
      "  File \"/home/admin/anaconda3/envs/pytorch-idl/lib/python3.9/site-packages/torch/utils/data/dataloader.py\", line 1601, in _shutdown_workers\n",
      "    Exception ignored in: if w.is_alive():<function _MultiProcessingDataLoaderIter.__del__ at 0x7f3cbfe270d0>\n",
      "\n",
      "  File \"/home/admin/anaconda3/envs/pytorch-idl/lib/python3.9/multiprocessing/process.py\", line 160, in is_alive\n",
      "Traceback (most recent call last):\n",
      "      File \"/home/admin/anaconda3/envs/pytorch-idl/lib/python3.9/site-packages/torch/utils/data/dataloader.py\", line 1618, in __del__\n",
      "    assert self._parent_pid == os.getpid(), 'can only test a child process'self._shutdown_workers()\n",
      "\n",
      "  File \"/home/admin/anaconda3/envs/pytorch-idl/lib/python3.9/site-packages/torch/utils/data/dataloader.py\", line 1601, in _shutdown_workers\n",
      "AssertionError:     can only test a child processif w.is_alive():\n",
      "\n",
      "  File \"/home/admin/anaconda3/envs/pytorch-idl/lib/python3.9/multiprocessing/process.py\", line 160, in is_alive\n",
      "    assert self._parent_pid == os.getpid(), 'can only test a child process'Exception ignored in: \n",
      "<function _MultiProcessingDataLoaderIter.__del__ at 0x7f3cbfe270d0>AssertionError\n",
      ": Traceback (most recent call last):\n",
      "can only test a child process  File \"/home/admin/anaconda3/envs/pytorch-idl/lib/python3.9/site-packages/torch/utils/data/dataloader.py\", line 1618, in __del__\n",
      "\n",
      "    self._shutdown_workers()Exception ignored in: \n",
      "  File \"/home/admin/anaconda3/envs/pytorch-idl/lib/python3.9/site-packages/torch/utils/data/dataloader.py\", line 1601, in _shutdown_workers\n",
      "<function _MultiProcessingDataLoaderIter.__del__ at 0x7f3cbfe270d0>    \n",
      "Traceback (most recent call last):\n",
      "  File \"/home/admin/anaconda3/envs/pytorch-idl/lib/python3.9/site-packages/torch/utils/data/dataloader.py\", line 1618, in __del__\n",
      "if w.is_alive():\n",
      "    self._shutdown_workers()  File \"/home/admin/anaconda3/envs/pytorch-idl/lib/python3.9/multiprocessing/process.py\", line 160, in is_alive\n",
      "\n",
      "  File \"/home/admin/anaconda3/envs/pytorch-idl/lib/python3.9/site-packages/torch/utils/data/dataloader.py\", line 1601, in _shutdown_workers\n",
      "        assert self._parent_pid == os.getpid(), 'can only test a child process'if w.is_alive():\n",
      "\n",
      "AssertionError  File \"/home/admin/anaconda3/envs/pytorch-idl/lib/python3.9/multiprocessing/process.py\", line 160, in is_alive\n",
      ":     can only test a child processassert self._parent_pid == os.getpid(), 'can only test a child process'\n",
      "\n",
      "AssertionError: Exception ignored in: can only test a child process\n",
      "<function _MultiProcessingDataLoaderIter.__del__ at 0x7f3cbfe270d0>\n",
      "Traceback (most recent call last):\n",
      "  File \"/home/admin/anaconda3/envs/pytorch-idl/lib/python3.9/site-packages/torch/utils/data/dataloader.py\", line 1618, in __del__\n",
      "Exception ignored in:     <function _MultiProcessingDataLoaderIter.__del__ at 0x7f3cbfe270d0>self._shutdown_workers()\n",
      "\n",
      "Traceback (most recent call last):\n",
      "  File \"/home/admin/anaconda3/envs/pytorch-idl/lib/python3.9/site-packages/torch/utils/data/dataloader.py\", line 1601, in _shutdown_workers\n",
      "  File \"/home/admin/anaconda3/envs/pytorch-idl/lib/python3.9/site-packages/torch/utils/data/dataloader.py\", line 1618, in __del__\n",
      "    if w.is_alive():    \n",
      "self._shutdown_workers()  File \"/home/admin/anaconda3/envs/pytorch-idl/lib/python3.9/multiprocessing/process.py\", line 160, in is_alive\n",
      "\n",
      "      File \"/home/admin/anaconda3/envs/pytorch-idl/lib/python3.9/site-packages/torch/utils/data/dataloader.py\", line 1601, in _shutdown_workers\n",
      "assert self._parent_pid == os.getpid(), 'can only test a child process'    \n",
      "AssertionErrorif w.is_alive():: \n",
      "can only test a child process  File \"/home/admin/anaconda3/envs/pytorch-idl/lib/python3.9/multiprocessing/process.py\", line 160, in is_alive\n",
      "\n",
      "    assert self._parent_pid == os.getpid(), 'can only test a child process'\n",
      "AssertionErrorException ignored in: : <function _MultiProcessingDataLoaderIter.__del__ at 0x7f3cbfe270d0>can only test a child process\n",
      "\n",
      "Traceback (most recent call last):\n",
      "  File \"/home/admin/anaconda3/envs/pytorch-idl/lib/python3.9/site-packages/torch/utils/data/dataloader.py\", line 1618, in __del__\n",
      "    self._shutdown_workers()Exception ignored in: \n",
      "<function _MultiProcessingDataLoaderIter.__del__ at 0x7f3cbfe270d0>  File \"/home/admin/anaconda3/envs/pytorch-idl/lib/python3.9/site-packages/torch/utils/data/dataloader.py\", line 1601, in _shutdown_workers\n",
      "\n",
      "    Traceback (most recent call last):\n",
      "  File \"/home/admin/anaconda3/envs/pytorch-idl/lib/python3.9/site-packages/torch/utils/data/dataloader.py\", line 1618, in __del__\n",
      "if w.is_alive():\n",
      "  File \"/home/admin/anaconda3/envs/pytorch-idl/lib/python3.9/multiprocessing/process.py\", line 160, in is_alive\n",
      "        self._shutdown_workers()assert self._parent_pid == os.getpid(), 'can only test a child process'\n",
      "\n",
      "  File \"/home/admin/anaconda3/envs/pytorch-idl/lib/python3.9/site-packages/torch/utils/data/dataloader.py\", line 1601, in _shutdown_workers\n",
      "AssertionError:     can only test a child process\n",
      "if w.is_alive():\n",
      "  File \"/home/admin/anaconda3/envs/pytorch-idl/lib/python3.9/multiprocessing/process.py\", line 160, in is_alive\n",
      "    assert self._parent_pid == os.getpid(), 'can only test a child process'Exception ignored in: <function _MultiProcessingDataLoaderIter.__del__ at 0x7f3cbfe270d0>\n",
      "\n",
      "Traceback (most recent call last):\n",
      "AssertionError  File \"/home/admin/anaconda3/envs/pytorch-idl/lib/python3.9/site-packages/torch/utils/data/dataloader.py\", line 1618, in __del__\n",
      ":     can only test a child processself._shutdown_workers()\n",
      "\n",
      "  File \"/home/admin/anaconda3/envs/pytorch-idl/lib/python3.9/site-packages/torch/utils/data/dataloader.py\", line 1601, in _shutdown_workers\n",
      "    if w.is_alive():\n",
      "  File \"/home/admin/anaconda3/envs/pytorch-idl/lib/python3.9/multiprocessing/process.py\", line 160, in is_alive\n",
      "    assert self._parent_pid == os.getpid(), 'can only test a child process'\n",
      "AssertionError: can only test a child process\n"
     ]
    },
    {
     "name": "stdout",
     "output_type": "stream",
     "text": [
      "train: {'loss': 21.09575112243564, 'CER': 0.12220186608704241, 'WER': 0.04206401293801309, 'F1_char': 0.8422646124263251, 'F1_word': 0.7693897484415675}\n",
      "val  : {'loss': 22.02423915896617, 'CER': 0.11855448915080172, 'WER': 0.04212855024578166, 'F1_char': 0.8464942605048558, 'F1_word': 0.7676500099402798}\n",
      "\n",
      "Epoch 9/50\n"
     ]
    },
    {
     "data": {
      "application/vnd.jupyter.widget-view+json": {
       "model_id": "7550dfea66b24495b2c2325f1e75cb4e",
       "version_major": 2,
       "version_minor": 0
      },
      "text/plain": [
       "[train]:   0%|          | 0/281 [00:00<?, ?it/s]"
      ]
     },
     "metadata": {},
     "output_type": "display_data"
    },
    {
     "data": {
      "application/vnd.jupyter.widget-view+json": {
       "model_id": "cca4963d8561419aa2d7e59acc0b3ffc",
       "version_major": 2,
       "version_minor": 0
      },
      "text/plain": [
       "[val]:   0%|          | 0/71 [00:00<?, ?it/s]"
      ]
     },
     "metadata": {},
     "output_type": "display_data"
    },
    {
     "name": "stdout",
     "output_type": "stream",
     "text": [
      "train: {'loss': 20.216651975260085, 'CER': 0.11946479562116327, 'WER': 0.0405889699630317, 'F1_char': 0.8455027355873171, 'F1_word': 0.7775246594366431}\n",
      "val  : {'loss': 21.393771444407985, 'CER': 0.11185568730660488, 'WER': 0.04030008725129804, 'F1_char': 0.8560750197613926, 'F1_word': 0.7782407388875217}\n",
      "\n",
      "Epoch 10/50\n"
     ]
    },
    {
     "data": {
      "application/vnd.jupyter.widget-view+json": {
       "model_id": "d1bd5811abb64863bffd005b145c521e",
       "version_major": 2,
       "version_minor": 0
      },
      "text/plain": [
       "[train]:   0%|          | 0/281 [00:00<?, ?it/s]"
      ]
     },
     "metadata": {},
     "output_type": "display_data"
    },
    {
     "data": {
      "application/vnd.jupyter.widget-view+json": {
       "model_id": "2c6d17273fbf4cc0a60caff8943eeafd",
       "version_major": 2,
       "version_minor": 0
      },
      "text/plain": [
       "[val]:   0%|          | 0/71 [00:00<?, ?it/s]"
      ]
     },
     "metadata": {},
     "output_type": "display_data"
    },
    {
     "name": "stdout",
     "output_type": "stream",
     "text": [
      "train: {'loss': 19.786382087290924, 'CER': 0.11777316707018622, 'WER': 0.03874085238324461, 'F1_char': 0.84771407596801, 'F1_word': 0.7879884102228117}\n",
      "val  : {'loss': 21.551554503575176, 'CER': 0.1161824934799918, 'WER': 0.03930599459328022, 'F1_char': 0.8499494489824458, 'F1_word': 0.7838401635296961}\n",
      "\n",
      "Epoch 11/50\n"
     ]
    },
    {
     "data": {
      "application/vnd.jupyter.widget-view+json": {
       "model_id": "b2faae83252842d6a22a1d206bf4ec15",
       "version_major": 2,
       "version_minor": 0
      },
      "text/plain": [
       "[train]:   0%|          | 0/281 [00:00<?, ?it/s]"
      ]
     },
     "metadata": {},
     "output_type": "display_data"
    },
    {
     "data": {
      "application/vnd.jupyter.widget-view+json": {
       "model_id": "47bf171fb5fc43faabdd2d1846198ccb",
       "version_major": 2,
       "version_minor": 0
      },
      "text/plain": [
       "[val]:   0%|          | 0/71 [00:00<?, ?it/s]"
      ]
     },
     "metadata": {},
     "output_type": "display_data"
    },
    {
     "name": "stdout",
     "output_type": "stream",
     "text": [
      "train: {'loss': 18.994261836931376, 'CER': 0.11425781656748753, 'WER': 0.037086114782025066, 'F1_char': 0.8520679305697582, 'F1_word': 0.797098720613193}\n",
      "val  : {'loss': 23.951625562049973, 'CER': 0.12063564716147211, 'WER': 0.053840725854514423, 'F1_char': 0.8511668314587038, 'F1_word': 0.7033965194865596}\n",
      "\n",
      "Epoch 12/50\n"
     ]
    },
    {
     "data": {
      "application/vnd.jupyter.widget-view+json": {
       "model_id": "a6ee265406da441299bb54a042048500",
       "version_major": 2,
       "version_minor": 0
      },
      "text/plain": [
       "[train]:   0%|          | 0/281 [00:00<?, ?it/s]"
      ]
     },
     "metadata": {},
     "output_type": "display_data"
    },
    {
     "data": {
      "application/vnd.jupyter.widget-view+json": {
       "model_id": "1a9703bf9aef43c999d278c62e443a1f",
       "version_major": 2,
       "version_minor": 0
      },
      "text/plain": [
       "[val]:   0%|          | 0/71 [00:00<?, ?it/s]"
      ]
     },
     "metadata": {},
     "output_type": "display_data"
    },
    {
     "name": "stdout",
     "output_type": "stream",
     "text": [
      "train: {'loss': 18.79892102636901, 'CER': 0.11660217692304488, 'WER': 0.039230549990509504, 'F1_char': 0.848940942366165, 'F1_word': 0.7849339069039828}\n",
      "val  : {'loss': 21.020236793118464, 'CER': 0.10450846051521176, 'WER': 0.03271208501995337, 'F1_char': 0.8663241090311138, 'F1_word': 0.821368375993712}\n",
      "\n",
      "Epoch 13/50\n"
     ]
    },
    {
     "data": {
      "application/vnd.jupyter.widget-view+json": {
       "model_id": "a66ec755022542d8a918da9a4f79258c",
       "version_major": 2,
       "version_minor": 0
      },
      "text/plain": [
       "[train]:   0%|          | 0/281 [00:00<?, ?it/s]"
      ]
     },
     "metadata": {},
     "output_type": "display_data"
    },
    {
     "data": {
      "application/vnd.jupyter.widget-view+json": {
       "model_id": "8d6b3883640441e798c890a7a6fb30fa",
       "version_major": 2,
       "version_minor": 0
      },
      "text/plain": [
       "[val]:   0%|          | 0/71 [00:00<?, ?it/s]"
      ]
     },
     "metadata": {},
     "output_type": "display_data"
    },
    {
     "name": "stdout",
     "output_type": "stream",
     "text": [
      "train: {'loss': 18.254411528967452, 'CER': 0.11324034037256289, 'WER': 0.036636878216429684, 'F1_char': 0.8534277518033452, 'F1_word': 0.7995963739229871}\n",
      "val  : {'loss': 21.083553511911713, 'CER': 0.08989744396607212, 'WER': 0.028199333457296926, 'F1_char': 0.8893620540441061, 'F1_word': 0.848052685308297}\n",
      "\n",
      "Epoch 14/50\n"
     ]
    },
    {
     "data": {
      "application/vnd.jupyter.widget-view+json": {
       "model_id": "95efa4645e85434288243b9997fc3eff",
       "version_major": 2,
       "version_minor": 0
      },
      "text/plain": [
       "[train]:   0%|          | 0/281 [00:00<?, ?it/s]"
      ]
     },
     "metadata": {},
     "output_type": "display_data"
    },
    {
     "name": "stderr",
     "output_type": "stream",
     "text": [
      "Exception ignored in: <function _MultiProcessingDataLoaderIter.__del__ at 0x7f3cbfe270d0>\n",
      "Traceback (most recent call last):\n",
      "  File \"/home/admin/anaconda3/envs/pytorch-idl/lib/python3.9/site-packages/torch/utils/data/dataloader.py\", line 1618, in __del__\n",
      "    self._shutdown_workers()\n",
      "  File \"/home/admin/anaconda3/envs/pytorch-idl/lib/python3.9/site-packages/torch/utils/data/dataloader.py\", line 1601, in _shutdown_workers\n",
      "    if w.is_alive():\n",
      "  File \"/home/admin/anaconda3/envs/pytorch-idl/lib/python3.9/multiprocessing/process.py\", line 160, in is_alive\n",
      "    assert self._parent_pid == os.getpid(), 'can only test a child process'\n",
      "AssertionError: can only test a child process\n",
      "Exception ignored in: <function _MultiProcessingDataLoaderIter.__del__ at 0x7f3cbfe270d0>\n",
      "Traceback (most recent call last):\n",
      "  File \"/home/admin/anaconda3/envs/pytorch-idl/lib/python3.9/site-packages/torch/utils/data/dataloader.py\", line 1618, in __del__\n",
      "    self._shutdown_workers()\n",
      "  File \"/home/admin/anaconda3/envs/pytorch-idl/lib/python3.9/site-packages/torch/utils/data/dataloader.py\", line 1601, in _shutdown_workers\n",
      "    if w.is_alive():\n",
      "  File \"/home/admin/anaconda3/envs/pytorch-idl/lib/python3.9/multiprocessing/process.py\", line 160, in is_alive\n",
      "    assert self._parent_pid == os.getpid(), 'can only test a child process'\n",
      "AssertionError: can only test a child process\n",
      "Exception ignored in: <function _MultiProcessingDataLoaderIter.__del__ at 0x7f3cbfe270d0>\n",
      "Traceback (most recent call last):\n",
      "  File \"/home/admin/anaconda3/envs/pytorch-idl/lib/python3.9/site-packages/torch/utils/data/dataloader.py\", line 1618, in __del__\n",
      "    self._shutdown_workers()\n",
      "  File \"/home/admin/anaconda3/envs/pytorch-idl/lib/python3.9/site-packages/torch/utils/data/dataloader.py\", line 1601, in _shutdown_workers\n",
      "    if w.is_alive():\n",
      "  File \"/home/admin/anaconda3/envs/pytorch-idl/lib/python3.9/multiprocessing/process.py\", line 160, in is_alive\n",
      "    assert self._parent_pid == os.getpid(), 'can only test a child process'\n",
      "AssertionError: can only test a child process\n",
      "Exception ignored in: <function _MultiProcessingDataLoaderIter.__del__ at 0x7f3cbfe270d0>\n",
      "Traceback (most recent call last):\n",
      "  File \"/home/admin/anaconda3/envs/pytorch-idl/lib/python3.9/site-packages/torch/utils/data/dataloader.py\", line 1618, in __del__\n",
      "    self._shutdown_workers()\n",
      "  File \"/home/admin/anaconda3/envs/pytorch-idl/lib/python3.9/site-packages/torch/utils/data/dataloader.py\", line 1601, in _shutdown_workers\n",
      "    if w.is_alive():\n",
      "  File \"/home/admin/anaconda3/envs/pytorch-idl/lib/python3.9/multiprocessing/process.py\", line 160, in is_alive\n",
      "    assert self._parent_pid == os.getpid(), 'can only test a child process'\n",
      "AssertionError: can only test a child process\n",
      "Exception ignored in: <function _MultiProcessingDataLoaderIter.__del__ at 0x7f3cbfe270d0>\n",
      "Traceback (most recent call last):\n",
      "  File \"/home/admin/anaconda3/envs/pytorch-idl/lib/python3.9/site-packages/torch/utils/data/dataloader.py\", line 1618, in __del__\n",
      "    self._shutdown_workers()\n",
      "  File \"/home/admin/anaconda3/envs/pytorch-idl/lib/python3.9/site-packages/torch/utils/data/dataloader.py\", line 1601, in _shutdown_workers\n",
      "    if w.is_alive():\n",
      "  File \"/home/admin/anaconda3/envs/pytorch-idl/lib/python3.9/multiprocessing/process.py\", line 160, in is_alive\n",
      "    assert self._parent_pid == os.getpid(), 'can only test a child process'\n",
      "AssertionError: can only test a child process\n",
      "Exception ignored in: <function _MultiProcessingDataLoaderIter.__del__ at 0x7f3cbfe270d0>\n",
      "Traceback (most recent call last):\n",
      "  File \"/home/admin/anaconda3/envs/pytorch-idl/lib/python3.9/site-packages/torch/utils/data/dataloader.py\", line 1618, in __del__\n",
      "    self._shutdown_workers()\n",
      "  File \"/home/admin/anaconda3/envs/pytorch-idl/lib/python3.9/site-packages/torch/utils/data/dataloader.py\", line 1601, in _shutdown_workers\n",
      "    if w.is_alive():\n",
      "  File \"/home/admin/anaconda3/envs/pytorch-idl/lib/python3.9/multiprocessing/process.py\", line 160, in is_alive\n",
      "    assert self._parent_pid == os.getpid(), 'can only test a child process'\n",
      "AssertionError: can only test a child process\n",
      "Exception ignored in: <function _MultiProcessingDataLoaderIter.__del__ at 0x7f3cbfe270d0>\n",
      "Traceback (most recent call last):\n",
      "  File \"/home/admin/anaconda3/envs/pytorch-idl/lib/python3.9/site-packages/torch/utils/data/dataloader.py\", line 1618, in __del__\n",
      "    self._shutdown_workers()\n",
      "  File \"/home/admin/anaconda3/envs/pytorch-idl/lib/python3.9/site-packages/torch/utils/data/dataloader.py\", line 1601, in _shutdown_workers\n",
      "    if w.is_alive():\n",
      "  File \"/home/admin/anaconda3/envs/pytorch-idl/lib/python3.9/multiprocessing/process.py\", line 160, in is_alive\n",
      "    assert self._parent_pid == os.getpid(), 'can only test a child process'\n",
      "AssertionError: can only test a child process\n",
      "Exception ignored in: <function _MultiProcessingDataLoaderIter.__del__ at 0x7f3cbfe270d0>\n",
      "Traceback (most recent call last):\n",
      "  File \"/home/admin/anaconda3/envs/pytorch-idl/lib/python3.9/site-packages/torch/utils/data/dataloader.py\", line 1618, in __del__\n",
      "    self._shutdown_workers()\n",
      "  File \"/home/admin/anaconda3/envs/pytorch-idl/lib/python3.9/site-packages/torch/utils/data/dataloader.py\", line 1601, in _shutdown_workers\n",
      "    if w.is_alive():\n",
      "  File \"/home/admin/anaconda3/envs/pytorch-idl/lib/python3.9/multiprocessing/process.py\", line 160, in is_alive\n",
      "    assert self._parent_pid == os.getpid(), 'can only test a child process'\n",
      "AssertionError: can only test a child process\n",
      "Exception ignored in: <function _MultiProcessingDataLoaderIter.__del__ at 0x7f3cbfe270d0>\n",
      "Traceback (most recent call last):\n",
      "  File \"/home/admin/anaconda3/envs/pytorch-idl/lib/python3.9/site-packages/torch/utils/data/dataloader.py\", line 1618, in __del__\n",
      "    self._shutdown_workers()\n",
      "  File \"/home/admin/anaconda3/envs/pytorch-idl/lib/python3.9/site-packages/torch/utils/data/dataloader.py\", line 1601, in _shutdown_workers\n",
      "    if w.is_alive():\n",
      "  File \"/home/admin/anaconda3/envs/pytorch-idl/lib/python3.9/multiprocessing/process.py\", line 160, in is_alive\n",
      "    assert self._parent_pid == os.getpid(), 'can only test a child process'\n",
      "AssertionError: can only test a child process\n",
      "Exception ignored in: <function _MultiProcessingDataLoaderIter.__del__ at 0x7f3cbfe270d0>\n",
      "Traceback (most recent call last):\n",
      "  File \"/home/admin/anaconda3/envs/pytorch-idl/lib/python3.9/site-packages/torch/utils/data/dataloader.py\", line 1618, in __del__\n",
      "    self._shutdown_workers()\n",
      "  File \"/home/admin/anaconda3/envs/pytorch-idl/lib/python3.9/site-packages/torch/utils/data/dataloader.py\", line 1601, in _shutdown_workers\n",
      "    if w.is_alive():\n",
      "  File \"/home/admin/anaconda3/envs/pytorch-idl/lib/python3.9/multiprocessing/process.py\", line 160, in is_alive\n",
      "    assert self._parent_pid == os.getpid(), 'can only test a child process'\n",
      "AssertionError: can only test a child process\n",
      "Exception ignored in: \n",
      "<function _MultiProcessingDataLoaderIter.__del__ at 0x7f3cbfe270d0>\n",
      "Traceback (most recent call last):\n",
      "  File \"/home/admin/anaconda3/envs/pytorch-idl/lib/python3.9/site-packages/torch/utils/data/dataloader.py\", line 1618, in __del__\n",
      "    self._shutdown_workers()  File \"/home/admin/anaconda3/envs/pytorch-idl/lib/python3.9/site-packages/torch/utils/data/dataloader.py\", line 1601, in _shutdown_workers\n",
      "    if w.is_alive():\n",
      "  File \"/home/admin/anaconda3/envs/pytorch-idl/lib/python3.9/multiprocessing/process.py\", line 160, in is_alive\n",
      "    assert self._parent_pid == os.getpid(), 'can only test a child process'\n",
      "AssertionError: can only test a child process\n",
      "Exception ignored in: <function _MultiProcessingDataLoaderIter.__del__ at 0x7f3cbfe270d0>\n",
      "Traceback (most recent call last):\n",
      "  File \"/home/admin/anaconda3/envs/pytorch-idl/lib/python3.9/site-packages/torch/utils/data/dataloader.py\", line 1618, in __del__\n",
      "    self._shutdown_workers()\n",
      "  File \"/home/admin/anaconda3/envs/pytorch-idl/lib/python3.9/site-packages/torch/utils/data/dataloader.py\", line 1601, in _shutdown_workers\n",
      "    if w.is_alive():\n",
      "  File \"/home/admin/anaconda3/envs/pytorch-idl/lib/python3.9/multiprocessing/process.py\", line 160, in is_alive\n",
      "    assert self._parent_pid == os.getpid(), 'can only test a child process'\n",
      "AssertionError: can only test a child process\n",
      "Exception ignored in: <function _MultiProcessingDataLoaderIter.__del__ at 0x7f3cbfe270d0>\n",
      "Traceback (most recent call last):\n",
      "  File \"/home/admin/anaconda3/envs/pytorch-idl/lib/python3.9/site-packages/torch/utils/data/dataloader.py\", line 1618, in __del__\n",
      "    self._shutdown_workers()\n",
      "  File \"/home/admin/anaconda3/envs/pytorch-idl/lib/python3.9/site-packages/torch/utils/data/dataloader.py\", line 1601, in _shutdown_workers\n",
      "    if w.is_alive():\n",
      "  File \"/home/admin/anaconda3/envs/pytorch-idl/lib/python3.9/multiprocessing/process.py\", line 160, in is_alive\n",
      "    assert self._parent_pid == os.getpid(), 'can only test a child process'\n",
      "AssertionError: can only test a child process\n",
      "Exception ignored in: <function _MultiProcessingDataLoaderIter.__del__ at 0x7f3cbfe270d0>\n",
      "Traceback (most recent call last):\n",
      "  File \"/home/admin/anaconda3/envs/pytorch-idl/lib/python3.9/site-packages/torch/utils/data/dataloader.py\", line 1618, in __del__\n",
      "    self._shutdown_workers()\n",
      "  File \"/home/admin/anaconda3/envs/pytorch-idl/lib/python3.9/site-packages/torch/utils/data/dataloader.py\", line 1601, in _shutdown_workers\n",
      "    if w.is_alive():\n",
      "  File \"/home/admin/anaconda3/envs/pytorch-idl/lib/python3.9/multiprocessing/process.py\", line 160, in is_alive\n",
      "    assert self._parent_pid == os.getpid(), 'can only test a child process'\n",
      "AssertionError: can only test a child process\n",
      "Exception ignored in: <function _MultiProcessingDataLoaderIter.__del__ at 0x7f3cbfe270d0>\n",
      "Traceback (most recent call last):\n",
      "  File \"/home/admin/anaconda3/envs/pytorch-idl/lib/python3.9/site-packages/torch/utils/data/dataloader.py\", line 1618, in __del__\n",
      "    self._shutdown_workers()\n",
      "  File \"/home/admin/anaconda3/envs/pytorch-idl/lib/python3.9/site-packages/torch/utils/data/dataloader.py\", line 1601, in _shutdown_workers\n",
      "    if w.is_alive():\n",
      "  File \"/home/admin/anaconda3/envs/pytorch-idl/lib/python3.9/multiprocessing/process.py\", line 160, in is_alive\n",
      "    assert self._parent_pid == os.getpid(), 'can only test a child process'\n",
      "AssertionError: can only test a child process\n",
      "Exception ignored in: <function _MultiProcessingDataLoaderIter.__del__ at 0x7f3cbfe270d0>\n",
      "Traceback (most recent call last):\n",
      "  File \"/home/admin/anaconda3/envs/pytorch-idl/lib/python3.9/site-packages/torch/utils/data/dataloader.py\", line 1618, in __del__\n",
      "    self._shutdown_workers()\n",
      "  File \"/home/admin/anaconda3/envs/pytorch-idl/lib/python3.9/site-packages/torch/utils/data/dataloader.py\", line 1601, in _shutdown_workers\n",
      "    if w.is_alive():\n",
      "  File \"/home/admin/anaconda3/envs/pytorch-idl/lib/python3.9/multiprocessing/process.py\", line 160, in is_alive\n",
      "    assert self._parent_pid == os.getpid(), 'can only test a child process'\n",
      "AssertionError: can only test a child process\n",
      "Exception ignored in: <function _MultiProcessingDataLoaderIter.__del__ at 0x7f3cbfe270d0>\n",
      "Traceback (most recent call last):\n",
      "  File \"/home/admin/anaconda3/envs/pytorch-idl/lib/python3.9/site-packages/torch/utils/data/dataloader.py\", line 1618, in __del__\n",
      "    self._shutdown_workers()\n",
      "  File \"/home/admin/anaconda3/envs/pytorch-idl/lib/python3.9/site-packages/torch/utils/data/dataloader.py\", line 1601, in _shutdown_workers\n",
      "    if w.is_alive():\n",
      "  File \"/home/admin/anaconda3/envs/pytorch-idl/lib/python3.9/multiprocessing/process.py\", line 160, in is_alive\n",
      "    assert self._parent_pid == os.getpid(), 'can only test a child process'\n",
      "AssertionError: can only test a child process\n",
      "Exception ignored in: <function _MultiProcessingDataLoaderIter.__del__ at 0x7f3cbfe270d0>\n",
      "Traceback (most recent call last):\n",
      "  File \"/home/admin/anaconda3/envs/pytorch-idl/lib/python3.9/site-packages/torch/utils/data/dataloader.py\", line 1618, in __del__\n",
      "    self._shutdown_workers()\n",
      "  File \"/home/admin/anaconda3/envs/pytorch-idl/lib/python3.9/site-packages/torch/utils/data/dataloader.py\", line 1601, in _shutdown_workers\n",
      "    if w.is_alive():\n",
      "  File \"/home/admin/anaconda3/envs/pytorch-idl/lib/python3.9/multiprocessing/process.py\", line 160, in is_alive\n",
      "    assert self._parent_pid == os.getpid(), 'can only test a child process'\n",
      "AssertionError: can only test a child process\n",
      "Exception ignored in: <function _MultiProcessingDataLoaderIter.__del__ at 0x7f3cbfe270d0>\n",
      "Traceback (most recent call last):\n",
      "  File \"/home/admin/anaconda3/envs/pytorch-idl/lib/python3.9/site-packages/torch/utils/data/dataloader.py\", line 1618, in __del__\n",
      "    self._shutdown_workers()\n",
      "  File \"/home/admin/anaconda3/envs/pytorch-idl/lib/python3.9/site-packages/torch/utils/data/dataloader.py\", line 1601, in _shutdown_workers\n",
      "    if w.is_alive():\n",
      "  File \"/home/admin/anaconda3/envs/pytorch-idl/lib/python3.9/multiprocessing/process.py\", line 160, in is_alive\n",
      "    assert self._parent_pid == os.getpid(), 'can only test a child process'\n",
      "AssertionError: can only test a child process\n",
      "Exception ignored in: <function _MultiProcessingDataLoaderIter.__del__ at 0x7f3cbfe270d0>\n",
      "Traceback (most recent call last):\n",
      "  File \"/home/admin/anaconda3/envs/pytorch-idl/lib/python3.9/site-packages/torch/utils/data/dataloader.py\", line 1618, in __del__\n",
      "    self._shutdown_workers()\n",
      "  File \"/home/admin/anaconda3/envs/pytorch-idl/lib/python3.9/site-packages/torch/utils/data/dataloader.py\", line 1601, in _shutdown_workers\n",
      "    if w.is_alive():\n",
      "  File \"/home/admin/anaconda3/envs/pytorch-idl/lib/python3.9/multiprocessing/process.py\", line 160, in is_alive\n",
      "    assert self._parent_pid == os.getpid(), 'can only test a child process'\n",
      "AssertionError: can only test a child process\n"
     ]
    },
    {
     "data": {
      "application/vnd.jupyter.widget-view+json": {
       "model_id": "40aa471c493d4b1596463819c21bc084",
       "version_major": 2,
       "version_minor": 0
      },
      "text/plain": [
       "[val]:   0%|          | 0/71 [00:00<?, ?it/s]"
      ]
     },
     "metadata": {},
     "output_type": "display_data"
    },
    {
     "name": "stderr",
     "output_type": "stream",
     "text": [
      "Exception ignored in: <function _MultiProcessingDataLoaderIter.__del__ at 0x7f3cbfe270d0>\n",
      "Traceback (most recent call last):\n",
      "  File \"/home/admin/anaconda3/envs/pytorch-idl/lib/python3.9/site-packages/torch/utils/data/dataloader.py\", line 1618, in __del__\n",
      "    self._shutdown_workers()\n",
      "  File \"/home/admin/anaconda3/envs/pytorch-idl/lib/python3.9/site-packages/torch/utils/data/dataloader.py\", line 1601, in _shutdown_workers\n",
      "    if w.is_alive():\n",
      "  File \"/home/admin/anaconda3/envs/pytorch-idl/lib/python3.9/multiprocessing/process.py\", line 160, in is_alive\n",
      "    Exception ignored in: assert self._parent_pid == os.getpid(), 'can only test a child process'\n",
      "AssertionError<function _MultiProcessingDataLoaderIter.__del__ at 0x7f3cbfe270d0>: \n",
      "can only test a child process\n",
      "Traceback (most recent call last):\n",
      "  File \"/home/admin/anaconda3/envs/pytorch-idl/lib/python3.9/site-packages/torch/utils/data/dataloader.py\", line 1618, in __del__\n",
      "    Exception ignored in: self._shutdown_workers()<function _MultiProcessingDataLoaderIter.__del__ at 0x7f3cbfe270d0>\n",
      "\n",
      "  File \"/home/admin/anaconda3/envs/pytorch-idl/lib/python3.9/site-packages/torch/utils/data/dataloader.py\", line 1601, in _shutdown_workers\n",
      "Traceback (most recent call last):\n",
      "      File \"/home/admin/anaconda3/envs/pytorch-idl/lib/python3.9/site-packages/torch/utils/data/dataloader.py\", line 1618, in __del__\n",
      "if w.is_alive():\n",
      "      File \"/home/admin/anaconda3/envs/pytorch-idl/lib/python3.9/multiprocessing/process.py\", line 160, in is_alive\n",
      "self._shutdown_workers()    assert self._parent_pid == os.getpid(), 'can only test a child process'\n",
      "\n",
      "AssertionError  File \"/home/admin/anaconda3/envs/pytorch-idl/lib/python3.9/site-packages/torch/utils/data/dataloader.py\", line 1601, in _shutdown_workers\n",
      ": can only test a child process    \n",
      "if w.is_alive():\n",
      "  File \"/home/admin/anaconda3/envs/pytorch-idl/lib/python3.9/multiprocessing/process.py\", line 160, in is_alive\n",
      "Exception ignored in:     assert self._parent_pid == os.getpid(), 'can only test a child process'<function _MultiProcessingDataLoaderIter.__del__ at 0x7f3cbfe270d0>\n",
      "\n",
      "Traceback (most recent call last):\n",
      "AssertionError  File \"/home/admin/anaconda3/envs/pytorch-idl/lib/python3.9/site-packages/torch/utils/data/dataloader.py\", line 1618, in __del__\n",
      ":     can only test a child processself._shutdown_workers()\n",
      "\n",
      "  File \"/home/admin/anaconda3/envs/pytorch-idl/lib/python3.9/site-packages/torch/utils/data/dataloader.py\", line 1601, in _shutdown_workers\n",
      "    Exception ignored in: if w.is_alive():<function _MultiProcessingDataLoaderIter.__del__ at 0x7f3cbfe270d0>\n",
      "  File \"/home/admin/anaconda3/envs/pytorch-idl/lib/python3.9/multiprocessing/process.py\", line 160, in is_alive\n",
      "\n",
      "Traceback (most recent call last):\n",
      "      File \"/home/admin/anaconda3/envs/pytorch-idl/lib/python3.9/site-packages/torch/utils/data/dataloader.py\", line 1618, in __del__\n",
      "assert self._parent_pid == os.getpid(), 'can only test a child process'    \n",
      "self._shutdown_workers()AssertionError\n",
      ":   File \"/home/admin/anaconda3/envs/pytorch-idl/lib/python3.9/site-packages/torch/utils/data/dataloader.py\", line 1601, in _shutdown_workers\n",
      "can only test a child process    \n",
      "if w.is_alive():\n",
      "  File \"/home/admin/anaconda3/envs/pytorch-idl/lib/python3.9/multiprocessing/process.py\", line 160, in is_alive\n",
      "Exception ignored in:     <function _MultiProcessingDataLoaderIter.__del__ at 0x7f3cbfe270d0>assert self._parent_pid == os.getpid(), 'can only test a child process'\n",
      "\n",
      "Traceback (most recent call last):\n",
      "AssertionError  File \"/home/admin/anaconda3/envs/pytorch-idl/lib/python3.9/site-packages/torch/utils/data/dataloader.py\", line 1618, in __del__\n",
      ": can only test a child process    \n",
      "self._shutdown_workers()\n",
      "  File \"/home/admin/anaconda3/envs/pytorch-idl/lib/python3.9/site-packages/torch/utils/data/dataloader.py\", line 1601, in _shutdown_workers\n",
      "    if w.is_alive():Exception ignored in: \n",
      "<function _MultiProcessingDataLoaderIter.__del__ at 0x7f3cbfe270d0>  File \"/home/admin/anaconda3/envs/pytorch-idl/lib/python3.9/multiprocessing/process.py\", line 160, in is_alive\n",
      "\n",
      "    Traceback (most recent call last):\n",
      "assert self._parent_pid == os.getpid(), 'can only test a child process'  File \"/home/admin/anaconda3/envs/pytorch-idl/lib/python3.9/site-packages/torch/utils/data/dataloader.py\", line 1618, in __del__\n",
      "\n",
      "AssertionError    : self._shutdown_workers()can only test a child process\n",
      "\n",
      "  File \"/home/admin/anaconda3/envs/pytorch-idl/lib/python3.9/site-packages/torch/utils/data/dataloader.py\", line 1601, in _shutdown_workers\n",
      "    if w.is_alive():Exception ignored in: \n",
      "<function _MultiProcessingDataLoaderIter.__del__ at 0x7f3cbfe270d0>  File \"/home/admin/anaconda3/envs/pytorch-idl/lib/python3.9/multiprocessing/process.py\", line 160, in is_alive\n",
      "\n",
      "    Traceback (most recent call last):\n",
      "assert self._parent_pid == os.getpid(), 'can only test a child process'  File \"/home/admin/anaconda3/envs/pytorch-idl/lib/python3.9/site-packages/torch/utils/data/dataloader.py\", line 1618, in __del__\n",
      "\n",
      "    AssertionErrorself._shutdown_workers(): \n",
      "can only test a child process  File \"/home/admin/anaconda3/envs/pytorch-idl/lib/python3.9/site-packages/torch/utils/data/dataloader.py\", line 1601, in _shutdown_workers\n",
      "\n",
      "    if w.is_alive():Exception ignored in: <function _MultiProcessingDataLoaderIter.__del__ at 0x7f3cbfe270d0>\n",
      "\n",
      "  File \"/home/admin/anaconda3/envs/pytorch-idl/lib/python3.9/multiprocessing/process.py\", line 160, in is_alive\n",
      "Traceback (most recent call last):\n",
      "      File \"/home/admin/anaconda3/envs/pytorch-idl/lib/python3.9/site-packages/torch/utils/data/dataloader.py\", line 1618, in __del__\n",
      "assert self._parent_pid == os.getpid(), 'can only test a child process'    \n",
      "self._shutdown_workers()AssertionError\n",
      ":   File \"/home/admin/anaconda3/envs/pytorch-idl/lib/python3.9/site-packages/torch/utils/data/dataloader.py\", line 1601, in _shutdown_workers\n",
      "    can only test a child processif w.is_alive():\n",
      "\n",
      "  File \"/home/admin/anaconda3/envs/pytorch-idl/lib/python3.9/multiprocessing/process.py\", line 160, in is_alive\n",
      "    Exception ignored in: assert self._parent_pid == os.getpid(), 'can only test a child process'\n",
      "<function _MultiProcessingDataLoaderIter.__del__ at 0x7f3cbfe270d0>AssertionError\n",
      "Traceback (most recent call last):\n",
      ":   File \"/home/admin/anaconda3/envs/pytorch-idl/lib/python3.9/site-packages/torch/utils/data/dataloader.py\", line 1618, in __del__\n",
      "can only test a child process    \n",
      "self._shutdown_workers()\n",
      "  File \"/home/admin/anaconda3/envs/pytorch-idl/lib/python3.9/site-packages/torch/utils/data/dataloader.py\", line 1601, in _shutdown_workers\n",
      "Exception ignored in:     if w.is_alive():<function _MultiProcessingDataLoaderIter.__del__ at 0x7f3cbfe270d0>\n",
      "\n",
      "  File \"/home/admin/anaconda3/envs/pytorch-idl/lib/python3.9/multiprocessing/process.py\", line 160, in is_alive\n",
      "Traceback (most recent call last):\n",
      "      File \"/home/admin/anaconda3/envs/pytorch-idl/lib/python3.9/site-packages/torch/utils/data/dataloader.py\", line 1618, in __del__\n",
      "assert self._parent_pid == os.getpid(), 'can only test a child process'    self._shutdown_workers()\n",
      "AssertionError\n",
      ":   File \"/home/admin/anaconda3/envs/pytorch-idl/lib/python3.9/site-packages/torch/utils/data/dataloader.py\", line 1601, in _shutdown_workers\n",
      "can only test a child process\n",
      "    if w.is_alive():\n",
      "  File \"/home/admin/anaconda3/envs/pytorch-idl/lib/python3.9/multiprocessing/process.py\", line 160, in is_alive\n",
      "Exception ignored in:     <function _MultiProcessingDataLoaderIter.__del__ at 0x7f3cbfe270d0>assert self._parent_pid == os.getpid(), 'can only test a child process'\n",
      "\n",
      "Traceback (most recent call last):\n",
      "AssertionError  File \"/home/admin/anaconda3/envs/pytorch-idl/lib/python3.9/site-packages/torch/utils/data/dataloader.py\", line 1618, in __del__\n",
      ": can only test a child process    \n",
      "self._shutdown_workers()\n",
      "  File \"/home/admin/anaconda3/envs/pytorch-idl/lib/python3.9/site-packages/torch/utils/data/dataloader.py\", line 1601, in _shutdown_workers\n",
      "Exception ignored in:     <function _MultiProcessingDataLoaderIter.__del__ at 0x7f3cbfe270d0>if w.is_alive():\n",
      "\n",
      "Traceback (most recent call last):\n",
      "  File \"/home/admin/anaconda3/envs/pytorch-idl/lib/python3.9/multiprocessing/process.py\", line 160, in is_alive\n",
      "  File \"/home/admin/anaconda3/envs/pytorch-idl/lib/python3.9/site-packages/torch/utils/data/dataloader.py\", line 1618, in __del__\n",
      "        assert self._parent_pid == os.getpid(), 'can only test a child process'\n",
      "self._shutdown_workers()AssertionError\n",
      ":   File \"/home/admin/anaconda3/envs/pytorch-idl/lib/python3.9/site-packages/torch/utils/data/dataloader.py\", line 1601, in _shutdown_workers\n",
      "can only test a child process    \n",
      "if w.is_alive():\n",
      "  File \"/home/admin/anaconda3/envs/pytorch-idl/lib/python3.9/multiprocessing/process.py\", line 160, in is_alive\n",
      "Exception ignored in:     <function _MultiProcessingDataLoaderIter.__del__ at 0x7f3cbfe270d0>assert self._parent_pid == os.getpid(), 'can only test a child process'\n",
      "\n",
      "Traceback (most recent call last):\n",
      "AssertionError  File \"/home/admin/anaconda3/envs/pytorch-idl/lib/python3.9/site-packages/torch/utils/data/dataloader.py\", line 1618, in __del__\n",
      ": can only test a child process    \n",
      "self._shutdown_workers()\n",
      "  File \"/home/admin/anaconda3/envs/pytorch-idl/lib/python3.9/site-packages/torch/utils/data/dataloader.py\", line 1601, in _shutdown_workers\n",
      "Exception ignored in:     <function _MultiProcessingDataLoaderIter.__del__ at 0x7f3cbfe270d0>\n",
      "if w.is_alive():Traceback (most recent call last):\n",
      "\n",
      "  File \"/home/admin/anaconda3/envs/pytorch-idl/lib/python3.9/multiprocessing/process.py\", line 160, in is_alive\n",
      "      File \"/home/admin/anaconda3/envs/pytorch-idl/lib/python3.9/site-packages/torch/utils/data/dataloader.py\", line 1618, in __del__\n",
      "assert self._parent_pid == os.getpid(), 'can only test a child process'    \n",
      "self._shutdown_workers()AssertionError\n",
      ":   File \"/home/admin/anaconda3/envs/pytorch-idl/lib/python3.9/site-packages/torch/utils/data/dataloader.py\", line 1601, in _shutdown_workers\n",
      "can only test a child process\n",
      "    if w.is_alive():\n",
      "Exception ignored in:   File \"/home/admin/anaconda3/envs/pytorch-idl/lib/python3.9/multiprocessing/process.py\", line 160, in is_alive\n",
      "<function _MultiProcessingDataLoaderIter.__del__ at 0x7f3cbfe270d0>    \n",
      "assert self._parent_pid == os.getpid(), 'can only test a child process'Traceback (most recent call last):\n",
      "\n",
      "  File \"/home/admin/anaconda3/envs/pytorch-idl/lib/python3.9/site-packages/torch/utils/data/dataloader.py\", line 1618, in __del__\n",
      "AssertionError    : self._shutdown_workers()\n",
      "can only test a child process  File \"/home/admin/anaconda3/envs/pytorch-idl/lib/python3.9/site-packages/torch/utils/data/dataloader.py\", line 1601, in _shutdown_workers\n",
      "\n",
      "    if w.is_alive():Exception ignored in: \n",
      "<function _MultiProcessingDataLoaderIter.__del__ at 0x7f3cbfe270d0>  File \"/home/admin/anaconda3/envs/pytorch-idl/lib/python3.9/multiprocessing/process.py\", line 160, in is_alive\n",
      "\n",
      "    Traceback (most recent call last):\n",
      "assert self._parent_pid == os.getpid(), 'can only test a child process'  File \"/home/admin/anaconda3/envs/pytorch-idl/lib/python3.9/site-packages/torch/utils/data/dataloader.py\", line 1618, in __del__\n",
      "\n",
      "AssertionError    : can only test a child processself._shutdown_workers()\n",
      "\n",
      "  File \"/home/admin/anaconda3/envs/pytorch-idl/lib/python3.9/site-packages/torch/utils/data/dataloader.py\", line 1601, in _shutdown_workers\n",
      "    Exception ignored in: <function _MultiProcessingDataLoaderIter.__del__ at 0x7f3cbfe270d0>if w.is_alive():\n",
      "\n",
      "  File \"/home/admin/anaconda3/envs/pytorch-idl/lib/python3.9/multiprocessing/process.py\", line 160, in is_alive\n",
      "Traceback (most recent call last):\n",
      "      File \"/home/admin/anaconda3/envs/pytorch-idl/lib/python3.9/site-packages/torch/utils/data/dataloader.py\", line 1618, in __del__\n",
      "assert self._parent_pid == os.getpid(), 'can only test a child process'    \n",
      "self._shutdown_workers()AssertionError\n",
      ":   File \"/home/admin/anaconda3/envs/pytorch-idl/lib/python3.9/site-packages/torch/utils/data/dataloader.py\", line 1601, in _shutdown_workers\n",
      "can only test a child process\n",
      "    if w.is_alive():\n",
      "  File \"/home/admin/anaconda3/envs/pytorch-idl/lib/python3.9/multiprocessing/process.py\", line 160, in is_alive\n",
      "Exception ignored in:     <function _MultiProcessingDataLoaderIter.__del__ at 0x7f3cbfe270d0>assert self._parent_pid == os.getpid(), 'can only test a child process'\n",
      "\n",
      "AssertionErrorTraceback (most recent call last):\n",
      ":   File \"/home/admin/anaconda3/envs/pytorch-idl/lib/python3.9/site-packages/torch/utils/data/dataloader.py\", line 1618, in __del__\n",
      "can only test a child process\n",
      "    self._shutdown_workers()\n",
      "  File \"/home/admin/anaconda3/envs/pytorch-idl/lib/python3.9/site-packages/torch/utils/data/dataloader.py\", line 1601, in _shutdown_workers\n",
      "    Exception ignored in: if w.is_alive():<function _MultiProcessingDataLoaderIter.__del__ at 0x7f3cbfe270d0>\n",
      "\n",
      "  File \"/home/admin/anaconda3/envs/pytorch-idl/lib/python3.9/multiprocessing/process.py\", line 160, in is_alive\n",
      "Traceback (most recent call last):\n",
      "      File \"/home/admin/anaconda3/envs/pytorch-idl/lib/python3.9/site-packages/torch/utils/data/dataloader.py\", line 1618, in __del__\n",
      "assert self._parent_pid == os.getpid(), 'can only test a child process'\n",
      "    AssertionErrorself._shutdown_workers(): \n",
      "can only test a child process  File \"/home/admin/anaconda3/envs/pytorch-idl/lib/python3.9/site-packages/torch/utils/data/dataloader.py\", line 1601, in _shutdown_workers\n",
      "\n",
      "    if w.is_alive():\n",
      "  File \"/home/admin/anaconda3/envs/pytorch-idl/lib/python3.9/multiprocessing/process.py\", line 160, in is_alive\n",
      "    assert self._parent_pid == os.getpid(), 'can only test a child process'Exception ignored in: \n",
      "AssertionError<function _MultiProcessingDataLoaderIter.__del__ at 0x7f3cbfe270d0>: \n",
      "Traceback (most recent call last):\n",
      "can only test a child process  File \"/home/admin/anaconda3/envs/pytorch-idl/lib/python3.9/site-packages/torch/utils/data/dataloader.py\", line 1618, in __del__\n",
      "\n",
      "    self._shutdown_workers()Exception ignored in: \n",
      "  File \"/home/admin/anaconda3/envs/pytorch-idl/lib/python3.9/site-packages/torch/utils/data/dataloader.py\", line 1601, in _shutdown_workers\n",
      "<function _MultiProcessingDataLoaderIter.__del__ at 0x7f3cbfe270d0>    \n",
      "Traceback (most recent call last):\n",
      "if w.is_alive():  File \"/home/admin/anaconda3/envs/pytorch-idl/lib/python3.9/site-packages/torch/utils/data/dataloader.py\", line 1618, in __del__\n",
      "\n",
      "  File \"/home/admin/anaconda3/envs/pytorch-idl/lib/python3.9/multiprocessing/process.py\", line 160, in is_alive\n",
      "    self._shutdown_workers()    \n",
      "  File \"/home/admin/anaconda3/envs/pytorch-idl/lib/python3.9/site-packages/torch/utils/data/dataloader.py\", line 1601, in _shutdown_workers\n",
      "assert self._parent_pid == os.getpid(), 'can only test a child process'    if w.is_alive():\n",
      "  File \"/home/admin/anaconda3/envs/pytorch-idl/lib/python3.9/multiprocessing/process.py\", line 160, in is_alive\n",
      "\n",
      "    assert self._parent_pid == os.getpid(), 'can only test a child process'AssertionError: can only test a child process\n",
      "AssertionError: \n",
      "can only test a child process\n",
      "Exception ignored in: <function _MultiProcessingDataLoaderIter.__del__ at 0x7f3cbfe270d0>\n",
      "Traceback (most recent call last):\n",
      "  File \"/home/admin/anaconda3/envs/pytorch-idl/lib/python3.9/site-packages/torch/utils/data/dataloader.py\", line 1618, in __del__\n",
      "    self._shutdown_workers()\n",
      "  File \"/home/admin/anaconda3/envs/pytorch-idl/lib/python3.9/site-packages/torch/utils/data/dataloader.py\", line 1601, in _shutdown_workers\n",
      "    if w.is_alive():\n",
      "  File \"/home/admin/anaconda3/envs/pytorch-idl/lib/python3.9/multiprocessing/process.py\", line 160, in is_alive\n",
      "    assert self._parent_pid == os.getpid(), 'can only test a child process'\n",
      "AssertionError: can only test a child process\n",
      "Exception ignored in: <function _MultiProcessingDataLoaderIter.__del__ at 0x7f3cbfe270d0>\n",
      "Traceback (most recent call last):\n",
      "  File \"/home/admin/anaconda3/envs/pytorch-idl/lib/python3.9/site-packages/torch/utils/data/dataloader.py\", line 1618, in __del__\n",
      "    self._shutdown_workers()\n",
      "  File \"/home/admin/anaconda3/envs/pytorch-idl/lib/python3.9/site-packages/torch/utils/data/dataloader.py\", line 1601, in _shutdown_workers\n",
      "    if w.is_alive():\n",
      "  File \"/home/admin/anaconda3/envs/pytorch-idl/lib/python3.9/multiprocessing/process.py\", line 160, in is_alive\n",
      "    assert self._parent_pid == os.getpid(), 'can only test a child process'\n",
      "AssertionError: can only test a child process\n",
      "Exception ignored in: <function _MultiProcessingDataLoaderIter.__del__ at 0x7f3cbfe270d0>\n",
      "Traceback (most recent call last):\n",
      "  File \"/home/admin/anaconda3/envs/pytorch-idl/lib/python3.9/site-packages/torch/utils/data/dataloader.py\", line 1618, in __del__\n",
      "    self._shutdown_workers()\n",
      "  File \"/home/admin/anaconda3/envs/pytorch-idl/lib/python3.9/site-packages/torch/utils/data/dataloader.py\", line 1601, in _shutdown_workers\n",
      "    if w.is_alive():\n",
      "  File \"/home/admin/anaconda3/envs/pytorch-idl/lib/python3.9/multiprocessing/process.py\", line 160, in is_alive\n",
      "    assert self._parent_pid == os.getpid(), 'can only test a child process'\n",
      "AssertionError: can only test a child process\n",
      "Exception ignored in: <function _MultiProcessingDataLoaderIter.__del__ at 0x7f3cbfe270d0>\n",
      "Traceback (most recent call last):\n",
      "  File \"/home/admin/anaconda3/envs/pytorch-idl/lib/python3.9/site-packages/torch/utils/data/dataloader.py\", line 1618, in __del__\n",
      "    self._shutdown_workers()\n",
      "  File \"/home/admin/anaconda3/envs/pytorch-idl/lib/python3.9/site-packages/torch/utils/data/dataloader.py\", line 1601, in _shutdown_workers\n",
      "    if w.is_alive():\n",
      "  File \"/home/admin/anaconda3/envs/pytorch-idl/lib/python3.9/multiprocessing/process.py\", line 160, in is_alive\n",
      "    assert self._parent_pid == os.getpid(), 'can only test a child process'\n",
      "AssertionError: can only test a child process\n",
      "Exception ignored in: <function _MultiProcessingDataLoaderIter.__del__ at 0x7f3cbfe270d0>\n",
      "Traceback (most recent call last):\n",
      "  File \"/home/admin/anaconda3/envs/pytorch-idl/lib/python3.9/site-packages/torch/utils/data/dataloader.py\", line 1618, in __del__\n",
      "    self._shutdown_workers()\n",
      "  File \"/home/admin/anaconda3/envs/pytorch-idl/lib/python3.9/site-packages/torch/utils/data/dataloader.py\", line 1601, in _shutdown_workers\n",
      "    if w.is_alive():\n",
      "  File \"/home/admin/anaconda3/envs/pytorch-idl/lib/python3.9/multiprocessing/process.py\", line 160, in is_alive\n",
      "    assert self._parent_pid == os.getpid(), 'can only test a child process'\n",
      "AssertionError: can only test a child process\n",
      "Exception ignored in: <function _MultiProcessingDataLoaderIter.__del__ at 0x7f3cbfe270d0>\n",
      "Traceback (most recent call last):\n",
      "  File \"/home/admin/anaconda3/envs/pytorch-idl/lib/python3.9/site-packages/torch/utils/data/dataloader.py\", line 1618, in __del__\n",
      "    self._shutdown_workers()\n",
      "  File \"/home/admin/anaconda3/envs/pytorch-idl/lib/python3.9/site-packages/torch/utils/data/dataloader.py\", line 1601, in _shutdown_workers\n",
      "    if w.is_alive():\n",
      "  File \"/home/admin/anaconda3/envs/pytorch-idl/lib/python3.9/multiprocessing/process.py\", line 160, in is_alive\n",
      "    assert self._parent_pid == os.getpid(), 'can only test a child process'\n",
      "AssertionError: can only test a child process\n",
      "Exception ignored in: <function _MultiProcessingDataLoaderIter.__del__ at 0x7f3cbfe270d0>\n",
      "Traceback (most recent call last):\n",
      "  File \"/home/admin/anaconda3/envs/pytorch-idl/lib/python3.9/site-packages/torch/utils/data/dataloader.py\", line 1618, in __del__\n",
      "    self._shutdown_workers()\n",
      "  File \"/home/admin/anaconda3/envs/pytorch-idl/lib/python3.9/site-packages/torch/utils/data/dataloader.py\", line 1601, in _shutdown_workers\n",
      "    if w.is_alive():\n",
      "  File \"/home/admin/anaconda3/envs/pytorch-idl/lib/python3.9/multiprocessing/process.py\", line 160, in is_alive\n",
      "    assert self._parent_pid == os.getpid(), 'can only test a child process'\n",
      "AssertionError: can only test a child process\n",
      "Exception ignored in: <function _MultiProcessingDataLoaderIter.__del__ at 0x7f3cbfe270d0>\n",
      "Traceback (most recent call last):\n",
      "  File \"/home/admin/anaconda3/envs/pytorch-idl/lib/python3.9/site-packages/torch/utils/data/dataloader.py\", line 1618, in __del__\n",
      "    self._shutdown_workers()\n",
      "  File \"/home/admin/anaconda3/envs/pytorch-idl/lib/python3.9/site-packages/torch/utils/data/dataloader.py\", line 1601, in _shutdown_workers\n",
      "    if w.is_alive():\n",
      "  File \"/home/admin/anaconda3/envs/pytorch-idl/lib/python3.9/multiprocessing/process.py\", line 160, in is_alive\n",
      "    assert self._parent_pid == os.getpid(), 'can only test a child process'\n",
      "AssertionError: can only test a child process\n",
      "Exception ignored in: <function _MultiProcessingDataLoaderIter.__del__ at 0x7f3cbfe270d0>\n",
      "Traceback (most recent call last):\n",
      "  File \"/home/admin/anaconda3/envs/pytorch-idl/lib/python3.9/site-packages/torch/utils/data/dataloader.py\", line 1618, in __del__\n",
      "    self._shutdown_workers()\n",
      "  File \"/home/admin/anaconda3/envs/pytorch-idl/lib/python3.9/site-packages/torch/utils/data/dataloader.py\", line 1601, in _shutdown_workers\n",
      "    if w.is_alive():\n",
      "  File \"/home/admin/anaconda3/envs/pytorch-idl/lib/python3.9/multiprocessing/process.py\", line 160, in is_alive\n",
      "    assert self._parent_pid == os.getpid(), 'can only test a child process'\n",
      "AssertionError: can only test a child process\n",
      "Exception ignored in: <function _MultiProcessingDataLoaderIter.__del__ at 0x7f3cbfe270d0>\n",
      "Traceback (most recent call last):\n",
      "  File \"/home/admin/anaconda3/envs/pytorch-idl/lib/python3.9/site-packages/torch/utils/data/dataloader.py\", line 1618, in __del__\n",
      "    self._shutdown_workers()\n",
      "  File \"/home/admin/anaconda3/envs/pytorch-idl/lib/python3.9/site-packages/torch/utils/data/dataloader.py\", line 1601, in _shutdown_workers\n",
      "    if w.is_alive():\n",
      "  File \"/home/admin/anaconda3/envs/pytorch-idl/lib/python3.9/multiprocessing/process.py\", line 160, in is_alive\n",
      "    assert self._parent_pid == os.getpid(), 'can only test a child process'\n",
      "AssertionError: can only test a child process\n",
      "Exception ignored in: <function _MultiProcessingDataLoaderIter.__del__ at 0x7f3cbfe270d0>\n",
      "Traceback (most recent call last):\n",
      "  File \"/home/admin/anaconda3/envs/pytorch-idl/lib/python3.9/site-packages/torch/utils/data/dataloader.py\", line 1618, in __del__\n",
      "    self._shutdown_workers()\n",
      "  File \"/home/admin/anaconda3/envs/pytorch-idl/lib/python3.9/site-packages/torch/utils/data/dataloader.py\", line 1601, in _shutdown_workers\n",
      "    if w.is_alive():\n",
      "  File \"/home/admin/anaconda3/envs/pytorch-idl/lib/python3.9/multiprocessing/process.py\", line 160, in is_alive\n",
      "    assert self._parent_pid == os.getpid(), 'can only test a child process'\n",
      "AssertionError: can only test a child process\n"
     ]
    },
    {
     "name": "stdout",
     "output_type": "stream",
     "text": [
      "train: {'loss': 17.950269292257858, 'CER': 0.11331471728739656, 'WER': 0.03656726142414536, 'F1_char': 0.8532457445471486, 'F1_word': 0.7999018047479188}\n",
      "val  : {'loss': 20.833413229022227, 'CER': 0.1086564730450703, 'WER': 0.038714783612013026, 'F1_char': 0.8596584808444402, 'F1_word': 0.7871062380352718}\n",
      "\n",
      "Epoch 15/50\n"
     ]
    },
    {
     "data": {
      "application/vnd.jupyter.widget-view+json": {
       "model_id": "2d5fb17b1af14fa68326d4e807b3f21d",
       "version_major": 2,
       "version_minor": 0
      },
      "text/plain": [
       "[train]:   0%|          | 0/281 [00:00<?, ?it/s]"
      ]
     },
     "metadata": {},
     "output_type": "display_data"
    },
    {
     "data": {
      "application/vnd.jupyter.widget-view+json": {
       "model_id": "b1cec7a6d1a84223bb503e8fe3ad16da",
       "version_major": 2,
       "version_minor": 0
      },
      "text/plain": [
       "[val]:   0%|          | 0/71 [00:00<?, ?it/s]"
      ]
     },
     "metadata": {},
     "output_type": "display_data"
    },
    {
     "name": "stdout",
     "output_type": "stream",
     "text": [
      "train: {'loss': 17.36833166959447, 'CER': 0.11192000138043554, 'WER': 0.03508091315810925, 'F1_char': 0.8547716392754445, 'F1_word': 0.8080705095892493}\n",
      "val  : {'loss': 20.637005549081614, 'CER': 0.10943601333085407, 'WER': 0.035792103519135685, 'F1_char': 0.8592256959019268, 'F1_word': 0.8036825605658822}\n",
      "\n",
      "Epoch 16/50\n"
     ]
    },
    {
     "data": {
      "application/vnd.jupyter.widget-view+json": {
       "model_id": "fa522c6b58bd44af9a6629306c81fb71",
       "version_major": 2,
       "version_minor": 0
      },
      "text/plain": [
       "[train]:   0%|          | 0/281 [00:00<?, ?it/s]"
      ]
     },
     "metadata": {},
     "output_type": "display_data"
    },
    {
     "data": {
      "application/vnd.jupyter.widget-view+json": {
       "model_id": "91da29725cf94aa89e3f85a7d200327b",
       "version_major": 2,
       "version_minor": 0
      },
      "text/plain": [
       "[val]:   0%|          | 0/71 [00:00<?, ?it/s]"
      ]
     },
     "metadata": {},
     "output_type": "display_data"
    },
    {
     "name": "stdout",
     "output_type": "stream",
     "text": [
      "train: {'loss': 16.96505041181829, 'CER': 0.11212647169601381, 'WER': 0.035254657631160716, 'F1_char': 0.8545095385908706, 'F1_word': 0.8069321963242806}\n",
      "val  : {'loss': 23.265044886461446, 'CER': 0.14347593914341158, 'WER': 0.04269353815933136, 'F1_char': 0.8127265550512517, 'F1_word': 0.7645393583702776}\n",
      "\n",
      "Epoch 17/50\n"
     ]
    },
    {
     "data": {
      "application/vnd.jupyter.widget-view+json": {
       "model_id": "e2a47ab70c194c53820d632b10f8f287",
       "version_major": 2,
       "version_minor": 0
      },
      "text/plain": [
       "[train]:   0%|          | 0/281 [00:00<?, ?it/s]"
      ]
     },
     "metadata": {},
     "output_type": "display_data"
    },
    {
     "data": {
      "application/vnd.jupyter.widget-view+json": {
       "model_id": "300ff4c16ed8415d84ec316a2d239d5c",
       "version_major": 2,
       "version_minor": 0
      },
      "text/plain": [
       "[val]:   0%|          | 0/71 [00:00<?, ?it/s]"
      ]
     },
     "metadata": {},
     "output_type": "display_data"
    },
    {
     "name": "stdout",
     "output_type": "stream",
     "text": [
      "train: {'loss': 16.970465465107424, 'CER': 0.11368838690752094, 'WER': 0.03631914003626023, 'F1_char': 0.8527086918341389, 'F1_word': 0.8009526919380934}\n",
      "val  : {'loss': 29.23438735411201, 'CER': 0.17740382093935797, 'WER': 0.0713481994288139, 'F1_char': 0.7767305649096902, 'F1_word': 0.606666706806497}\n",
      "\n",
      "Epoch 18/50\n"
     ]
    },
    {
     "data": {
      "application/vnd.jupyter.widget-view+json": {
       "model_id": "c27766e7a2414d148e78f80b3d1f290d",
       "version_major": 2,
       "version_minor": 0
      },
      "text/plain": [
       "[train]:   0%|          | 0/281 [00:00<?, ?it/s]"
      ]
     },
     "metadata": {},
     "output_type": "display_data"
    },
    {
     "data": {
      "application/vnd.jupyter.widget-view+json": {
       "model_id": "23ce8850edf049bf9739d46c2a3bf577",
       "version_major": 2,
       "version_minor": 0
      },
      "text/plain": [
       "[val]:   0%|          | 0/71 [00:00<?, ?it/s]"
      ]
     },
     "metadata": {},
     "output_type": "display_data"
    },
    {
     "name": "stdout",
     "output_type": "stream",
     "text": [
      "train: {'loss': 16.812948817963914, 'CER': 0.1175851422294867, 'WER': 0.03745442926428141, 'F1_char': 0.8472277367433926, 'F1_word': 0.7945050077540377}\n",
      "val  : {'loss': 20.772614685582443, 'CER': 0.1320689046863006, 'WER': 0.04105817229985839, 'F1_char': 0.8274227326599464, 'F1_word': 0.7736057939523486}\n",
      "\n",
      "Epoch 19/50\n"
     ]
    },
    {
     "data": {
      "application/vnd.jupyter.widget-view+json": {
       "model_id": "188b4312585744f2bb652f6fa23c723b",
       "version_major": 2,
       "version_minor": 0
      },
      "text/plain": [
       "[train]:   0%|          | 0/281 [00:00<?, ?it/s]"
      ]
     },
     "metadata": {},
     "output_type": "display_data"
    },
    {
     "data": {
      "application/vnd.jupyter.widget-view+json": {
       "model_id": "f5c20685b51641ba84d67f80223ee149",
       "version_major": 2,
       "version_minor": 0
      },
      "text/plain": [
       "[val]:   0%|          | 0/71 [00:00<?, ?it/s]"
      ]
     },
     "metadata": {},
     "output_type": "display_data"
    },
    {
     "name": "stdout",
     "output_type": "stream",
     "text": [
      "train: {'loss': 16.285295103872162, 'CER': 0.11518663547993042, 'WER': 0.036254283366525274, 'F1_char': 0.8503360359932776, 'F1_word': 0.8012304121025914}\n",
      "val  : {'loss': 21.375437793387494, 'CER': 0.14784327187599827, 'WER': 0.04820991804099381, 'F1_char': 0.8059572942583652, 'F1_word': 0.7334129119661366}\n",
      "\n",
      "Epoch 20/50\n"
     ]
    },
    {
     "data": {
      "application/vnd.jupyter.widget-view+json": {
       "model_id": "30ff93a9f4e0435d8fcf6be7c589b165",
       "version_major": 2,
       "version_minor": 0
      },
      "text/plain": [
       "[train]:   0%|          | 0/281 [00:00<?, ?it/s]"
      ]
     },
     "metadata": {},
     "output_type": "display_data"
    },
    {
     "name": "stderr",
     "output_type": "stream",
     "text": [
      "Exception ignored in: <function _MultiProcessingDataLoaderIter.__del__ at 0x7f3cbfe270d0>\n",
      "Traceback (most recent call last):\n",
      "  File \"/home/admin/anaconda3/envs/pytorch-idl/lib/python3.9/site-packages/torch/utils/data/dataloader.py\", line 1618, in __del__\n",
      "    self._shutdown_workers()\n",
      "  File \"/home/admin/anaconda3/envs/pytorch-idl/lib/python3.9/site-packages/torch/utils/data/dataloader.py\", line 1601, in _shutdown_workers\n",
      "    if w.is_alive():\n",
      "  File \"/home/admin/anaconda3/envs/pytorch-idl/lib/python3.9/multiprocessing/process.py\", line 160, in is_alive\n",
      "    assert self._parent_pid == os.getpid(), 'can only test a child process'\n",
      "AssertionError: can only test a child process\n",
      "Exception ignored in: <function _MultiProcessingDataLoaderIter.__del__ at 0x7f3cbfe270d0>\n",
      "Traceback (most recent call last):\n",
      "  File \"/home/admin/anaconda3/envs/pytorch-idl/lib/python3.9/site-packages/torch/utils/data/dataloader.py\", line 1618, in __del__\n",
      "    self._shutdown_workers()\n",
      "  File \"/home/admin/anaconda3/envs/pytorch-idl/lib/python3.9/site-packages/torch/utils/data/dataloader.py\", line 1601, in _shutdown_workers\n",
      "    if w.is_alive():\n",
      "  File \"/home/admin/anaconda3/envs/pytorch-idl/lib/python3.9/multiprocessing/process.py\", line 160, in is_alive\n",
      "    assert self._parent_pid == os.getpid(), 'can only test a child process'\n",
      "AssertionError: can only test a child process\n",
      "Exception ignored in: <function _MultiProcessingDataLoaderIter.__del__ at 0x7f3cbfe270d0>\n",
      "Traceback (most recent call last):\n",
      "  File \"/home/admin/anaconda3/envs/pytorch-idl/lib/python3.9/site-packages/torch/utils/data/dataloader.py\", line 1618, in __del__\n",
      "    self._shutdown_workers()\n",
      "  File \"/home/admin/anaconda3/envs/pytorch-idl/lib/python3.9/site-packages/torch/utils/data/dataloader.py\", line 1601, in _shutdown_workers\n",
      "    if w.is_alive():\n",
      "  File \"/home/admin/anaconda3/envs/pytorch-idl/lib/python3.9/multiprocessing/process.py\", line 160, in is_alive\n",
      "    assert self._parent_pid == os.getpid(), 'can only test a child process'\n",
      "AssertionError: can only test a child process\n",
      "Exception ignored in: <function _MultiProcessingDataLoaderIter.__del__ at 0x7f3cbfe270d0>\n",
      "Traceback (most recent call last):\n",
      "  File \"/home/admin/anaconda3/envs/pytorch-idl/lib/python3.9/site-packages/torch/utils/data/dataloader.py\", line 1618, in __del__\n",
      "    self._shutdown_workers()\n",
      "  File \"/home/admin/anaconda3/envs/pytorch-idl/lib/python3.9/site-packages/torch/utils/data/dataloader.py\", line 1601, in _shutdown_workers\n",
      "    if w.is_alive():\n",
      "  File \"/home/admin/anaconda3/envs/pytorch-idl/lib/python3.9/multiprocessing/process.py\", line 160, in is_alive\n",
      "    assert self._parent_pid == os.getpid(), 'can only test a child process'\n",
      "AssertionError: can only test a child process\n",
      "Exception ignored in: <function _MultiProcessingDataLoaderIter.__del__ at 0x7f3cbfe270d0>\n",
      "Traceback (most recent call last):\n",
      "  File \"/home/admin/anaconda3/envs/pytorch-idl/lib/python3.9/site-packages/torch/utils/data/dataloader.py\", line 1618, in __del__\n",
      "    self._shutdown_workers()\n",
      "  File \"/home/admin/anaconda3/envs/pytorch-idl/lib/python3.9/site-packages/torch/utils/data/dataloader.py\", line 1601, in _shutdown_workers\n",
      "    if w.is_alive():\n",
      "  File \"/home/admin/anaconda3/envs/pytorch-idl/lib/python3.9/multiprocessing/process.py\", line 160, in is_alive\n",
      "    assert self._parent_pid == os.getpid(), 'can only test a child process'\n",
      "AssertionError: can only test a child process\n",
      "Exception ignored in: <function _MultiProcessingDataLoaderIter.__del__ at 0x7f3cbfe270d0>\n",
      "Traceback (most recent call last):\n",
      "  File \"/home/admin/anaconda3/envs/pytorch-idl/lib/python3.9/site-packages/torch/utils/data/dataloader.py\", line 1618, in __del__\n",
      "    self._shutdown_workers()\n",
      "  File \"/home/admin/anaconda3/envs/pytorch-idl/lib/python3.9/site-packages/torch/utils/data/dataloader.py\", line 1601, in _shutdown_workers\n",
      "    if w.is_alive():\n",
      "  File \"/home/admin/anaconda3/envs/pytorch-idl/lib/python3.9/multiprocessing/process.py\", line 160, in is_alive\n",
      "    assert self._parent_pid == os.getpid(), 'can only test a child process'\n",
      "AssertionError: can only test a child process\n",
      "Exception ignored in: <function _MultiProcessingDataLoaderIter.__del__ at 0x7f3cbfe270d0>\n",
      "Traceback (most recent call last):\n",
      "  File \"/home/admin/anaconda3/envs/pytorch-idl/lib/python3.9/site-packages/torch/utils/data/dataloader.py\", line 1618, in __del__\n",
      "    self._shutdown_workers()\n",
      "  File \"/home/admin/anaconda3/envs/pytorch-idl/lib/python3.9/site-packages/torch/utils/data/dataloader.py\", line 1601, in _shutdown_workers\n",
      "    if w.is_alive():\n",
      "  File \"/home/admin/anaconda3/envs/pytorch-idl/lib/python3.9/multiprocessing/process.py\", line 160, in is_alive\n",
      "    assert self._parent_pid == os.getpid(), 'can only test a child process'\n",
      "AssertionError: can only test a child process\n",
      "Exception ignored in: <function _MultiProcessingDataLoaderIter.__del__ at 0x7f3cbfe270d0>\n",
      "Traceback (most recent call last):\n",
      "  File \"/home/admin/anaconda3/envs/pytorch-idl/lib/python3.9/site-packages/torch/utils/data/dataloader.py\", line 1618, in __del__\n",
      "    self._shutdown_workers()\n",
      "  File \"/home/admin/anaconda3/envs/pytorch-idl/lib/python3.9/site-packages/torch/utils/data/dataloader.py\", line 1601, in _shutdown_workers\n",
      "    if w.is_alive():\n",
      "  File \"/home/admin/anaconda3/envs/pytorch-idl/lib/python3.9/multiprocessing/process.py\", line 160, in is_alive\n",
      "    assert self._parent_pid == os.getpid(), 'can only test a child process'\n",
      "AssertionError: can only test a child process\n",
      "Exception ignored in: <function _MultiProcessingDataLoaderIter.__del__ at 0x7f3cbfe270d0>\n",
      "Traceback (most recent call last):\n",
      "  File \"/home/admin/anaconda3/envs/pytorch-idl/lib/python3.9/site-packages/torch/utils/data/dataloader.py\", line 1618, in __del__\n",
      "    self._shutdown_workers()\n",
      "  File \"/home/admin/anaconda3/envs/pytorch-idl/lib/python3.9/site-packages/torch/utils/data/dataloader.py\", line 1601, in _shutdown_workers\n",
      "    if w.is_alive():\n",
      "  File \"/home/admin/anaconda3/envs/pytorch-idl/lib/python3.9/multiprocessing/process.py\", line 160, in is_alive\n",
      "    assert self._parent_pid == os.getpid(), 'can only test a child process'\n",
      "AssertionError: can only test a child process\n",
      "Exception ignored in: <function _MultiProcessingDataLoaderIter.__del__ at 0x7f3cbfe270d0>\n",
      "Traceback (most recent call last):\n",
      "  File \"/home/admin/anaconda3/envs/pytorch-idl/lib/python3.9/site-packages/torch/utils/data/dataloader.py\", line 1618, in __del__\n",
      "    self._shutdown_workers()\n",
      "  File \"/home/admin/anaconda3/envs/pytorch-idl/lib/python3.9/site-packages/torch/utils/data/dataloader.py\", line 1601, in _shutdown_workers\n",
      "    if w.is_alive():\n",
      "  File \"/home/admin/anaconda3/envs/pytorch-idl/lib/python3.9/multiprocessing/process.py\", line 160, in is_alive\n",
      "    assert self._parent_pid == os.getpid(), 'can only test a child process'\n",
      "AssertionError: can only test a child process\n"
     ]
    },
    {
     "data": {
      "application/vnd.jupyter.widget-view+json": {
       "model_id": "4566dccc40ae4c5b885f70ea1a18a196",
       "version_major": 2,
       "version_minor": 0
      },
      "text/plain": [
       "[val]:   0%|          | 0/71 [00:00<?, ?it/s]"
      ]
     },
     "metadata": {},
     "output_type": "display_data"
    },
    {
     "name": "stderr",
     "output_type": "stream",
     "text": [
      "Exception ignored in: <function _MultiProcessingDataLoaderIter.__del__ at 0x7f3cbfe270d0>\n",
      "Traceback (most recent call last):\n",
      "  File \"/home/admin/anaconda3/envs/pytorch-idl/lib/python3.9/site-packages/torch/utils/data/dataloader.py\", line 1618, in __del__\n",
      "    self._shutdown_workers()\n",
      "  File \"/home/admin/anaconda3/envs/pytorch-idl/lib/python3.9/site-packages/torch/utils/data/dataloader.py\", line 1601, in _shutdown_workers\n",
      "    if w.is_alive():\n",
      "  File \"/home/admin/anaconda3/envs/pytorch-idl/lib/python3.9/multiprocessing/process.py\", line 160, in is_alive\n",
      "    Exception ignored in: assert self._parent_pid == os.getpid(), 'can only test a child process'\n",
      "<function _MultiProcessingDataLoaderIter.__del__ at 0x7f3cbfe270d0>AssertionError\n",
      ": can only test a child processTraceback (most recent call last):\n",
      "\n",
      "  File \"/home/admin/anaconda3/envs/pytorch-idl/lib/python3.9/site-packages/torch/utils/data/dataloader.py\", line 1618, in __del__\n",
      "    self._shutdown_workers()Exception ignored in: <function _MultiProcessingDataLoaderIter.__del__ at 0x7f3cbfe270d0>\n",
      "\n",
      "  File \"/home/admin/anaconda3/envs/pytorch-idl/lib/python3.9/site-packages/torch/utils/data/dataloader.py\", line 1601, in _shutdown_workers\n",
      "Traceback (most recent call last):\n",
      "      File \"/home/admin/anaconda3/envs/pytorch-idl/lib/python3.9/site-packages/torch/utils/data/dataloader.py\", line 1618, in __del__\n",
      "if w.is_alive():    \n",
      "self._shutdown_workers()  File \"/home/admin/anaconda3/envs/pytorch-idl/lib/python3.9/multiprocessing/process.py\", line 160, in is_alive\n",
      "\n",
      "  File \"/home/admin/anaconda3/envs/pytorch-idl/lib/python3.9/site-packages/torch/utils/data/dataloader.py\", line 1601, in _shutdown_workers\n",
      "    assert self._parent_pid == os.getpid(), 'can only test a child process'    \n",
      "if w.is_alive():\n",
      "AssertionError:   File \"/home/admin/anaconda3/envs/pytorch-idl/lib/python3.9/multiprocessing/process.py\", line 160, in is_alive\n",
      "    can only test a child processassert self._parent_pid == os.getpid(), 'can only test a child process'\n",
      "\n",
      "AssertionError: can only test a child process\n",
      "Exception ignored in: <function _MultiProcessingDataLoaderIter.__del__ at 0x7f3cbfe270d0>\n",
      "Exception ignored in: Traceback (most recent call last):\n",
      "<function _MultiProcessingDataLoaderIter.__del__ at 0x7f3cbfe270d0>\n",
      "  File \"/home/admin/anaconda3/envs/pytorch-idl/lib/python3.9/site-packages/torch/utils/data/dataloader.py\", line 1618, in __del__\n",
      "Traceback (most recent call last):\n",
      "      File \"/home/admin/anaconda3/envs/pytorch-idl/lib/python3.9/site-packages/torch/utils/data/dataloader.py\", line 1618, in __del__\n",
      "self._shutdown_workers()\n",
      "    self._shutdown_workers()  File \"/home/admin/anaconda3/envs/pytorch-idl/lib/python3.9/site-packages/torch/utils/data/dataloader.py\", line 1601, in _shutdown_workers\n",
      "\n",
      "      File \"/home/admin/anaconda3/envs/pytorch-idl/lib/python3.9/site-packages/torch/utils/data/dataloader.py\", line 1601, in _shutdown_workers\n",
      "if w.is_alive():    \n",
      "if w.is_alive():  File \"/home/admin/anaconda3/envs/pytorch-idl/lib/python3.9/multiprocessing/process.py\", line 160, in is_alive\n",
      "\n",
      "  File \"/home/admin/anaconda3/envs/pytorch-idl/lib/python3.9/multiprocessing/process.py\", line 160, in is_alive\n",
      "        assert self._parent_pid == os.getpid(), 'can only test a child process'assert self._parent_pid == os.getpid(), 'can only test a child process'\n",
      "AssertionError\n",
      ": AssertionErrorcan only test a child process: \n",
      "can only test a child process\n",
      "Exception ignored in: <function _MultiProcessingDataLoaderIter.__del__ at 0x7f3cbfe270d0>Exception ignored in: \n",
      "<function _MultiProcessingDataLoaderIter.__del__ at 0x7f3cbfe270d0>Traceback (most recent call last):\n",
      "  File \"/home/admin/anaconda3/envs/pytorch-idl/lib/python3.9/site-packages/torch/utils/data/dataloader.py\", line 1618, in __del__\n",
      "\n",
      "Traceback (most recent call last):\n",
      "      File \"/home/admin/anaconda3/envs/pytorch-idl/lib/python3.9/site-packages/torch/utils/data/dataloader.py\", line 1618, in __del__\n",
      "    self._shutdown_workers()self._shutdown_workers()\n",
      "\n",
      "  File \"/home/admin/anaconda3/envs/pytorch-idl/lib/python3.9/site-packages/torch/utils/data/dataloader.py\", line 1601, in _shutdown_workers\n",
      "  File \"/home/admin/anaconda3/envs/pytorch-idl/lib/python3.9/site-packages/torch/utils/data/dataloader.py\", line 1601, in _shutdown_workers\n",
      "        if w.is_alive():if w.is_alive():\n",
      "\n",
      "  File \"/home/admin/anaconda3/envs/pytorch-idl/lib/python3.9/multiprocessing/process.py\", line 160, in is_alive\n",
      "  File \"/home/admin/anaconda3/envs/pytorch-idl/lib/python3.9/multiprocessing/process.py\", line 160, in is_alive\n",
      "        assert self._parent_pid == os.getpid(), 'can only test a child process'assert self._parent_pid == os.getpid(), 'can only test a child process'\n",
      "\n",
      "AssertionErrorAssertionError: can only test a child process: can only test a child process\n",
      "\n",
      "Exception ignored in: Exception ignored in: <function _MultiProcessingDataLoaderIter.__del__ at 0x7f3cbfe270d0><function _MultiProcessingDataLoaderIter.__del__ at 0x7f3cbfe270d0>\n",
      "\n",
      "Traceback (most recent call last):\n",
      "Traceback (most recent call last):\n",
      "  File \"/home/admin/anaconda3/envs/pytorch-idl/lib/python3.9/site-packages/torch/utils/data/dataloader.py\", line 1618, in __del__\n",
      "  File \"/home/admin/anaconda3/envs/pytorch-idl/lib/python3.9/site-packages/torch/utils/data/dataloader.py\", line 1618, in __del__\n",
      "        self._shutdown_workers()\n",
      "self._shutdown_workers()\n",
      "  File \"/home/admin/anaconda3/envs/pytorch-idl/lib/python3.9/site-packages/torch/utils/data/dataloader.py\", line 1601, in _shutdown_workers\n",
      "  File \"/home/admin/anaconda3/envs/pytorch-idl/lib/python3.9/site-packages/torch/utils/data/dataloader.py\", line 1601, in _shutdown_workers\n",
      "    if w.is_alive():    if w.is_alive():\n",
      "\n",
      "  File \"/home/admin/anaconda3/envs/pytorch-idl/lib/python3.9/multiprocessing/process.py\", line 160, in is_alive\n",
      "  File \"/home/admin/anaconda3/envs/pytorch-idl/lib/python3.9/multiprocessing/process.py\", line 160, in is_alive\n",
      "    assert self._parent_pid == os.getpid(), 'can only test a child process'    \n",
      "assert self._parent_pid == os.getpid(), 'can only test a child process'AssertionError\n",
      "AssertionError: can only test a child process: can only test a child process\n",
      "\n",
      "Exception ignored in: Exception ignored in: <function _MultiProcessingDataLoaderIter.__del__ at 0x7f3cbfe270d0><function _MultiProcessingDataLoaderIter.__del__ at 0x7f3cbfe270d0>\n",
      "\n",
      "Traceback (most recent call last):\n",
      "Traceback (most recent call last):\n",
      "  File \"/home/admin/anaconda3/envs/pytorch-idl/lib/python3.9/site-packages/torch/utils/data/dataloader.py\", line 1618, in __del__\n",
      "  File \"/home/admin/anaconda3/envs/pytorch-idl/lib/python3.9/site-packages/torch/utils/data/dataloader.py\", line 1618, in __del__\n",
      "        self._shutdown_workers()self._shutdown_workers()\n",
      "\n",
      "  File \"/home/admin/anaconda3/envs/pytorch-idl/lib/python3.9/site-packages/torch/utils/data/dataloader.py\", line 1601, in _shutdown_workers\n",
      "  File \"/home/admin/anaconda3/envs/pytorch-idl/lib/python3.9/site-packages/torch/utils/data/dataloader.py\", line 1601, in _shutdown_workers\n",
      "        if w.is_alive():if w.is_alive():\n",
      "\n",
      "  File \"/home/admin/anaconda3/envs/pytorch-idl/lib/python3.9/multiprocessing/process.py\", line 160, in is_alive\n",
      "  File \"/home/admin/anaconda3/envs/pytorch-idl/lib/python3.9/multiprocessing/process.py\", line 160, in is_alive\n",
      "        assert self._parent_pid == os.getpid(), 'can only test a child process'assert self._parent_pid == os.getpid(), 'can only test a child process'\n",
      "\n",
      "AssertionErrorAssertionError: : can only test a child processcan only test a child process\n",
      "\n",
      "Exception ignored in: Exception ignored in: <function _MultiProcessingDataLoaderIter.__del__ at 0x7f3cbfe270d0><function _MultiProcessingDataLoaderIter.__del__ at 0x7f3cbfe270d0>\n",
      "\n",
      "Traceback (most recent call last):\n",
      "Traceback (most recent call last):\n",
      "  File \"/home/admin/anaconda3/envs/pytorch-idl/lib/python3.9/site-packages/torch/utils/data/dataloader.py\", line 1618, in __del__\n",
      "  File \"/home/admin/anaconda3/envs/pytorch-idl/lib/python3.9/site-packages/torch/utils/data/dataloader.py\", line 1618, in __del__\n",
      "    self._shutdown_workers()    \n",
      "self._shutdown_workers()  File \"/home/admin/anaconda3/envs/pytorch-idl/lib/python3.9/site-packages/torch/utils/data/dataloader.py\", line 1601, in _shutdown_workers\n",
      "\n",
      "      File \"/home/admin/anaconda3/envs/pytorch-idl/lib/python3.9/site-packages/torch/utils/data/dataloader.py\", line 1601, in _shutdown_workers\n",
      "if w.is_alive():    \n",
      "if w.is_alive():  File \"/home/admin/anaconda3/envs/pytorch-idl/lib/python3.9/multiprocessing/process.py\", line 160, in is_alive\n",
      "\n",
      "      File \"/home/admin/anaconda3/envs/pytorch-idl/lib/python3.9/multiprocessing/process.py\", line 160, in is_alive\n",
      "assert self._parent_pid == os.getpid(), 'can only test a child process'    \n",
      "assert self._parent_pid == os.getpid(), 'can only test a child process'\n",
      "AssertionError: AssertionErrorcan only test a child process: \n",
      "can only test a child process\n",
      "Exception ignored in: Exception ignored in: <function _MultiProcessingDataLoaderIter.__del__ at 0x7f3cbfe270d0>\n",
      "<function _MultiProcessingDataLoaderIter.__del__ at 0x7f3cbfe270d0>\n",
      "Traceback (most recent call last):\n",
      "Traceback (most recent call last):\n",
      "  File \"/home/admin/anaconda3/envs/pytorch-idl/lib/python3.9/site-packages/torch/utils/data/dataloader.py\", line 1618, in __del__\n",
      "  File \"/home/admin/anaconda3/envs/pytorch-idl/lib/python3.9/site-packages/torch/utils/data/dataloader.py\", line 1618, in __del__\n",
      "    self._shutdown_workers()    \n",
      "self._shutdown_workers()  File \"/home/admin/anaconda3/envs/pytorch-idl/lib/python3.9/site-packages/torch/utils/data/dataloader.py\", line 1601, in _shutdown_workers\n",
      "\n",
      "      File \"/home/admin/anaconda3/envs/pytorch-idl/lib/python3.9/site-packages/torch/utils/data/dataloader.py\", line 1601, in _shutdown_workers\n",
      "if w.is_alive():    \n",
      "if w.is_alive():  File \"/home/admin/anaconda3/envs/pytorch-idl/lib/python3.9/multiprocessing/process.py\", line 160, in is_alive\n",
      "\n",
      "  File \"/home/admin/anaconda3/envs/pytorch-idl/lib/python3.9/multiprocessing/process.py\", line 160, in is_alive\n",
      "        assert self._parent_pid == os.getpid(), 'can only test a child process'assert self._parent_pid == os.getpid(), 'can only test a child process'\n",
      "\n",
      "AssertionErrorAssertionError: : can only test a child processcan only test a child process\n",
      "\n",
      "Exception ignored in: Exception ignored in: <function _MultiProcessingDataLoaderIter.__del__ at 0x7f3cbfe270d0><function _MultiProcessingDataLoaderIter.__del__ at 0x7f3cbfe270d0>\n",
      "\n",
      "Traceback (most recent call last):\n",
      "Traceback (most recent call last):\n",
      "  File \"/home/admin/anaconda3/envs/pytorch-idl/lib/python3.9/site-packages/torch/utils/data/dataloader.py\", line 1618, in __del__\n",
      "  File \"/home/admin/anaconda3/envs/pytorch-idl/lib/python3.9/site-packages/torch/utils/data/dataloader.py\", line 1618, in __del__\n",
      "        self._shutdown_workers()self._shutdown_workers()\n",
      "\n",
      "  File \"/home/admin/anaconda3/envs/pytorch-idl/lib/python3.9/site-packages/torch/utils/data/dataloader.py\", line 1601, in _shutdown_workers\n",
      "      File \"/home/admin/anaconda3/envs/pytorch-idl/lib/python3.9/site-packages/torch/utils/data/dataloader.py\", line 1601, in _shutdown_workers\n",
      "if w.is_alive():    \n",
      "if w.is_alive():  File \"/home/admin/anaconda3/envs/pytorch-idl/lib/python3.9/multiprocessing/process.py\", line 160, in is_alive\n",
      "\n",
      "  File \"/home/admin/anaconda3/envs/pytorch-idl/lib/python3.9/multiprocessing/process.py\", line 160, in is_alive\n",
      "    assert self._parent_pid == os.getpid(), 'can only test a child process'    \n",
      "assert self._parent_pid == os.getpid(), 'can only test a child process'AssertionError\n",
      ": AssertionErrorcan only test a child process: \n",
      "can only test a child process\n",
      "Exception ignored in: Exception ignored in: <function _MultiProcessingDataLoaderIter.__del__ at 0x7f3cbfe270d0><function _MultiProcessingDataLoaderIter.__del__ at 0x7f3cbfe270d0>\n",
      "\n",
      "Traceback (most recent call last):\n",
      "Traceback (most recent call last):\n",
      "  File \"/home/admin/anaconda3/envs/pytorch-idl/lib/python3.9/site-packages/torch/utils/data/dataloader.py\", line 1618, in __del__\n",
      "  File \"/home/admin/anaconda3/envs/pytorch-idl/lib/python3.9/site-packages/torch/utils/data/dataloader.py\", line 1618, in __del__\n",
      "        self._shutdown_workers()self._shutdown_workers()\n",
      "  File \"/home/admin/anaconda3/envs/pytorch-idl/lib/python3.9/site-packages/torch/utils/data/dataloader.py\", line 1601, in _shutdown_workers\n",
      "\n",
      "  File \"/home/admin/anaconda3/envs/pytorch-idl/lib/python3.9/site-packages/torch/utils/data/dataloader.py\", line 1601, in _shutdown_workers\n",
      "    if w.is_alive():    \n",
      "if w.is_alive():  File \"/home/admin/anaconda3/envs/pytorch-idl/lib/python3.9/multiprocessing/process.py\", line 160, in is_alive\n",
      "\n",
      "    assert self._parent_pid == os.getpid(), 'can only test a child process'  File \"/home/admin/anaconda3/envs/pytorch-idl/lib/python3.9/multiprocessing/process.py\", line 160, in is_alive\n",
      "\n",
      "AssertionError    : assert self._parent_pid == os.getpid(), 'can only test a child process'can only test a child process\n",
      "\n",
      "AssertionError: can only test a child processException ignored in: \n",
      "<function _MultiProcessingDataLoaderIter.__del__ at 0x7f3cbfe270d0>\n",
      "Exception ignored in: Traceback (most recent call last):\n",
      "  File \"/home/admin/anaconda3/envs/pytorch-idl/lib/python3.9/site-packages/torch/utils/data/dataloader.py\", line 1618, in __del__\n",
      "    self._shutdown_workers()<function _MultiProcessingDataLoaderIter.__del__ at 0x7f3cbfe270d0>\n",
      "\n",
      "Traceback (most recent call last):\n",
      "  File \"/home/admin/anaconda3/envs/pytorch-idl/lib/python3.9/site-packages/torch/utils/data/dataloader.py\", line 1601, in _shutdown_workers\n",
      "  File \"/home/admin/anaconda3/envs/pytorch-idl/lib/python3.9/site-packages/torch/utils/data/dataloader.py\", line 1618, in __del__\n",
      "        if w.is_alive():self._shutdown_workers()\n",
      "\n",
      "  File \"/home/admin/anaconda3/envs/pytorch-idl/lib/python3.9/multiprocessing/process.py\", line 160, in is_alive\n",
      "    assert self._parent_pid == os.getpid(), 'can only test a child process'\n",
      "  File \"/home/admin/anaconda3/envs/pytorch-idl/lib/python3.9/site-packages/torch/utils/data/dataloader.py\", line 1601, in _shutdown_workers\n",
      "AssertionError    : if w.is_alive():can only test a child process\n",
      "\n",
      "  File \"/home/admin/anaconda3/envs/pytorch-idl/lib/python3.9/multiprocessing/process.py\", line 160, in is_alive\n",
      "    assert self._parent_pid == os.getpid(), 'can only test a child process'\n",
      "AssertionError: can only test a child process\n",
      "Exception ignored in: <function _MultiProcessingDataLoaderIter.__del__ at 0x7f3cbfe270d0>\n",
      "Traceback (most recent call last):\n",
      "  File \"/home/admin/anaconda3/envs/pytorch-idl/lib/python3.9/site-packages/torch/utils/data/dataloader.py\", line 1618, in __del__\n",
      "    self._shutdown_workers()\n",
      "  File \"/home/admin/anaconda3/envs/pytorch-idl/lib/python3.9/site-packages/torch/utils/data/dataloader.py\", line 1601, in _shutdown_workers\n",
      "    if w.is_alive():\n",
      "  File \"/home/admin/anaconda3/envs/pytorch-idl/lib/python3.9/multiprocessing/process.py\", line 160, in is_alive\n",
      "    assert self._parent_pid == os.getpid(), 'can only test a child process'\n",
      "AssertionError: can only test a child process\n",
      "Exception ignored in: <function _MultiProcessingDataLoaderIter.__del__ at 0x7f3cbfe270d0>\n",
      "Traceback (most recent call last):\n",
      "  File \"/home/admin/anaconda3/envs/pytorch-idl/lib/python3.9/site-packages/torch/utils/data/dataloader.py\", line 1618, in __del__\n",
      "    self._shutdown_workers()\n",
      "  File \"/home/admin/anaconda3/envs/pytorch-idl/lib/python3.9/site-packages/torch/utils/data/dataloader.py\", line 1601, in _shutdown_workers\n",
      "    if w.is_alive():\n",
      "  File \"/home/admin/anaconda3/envs/pytorch-idl/lib/python3.9/multiprocessing/process.py\", line 160, in is_alive\n",
      "    assert self._parent_pid == os.getpid(), 'can only test a child process'\n",
      "AssertionError: can only test a child process\n",
      "Exception ignored in: <function _MultiProcessingDataLoaderIter.__del__ at 0x7f3cbfe270d0>\n",
      "Traceback (most recent call last):\n",
      "  File \"/home/admin/anaconda3/envs/pytorch-idl/lib/python3.9/site-packages/torch/utils/data/dataloader.py\", line 1618, in __del__\n",
      "    self._shutdown_workers()\n",
      "  File \"/home/admin/anaconda3/envs/pytorch-idl/lib/python3.9/site-packages/torch/utils/data/dataloader.py\", line 1601, in _shutdown_workers\n",
      "    if w.is_alive():\n",
      "  File \"/home/admin/anaconda3/envs/pytorch-idl/lib/python3.9/multiprocessing/process.py\", line 160, in is_alive\n",
      "    assert self._parent_pid == os.getpid(), 'can only test a child process'\n",
      "AssertionError: can only test a child process\n",
      "Exception ignored in: <function _MultiProcessingDataLoaderIter.__del__ at 0x7f3cbfe270d0>\n",
      "Traceback (most recent call last):\n",
      "  File \"/home/admin/anaconda3/envs/pytorch-idl/lib/python3.9/site-packages/torch/utils/data/dataloader.py\", line 1618, in __del__\n",
      "    self._shutdown_workers()\n",
      "  File \"/home/admin/anaconda3/envs/pytorch-idl/lib/python3.9/site-packages/torch/utils/data/dataloader.py\", line 1601, in _shutdown_workers\n",
      "    if w.is_alive():\n",
      "  File \"/home/admin/anaconda3/envs/pytorch-idl/lib/python3.9/multiprocessing/process.py\", line 160, in is_alive\n",
      "    assert self._parent_pid == os.getpid(), 'can only test a child process'\n",
      "AssertionError: can only test a child process\n",
      "Exception ignored in: <function _MultiProcessingDataLoaderIter.__del__ at 0x7f3cbfe270d0>\n",
      "Traceback (most recent call last):\n",
      "  File \"/home/admin/anaconda3/envs/pytorch-idl/lib/python3.9/site-packages/torch/utils/data/dataloader.py\", line 1618, in __del__\n",
      "    self._shutdown_workers()\n",
      "  File \"/home/admin/anaconda3/envs/pytorch-idl/lib/python3.9/site-packages/torch/utils/data/dataloader.py\", line 1601, in _shutdown_workers\n",
      "    if w.is_alive():\n",
      "  File \"/home/admin/anaconda3/envs/pytorch-idl/lib/python3.9/multiprocessing/process.py\", line 160, in is_alive\n",
      "    assert self._parent_pid == os.getpid(), 'can only test a child process'\n",
      "AssertionError: can only test a child process\n",
      "Exception ignored in: <function _MultiProcessingDataLoaderIter.__del__ at 0x7f3cbfe270d0>\n",
      "Traceback (most recent call last):\n",
      "  File \"/home/admin/anaconda3/envs/pytorch-idl/lib/python3.9/site-packages/torch/utils/data/dataloader.py\", line 1618, in __del__\n",
      "    self._shutdown_workers()\n",
      "  File \"/home/admin/anaconda3/envs/pytorch-idl/lib/python3.9/site-packages/torch/utils/data/dataloader.py\", line 1601, in _shutdown_workers\n",
      "    if w.is_alive():\n",
      "  File \"/home/admin/anaconda3/envs/pytorch-idl/lib/python3.9/multiprocessing/process.py\", line 160, in is_alive\n",
      "    assert self._parent_pid == os.getpid(), 'can only test a child process'\n",
      "AssertionError: can only test a child process\n",
      "Exception ignored in: <function _MultiProcessingDataLoaderIter.__del__ at 0x7f3cbfe270d0>\n",
      "Traceback (most recent call last):\n",
      "  File \"/home/admin/anaconda3/envs/pytorch-idl/lib/python3.9/site-packages/torch/utils/data/dataloader.py\", line 1618, in __del__\n",
      "    self._shutdown_workers()\n",
      "  File \"/home/admin/anaconda3/envs/pytorch-idl/lib/python3.9/site-packages/torch/utils/data/dataloader.py\", line 1601, in _shutdown_workers\n",
      "    if w.is_alive():\n",
      "  File \"/home/admin/anaconda3/envs/pytorch-idl/lib/python3.9/multiprocessing/process.py\", line 160, in is_alive\n",
      "    assert self._parent_pid == os.getpid(), 'can only test a child process'\n",
      "AssertionError: can only test a child process\n",
      "Exception ignored in: <function _MultiProcessingDataLoaderIter.__del__ at 0x7f3cbfe270d0>\n",
      "Traceback (most recent call last):\n",
      "  File \"/home/admin/anaconda3/envs/pytorch-idl/lib/python3.9/site-packages/torch/utils/data/dataloader.py\", line 1618, in __del__\n",
      "    self._shutdown_workers()\n",
      "  File \"/home/admin/anaconda3/envs/pytorch-idl/lib/python3.9/site-packages/torch/utils/data/dataloader.py\", line 1601, in _shutdown_workers\n",
      "    if w.is_alive():\n",
      "  File \"/home/admin/anaconda3/envs/pytorch-idl/lib/python3.9/multiprocessing/process.py\", line 160, in is_alive\n",
      "    assert self._parent_pid == os.getpid(), 'can only test a child process'\n",
      "AssertionError: can only test a child process\n",
      "Exception ignored in: <function _MultiProcessingDataLoaderIter.__del__ at 0x7f3cbfe270d0>\n",
      "Traceback (most recent call last):\n",
      "  File \"/home/admin/anaconda3/envs/pytorch-idl/lib/python3.9/site-packages/torch/utils/data/dataloader.py\", line 1618, in __del__\n",
      "    self._shutdown_workers()\n",
      "if w.is_alive():  File \"/home/admin/anaconda3/envs/pytorch-idl/lib/python3.9/site-packages/torch/utils/data/dataloader.py\", line 1601, in _shutdown_workers\n",
      "    \n",
      "  File \"/home/admin/anaconda3/envs/pytorch-idl/lib/python3.9/multiprocessing/process.py\", line 160, in is_alive\n",
      "    assert self._parent_pid == os.getpid(), 'can only test a child process'\n",
      "AssertionError: can only test a child process\n",
      "Exception ignored in: <function _MultiProcessingDataLoaderIter.__del__ at 0x7f3cbfe270d0>\n",
      "Traceback (most recent call last):\n",
      "  File \"/home/admin/anaconda3/envs/pytorch-idl/lib/python3.9/site-packages/torch/utils/data/dataloader.py\", line 1618, in __del__\n",
      "    self._shutdown_workers()\n",
      "  File \"/home/admin/anaconda3/envs/pytorch-idl/lib/python3.9/site-packages/torch/utils/data/dataloader.py\", line 1601, in _shutdown_workers\n",
      "    if w.is_alive():\n",
      "  File \"/home/admin/anaconda3/envs/pytorch-idl/lib/python3.9/multiprocessing/process.py\", line 160, in is_alive\n",
      "    assert self._parent_pid == os.getpid(), 'can only test a child process'\n",
      "AssertionError: can only test a child process\n",
      "Exception ignored in: <function _MultiProcessingDataLoaderIter.__del__ at 0x7f3cbfe270d0>\n",
      "Traceback (most recent call last):\n",
      "  File \"/home/admin/anaconda3/envs/pytorch-idl/lib/python3.9/site-packages/torch/utils/data/dataloader.py\", line 1618, in __del__\n",
      "    self._shutdown_workers()\n",
      "  File \"/home/admin/anaconda3/envs/pytorch-idl/lib/python3.9/site-packages/torch/utils/data/dataloader.py\", line 1601, in _shutdown_workers\n",
      "    if w.is_alive():\n",
      "  File \"/home/admin/anaconda3/envs/pytorch-idl/lib/python3.9/multiprocessing/process.py\", line 160, in is_alive\n",
      "    assert self._parent_pid == os.getpid(), 'can only test a child process'\n",
      "AssertionError: can only test a child process\n",
      "Exception ignored in: <function _MultiProcessingDataLoaderIter.__del__ at 0x7f3cbfe270d0>\n",
      "Traceback (most recent call last):\n",
      "  File \"/home/admin/anaconda3/envs/pytorch-idl/lib/python3.9/site-packages/torch/utils/data/dataloader.py\", line 1618, in __del__\n",
      "    self._shutdown_workers()\n",
      "  File \"/home/admin/anaconda3/envs/pytorch-idl/lib/python3.9/site-packages/torch/utils/data/dataloader.py\", line 1601, in _shutdown_workers\n",
      "    if w.is_alive():\n",
      "  File \"/home/admin/anaconda3/envs/pytorch-idl/lib/python3.9/multiprocessing/process.py\", line 160, in is_alive\n",
      "    assert self._parent_pid == os.getpid(), 'can only test a child process'\n",
      "AssertionError: can only test a child process\n"
     ]
    },
    {
     "name": "stdout",
     "output_type": "stream",
     "text": [
      "train: {'loss': 15.931801384029864, 'CER': 0.12079227479711466, 'WER': 0.038257104929166404, 'F1_char': 0.8424976010044138, 'F1_word': 0.7896327015359185}\n",
      "val  : {'loss': 20.74256471135247, 'CER': 0.1240255746427703, 'WER': 0.035298633062997346, 'F1_char': 0.837523205842231, 'F1_word': 0.8059818972339445}\n",
      "\n",
      "Epoch 21/50\n"
     ]
    },
    {
     "data": {
      "application/vnd.jupyter.widget-view+json": {
       "model_id": "b8bbd5557d49455ba349debc0023946e",
       "version_major": 2,
       "version_minor": 0
      },
      "text/plain": [
       "[train]:   0%|          | 0/281 [00:00<?, ?it/s]"
      ]
     },
     "metadata": {},
     "output_type": "display_data"
    },
    {
     "data": {
      "application/vnd.jupyter.widget-view+json": {
       "model_id": "1663f6e9b48745f2aa9135af4a905f00",
       "version_major": 2,
       "version_minor": 0
      },
      "text/plain": [
       "[val]:   0%|          | 0/71 [00:00<?, ?it/s]"
      ]
     },
     "metadata": {},
     "output_type": "display_data"
    },
    {
     "name": "stdout",
     "output_type": "stream",
     "text": [
      "train: {'loss': 15.093702956397763, 'CER': 0.1156828782557007, 'WER': 0.03402059586024042, 'F1_char': 0.8488482902767136, 'F1_word': 0.8133726184261174}\n",
      "val  : {'loss': 20.654231826604253, 'CER': 0.10902359599311526, 'WER': 0.035100768097492595, 'F1_char': 0.8601498464367455, 'F1_word': 0.80792154070715}\n",
      "\n",
      "Epoch 22/50\n"
     ]
    },
    {
     "data": {
      "application/vnd.jupyter.widget-view+json": {
       "model_id": "2a330c4f6b6145e79492dcf76b2075f9",
       "version_major": 2,
       "version_minor": 0
      },
      "text/plain": [
       "[train]:   0%|          | 0/281 [00:00<?, ?it/s]"
      ]
     },
     "metadata": {},
     "output_type": "display_data"
    },
    {
     "data": {
      "application/vnd.jupyter.widget-view+json": {
       "model_id": "3aecf1764e5044fa9d6f7a5bf80b150d",
       "version_major": 2,
       "version_minor": 0
      },
      "text/plain": [
       "[val]:   0%|          | 0/71 [00:00<?, ?it/s]"
      ]
     },
     "metadata": {},
     "output_type": "display_data"
    },
    {
     "name": "stdout",
     "output_type": "stream",
     "text": [
      "train: {'loss': 14.706075313676719, 'CER': 0.11823549397279233, 'WER': 0.03475067965624775, 'F1_char': 0.8453363490254856, 'F1_word': 0.8091177879334677}\n",
      "val  : {'loss': 22.210472824707836, 'CER': 0.13773070339803278, 'WER': 0.03700551637988166, 'F1_char': 0.8213848974980555, 'F1_word': 0.7970472136945114}\n",
      "\n",
      "Epoch 23/50\n"
     ]
    },
    {
     "data": {
      "application/vnd.jupyter.widget-view+json": {
       "model_id": "a1ca69576f704d2781ff95bc084d8e91",
       "version_major": 2,
       "version_minor": 0
      },
      "text/plain": [
       "[train]:   0%|          | 0/281 [00:00<?, ?it/s]"
      ]
     },
     "metadata": {},
     "output_type": "display_data"
    },
    {
     "data": {
      "application/vnd.jupyter.widget-view+json": {
       "model_id": "d1bd627d75a14a37b9223830f0842d31",
       "version_major": 2,
       "version_minor": 0
      },
      "text/plain": [
       "[val]:   0%|          | 0/71 [00:00<?, ?it/s]"
      ]
     },
     "metadata": {},
     "output_type": "display_data"
    },
    {
     "name": "stdout",
     "output_type": "stream",
     "text": [
      "train: {'loss': 15.458639062861531, 'CER': 0.12278438608401973, 'WER': 0.038546877389358386, 'F1_char': 0.840191293212442, 'F1_word': 0.7879996631436532}\n",
      "val  : {'loss': 21.018636371048405, 'CER': 0.11558651466823051, 'WER': 0.03809973347827538, 'F1_char': 0.8534584792698288, 'F1_word': 0.7913129779142898}\n",
      "\n",
      "Epoch 24/50\n"
     ]
    },
    {
     "data": {
      "application/vnd.jupyter.widget-view+json": {
       "model_id": "3c18e0a0b1824ac6a0397a9433b94994",
       "version_major": 2,
       "version_minor": 0
      },
      "text/plain": [
       "[train]:   0%|          | 0/281 [00:00<?, ?it/s]"
      ]
     },
     "metadata": {},
     "output_type": "display_data"
    },
    {
     "data": {
      "application/vnd.jupyter.widget-view+json": {
       "model_id": "1893ef21b3ad49358f92c131810b1fb9",
       "version_major": 2,
       "version_minor": 0
      },
      "text/plain": [
       "[val]:   0%|          | 0/71 [00:00<?, ?it/s]"
      ]
     },
     "metadata": {},
     "output_type": "display_data"
    },
    {
     "name": "stdout",
     "output_type": "stream",
     "text": [
      "train: {'loss': 16.181126057041073, 'CER': 0.1325902385356911, 'WER': 0.043924030824173566, 'F1_char': 0.8271467292164202, 'F1_word': 0.7577689746015044}\n",
      "val  : {'loss': 22.04279170909398, 'CER': 0.11039434726016621, 'WER': 0.03731065753150344, 'F1_char': 0.8660245996750987, 'F1_word': 0.8009534457798638}\n",
      "\n",
      "Epoch 25/50\n"
     ]
    },
    {
     "data": {
      "application/vnd.jupyter.widget-view+json": {
       "model_id": "0df97c068ac945a781c771d092f5742d",
       "version_major": 2,
       "version_minor": 0
      },
      "text/plain": [
       "[train]:   0%|          | 0/281 [00:00<?, ?it/s]"
      ]
     },
     "metadata": {},
     "output_type": "display_data"
    },
    {
     "data": {
      "application/vnd.jupyter.widget-view+json": {
       "model_id": "415fa20418034b91b4a6d7035de18d49",
       "version_major": 2,
       "version_minor": 0
      },
      "text/plain": [
       "[val]:   0%|          | 0/71 [00:00<?, ?it/s]"
      ]
     },
     "metadata": {},
     "output_type": "display_data"
    },
    {
     "name": "stdout",
     "output_type": "stream",
     "text": [
      "train: {'loss': 14.268163596952725, 'CER': 0.12176393481250175, 'WER': 0.03727949476059261, 'F1_char': 0.8402753345470735, 'F1_word': 0.794352505982636}\n",
      "val  : {'loss': 20.639818954215922, 'CER': 0.1234438993224913, 'WER': 0.03070244446669432, 'F1_char': 0.8385342253166201, 'F1_word': 0.8324257476581324}\n",
      "\n",
      "Epoch 26/50\n"
     ]
    },
    {
     "data": {
      "application/vnd.jupyter.widget-view+json": {
       "model_id": "3fab2bd0ab8942eaa70dfe222fb1bc47",
       "version_major": 2,
       "version_minor": 0
      },
      "text/plain": [
       "[train]:   0%|          | 0/281 [00:00<?, ?it/s]"
      ]
     },
     "metadata": {},
     "output_type": "display_data"
    },
    {
     "name": "stderr",
     "output_type": "stream",
     "text": [
      "Exception ignored in: <function _MultiProcessingDataLoaderIter.__del__ at 0x7f3cbfe270d0>\n",
      "Traceback (most recent call last):\n",
      "  File \"/home/admin/anaconda3/envs/pytorch-idl/lib/python3.9/site-packages/torch/utils/data/dataloader.py\", line 1618, in __del__\n",
      "    self._shutdown_workers()\n",
      "  File \"/home/admin/anaconda3/envs/pytorch-idl/lib/python3.9/site-packages/torch/utils/data/dataloader.py\", line 1601, in _shutdown_workers\n",
      "    if w.is_alive():\n",
      "  File \"/home/admin/anaconda3/envs/pytorch-idl/lib/python3.9/multiprocessing/process.py\", line 160, in is_alive\n",
      "    assert self._parent_pid == os.getpid(), 'can only test a child process'\n",
      "AssertionError: can only test a child process\n",
      "Exception ignored in: <function _MultiProcessingDataLoaderIter.__del__ at 0x7f3cbfe270d0>\n",
      "Traceback (most recent call last):\n",
      "  File \"/home/admin/anaconda3/envs/pytorch-idl/lib/python3.9/site-packages/torch/utils/data/dataloader.py\", line 1618, in __del__\n",
      "    self._shutdown_workers()\n",
      "  File \"/home/admin/anaconda3/envs/pytorch-idl/lib/python3.9/site-packages/torch/utils/data/dataloader.py\", line 1601, in _shutdown_workers\n",
      "    if w.is_alive():\n",
      "  File \"/home/admin/anaconda3/envs/pytorch-idl/lib/python3.9/multiprocessing/process.py\", line 160, in is_alive\n",
      "    assert self._parent_pid == os.getpid(), 'can only test a child process'\n",
      "AssertionError: can only test a child process\n",
      "Exception ignored in: <function _MultiProcessingDataLoaderIter.__del__ at 0x7f3cbfe270d0>\n",
      "Traceback (most recent call last):\n",
      "  File \"/home/admin/anaconda3/envs/pytorch-idl/lib/python3.9/site-packages/torch/utils/data/dataloader.py\", line 1618, in __del__\n",
      "    self._shutdown_workers()\n",
      "  File \"/home/admin/anaconda3/envs/pytorch-idl/lib/python3.9/site-packages/torch/utils/data/dataloader.py\", line 1601, in _shutdown_workers\n",
      "    if w.is_alive():\n",
      "  File \"/home/admin/anaconda3/envs/pytorch-idl/lib/python3.9/multiprocessing/process.py\", line 160, in is_alive\n",
      "    assert self._parent_pid == os.getpid(), 'can only test a child process'\n",
      "AssertionError: can only test a child process\n",
      "Exception ignored in: <function _MultiProcessingDataLoaderIter.__del__ at 0x7f3cbfe270d0>\n",
      "Traceback (most recent call last):\n",
      "  File \"/home/admin/anaconda3/envs/pytorch-idl/lib/python3.9/site-packages/torch/utils/data/dataloader.py\", line 1618, in __del__\n",
      "    self._shutdown_workers()\n",
      "  File \"/home/admin/anaconda3/envs/pytorch-idl/lib/python3.9/site-packages/torch/utils/data/dataloader.py\", line 1601, in _shutdown_workers\n",
      "    if w.is_alive():\n",
      "  File \"/home/admin/anaconda3/envs/pytorch-idl/lib/python3.9/multiprocessing/process.py\", line 160, in is_alive\n",
      "    assert self._parent_pid == os.getpid(), 'can only test a child process'\n",
      "AssertionError: can only test a child process\n",
      "Exception ignored in: <function _MultiProcessingDataLoaderIter.__del__ at 0x7f3cbfe270d0>\n",
      "Traceback (most recent call last):\n",
      "  File \"/home/admin/anaconda3/envs/pytorch-idl/lib/python3.9/site-packages/torch/utils/data/dataloader.py\", line 1618, in __del__\n",
      "    self._shutdown_workers()\n",
      "  File \"/home/admin/anaconda3/envs/pytorch-idl/lib/python3.9/site-packages/torch/utils/data/dataloader.py\", line 1601, in _shutdown_workers\n",
      "    if w.is_alive():\n",
      "  File \"/home/admin/anaconda3/envs/pytorch-idl/lib/python3.9/multiprocessing/process.py\", line 160, in is_alive\n",
      "    assert self._parent_pid == os.getpid(), 'can only test a child process'\n",
      "AssertionError: can only test a child process\n",
      "Exception ignored in: <function _MultiProcessingDataLoaderIter.__del__ at 0x7f3cbfe270d0>\n",
      "Traceback (most recent call last):\n",
      "  File \"/home/admin/anaconda3/envs/pytorch-idl/lib/python3.9/site-packages/torch/utils/data/dataloader.py\", line 1618, in __del__\n",
      "    self._shutdown_workers()\n",
      "  File \"/home/admin/anaconda3/envs/pytorch-idl/lib/python3.9/site-packages/torch/utils/data/dataloader.py\", line 1601, in _shutdown_workers\n",
      "    if w.is_alive():\n",
      "  File \"/home/admin/anaconda3/envs/pytorch-idl/lib/python3.9/multiprocessing/process.py\", line 160, in is_alive\n",
      "    assert self._parent_pid == os.getpid(), 'can only test a child process'\n",
      "AssertionError: can only test a child process\n",
      "Exception ignored in: <function _MultiProcessingDataLoaderIter.__del__ at 0x7f3cbfe270d0>\n",
      "Traceback (most recent call last):\n",
      "  File \"/home/admin/anaconda3/envs/pytorch-idl/lib/python3.9/site-packages/torch/utils/data/dataloader.py\", line 1618, in __del__\n",
      "    self._shutdown_workers()\n",
      "  File \"/home/admin/anaconda3/envs/pytorch-idl/lib/python3.9/site-packages/torch/utils/data/dataloader.py\", line 1601, in _shutdown_workers\n",
      "    if w.is_alive():\n",
      "  File \"/home/admin/anaconda3/envs/pytorch-idl/lib/python3.9/multiprocessing/process.py\", line 160, in is_alive\n",
      "    assert self._parent_pid == os.getpid(), 'can only test a child process'\n",
      "AssertionError: can only test a child process\n",
      "Exception ignored in: <function _MultiProcessingDataLoaderIter.__del__ at 0x7f3cbfe270d0>\n",
      "Traceback (most recent call last):\n",
      "  File \"/home/admin/anaconda3/envs/pytorch-idl/lib/python3.9/site-packages/torch/utils/data/dataloader.py\", line 1618, in __del__\n",
      "    self._shutdown_workers()\n",
      "  File \"/home/admin/anaconda3/envs/pytorch-idl/lib/python3.9/site-packages/torch/utils/data/dataloader.py\", line 1601, in _shutdown_workers\n",
      "    if w.is_alive():\n",
      "  File \"/home/admin/anaconda3/envs/pytorch-idl/lib/python3.9/multiprocessing/process.py\", line 160, in is_alive\n",
      "    assert self._parent_pid == os.getpid(), 'can only test a child process'\n",
      "AssertionError: can only test a child process\n",
      "Exception ignored in: <function _MultiProcessingDataLoaderIter.__del__ at 0x7f3cbfe270d0>\n",
      "Traceback (most recent call last):\n",
      "  File \"/home/admin/anaconda3/envs/pytorch-idl/lib/python3.9/site-packages/torch/utils/data/dataloader.py\", line 1618, in __del__\n",
      "    self._shutdown_workers()\n",
      "  File \"/home/admin/anaconda3/envs/pytorch-idl/lib/python3.9/site-packages/torch/utils/data/dataloader.py\", line 1601, in _shutdown_workers\n",
      "    if w.is_alive():\n",
      "  File \"/home/admin/anaconda3/envs/pytorch-idl/lib/python3.9/multiprocessing/process.py\", line 160, in is_alive\n",
      "    assert self._parent_pid == os.getpid(), 'can only test a child process'\n",
      "AssertionError: can only test a child process\n",
      "Exception ignored in: <function _MultiProcessingDataLoaderIter.__del__ at 0x7f3cbfe270d0>\n",
      "Traceback (most recent call last):\n",
      "  File \"/home/admin/anaconda3/envs/pytorch-idl/lib/python3.9/site-packages/torch/utils/data/dataloader.py\", line 1618, in __del__\n",
      "    self._shutdown_workers()\n",
      "  File \"/home/admin/anaconda3/envs/pytorch-idl/lib/python3.9/site-packages/torch/utils/data/dataloader.py\", line 1601, in _shutdown_workers\n",
      "    if w.is_alive():\n",
      "  File \"/home/admin/anaconda3/envs/pytorch-idl/lib/python3.9/multiprocessing/process.py\", line 160, in is_alive\n",
      "    assert self._parent_pid == os.getpid(), 'can only test a child process'\n",
      "AssertionError: can only test a child process\n"
     ]
    },
    {
     "data": {
      "application/vnd.jupyter.widget-view+json": {
       "model_id": "a3cbad4394654d07b076d5a02c87ce1a",
       "version_major": 2,
       "version_minor": 0
      },
      "text/plain": [
       "[val]:   0%|          | 0/71 [00:00<?, ?it/s]"
      ]
     },
     "metadata": {},
     "output_type": "display_data"
    },
    {
     "name": "stderr",
     "output_type": "stream",
     "text": [
      "Exception ignored in: \n",
      "<function _MultiProcessingDataLoaderIter.__del__ at 0x7f3cbfe270d0>Traceback (most recent call last):\n",
      "  File \"/home/admin/anaconda3/envs/pytorch-idl/lib/python3.9/site-packages/torch/utils/data/dataloader.py\", line 1618, in __del__\n",
      "    self._shutdown_workers()\n",
      "  File \"/home/admin/anaconda3/envs/pytorch-idl/lib/python3.9/site-packages/torch/utils/data/dataloader.py\", line 1601, in _shutdown_workers\n",
      "    if w.is_alive():\n",
      "  File \"/home/admin/anaconda3/envs/pytorch-idl/lib/python3.9/multiprocessing/process.py\", line 160, in is_alive\n",
      "    assert self._parent_pid == os.getpid(), 'can only test a child process'\n",
      "Exception ignored in: AssertionError: <function _MultiProcessingDataLoaderIter.__del__ at 0x7f3cbfe270d0>can only test a child process\n",
      "\n",
      "Traceback (most recent call last):\n",
      "  File \"/home/admin/anaconda3/envs/pytorch-idl/lib/python3.9/site-packages/torch/utils/data/dataloader.py\", line 1618, in __del__\n",
      "Exception ignored in:     self._shutdown_workers()<function _MultiProcessingDataLoaderIter.__del__ at 0x7f3cbfe270d0>\n",
      "\n",
      "  File \"/home/admin/anaconda3/envs/pytorch-idl/lib/python3.9/site-packages/torch/utils/data/dataloader.py\", line 1601, in _shutdown_workers\n",
      "Traceback (most recent call last):\n",
      "      File \"/home/admin/anaconda3/envs/pytorch-idl/lib/python3.9/site-packages/torch/utils/data/dataloader.py\", line 1618, in __del__\n",
      "if w.is_alive():    \n",
      "  File \"/home/admin/anaconda3/envs/pytorch-idl/lib/python3.9/multiprocessing/process.py\", line 160, in is_alive\n",
      "self._shutdown_workers()\n",
      "      File \"/home/admin/anaconda3/envs/pytorch-idl/lib/python3.9/site-packages/torch/utils/data/dataloader.py\", line 1601, in _shutdown_workers\n",
      "assert self._parent_pid == os.getpid(), 'can only test a child process'    \n",
      "if w.is_alive():AssertionError\n",
      ":   File \"/home/admin/anaconda3/envs/pytorch-idl/lib/python3.9/multiprocessing/process.py\", line 160, in is_alive\n",
      "can only test a child process    \n",
      "assert self._parent_pid == os.getpid(), 'can only test a child process'\n",
      "AssertionErrorException ignored in: : can only test a child process\n",
      "<function _MultiProcessingDataLoaderIter.__del__ at 0x7f3cbfe270d0>\n",
      "Traceback (most recent call last):\n",
      "Exception ignored in:   File \"/home/admin/anaconda3/envs/pytorch-idl/lib/python3.9/site-packages/torch/utils/data/dataloader.py\", line 1618, in __del__\n",
      "<function _MultiProcessingDataLoaderIter.__del__ at 0x7f3cbfe270d0>    \n",
      "self._shutdown_workers()\n",
      "Traceback (most recent call last):\n",
      "  File \"/home/admin/anaconda3/envs/pytorch-idl/lib/python3.9/site-packages/torch/utils/data/dataloader.py\", line 1601, in _shutdown_workers\n",
      "  File \"/home/admin/anaconda3/envs/pytorch-idl/lib/python3.9/site-packages/torch/utils/data/dataloader.py\", line 1618, in __del__\n",
      "    if w.is_alive():    \n",
      "self._shutdown_workers()  File \"/home/admin/anaconda3/envs/pytorch-idl/lib/python3.9/multiprocessing/process.py\", line 160, in is_alive\n",
      "\n",
      "      File \"/home/admin/anaconda3/envs/pytorch-idl/lib/python3.9/site-packages/torch/utils/data/dataloader.py\", line 1601, in _shutdown_workers\n",
      "assert self._parent_pid == os.getpid(), 'can only test a child process'    \n",
      "if w.is_alive():AssertionError\n",
      ":   File \"/home/admin/anaconda3/envs/pytorch-idl/lib/python3.9/multiprocessing/process.py\", line 160, in is_alive\n",
      "can only test a child process\n",
      "    assert self._parent_pid == os.getpid(), 'can only test a child process'\n",
      "Exception ignored in: <function _MultiProcessingDataLoaderIter.__del__ at 0x7f3cbfe270d0>AssertionError: \n",
      "Traceback (most recent call last):\n",
      "  File \"/home/admin/anaconda3/envs/pytorch-idl/lib/python3.9/site-packages/torch/utils/data/dataloader.py\", line 1618, in __del__\n",
      "    can only test a child processself._shutdown_workers()\n",
      "\n",
      "  File \"/home/admin/anaconda3/envs/pytorch-idl/lib/python3.9/site-packages/torch/utils/data/dataloader.py\", line 1601, in _shutdown_workers\n",
      "    Exception ignored in: if w.is_alive():<function _MultiProcessingDataLoaderIter.__del__ at 0x7f3cbfe270d0>\n",
      "\n",
      "  File \"/home/admin/anaconda3/envs/pytorch-idl/lib/python3.9/multiprocessing/process.py\", line 160, in is_alive\n",
      "Traceback (most recent call last):\n",
      "      File \"/home/admin/anaconda3/envs/pytorch-idl/lib/python3.9/site-packages/torch/utils/data/dataloader.py\", line 1618, in __del__\n",
      "assert self._parent_pid == os.getpid(), 'can only test a child process'    \n",
      "self._shutdown_workers()AssertionError\n",
      ":   File \"/home/admin/anaconda3/envs/pytorch-idl/lib/python3.9/site-packages/torch/utils/data/dataloader.py\", line 1601, in _shutdown_workers\n",
      "can only test a child process\n",
      "    if w.is_alive():\n",
      "Exception ignored in:   File \"/home/admin/anaconda3/envs/pytorch-idl/lib/python3.9/multiprocessing/process.py\", line 160, in is_alive\n",
      "<function _MultiProcessingDataLoaderIter.__del__ at 0x7f3cbfe270d0>    \n",
      "assert self._parent_pid == os.getpid(), 'can only test a child process'Traceback (most recent call last):\n",
      "\n",
      "  File \"/home/admin/anaconda3/envs/pytorch-idl/lib/python3.9/site-packages/torch/utils/data/dataloader.py\", line 1618, in __del__\n",
      "AssertionError:     can only test a child processself._shutdown_workers()\n",
      "\n",
      "  File \"/home/admin/anaconda3/envs/pytorch-idl/lib/python3.9/site-packages/torch/utils/data/dataloader.py\", line 1601, in _shutdown_workers\n",
      "Exception ignored in:     <function _MultiProcessingDataLoaderIter.__del__ at 0x7f3cbfe270d0>if w.is_alive():\n",
      "\n",
      "  File \"/home/admin/anaconda3/envs/pytorch-idl/lib/python3.9/multiprocessing/process.py\", line 160, in is_alive\n",
      "Traceback (most recent call last):\n",
      "      File \"/home/admin/anaconda3/envs/pytorch-idl/lib/python3.9/site-packages/torch/utils/data/dataloader.py\", line 1618, in __del__\n",
      "assert self._parent_pid == os.getpid(), 'can only test a child process'    \n",
      "self._shutdown_workers()AssertionError\n",
      ":   File \"/home/admin/anaconda3/envs/pytorch-idl/lib/python3.9/site-packages/torch/utils/data/dataloader.py\", line 1601, in _shutdown_workers\n",
      "can only test a child process\n",
      "    if w.is_alive():\n",
      "Exception ignored in:   File \"/home/admin/anaconda3/envs/pytorch-idl/lib/python3.9/multiprocessing/process.py\", line 160, in is_alive\n",
      "<function _MultiProcessingDataLoaderIter.__del__ at 0x7f3cbfe270d0>    \n",
      "assert self._parent_pid == os.getpid(), 'can only test a child process'Traceback (most recent call last):\n",
      "\n",
      "  File \"/home/admin/anaconda3/envs/pytorch-idl/lib/python3.9/site-packages/torch/utils/data/dataloader.py\", line 1618, in __del__\n",
      "AssertionError:     can only test a child processself._shutdown_workers()\n",
      "\n",
      "  File \"/home/admin/anaconda3/envs/pytorch-idl/lib/python3.9/site-packages/torch/utils/data/dataloader.py\", line 1601, in _shutdown_workers\n",
      "    if w.is_alive():Exception ignored in: \n",
      "<function _MultiProcessingDataLoaderIter.__del__ at 0x7f3cbfe270d0>\n",
      "  File \"/home/admin/anaconda3/envs/pytorch-idl/lib/python3.9/multiprocessing/process.py\", line 160, in is_alive\n",
      "    Traceback (most recent call last):\n",
      "assert self._parent_pid == os.getpid(), 'can only test a child process'  File \"/home/admin/anaconda3/envs/pytorch-idl/lib/python3.9/site-packages/torch/utils/data/dataloader.py\", line 1618, in __del__\n",
      "\n",
      "AssertionError:     self._shutdown_workers()can only test a child process\n",
      "\n",
      "  File \"/home/admin/anaconda3/envs/pytorch-idl/lib/python3.9/site-packages/torch/utils/data/dataloader.py\", line 1601, in _shutdown_workers\n",
      "Exception ignored in:     <function _MultiProcessingDataLoaderIter.__del__ at 0x7f3cbfe270d0>if w.is_alive():\n",
      "\n",
      "Traceback (most recent call last):\n",
      "  File \"/home/admin/anaconda3/envs/pytorch-idl/lib/python3.9/multiprocessing/process.py\", line 160, in is_alive\n",
      "  File \"/home/admin/anaconda3/envs/pytorch-idl/lib/python3.9/site-packages/torch/utils/data/dataloader.py\", line 1618, in __del__\n",
      "        self._shutdown_workers()assert self._parent_pid == os.getpid(), 'can only test a child process'\n",
      "\n",
      "  File \"/home/admin/anaconda3/envs/pytorch-idl/lib/python3.9/site-packages/torch/utils/data/dataloader.py\", line 1601, in _shutdown_workers\n",
      "AssertionError:     can only test a child processif w.is_alive():\n",
      "\n",
      "  File \"/home/admin/anaconda3/envs/pytorch-idl/lib/python3.9/multiprocessing/process.py\", line 160, in is_alive\n",
      "    Exception ignored in: assert self._parent_pid == os.getpid(), 'can only test a child process'\n",
      "<function _MultiProcessingDataLoaderIter.__del__ at 0x7f3cbfe270d0>AssertionError\n",
      ": can only test a child processTraceback (most recent call last):\n",
      "\n",
      "  File \"/home/admin/anaconda3/envs/pytorch-idl/lib/python3.9/site-packages/torch/utils/data/dataloader.py\", line 1618, in __del__\n",
      "    Exception ignored in: self._shutdown_workers()<function _MultiProcessingDataLoaderIter.__del__ at 0x7f3cbfe270d0>\n",
      "  File \"/home/admin/anaconda3/envs/pytorch-idl/lib/python3.9/site-packages/torch/utils/data/dataloader.py\", line 1601, in _shutdown_workers\n",
      "\n",
      "    Traceback (most recent call last):\n",
      "  File \"/home/admin/anaconda3/envs/pytorch-idl/lib/python3.9/site-packages/torch/utils/data/dataloader.py\", line 1618, in __del__\n",
      "if w.is_alive():\n",
      "      File \"/home/admin/anaconda3/envs/pytorch-idl/lib/python3.9/multiprocessing/process.py\", line 160, in is_alive\n",
      "self._shutdown_workers()    \n",
      "assert self._parent_pid == os.getpid(), 'can only test a child process'  File \"/home/admin/anaconda3/envs/pytorch-idl/lib/python3.9/site-packages/torch/utils/data/dataloader.py\", line 1601, in _shutdown_workers\n",
      "\n",
      "AssertionError    : if w.is_alive():can only test a child process\n",
      "\n",
      "  File \"/home/admin/anaconda3/envs/pytorch-idl/lib/python3.9/multiprocessing/process.py\", line 160, in is_alive\n",
      "    assert self._parent_pid == os.getpid(), 'can only test a child process'\n",
      "AssertionErrorException ignored in: : can only test a child process<function _MultiProcessingDataLoaderIter.__del__ at 0x7f3cbfe270d0>\n",
      "\n",
      "Traceback (most recent call last):\n",
      "  File \"/home/admin/anaconda3/envs/pytorch-idl/lib/python3.9/site-packages/torch/utils/data/dataloader.py\", line 1618, in __del__\n",
      "    Exception ignored in: self._shutdown_workers()<function _MultiProcessingDataLoaderIter.__del__ at 0x7f3cbfe270d0>\n",
      "\n",
      "  File \"/home/admin/anaconda3/envs/pytorch-idl/lib/python3.9/site-packages/torch/utils/data/dataloader.py\", line 1601, in _shutdown_workers\n",
      "Traceback (most recent call last):\n",
      "  File \"/home/admin/anaconda3/envs/pytorch-idl/lib/python3.9/site-packages/torch/utils/data/dataloader.py\", line 1618, in __del__\n",
      "    if w.is_alive():    \n",
      "self._shutdown_workers()\n",
      "  File \"/home/admin/anaconda3/envs/pytorch-idl/lib/python3.9/multiprocessing/process.py\", line 160, in is_alive\n",
      "  File \"/home/admin/anaconda3/envs/pytorch-idl/lib/python3.9/site-packages/torch/utils/data/dataloader.py\", line 1601, in _shutdown_workers\n",
      "        assert self._parent_pid == os.getpid(), 'can only test a child process'if w.is_alive():\n",
      "AssertionError\n",
      ":   File \"/home/admin/anaconda3/envs/pytorch-idl/lib/python3.9/multiprocessing/process.py\", line 160, in is_alive\n",
      "can only test a child process\n",
      "    assert self._parent_pid == os.getpid(), 'can only test a child process'\n",
      "Exception ignored in: AssertionError: <function _MultiProcessingDataLoaderIter.__del__ at 0x7f3cbfe270d0>can only test a child process\n",
      "\n",
      "Traceback (most recent call last):\n",
      "Exception ignored in: <function _MultiProcessingDataLoaderIter.__del__ at 0x7f3cbfe270d0>  File \"/home/admin/anaconda3/envs/pytorch-idl/lib/python3.9/site-packages/torch/utils/data/dataloader.py\", line 1618, in __del__\n",
      "\n",
      "    Traceback (most recent call last):\n",
      "  File \"/home/admin/anaconda3/envs/pytorch-idl/lib/python3.9/site-packages/torch/utils/data/dataloader.py\", line 1618, in __del__\n",
      "self._shutdown_workers()\n",
      "      File \"/home/admin/anaconda3/envs/pytorch-idl/lib/python3.9/site-packages/torch/utils/data/dataloader.py\", line 1601, in _shutdown_workers\n",
      "self._shutdown_workers()\n",
      "      File \"/home/admin/anaconda3/envs/pytorch-idl/lib/python3.9/site-packages/torch/utils/data/dataloader.py\", line 1601, in _shutdown_workers\n",
      "    if w.is_alive():if w.is_alive():\n",
      "\n",
      "  File \"/home/admin/anaconda3/envs/pytorch-idl/lib/python3.9/multiprocessing/process.py\", line 160, in is_alive\n",
      "  File \"/home/admin/anaconda3/envs/pytorch-idl/lib/python3.9/multiprocessing/process.py\", line 160, in is_alive\n",
      "        assert self._parent_pid == os.getpid(), 'can only test a child process'assert self._parent_pid == os.getpid(), 'can only test a child process'\n",
      "\n",
      "AssertionErrorAssertionError: : can only test a child processcan only test a child process\n",
      "\n",
      "Exception ignored in: Exception ignored in: <function _MultiProcessingDataLoaderIter.__del__ at 0x7f3cbfe270d0><function _MultiProcessingDataLoaderIter.__del__ at 0x7f3cbfe270d0>\n",
      "\n",
      "Traceback (most recent call last):\n",
      "Traceback (most recent call last):\n",
      "  File \"/home/admin/anaconda3/envs/pytorch-idl/lib/python3.9/site-packages/torch/utils/data/dataloader.py\", line 1618, in __del__\n",
      "  File \"/home/admin/anaconda3/envs/pytorch-idl/lib/python3.9/site-packages/torch/utils/data/dataloader.py\", line 1618, in __del__\n",
      "        self._shutdown_workers()self._shutdown_workers()\n",
      "\n",
      "  File \"/home/admin/anaconda3/envs/pytorch-idl/lib/python3.9/site-packages/torch/utils/data/dataloader.py\", line 1601, in _shutdown_workers\n",
      "      File \"/home/admin/anaconda3/envs/pytorch-idl/lib/python3.9/site-packages/torch/utils/data/dataloader.py\", line 1601, in _shutdown_workers\n",
      "if w.is_alive():\n",
      "      File \"/home/admin/anaconda3/envs/pytorch-idl/lib/python3.9/multiprocessing/process.py\", line 160, in is_alive\n",
      "    if w.is_alive():assert self._parent_pid == os.getpid(), 'can only test a child process'\n",
      "\n",
      "  File \"/home/admin/anaconda3/envs/pytorch-idl/lib/python3.9/multiprocessing/process.py\", line 160, in is_alive\n",
      "AssertionError:     can only test a child process\n",
      "assert self._parent_pid == os.getpid(), 'can only test a child process'\n",
      "Exception ignored in: AssertionError<function _MultiProcessingDataLoaderIter.__del__ at 0x7f3cbfe270d0>\n",
      "Traceback (most recent call last):\n",
      "  File \"/home/admin/anaconda3/envs/pytorch-idl/lib/python3.9/site-packages/torch/utils/data/dataloader.py\", line 1618, in __del__\n",
      "    self._shutdown_workers(): \n",
      "can only test a child process\n",
      "  File \"/home/admin/anaconda3/envs/pytorch-idl/lib/python3.9/site-packages/torch/utils/data/dataloader.py\", line 1601, in _shutdown_workers\n",
      "    if w.is_alive():Exception ignored in: \n",
      "  File \"/home/admin/anaconda3/envs/pytorch-idl/lib/python3.9/multiprocessing/process.py\", line 160, in is_alive\n",
      "    <function _MultiProcessingDataLoaderIter.__del__ at 0x7f3cbfe270d0>\n",
      "assert self._parent_pid == os.getpid(), 'can only test a child process'\n",
      "Traceback (most recent call last):\n",
      "AssertionError:   File \"/home/admin/anaconda3/envs/pytorch-idl/lib/python3.9/site-packages/torch/utils/data/dataloader.py\", line 1618, in __del__\n",
      "    can only test a child process\n",
      "self._shutdown_workers()\n",
      "  File \"/home/admin/anaconda3/envs/pytorch-idl/lib/python3.9/site-packages/torch/utils/data/dataloader.py\", line 1601, in _shutdown_workers\n",
      "    if w.is_alive():\n",
      "  File \"/home/admin/anaconda3/envs/pytorch-idl/lib/python3.9/multiprocessing/process.py\", line 160, in is_alive\n",
      "    assert self._parent_pid == os.getpid(), 'can only test a child process'\n",
      "AssertionError: can only test a child process\n",
      "Exception ignored in: <function _MultiProcessingDataLoaderIter.__del__ at 0x7f3cbfe270d0>\n",
      "Traceback (most recent call last):\n",
      "  File \"/home/admin/anaconda3/envs/pytorch-idl/lib/python3.9/site-packages/torch/utils/data/dataloader.py\", line 1618, in __del__\n",
      "    self._shutdown_workers()\n",
      "  File \"/home/admin/anaconda3/envs/pytorch-idl/lib/python3.9/site-packages/torch/utils/data/dataloader.py\", line 1601, in _shutdown_workers\n",
      "    if w.is_alive():\n",
      "  File \"/home/admin/anaconda3/envs/pytorch-idl/lib/python3.9/multiprocessing/process.py\", line 160, in is_alive\n",
      "    assert self._parent_pid == os.getpid(), 'can only test a child process'\n",
      "AssertionError: can only test a child process\n",
      "Exception ignored in: <function _MultiProcessingDataLoaderIter.__del__ at 0x7f3cbfe270d0>\n",
      "Traceback (most recent call last):\n",
      "  File \"/home/admin/anaconda3/envs/pytorch-idl/lib/python3.9/site-packages/torch/utils/data/dataloader.py\", line 1618, in __del__\n",
      "    self._shutdown_workers()\n",
      "  File \"/home/admin/anaconda3/envs/pytorch-idl/lib/python3.9/site-packages/torch/utils/data/dataloader.py\", line 1601, in _shutdown_workers\n",
      "    if w.is_alive():\n",
      "  File \"/home/admin/anaconda3/envs/pytorch-idl/lib/python3.9/multiprocessing/process.py\", line 160, in is_alive\n",
      "    assert self._parent_pid == os.getpid(), 'can only test a child process'\n",
      "AssertionError: can only test a child process\n",
      "Exception ignored in: <function _MultiProcessingDataLoaderIter.__del__ at 0x7f3cbfe270d0>\n",
      "Traceback (most recent call last):\n",
      "  File \"/home/admin/anaconda3/envs/pytorch-idl/lib/python3.9/site-packages/torch/utils/data/dataloader.py\", line 1618, in __del__\n",
      "    self._shutdown_workers()\n",
      "  File \"/home/admin/anaconda3/envs/pytorch-idl/lib/python3.9/site-packages/torch/utils/data/dataloader.py\", line 1601, in _shutdown_workers\n",
      "    if w.is_alive():\n",
      "  File \"/home/admin/anaconda3/envs/pytorch-idl/lib/python3.9/multiprocessing/process.py\", line 160, in is_alive\n",
      "    assert self._parent_pid == os.getpid(), 'can only test a child process'\n",
      "AssertionError: can only test a child process\n",
      "Exception ignored in: <function _MultiProcessingDataLoaderIter.__del__ at 0x7f3cbfe270d0>\n",
      "Traceback (most recent call last):\n",
      "  File \"/home/admin/anaconda3/envs/pytorch-idl/lib/python3.9/site-packages/torch/utils/data/dataloader.py\", line 1618, in __del__\n",
      "    self._shutdown_workers()\n",
      "  File \"/home/admin/anaconda3/envs/pytorch-idl/lib/python3.9/site-packages/torch/utils/data/dataloader.py\", line 1601, in _shutdown_workers\n",
      "    if w.is_alive():\n",
      "  File \"/home/admin/anaconda3/envs/pytorch-idl/lib/python3.9/multiprocessing/process.py\", line 160, in is_alive\n",
      "    assert self._parent_pid == os.getpid(), 'can only test a child process'\n",
      "AssertionError: can only test a child process\n",
      "Exception ignored in: <function _MultiProcessingDataLoaderIter.__del__ at 0x7f3cbfe270d0>\n",
      "Traceback (most recent call last):\n",
      "  File \"/home/admin/anaconda3/envs/pytorch-idl/lib/python3.9/site-packages/torch/utils/data/dataloader.py\", line 1618, in __del__\n",
      "    self._shutdown_workers()\n",
      "  File \"/home/admin/anaconda3/envs/pytorch-idl/lib/python3.9/site-packages/torch/utils/data/dataloader.py\", line 1601, in _shutdown_workers\n",
      "    if w.is_alive():\n",
      "  File \"/home/admin/anaconda3/envs/pytorch-idl/lib/python3.9/multiprocessing/process.py\", line 160, in is_alive\n",
      "    assert self._parent_pid == os.getpid(), 'can only test a child process'\n",
      "AssertionError: can only test a child process\n",
      "Exception ignored in: <function _MultiProcessingDataLoaderIter.__del__ at 0x7f3cbfe270d0>\n",
      "Traceback (most recent call last):\n",
      "  File \"/home/admin/anaconda3/envs/pytorch-idl/lib/python3.9/site-packages/torch/utils/data/dataloader.py\", line 1618, in __del__\n",
      "    self._shutdown_workers()\n",
      "  File \"/home/admin/anaconda3/envs/pytorch-idl/lib/python3.9/site-packages/torch/utils/data/dataloader.py\", line 1601, in _shutdown_workers\n",
      "    if w.is_alive():\n",
      "  File \"/home/admin/anaconda3/envs/pytorch-idl/lib/python3.9/multiprocessing/process.py\", line 160, in is_alive\n",
      "    assert self._parent_pid == os.getpid(), 'can only test a child process'\n",
      "AssertionError: can only test a child process\n",
      "Exception ignored in: <function _MultiProcessingDataLoaderIter.__del__ at 0x7f3cbfe270d0>\n",
      "Traceback (most recent call last):\n",
      "  File \"/home/admin/anaconda3/envs/pytorch-idl/lib/python3.9/site-packages/torch/utils/data/dataloader.py\", line 1618, in __del__\n",
      "    self._shutdown_workers()\n",
      "  File \"/home/admin/anaconda3/envs/pytorch-idl/lib/python3.9/site-packages/torch/utils/data/dataloader.py\", line 1601, in _shutdown_workers\n",
      "    if w.is_alive():\n",
      "  File \"/home/admin/anaconda3/envs/pytorch-idl/lib/python3.9/multiprocessing/process.py\", line 160, in is_alive\n",
      "    assert self._parent_pid == os.getpid(), 'can only test a child process'\n",
      "AssertionError: can only test a child process\n",
      "Exception ignored in: <function _MultiProcessingDataLoaderIter.__del__ at 0x7f3cbfe270d0>\n",
      "Traceback (most recent call last):\n",
      "  File \"/home/admin/anaconda3/envs/pytorch-idl/lib/python3.9/site-packages/torch/utils/data/dataloader.py\", line 1618, in __del__\n",
      "    self._shutdown_workers()\n",
      "  File \"/home/admin/anaconda3/envs/pytorch-idl/lib/python3.9/site-packages/torch/utils/data/dataloader.py\", line 1601, in _shutdown_workers\n",
      "    if w.is_alive():\n",
      "  File \"/home/admin/anaconda3/envs/pytorch-idl/lib/python3.9/multiprocessing/process.py\", line 160, in is_alive\n",
      "    assert self._parent_pid == os.getpid(), 'can only test a child process'\n",
      "AssertionError: can only test a child process\n",
      "Exception ignored in: <function _MultiProcessingDataLoaderIter.__del__ at 0x7f3cbfe270d0>\n",
      "Traceback (most recent call last):\n",
      "  File \"/home/admin/anaconda3/envs/pytorch-idl/lib/python3.9/site-packages/torch/utils/data/dataloader.py\", line 1618, in __del__\n",
      "    self._shutdown_workers()\n",
      "  File \"/home/admin/anaconda3/envs/pytorch-idl/lib/python3.9/site-packages/torch/utils/data/dataloader.py\", line 1601, in _shutdown_workers\n",
      "    if w.is_alive():\n",
      "  File \"/home/admin/anaconda3/envs/pytorch-idl/lib/python3.9/multiprocessing/process.py\", line 160, in is_alive\n",
      "    assert self._parent_pid == os.getpid(), 'can only test a child process'\n",
      "AssertionError: can only test a child process\n",
      "Exception ignored in: <function _MultiProcessingDataLoaderIter.__del__ at 0x7f3cbfe270d0>\n",
      "Traceback (most recent call last):\n",
      "  File \"/home/admin/anaconda3/envs/pytorch-idl/lib/python3.9/site-packages/torch/utils/data/dataloader.py\", line 1618, in __del__\n",
      "    self._shutdown_workers()\n",
      "  File \"/home/admin/anaconda3/envs/pytorch-idl/lib/python3.9/site-packages/torch/utils/data/dataloader.py\", line 1601, in _shutdown_workers\n",
      "    if w.is_alive():\n",
      "  File \"/home/admin/anaconda3/envs/pytorch-idl/lib/python3.9/multiprocessing/process.py\", line 160, in is_alive\n",
      "    assert self._parent_pid == os.getpid(), 'can only test a child process'\n",
      "AssertionError: can only test a child process\n",
      "Exception ignored in: <function _MultiProcessingDataLoaderIter.__del__ at 0x7f3cbfe270d0>\n",
      "Traceback (most recent call last):\n",
      "  File \"/home/admin/anaconda3/envs/pytorch-idl/lib/python3.9/site-packages/torch/utils/data/dataloader.py\", line 1618, in __del__\n",
      "    self._shutdown_workers()\n",
      "  File \"/home/admin/anaconda3/envs/pytorch-idl/lib/python3.9/site-packages/torch/utils/data/dataloader.py\", line 1601, in _shutdown_workers\n",
      "    if w.is_alive():\n",
      "  File \"/home/admin/anaconda3/envs/pytorch-idl/lib/python3.9/multiprocessing/process.py\", line 160, in is_alive\n",
      "    assert self._parent_pid == os.getpid(), 'can only test a child process'\n",
      "AssertionError: can only test a child process\n"
     ]
    },
    {
     "name": "stdout",
     "output_type": "stream",
     "text": [
      "train: {'loss': 13.523989492742299, 'CER': 0.11895367746242627, 'WER': 0.03376830936512461, 'F1_char': 0.8437177525733838, 'F1_word': 0.8139093875644988}\n",
      "val  : {'loss': 21.195228410019002, 'CER': 0.13197116416117174, 'WER': 0.03670991088924806, 'F1_char': 0.8264856558539869, 'F1_word': 0.7980023427840872}\n",
      "\n",
      "Epoch 27/50\n"
     ]
    },
    {
     "data": {
      "application/vnd.jupyter.widget-view+json": {
       "model_id": "2ec2d89500b34acba1fc86a6980cfcbd",
       "version_major": 2,
       "version_minor": 0
      },
      "text/plain": [
       "[train]:   0%|          | 0/281 [00:00<?, ?it/s]"
      ]
     },
     "metadata": {},
     "output_type": "display_data"
    },
    {
     "data": {
      "application/vnd.jupyter.widget-view+json": {
       "model_id": "82d024469a8c423494502c4d214f2f6a",
       "version_major": 2,
       "version_minor": 0
      },
      "text/plain": [
       "[val]:   0%|          | 0/71 [00:00<?, ?it/s]"
      ]
     },
     "metadata": {},
     "output_type": "display_data"
    },
    {
     "name": "stdout",
     "output_type": "stream",
     "text": [
      "train: {'loss': 13.140551252456323, 'CER': 0.11707045397883768, 'WER': 0.03318638438346595, 'F1_char': 0.8462447201557812, 'F1_word': 0.8170024669785978}\n",
      "val  : {'loss': 21.300744208231777, 'CER': 0.13748992795808124, 'WER': 0.039456181253844064, 'F1_char': 0.8191040667229635, 'F1_word': 0.7824824007169356}\n",
      "\n",
      "Epoch 28/50\n"
     ]
    },
    {
     "data": {
      "application/vnd.jupyter.widget-view+json": {
       "model_id": "273e95a87e0f496ea0a56ee5440196ff",
       "version_major": 2,
       "version_minor": 0
      },
      "text/plain": [
       "[train]:   0%|          | 0/281 [00:00<?, ?it/s]"
      ]
     },
     "metadata": {},
     "output_type": "display_data"
    },
    {
     "data": {
      "application/vnd.jupyter.widget-view+json": {
       "model_id": "57c0b1d2428e4e0683de97774ab32468",
       "version_major": 2,
       "version_minor": 0
      },
      "text/plain": [
       "[val]:   0%|          | 0/71 [00:00<?, ?it/s]"
      ]
     },
     "metadata": {},
     "output_type": "display_data"
    },
    {
     "name": "stdout",
     "output_type": "stream",
     "text": [
      "train: {'loss': 12.822637211279513, 'CER': 0.11664085291875839, 'WER': 0.03347734687429528, 'F1_char': 0.8467991756735868, 'F1_word': 0.8153596851245799}\n",
      "val  : {'loss': 20.830144603487472, 'CER': 0.10524747424179576, 'WER': 0.03096705905911633, 'F1_char': 0.8652739130735484, 'F1_word': 0.8315840941896474}\n",
      "\n",
      "Epoch 29/50\n"
     ]
    },
    {
     "data": {
      "application/vnd.jupyter.widget-view+json": {
       "model_id": "4c6df08fd9b1480d9b34f2df00125cd6",
       "version_major": 2,
       "version_minor": 0
      },
      "text/plain": [
       "[train]:   0%|          | 0/281 [00:00<?, ?it/s]"
      ]
     },
     "metadata": {},
     "output_type": "display_data"
    },
    {
     "data": {
      "application/vnd.jupyter.widget-view+json": {
       "model_id": "55379d542cc04a709be3a11db496b5c0",
       "version_major": 2,
       "version_minor": 0
      },
      "text/plain": [
       "[val]:   0%|          | 0/71 [00:00<?, ?it/s]"
      ]
     },
     "metadata": {},
     "output_type": "display_data"
    },
    {
     "name": "stdout",
     "output_type": "stream",
     "text": [
      "train: {'loss': 12.618046184000807, 'CER': 0.11694193067000509, 'WER': 0.03373558352259779, 'F1_char': 0.8464873830520346, 'F1_word': 0.8138031410065362}\n",
      "val  : {'loss': 21.465633250248263, 'CER': 0.13301770295462456, 'WER': 0.03963020706687836, 'F1_char': 0.825250374128782, 'F1_word': 0.7815249216861159}\n",
      "\n",
      "Epoch 30/50\n"
     ]
    },
    {
     "data": {
      "application/vnd.jupyter.widget-view+json": {
       "model_id": "d637425c583146d69e34c7322746a404",
       "version_major": 2,
       "version_minor": 0
      },
      "text/plain": [
       "[train]:   0%|          | 0/281 [00:00<?, ?it/s]"
      ]
     },
     "metadata": {},
     "output_type": "display_data"
    },
    {
     "data": {
      "application/vnd.jupyter.widget-view+json": {
       "model_id": "a79d33ed20d44f32a61df113e029bee8",
       "version_major": 2,
       "version_minor": 0
      },
      "text/plain": [
       "[val]:   0%|          | 0/71 [00:00<?, ?it/s]"
      ]
     },
     "metadata": {},
     "output_type": "display_data"
    },
    {
     "name": "stdout",
     "output_type": "stream",
     "text": [
      "train: {'loss': 12.632074469508225, 'CER': 0.11897390798326103, 'WER': 0.03452695389642806, 'F1_char': 0.8438570545206893, 'F1_word': 0.809406484651542}\n",
      "val  : {'loss': 21.095747569916952, 'CER': 0.1347460415087323, 'WER': 0.039172495339445695, 'F1_char': 0.8233165851943427, 'F1_word': 0.7844164964528756}\n",
      "\n",
      "Epoch 31/50\n"
     ]
    },
    {
     "data": {
      "application/vnd.jupyter.widget-view+json": {
       "model_id": "d41f8f15638148f28247200df3cf42a4",
       "version_major": 2,
       "version_minor": 0
      },
      "text/plain": [
       "[train]:   0%|          | 0/281 [00:00<?, ?it/s]"
      ]
     },
     "metadata": {},
     "output_type": "display_data"
    },
    {
     "data": {
      "application/vnd.jupyter.widget-view+json": {
       "model_id": "70f3249083d14f3f86b5eeb9d53b9af0",
       "version_major": 2,
       "version_minor": 0
      },
      "text/plain": [
       "[val]:   0%|          | 0/71 [00:00<?, ?it/s]"
      ]
     },
     "metadata": {},
     "output_type": "display_data"
    },
    {
     "name": "stdout",
     "output_type": "stream",
     "text": [
      "train: {'loss': 12.285669985190829, 'CER': 0.12046442135652782, 'WER': 0.034515648605373345, 'F1_char': 0.8417666717064253, 'F1_word': 0.8092667181160076}\n",
      "val  : {'loss': 21.28766160195982, 'CER': 0.12352018461039672, 'WER': 0.03569674690925388, 'F1_char': 0.8391511350305155, 'F1_word': 0.8043436898553303}\n",
      "\n",
      "Epoch 32/50\n"
     ]
    },
    {
     "data": {
      "application/vnd.jupyter.widget-view+json": {
       "model_id": "d5d7bd6cd38448bf84dd27c56151b47b",
       "version_major": 2,
       "version_minor": 0
      },
      "text/plain": [
       "[train]:   0%|          | 0/281 [00:00<?, ?it/s]"
      ]
     },
     "metadata": {},
     "output_type": "display_data"
    },
    {
     "name": "stderr",
     "output_type": "stream",
     "text": [
      "Exception ignored in: <function _MultiProcessingDataLoaderIter.__del__ at 0x7f3cbfe270d0>    \n",
      "Traceback (most recent call last):\n",
      "  File \"/home/admin/anaconda3/envs/pytorch-idl/lib/python3.9/site-packages/torch/utils/data/dataloader.py\", line 1618, in __del__\n",
      "    self._shutdown_workers()\n",
      "  File \"/home/admin/anaconda3/envs/pytorch-idl/lib/python3.9/site-packages/torch/utils/data/dataloader.py\", line 1601, in _shutdown_workers\n",
      "if w.is_alive():\n",
      "  File \"/home/admin/anaconda3/envs/pytorch-idl/lib/python3.9/multiprocessing/process.py\", line 160, in is_alive\n",
      "    assert self._parent_pid == os.getpid(), 'can only test a child process'\n",
      "AssertionError: can only test a child process\n",
      "Exception ignored in: <function _MultiProcessingDataLoaderIter.__del__ at 0x7f3cbfe270d0>\n",
      "Traceback (most recent call last):\n",
      "  File \"/home/admin/anaconda3/envs/pytorch-idl/lib/python3.9/site-packages/torch/utils/data/dataloader.py\", line 1618, in __del__\n",
      "    self._shutdown_workers()\n",
      "  File \"/home/admin/anaconda3/envs/pytorch-idl/lib/python3.9/site-packages/torch/utils/data/dataloader.py\", line 1601, in _shutdown_workers\n",
      "    if w.is_alive():\n",
      "  File \"/home/admin/anaconda3/envs/pytorch-idl/lib/python3.9/multiprocessing/process.py\", line 160, in is_alive\n",
      "    assert self._parent_pid == os.getpid(), 'can only test a child process'\n",
      "AssertionError: can only test a child process\n",
      "Exception ignored in: <function _MultiProcessingDataLoaderIter.__del__ at 0x7f3cbfe270d0>\n",
      "Traceback (most recent call last):\n",
      "  File \"/home/admin/anaconda3/envs/pytorch-idl/lib/python3.9/site-packages/torch/utils/data/dataloader.py\", line 1618, in __del__\n",
      "    self._shutdown_workers()\n",
      "  File \"/home/admin/anaconda3/envs/pytorch-idl/lib/python3.9/site-packages/torch/utils/data/dataloader.py\", line 1601, in _shutdown_workers\n",
      "    if w.is_alive():\n",
      "  File \"/home/admin/anaconda3/envs/pytorch-idl/lib/python3.9/multiprocessing/process.py\", line 160, in is_alive\n",
      "    assert self._parent_pid == os.getpid(), 'can only test a child process'\n",
      "AssertionError: can only test a child process\n",
      "Exception ignored in: <function _MultiProcessingDataLoaderIter.__del__ at 0x7f3cbfe270d0>\n",
      "Traceback (most recent call last):\n",
      "  File \"/home/admin/anaconda3/envs/pytorch-idl/lib/python3.9/site-packages/torch/utils/data/dataloader.py\", line 1618, in __del__\n",
      "    self._shutdown_workers()\n",
      "  File \"/home/admin/anaconda3/envs/pytorch-idl/lib/python3.9/site-packages/torch/utils/data/dataloader.py\", line 1601, in _shutdown_workers\n",
      "    if w.is_alive():\n",
      "  File \"/home/admin/anaconda3/envs/pytorch-idl/lib/python3.9/multiprocessing/process.py\", line 160, in is_alive\n",
      "    assert self._parent_pid == os.getpid(), 'can only test a child process'\n",
      "AssertionError: can only test a child process\n",
      "Exception ignored in: <function _MultiProcessingDataLoaderIter.__del__ at 0x7f3cbfe270d0>\n",
      "Traceback (most recent call last):\n",
      "  File \"/home/admin/anaconda3/envs/pytorch-idl/lib/python3.9/site-packages/torch/utils/data/dataloader.py\", line 1618, in __del__\n",
      "    self._shutdown_workers()\n",
      "  File \"/home/admin/anaconda3/envs/pytorch-idl/lib/python3.9/site-packages/torch/utils/data/dataloader.py\", line 1601, in _shutdown_workers\n",
      "    if w.is_alive():\n",
      "  File \"/home/admin/anaconda3/envs/pytorch-idl/lib/python3.9/multiprocessing/process.py\", line 160, in is_alive\n",
      "    assert self._parent_pid == os.getpid(), 'can only test a child process'\n",
      "AssertionError: can only test a child process\n",
      "Exception ignored in: <function _MultiProcessingDataLoaderIter.__del__ at 0x7f3cbfe270d0>\n",
      "Traceback (most recent call last):\n",
      "  File \"/home/admin/anaconda3/envs/pytorch-idl/lib/python3.9/site-packages/torch/utils/data/dataloader.py\", line 1618, in __del__\n",
      "    self._shutdown_workers()\n",
      "  File \"/home/admin/anaconda3/envs/pytorch-idl/lib/python3.9/site-packages/torch/utils/data/dataloader.py\", line 1601, in _shutdown_workers\n",
      "    if w.is_alive():\n",
      "  File \"/home/admin/anaconda3/envs/pytorch-idl/lib/python3.9/multiprocessing/process.py\", line 160, in is_alive\n",
      "    assert self._parent_pid == os.getpid(), 'can only test a child process'\n",
      "AssertionError: can only test a child process\n",
      "Exception ignored in: <function _MultiProcessingDataLoaderIter.__del__ at 0x7f3cbfe270d0>\n",
      "Traceback (most recent call last):\n",
      "  File \"/home/admin/anaconda3/envs/pytorch-idl/lib/python3.9/site-packages/torch/utils/data/dataloader.py\", line 1618, in __del__\n",
      "    self._shutdown_workers()\n",
      "  File \"/home/admin/anaconda3/envs/pytorch-idl/lib/python3.9/site-packages/torch/utils/data/dataloader.py\", line 1601, in _shutdown_workers\n",
      "    if w.is_alive():\n",
      "  File \"/home/admin/anaconda3/envs/pytorch-idl/lib/python3.9/multiprocessing/process.py\", line 160, in is_alive\n",
      "    assert self._parent_pid == os.getpid(), 'can only test a child process'\n",
      "AssertionError: can only test a child process\n",
      "Exception ignored in: <function _MultiProcessingDataLoaderIter.__del__ at 0x7f3cbfe270d0>\n",
      "Traceback (most recent call last):\n",
      "  File \"/home/admin/anaconda3/envs/pytorch-idl/lib/python3.9/site-packages/torch/utils/data/dataloader.py\", line 1618, in __del__\n",
      "    self._shutdown_workers()\n",
      "  File \"/home/admin/anaconda3/envs/pytorch-idl/lib/python3.9/site-packages/torch/utils/data/dataloader.py\", line 1601, in _shutdown_workers\n",
      "    if w.is_alive():\n",
      "  File \"/home/admin/anaconda3/envs/pytorch-idl/lib/python3.9/multiprocessing/process.py\", line 160, in is_alive\n",
      "    assert self._parent_pid == os.getpid(), 'can only test a child process'\n",
      "AssertionError: can only test a child process\n",
      "Exception ignored in: <function _MultiProcessingDataLoaderIter.__del__ at 0x7f3cbfe270d0>\n",
      "Traceback (most recent call last):\n",
      "  File \"/home/admin/anaconda3/envs/pytorch-idl/lib/python3.9/site-packages/torch/utils/data/dataloader.py\", line 1618, in __del__\n",
      "    self._shutdown_workers()\n",
      "  File \"/home/admin/anaconda3/envs/pytorch-idl/lib/python3.9/site-packages/torch/utils/data/dataloader.py\", line 1601, in _shutdown_workers\n",
      "    if w.is_alive():\n",
      "  File \"/home/admin/anaconda3/envs/pytorch-idl/lib/python3.9/multiprocessing/process.py\", line 160, in is_alive\n",
      "    assert self._parent_pid == os.getpid(), 'can only test a child process'\n",
      "AssertionError: can only test a child process\n",
      "Exception ignored in: <function _MultiProcessingDataLoaderIter.__del__ at 0x7f3cbfe270d0>\n",
      "Traceback (most recent call last):\n",
      "  File \"/home/admin/anaconda3/envs/pytorch-idl/lib/python3.9/site-packages/torch/utils/data/dataloader.py\", line 1618, in __del__\n",
      "    self._shutdown_workers()\n",
      "  File \"/home/admin/anaconda3/envs/pytorch-idl/lib/python3.9/site-packages/torch/utils/data/dataloader.py\", line 1601, in _shutdown_workers\n",
      "    if w.is_alive():\n",
      "  File \"/home/admin/anaconda3/envs/pytorch-idl/lib/python3.9/multiprocessing/process.py\", line 160, in is_alive\n",
      "    assert self._parent_pid == os.getpid(), 'can only test a child process'\n",
      "AssertionError: can only test a child process\n"
     ]
    },
    {
     "data": {
      "application/vnd.jupyter.widget-view+json": {
       "model_id": "9d3f2aa3fe7540768778d6db4a8695d7",
       "version_major": 2,
       "version_minor": 0
      },
      "text/plain": [
       "[val]:   0%|          | 0/71 [00:00<?, ?it/s]"
      ]
     },
     "metadata": {},
     "output_type": "display_data"
    },
    {
     "name": "stderr",
     "output_type": "stream",
     "text": [
      "Exception ignored in: <function _MultiProcessingDataLoaderIter.__del__ at 0x7f3cbfe270d0>\n",
      "Traceback (most recent call last):\n",
      "  File \"/home/admin/anaconda3/envs/pytorch-idl/lib/python3.9/site-packages/torch/utils/data/dataloader.py\", line 1618, in __del__\n",
      "    self._shutdown_workers()\n",
      "  File \"/home/admin/anaconda3/envs/pytorch-idl/lib/python3.9/site-packages/torch/utils/data/dataloader.py\", line 1601, in _shutdown_workers\n",
      "    if w.is_alive():\n",
      "  File \"/home/admin/anaconda3/envs/pytorch-idl/lib/python3.9/multiprocessing/process.py\", line 160, in is_alive\n",
      "Exception ignored in:     assert self._parent_pid == os.getpid(), 'can only test a child process'\n",
      "AssertionError<function _MultiProcessingDataLoaderIter.__del__ at 0x7f3cbfe270d0>: \n",
      "can only test a child process\n",
      "Traceback (most recent call last):\n",
      "Exception ignored in:   File \"/home/admin/anaconda3/envs/pytorch-idl/lib/python3.9/site-packages/torch/utils/data/dataloader.py\", line 1618, in __del__\n",
      "<function _MultiProcessingDataLoaderIter.__del__ at 0x7f3cbfe270d0>    self._shutdown_workers()\n",
      "\n",
      "Traceback (most recent call last):\n",
      "  File \"/home/admin/anaconda3/envs/pytorch-idl/lib/python3.9/site-packages/torch/utils/data/dataloader.py\", line 1601, in _shutdown_workers\n",
      "  File \"/home/admin/anaconda3/envs/pytorch-idl/lib/python3.9/site-packages/torch/utils/data/dataloader.py\", line 1618, in __del__\n",
      "        self._shutdown_workers()if w.is_alive():\n",
      "\n",
      "  File \"/home/admin/anaconda3/envs/pytorch-idl/lib/python3.9/site-packages/torch/utils/data/dataloader.py\", line 1601, in _shutdown_workers\n",
      "  File \"/home/admin/anaconda3/envs/pytorch-idl/lib/python3.9/multiprocessing/process.py\", line 160, in is_alive\n",
      "        if w.is_alive():assert self._parent_pid == os.getpid(), 'can only test a child process'\n",
      "\n",
      "  File \"/home/admin/anaconda3/envs/pytorch-idl/lib/python3.9/multiprocessing/process.py\", line 160, in is_alive\n",
      "    AssertionErrorassert self._parent_pid == os.getpid(), 'can only test a child process': \n",
      "can only test a child processAssertionError\n",
      ": can only test a child process\n",
      "Exception ignored in: <function _MultiProcessingDataLoaderIter.__del__ at 0x7f3cbfe270d0>Exception ignored in: \n",
      "<function _MultiProcessingDataLoaderIter.__del__ at 0x7f3cbfe270d0>Traceback (most recent call last):\n",
      "\n",
      "  File \"/home/admin/anaconda3/envs/pytorch-idl/lib/python3.9/site-packages/torch/utils/data/dataloader.py\", line 1618, in __del__\n",
      "Traceback (most recent call last):\n",
      "      File \"/home/admin/anaconda3/envs/pytorch-idl/lib/python3.9/site-packages/torch/utils/data/dataloader.py\", line 1618, in __del__\n",
      "self._shutdown_workers()    \n",
      "self._shutdown_workers()  File \"/home/admin/anaconda3/envs/pytorch-idl/lib/python3.9/site-packages/torch/utils/data/dataloader.py\", line 1601, in _shutdown_workers\n",
      "\n",
      "      File \"/home/admin/anaconda3/envs/pytorch-idl/lib/python3.9/site-packages/torch/utils/data/dataloader.py\", line 1601, in _shutdown_workers\n",
      "if w.is_alive():    \n",
      "if w.is_alive():  File \"/home/admin/anaconda3/envs/pytorch-idl/lib/python3.9/multiprocessing/process.py\", line 160, in is_alive\n",
      "\n",
      "  File \"/home/admin/anaconda3/envs/pytorch-idl/lib/python3.9/multiprocessing/process.py\", line 160, in is_alive\n",
      "    assert self._parent_pid == os.getpid(), 'can only test a child process'\n",
      "    AssertionErrorassert self._parent_pid == os.getpid(), 'can only test a child process': \n",
      "can only test a child processAssertionError\n",
      ": can only test a child process\n",
      "Exception ignored in: <function _MultiProcessingDataLoaderIter.__del__ at 0x7f3cbfe270d0>Exception ignored in: \n",
      "<function _MultiProcessingDataLoaderIter.__del__ at 0x7f3cbfe270d0>Traceback (most recent call last):\n",
      "\n",
      "Traceback (most recent call last):\n",
      "  File \"/home/admin/anaconda3/envs/pytorch-idl/lib/python3.9/site-packages/torch/utils/data/dataloader.py\", line 1618, in __del__\n",
      "  File \"/home/admin/anaconda3/envs/pytorch-idl/lib/python3.9/site-packages/torch/utils/data/dataloader.py\", line 1618, in __del__\n",
      "        self._shutdown_workers()\n",
      "self._shutdown_workers()  File \"/home/admin/anaconda3/envs/pytorch-idl/lib/python3.9/site-packages/torch/utils/data/dataloader.py\", line 1601, in _shutdown_workers\n",
      "\n",
      "  File \"/home/admin/anaconda3/envs/pytorch-idl/lib/python3.9/site-packages/torch/utils/data/dataloader.py\", line 1601, in _shutdown_workers\n",
      "    if w.is_alive():    \n",
      "if w.is_alive():  File \"/home/admin/anaconda3/envs/pytorch-idl/lib/python3.9/multiprocessing/process.py\", line 160, in is_alive\n",
      "\n",
      "      File \"/home/admin/anaconda3/envs/pytorch-idl/lib/python3.9/multiprocessing/process.py\", line 160, in is_alive\n",
      "assert self._parent_pid == os.getpid(), 'can only test a child process'    \n",
      "AssertionErrorassert self._parent_pid == os.getpid(), 'can only test a child process'\n",
      ": can only test a child processAssertionError: \n",
      "Exception ignored in: can only test a child process<function _MultiProcessingDataLoaderIter.__del__ at 0x7f3cbfe270d0>\n",
      "\n",
      "Traceback (most recent call last):\n",
      "  File \"/home/admin/anaconda3/envs/pytorch-idl/lib/python3.9/site-packages/torch/utils/data/dataloader.py\", line 1618, in __del__\n",
      "    self._shutdown_workers()\n",
      "Exception ignored in:   File \"/home/admin/anaconda3/envs/pytorch-idl/lib/python3.9/site-packages/torch/utils/data/dataloader.py\", line 1601, in _shutdown_workers\n",
      "<function _MultiProcessingDataLoaderIter.__del__ at 0x7f3cbfe270d0>    if w.is_alive():\n",
      "\n",
      "  File \"/home/admin/anaconda3/envs/pytorch-idl/lib/python3.9/multiprocessing/process.py\", line 160, in is_alive\n",
      "Traceback (most recent call last):\n",
      "      File \"/home/admin/anaconda3/envs/pytorch-idl/lib/python3.9/site-packages/torch/utils/data/dataloader.py\", line 1618, in __del__\n",
      "assert self._parent_pid == os.getpid(), 'can only test a child process'\n",
      "    AssertionErrorself._shutdown_workers(): \n",
      "can only test a child process\n",
      "  File \"/home/admin/anaconda3/envs/pytorch-idl/lib/python3.9/site-packages/torch/utils/data/dataloader.py\", line 1601, in _shutdown_workers\n",
      "    if w.is_alive():Exception ignored in: \n",
      "<function _MultiProcessingDataLoaderIter.__del__ at 0x7f3cbfe270d0>  File \"/home/admin/anaconda3/envs/pytorch-idl/lib/python3.9/multiprocessing/process.py\", line 160, in is_alive\n",
      "\n",
      "    Traceback (most recent call last):\n",
      "assert self._parent_pid == os.getpid(), 'can only test a child process'  File \"/home/admin/anaconda3/envs/pytorch-idl/lib/python3.9/site-packages/torch/utils/data/dataloader.py\", line 1618, in __del__\n",
      "\n",
      "    AssertionErrorself._shutdown_workers(): can only test a child process\n",
      "  File \"/home/admin/anaconda3/envs/pytorch-idl/lib/python3.9/site-packages/torch/utils/data/dataloader.py\", line 1601, in _shutdown_workers\n",
      "\n",
      "    if w.is_alive():\n",
      "  File \"/home/admin/anaconda3/envs/pytorch-idl/lib/python3.9/multiprocessing/process.py\", line 160, in is_alive\n",
      "    assert self._parent_pid == os.getpid(), 'can only test a child process'Exception ignored in: \n",
      "AssertionError<function _MultiProcessingDataLoaderIter.__del__ at 0x7f3cbfe270d0>: \n",
      "can only test a child processTraceback (most recent call last):\n",
      "\n",
      "  File \"/home/admin/anaconda3/envs/pytorch-idl/lib/python3.9/site-packages/torch/utils/data/dataloader.py\", line 1618, in __del__\n",
      "    Exception ignored in: self._shutdown_workers()<function _MultiProcessingDataLoaderIter.__del__ at 0x7f3cbfe270d0>\n",
      "\n",
      "Traceback (most recent call last):\n",
      "  File \"/home/admin/anaconda3/envs/pytorch-idl/lib/python3.9/site-packages/torch/utils/data/dataloader.py\", line 1601, in _shutdown_workers\n",
      "  File \"/home/admin/anaconda3/envs/pytorch-idl/lib/python3.9/site-packages/torch/utils/data/dataloader.py\", line 1618, in __del__\n",
      "    if w.is_alive():\n",
      "    self._shutdown_workers()  File \"/home/admin/anaconda3/envs/pytorch-idl/lib/python3.9/multiprocessing/process.py\", line 160, in is_alive\n",
      "\n",
      "  File \"/home/admin/anaconda3/envs/pytorch-idl/lib/python3.9/site-packages/torch/utils/data/dataloader.py\", line 1601, in _shutdown_workers\n",
      "    assert self._parent_pid == os.getpid(), 'can only test a child process'    \n",
      "if w.is_alive():AssertionError\n",
      ":   File \"/home/admin/anaconda3/envs/pytorch-idl/lib/python3.9/multiprocessing/process.py\", line 160, in is_alive\n",
      "can only test a child process\n",
      "    assert self._parent_pid == os.getpid(), 'can only test a child process'\n",
      "Exception ignored in: AssertionError<function _MultiProcessingDataLoaderIter.__del__ at 0x7f3cbfe270d0>: can only test a child process\n",
      "\n",
      "Traceback (most recent call last):\n",
      "Exception ignored in:   File \"/home/admin/anaconda3/envs/pytorch-idl/lib/python3.9/site-packages/torch/utils/data/dataloader.py\", line 1618, in __del__\n",
      "<function _MultiProcessingDataLoaderIter.__del__ at 0x7f3cbfe270d0>    \n",
      "self._shutdown_workers()\n",
      "Traceback (most recent call last):\n",
      "  File \"/home/admin/anaconda3/envs/pytorch-idl/lib/python3.9/site-packages/torch/utils/data/dataloader.py\", line 1601, in _shutdown_workers\n",
      "  File \"/home/admin/anaconda3/envs/pytorch-idl/lib/python3.9/site-packages/torch/utils/data/dataloader.py\", line 1618, in __del__\n",
      "        if w.is_alive():self._shutdown_workers()\n",
      "\n",
      "  File \"/home/admin/anaconda3/envs/pytorch-idl/lib/python3.9/multiprocessing/process.py\", line 160, in is_alive\n",
      "  File \"/home/admin/anaconda3/envs/pytorch-idl/lib/python3.9/site-packages/torch/utils/data/dataloader.py\", line 1601, in _shutdown_workers\n",
      "    assert self._parent_pid == os.getpid(), 'can only test a child process'    \n",
      "AssertionErrorif w.is_alive():: \n",
      "can only test a child process  File \"/home/admin/anaconda3/envs/pytorch-idl/lib/python3.9/multiprocessing/process.py\", line 160, in is_alive\n",
      "\n",
      "    assert self._parent_pid == os.getpid(), 'can only test a child process'\n",
      "Exception ignored in: AssertionError<function _MultiProcessingDataLoaderIter.__del__ at 0x7f3cbfe270d0>: \n",
      "can only test a child processTraceback (most recent call last):\n",
      "  File \"/home/admin/anaconda3/envs/pytorch-idl/lib/python3.9/site-packages/torch/utils/data/dataloader.py\", line 1618, in __del__\n",
      "\n",
      "    self._shutdown_workers()Exception ignored in: \n",
      "  File \"/home/admin/anaconda3/envs/pytorch-idl/lib/python3.9/site-packages/torch/utils/data/dataloader.py\", line 1601, in _shutdown_workers\n",
      "<function _MultiProcessingDataLoaderIter.__del__ at 0x7f3cbfe270d0>    \n",
      "if w.is_alive():\n",
      "Traceback (most recent call last):\n",
      "  File \"/home/admin/anaconda3/envs/pytorch-idl/lib/python3.9/multiprocessing/process.py\", line 160, in is_alive\n",
      "  File \"/home/admin/anaconda3/envs/pytorch-idl/lib/python3.9/site-packages/torch/utils/data/dataloader.py\", line 1618, in __del__\n",
      "    assert self._parent_pid == os.getpid(), 'can only test a child process'    \n",
      "AssertionErrorself._shutdown_workers()\n",
      ":   File \"/home/admin/anaconda3/envs/pytorch-idl/lib/python3.9/site-packages/torch/utils/data/dataloader.py\", line 1601, in _shutdown_workers\n",
      "can only test a child process\n",
      "    if w.is_alive():Exception ignored in: \n",
      "<function _MultiProcessingDataLoaderIter.__del__ at 0x7f3cbfe270d0>  File \"/home/admin/anaconda3/envs/pytorch-idl/lib/python3.9/multiprocessing/process.py\", line 160, in is_alive\n",
      "\n",
      "    Traceback (most recent call last):\n",
      "  File \"/home/admin/anaconda3/envs/pytorch-idl/lib/python3.9/site-packages/torch/utils/data/dataloader.py\", line 1618, in __del__\n",
      "assert self._parent_pid == os.getpid(), 'can only test a child process'    \n",
      "self._shutdown_workers()\n",
      "AssertionError  File \"/home/admin/anaconda3/envs/pytorch-idl/lib/python3.9/site-packages/torch/utils/data/dataloader.py\", line 1601, in _shutdown_workers\n",
      ":     if w.is_alive():\n",
      "can only test a child process  File \"/home/admin/anaconda3/envs/pytorch-idl/lib/python3.9/multiprocessing/process.py\", line 160, in is_alive\n",
      "    assert self._parent_pid == os.getpid(), 'can only test a child process'\n",
      "\n",
      "AssertionError: can only test a child process\n",
      "Exception ignored in: <function _MultiProcessingDataLoaderIter.__del__ at 0x7f3cbfe270d0>Exception ignored in: \n",
      "Traceback (most recent call last):\n",
      "<function _MultiProcessingDataLoaderIter.__del__ at 0x7f3cbfe270d0>\n",
      "  File \"/home/admin/anaconda3/envs/pytorch-idl/lib/python3.9/site-packages/torch/utils/data/dataloader.py\", line 1618, in __del__\n",
      "Traceback (most recent call last):\n",
      "      File \"/home/admin/anaconda3/envs/pytorch-idl/lib/python3.9/site-packages/torch/utils/data/dataloader.py\", line 1618, in __del__\n",
      "self._shutdown_workers()    \n",
      "self._shutdown_workers()  File \"/home/admin/anaconda3/envs/pytorch-idl/lib/python3.9/site-packages/torch/utils/data/dataloader.py\", line 1601, in _shutdown_workers\n",
      "\n",
      "      File \"/home/admin/anaconda3/envs/pytorch-idl/lib/python3.9/site-packages/torch/utils/data/dataloader.py\", line 1601, in _shutdown_workers\n",
      "if w.is_alive():    \n",
      "if w.is_alive():\n",
      "  File \"/home/admin/anaconda3/envs/pytorch-idl/lib/python3.9/multiprocessing/process.py\", line 160, in is_alive\n",
      "  File \"/home/admin/anaconda3/envs/pytorch-idl/lib/python3.9/multiprocessing/process.py\", line 160, in is_alive\n",
      "        assert self._parent_pid == os.getpid(), 'can only test a child process'assert self._parent_pid == os.getpid(), 'can only test a child process'\n",
      "\n",
      "AssertionErrorAssertionError: : can only test a child processcan only test a child process\n",
      "\n",
      "Exception ignored in: <function _MultiProcessingDataLoaderIter.__del__ at 0x7f3cbfe270d0>\n",
      "Exception ignored in: Traceback (most recent call last):\n",
      "<function _MultiProcessingDataLoaderIter.__del__ at 0x7f3cbfe270d0>  File \"/home/admin/anaconda3/envs/pytorch-idl/lib/python3.9/site-packages/torch/utils/data/dataloader.py\", line 1618, in __del__\n",
      "\n",
      "    Traceback (most recent call last):\n",
      "  File \"/home/admin/anaconda3/envs/pytorch-idl/lib/python3.9/site-packages/torch/utils/data/dataloader.py\", line 1618, in __del__\n",
      "    self._shutdown_workers()\n",
      "self._shutdown_workers()  File \"/home/admin/anaconda3/envs/pytorch-idl/lib/python3.9/site-packages/torch/utils/data/dataloader.py\", line 1601, in _shutdown_workers\n",
      "\n",
      "      File \"/home/admin/anaconda3/envs/pytorch-idl/lib/python3.9/site-packages/torch/utils/data/dataloader.py\", line 1601, in _shutdown_workers\n",
      "if w.is_alive():\n",
      "    if w.is_alive():  File \"/home/admin/anaconda3/envs/pytorch-idl/lib/python3.9/multiprocessing/process.py\", line 160, in is_alive\n",
      "\n",
      "  File \"/home/admin/anaconda3/envs/pytorch-idl/lib/python3.9/multiprocessing/process.py\", line 160, in is_alive\n",
      "        assert self._parent_pid == os.getpid(), 'can only test a child process'assert self._parent_pid == os.getpid(), 'can only test a child process'\n",
      "\n",
      "AssertionErrorAssertionError: : can only test a child processcan only test a child process\n",
      "\n",
      "Exception ignored in: <function _MultiProcessingDataLoaderIter.__del__ at 0x7f3cbfe270d0>\n",
      "Traceback (most recent call last):\n",
      "  File \"/home/admin/anaconda3/envs/pytorch-idl/lib/python3.9/site-packages/torch/utils/data/dataloader.py\", line 1618, in __del__\n",
      "    self._shutdown_workers()\n",
      "  File \"/home/admin/anaconda3/envs/pytorch-idl/lib/python3.9/site-packages/torch/utils/data/dataloader.py\", line 1601, in _shutdown_workers\n",
      "    if w.is_alive():\n",
      "  File \"/home/admin/anaconda3/envs/pytorch-idl/lib/python3.9/multiprocessing/process.py\", line 160, in is_alive\n",
      "    assert self._parent_pid == os.getpid(), 'can only test a child process'\n",
      "AssertionError: can only test a child process\n",
      "Exception ignored in: <function _MultiProcessingDataLoaderIter.__del__ at 0x7f3cbfe270d0>\n",
      "Traceback (most recent call last):\n",
      "  File \"/home/admin/anaconda3/envs/pytorch-idl/lib/python3.9/site-packages/torch/utils/data/dataloader.py\", line 1618, in __del__\n",
      "    self._shutdown_workers()\n",
      "  File \"/home/admin/anaconda3/envs/pytorch-idl/lib/python3.9/site-packages/torch/utils/data/dataloader.py\", line 1601, in _shutdown_workers\n",
      "    if w.is_alive():\n",
      "  File \"/home/admin/anaconda3/envs/pytorch-idl/lib/python3.9/multiprocessing/process.py\", line 160, in is_alive\n",
      "    assert self._parent_pid == os.getpid(), 'can only test a child process'\n",
      "AssertionError: can only test a child process\n",
      "Exception ignored in: Exception ignored in: <function _MultiProcessingDataLoaderIter.__del__ at 0x7f3cbfe270d0><function _MultiProcessingDataLoaderIter.__del__ at 0x7f3cbfe270d0>\n",
      "Traceback (most recent call last):\n",
      "\n",
      "Traceback (most recent call last):\n",
      "  File \"/home/admin/anaconda3/envs/pytorch-idl/lib/python3.9/site-packages/torch/utils/data/dataloader.py\", line 1618, in __del__\n",
      "    self._shutdown_workers()\n",
      "  File \"/home/admin/anaconda3/envs/pytorch-idl/lib/python3.9/site-packages/torch/utils/data/dataloader.py\", line 1601, in _shutdown_workers\n",
      "      File \"/home/admin/anaconda3/envs/pytorch-idl/lib/python3.9/site-packages/torch/utils/data/dataloader.py\", line 1618, in __del__\n",
      "if w.is_alive():    self._shutdown_workers()\n",
      "\n",
      "  File \"/home/admin/anaconda3/envs/pytorch-idl/lib/python3.9/multiprocessing/process.py\", line 160, in is_alive\n",
      "      File \"/home/admin/anaconda3/envs/pytorch-idl/lib/python3.9/site-packages/torch/utils/data/dataloader.py\", line 1601, in _shutdown_workers\n",
      "assert self._parent_pid == os.getpid(), 'can only test a child process'    \n",
      "if w.is_alive():AssertionError\n",
      ":   File \"/home/admin/anaconda3/envs/pytorch-idl/lib/python3.9/multiprocessing/process.py\", line 160, in is_alive\n",
      "can only test a child process    \n",
      "assert self._parent_pid == os.getpid(), 'can only test a child process'\n",
      "AssertionErrorException ignored in: : <function _MultiProcessingDataLoaderIter.__del__ at 0x7f3cbfe270d0>can only test a child process\n",
      "\n",
      "Traceback (most recent call last):\n",
      "  File \"/home/admin/anaconda3/envs/pytorch-idl/lib/python3.9/site-packages/torch/utils/data/dataloader.py\", line 1618, in __del__\n",
      "    Exception ignored in: self._shutdown_workers()<function _MultiProcessingDataLoaderIter.__del__ at 0x7f3cbfe270d0>\n",
      "\n",
      "  File \"/home/admin/anaconda3/envs/pytorch-idl/lib/python3.9/site-packages/torch/utils/data/dataloader.py\", line 1601, in _shutdown_workers\n",
      "Traceback (most recent call last):\n",
      "    if w.is_alive():\n",
      "  File \"/home/admin/anaconda3/envs/pytorch-idl/lib/python3.9/multiprocessing/process.py\", line 160, in is_alive\n",
      "  File \"/home/admin/anaconda3/envs/pytorch-idl/lib/python3.9/site-packages/torch/utils/data/dataloader.py\", line 1618, in __del__\n",
      "        assert self._parent_pid == os.getpid(), 'can only test a child process'self._shutdown_workers()\n",
      "\n",
      "AssertionError: can only test a child process\n",
      "  File \"/home/admin/anaconda3/envs/pytorch-idl/lib/python3.9/site-packages/torch/utils/data/dataloader.py\", line 1601, in _shutdown_workers\n",
      "Exception ignored in:     if w.is_alive():\n",
      "<function _MultiProcessingDataLoaderIter.__del__ at 0x7f3cbfe270d0>  File \"/home/admin/anaconda3/envs/pytorch-idl/lib/python3.9/multiprocessing/process.py\", line 160, in is_alive\n",
      "\n",
      "    Traceback (most recent call last):\n",
      "assert self._parent_pid == os.getpid(), 'can only test a child process'  File \"/home/admin/anaconda3/envs/pytorch-idl/lib/python3.9/site-packages/torch/utils/data/dataloader.py\", line 1618, in __del__\n",
      "\n",
      "    self._shutdown_workers()AssertionError\n",
      "  File \"/home/admin/anaconda3/envs/pytorch-idl/lib/python3.9/site-packages/torch/utils/data/dataloader.py\", line 1601, in _shutdown_workers\n",
      "    : can only test a child processif w.is_alive():\n",
      "  File \"/home/admin/anaconda3/envs/pytorch-idl/lib/python3.9/multiprocessing/process.py\", line 160, in is_alive\n",
      "\n",
      "    assert self._parent_pid == os.getpid(), 'can only test a child process'Exception ignored in: \n",
      "<function _MultiProcessingDataLoaderIter.__del__ at 0x7f3cbfe270d0>\n",
      "AssertionErrorTraceback (most recent call last):\n",
      ":   File \"/home/admin/anaconda3/envs/pytorch-idl/lib/python3.9/site-packages/torch/utils/data/dataloader.py\", line 1618, in __del__\n",
      "    can only test a child processself._shutdown_workers()\n",
      "\n",
      "  File \"/home/admin/anaconda3/envs/pytorch-idl/lib/python3.9/site-packages/torch/utils/data/dataloader.py\", line 1601, in _shutdown_workers\n",
      "Exception ignored in:     <function _MultiProcessingDataLoaderIter.__del__ at 0x7f3cbfe270d0>if w.is_alive():\n",
      "  File \"/home/admin/anaconda3/envs/pytorch-idl/lib/python3.9/multiprocessing/process.py\", line 160, in is_alive\n",
      "\n",
      "    Traceback (most recent call last):\n",
      "assert self._parent_pid == os.getpid(), 'can only test a child process'  File \"/home/admin/anaconda3/envs/pytorch-idl/lib/python3.9/site-packages/torch/utils/data/dataloader.py\", line 1618, in __del__\n",
      "\n",
      "AssertionError    self._shutdown_workers(): can only test a child process\n",
      "\n",
      "  File \"/home/admin/anaconda3/envs/pytorch-idl/lib/python3.9/site-packages/torch/utils/data/dataloader.py\", line 1601, in _shutdown_workers\n",
      "    if w.is_alive():Exception ignored in: \n",
      "<function _MultiProcessingDataLoaderIter.__del__ at 0x7f3cbfe270d0>  File \"/home/admin/anaconda3/envs/pytorch-idl/lib/python3.9/multiprocessing/process.py\", line 160, in is_alive\n",
      "\n",
      "    Traceback (most recent call last):\n",
      "assert self._parent_pid == os.getpid(), 'can only test a child process'\n",
      "AssertionError: can only test a child process\n",
      "  File \"/home/admin/anaconda3/envs/pytorch-idl/lib/python3.9/site-packages/torch/utils/data/dataloader.py\", line 1618, in __del__\n",
      "    self._shutdown_workers()\n",
      "  File \"/home/admin/anaconda3/envs/pytorch-idl/lib/python3.9/site-packages/torch/utils/data/dataloader.py\", line 1601, in _shutdown_workers\n",
      "Exception ignored in:     if w.is_alive():<function _MultiProcessingDataLoaderIter.__del__ at 0x7f3cbfe270d0>\n",
      "\n",
      "  File \"/home/admin/anaconda3/envs/pytorch-idl/lib/python3.9/multiprocessing/process.py\", line 160, in is_alive\n",
      "Traceback (most recent call last):\n",
      "      File \"/home/admin/anaconda3/envs/pytorch-idl/lib/python3.9/site-packages/torch/utils/data/dataloader.py\", line 1618, in __del__\n",
      "assert self._parent_pid == os.getpid(), 'can only test a child process'\n",
      "AssertionError    : self._shutdown_workers()\n",
      "can only test a child process  File \"/home/admin/anaconda3/envs/pytorch-idl/lib/python3.9/site-packages/torch/utils/data/dataloader.py\", line 1601, in _shutdown_workers\n",
      "\n",
      "    Exception ignored in: if w.is_alive():<function _MultiProcessingDataLoaderIter.__del__ at 0x7f3cbfe270d0>\n",
      "\n",
      "Traceback (most recent call last):\n",
      "  File \"/home/admin/anaconda3/envs/pytorch-idl/lib/python3.9/multiprocessing/process.py\", line 160, in is_alive\n",
      "  File \"/home/admin/anaconda3/envs/pytorch-idl/lib/python3.9/site-packages/torch/utils/data/dataloader.py\", line 1618, in __del__\n",
      "    assert self._parent_pid == os.getpid(), 'can only test a child process'\n",
      "AssertionError    : self._shutdown_workers()can only test a child process\n",
      "\n",
      "  File \"/home/admin/anaconda3/envs/pytorch-idl/lib/python3.9/site-packages/torch/utils/data/dataloader.py\", line 1601, in _shutdown_workers\n",
      "    Exception ignored in: <function _MultiProcessingDataLoaderIter.__del__ at 0x7f3cbfe270d0>if w.is_alive():\n",
      "Traceback (most recent call last):\n",
      "\n",
      "  File \"/home/admin/anaconda3/envs/pytorch-idl/lib/python3.9/site-packages/torch/utils/data/dataloader.py\", line 1618, in __del__\n",
      "  File \"/home/admin/anaconda3/envs/pytorch-idl/lib/python3.9/multiprocessing/process.py\", line 160, in is_alive\n",
      "        self._shutdown_workers()assert self._parent_pid == os.getpid(), 'can only test a child process'\n",
      "  File \"/home/admin/anaconda3/envs/pytorch-idl/lib/python3.9/site-packages/torch/utils/data/dataloader.py\", line 1601, in _shutdown_workers\n",
      "\n",
      "AssertionError    if w.is_alive():: \n",
      "can only test a child process  File \"/home/admin/anaconda3/envs/pytorch-idl/lib/python3.9/multiprocessing/process.py\", line 160, in is_alive\n",
      "\n",
      "    assert self._parent_pid == os.getpid(), 'can only test a child process'\n",
      "AssertionErrorException ignored in: : <function _MultiProcessingDataLoaderIter.__del__ at 0x7f3cbfe270d0>can only test a child process\n",
      "\n",
      "Traceback (most recent call last):\n",
      "  File \"/home/admin/anaconda3/envs/pytorch-idl/lib/python3.9/site-packages/torch/utils/data/dataloader.py\", line 1618, in __del__\n",
      "Exception ignored in:     <function _MultiProcessingDataLoaderIter.__del__ at 0x7f3cbfe270d0>self._shutdown_workers()\n",
      "\n",
      "  File \"/home/admin/anaconda3/envs/pytorch-idl/lib/python3.9/site-packages/torch/utils/data/dataloader.py\", line 1601, in _shutdown_workers\n",
      "Traceback (most recent call last):\n",
      "  File \"/home/admin/anaconda3/envs/pytorch-idl/lib/python3.9/site-packages/torch/utils/data/dataloader.py\", line 1618, in __del__\n",
      "        if w.is_alive():\n",
      "self._shutdown_workers()\n",
      "  File \"/home/admin/anaconda3/envs/pytorch-idl/lib/python3.9/site-packages/torch/utils/data/dataloader.py\", line 1601, in _shutdown_workers\n",
      "  File \"/home/admin/anaconda3/envs/pytorch-idl/lib/python3.9/multiprocessing/process.py\", line 160, in is_alive\n",
      "        if w.is_alive():\n",
      "assert self._parent_pid == os.getpid(), 'can only test a child process'  File \"/home/admin/anaconda3/envs/pytorch-idl/lib/python3.9/multiprocessing/process.py\", line 160, in is_alive\n",
      "\n",
      "    assert self._parent_pid == os.getpid(), 'can only test a child process'AssertionError\n",
      ": AssertionErrorcan only test a child process: \n",
      "can only test a child process\n",
      "Exception ignored in: <function _MultiProcessingDataLoaderIter.__del__ at 0x7f3cbfe270d0>\n",
      "Exception ignored in: Traceback (most recent call last):\n",
      "  File \"/home/admin/anaconda3/envs/pytorch-idl/lib/python3.9/site-packages/torch/utils/data/dataloader.py\", line 1618, in __del__\n",
      "<function _MultiProcessingDataLoaderIter.__del__ at 0x7f3cbfe270d0>    self._shutdown_workers()\n",
      "  File \"/home/admin/anaconda3/envs/pytorch-idl/lib/python3.9/site-packages/torch/utils/data/dataloader.py\", line 1601, in _shutdown_workers\n",
      "\n",
      "    Traceback (most recent call last):\n",
      "  File \"/home/admin/anaconda3/envs/pytorch-idl/lib/python3.9/site-packages/torch/utils/data/dataloader.py\", line 1618, in __del__\n",
      "if w.is_alive():\n",
      "      File \"/home/admin/anaconda3/envs/pytorch-idl/lib/python3.9/multiprocessing/process.py\", line 160, in is_alive\n",
      "self._shutdown_workers()    \n",
      "assert self._parent_pid == os.getpid(), 'can only test a child process'  File \"/home/admin/anaconda3/envs/pytorch-idl/lib/python3.9/site-packages/torch/utils/data/dataloader.py\", line 1601, in _shutdown_workers\n",
      "\n",
      "    AssertionError: if w.is_alive():\n",
      "can only test a child process  File \"/home/admin/anaconda3/envs/pytorch-idl/lib/python3.9/multiprocessing/process.py\", line 160, in is_alive\n",
      "    \n",
      "assert self._parent_pid == os.getpid(), 'can only test a child process'\n",
      "AssertionErrorException ignored in: : <function _MultiProcessingDataLoaderIter.__del__ at 0x7f3cbfe270d0>\n",
      "Traceback (most recent call last):\n",
      "can only test a child process\n",
      "  File \"/home/admin/anaconda3/envs/pytorch-idl/lib/python3.9/site-packages/torch/utils/data/dataloader.py\", line 1618, in __del__\n",
      "    self._shutdown_workers()Exception ignored in: \n",
      "<function _MultiProcessingDataLoaderIter.__del__ at 0x7f3cbfe270d0>  File \"/home/admin/anaconda3/envs/pytorch-idl/lib/python3.9/site-packages/torch/utils/data/dataloader.py\", line 1601, in _shutdown_workers\n",
      "\n",
      "    Traceback (most recent call last):\n",
      "if w.is_alive():\n",
      "  File \"/home/admin/anaconda3/envs/pytorch-idl/lib/python3.9/site-packages/torch/utils/data/dataloader.py\", line 1618, in __del__\n",
      "  File \"/home/admin/anaconda3/envs/pytorch-idl/lib/python3.9/multiprocessing/process.py\", line 160, in is_alive\n",
      "        self._shutdown_workers()assert self._parent_pid == os.getpid(), 'can only test a child process'\n",
      "  File \"/home/admin/anaconda3/envs/pytorch-idl/lib/python3.9/site-packages/torch/utils/data/dataloader.py\", line 1601, in _shutdown_workers\n",
      "\n",
      "AssertionError    : if w.is_alive():can only test a child process\n",
      "\n",
      "  File \"/home/admin/anaconda3/envs/pytorch-idl/lib/python3.9/multiprocessing/process.py\", line 160, in is_alive\n",
      "    assert self._parent_pid == os.getpid(), 'can only test a child process'Exception ignored in: <function _MultiProcessingDataLoaderIter.__del__ at 0x7f3cbfe270d0>\n",
      "\n",
      "Traceback (most recent call last):\n",
      "AssertionError:   File \"/home/admin/anaconda3/envs/pytorch-idl/lib/python3.9/site-packages/torch/utils/data/dataloader.py\", line 1618, in __del__\n",
      "can only test a child process\n",
      "    self._shutdown_workers()\n",
      "Exception ignored in: <function _MultiProcessingDataLoaderIter.__del__ at 0x7f3cbfe270d0>  File \"/home/admin/anaconda3/envs/pytorch-idl/lib/python3.9/site-packages/torch/utils/data/dataloader.py\", line 1601, in _shutdown_workers\n",
      "\n",
      "Traceback (most recent call last):\n",
      "      File \"/home/admin/anaconda3/envs/pytorch-idl/lib/python3.9/site-packages/torch/utils/data/dataloader.py\", line 1618, in __del__\n",
      "if w.is_alive():\n",
      "      File \"/home/admin/anaconda3/envs/pytorch-idl/lib/python3.9/multiprocessing/process.py\", line 160, in is_alive\n",
      "self._shutdown_workers()\n",
      "      File \"/home/admin/anaconda3/envs/pytorch-idl/lib/python3.9/site-packages/torch/utils/data/dataloader.py\", line 1601, in _shutdown_workers\n",
      "assert self._parent_pid == os.getpid(), 'can only test a child process'    \n",
      "if w.is_alive():AssertionError\n",
      ": can only test a child process  File \"/home/admin/anaconda3/envs/pytorch-idl/lib/python3.9/multiprocessing/process.py\", line 160, in is_alive\n",
      "\n",
      "    assert self._parent_pid == os.getpid(), 'can only test a child process'\n",
      "AssertionError: Exception ignored in: can only test a child process\n",
      "<function _MultiProcessingDataLoaderIter.__del__ at 0x7f3cbfe270d0>\n",
      "Traceback (most recent call last):\n",
      "  File \"/home/admin/anaconda3/envs/pytorch-idl/lib/python3.9/site-packages/torch/utils/data/dataloader.py\", line 1618, in __del__\n",
      "    self._shutdown_workers()\n",
      "  File \"/home/admin/anaconda3/envs/pytorch-idl/lib/python3.9/site-packages/torch/utils/data/dataloader.py\", line 1601, in _shutdown_workers\n",
      "    if w.is_alive():\n",
      "  File \"/home/admin/anaconda3/envs/pytorch-idl/lib/python3.9/multiprocessing/process.py\", line 160, in is_alive\n",
      "    assert self._parent_pid == os.getpid(), 'can only test a child process'\n",
      "AssertionError: can only test a child process\n",
      "Exception ignored in: <function _MultiProcessingDataLoaderIter.__del__ at 0x7f3cbfe270d0>\n",
      "Traceback (most recent call last):\n",
      "  File \"/home/admin/anaconda3/envs/pytorch-idl/lib/python3.9/site-packages/torch/utils/data/dataloader.py\", line 1618, in __del__\n",
      "    self._shutdown_workers()\n",
      "  File \"/home/admin/anaconda3/envs/pytorch-idl/lib/python3.9/site-packages/torch/utils/data/dataloader.py\", line 1601, in _shutdown_workers\n",
      "    if w.is_alive():\n",
      "  File \"/home/admin/anaconda3/envs/pytorch-idl/lib/python3.9/multiprocessing/process.py\", line 160, in is_alive\n",
      "    assert self._parent_pid == os.getpid(), 'can only test a child process'\n",
      "AssertionError: can only test a child process\n"
     ]
    },
    {
     "name": "stdout",
     "output_type": "stream",
     "text": [
      "train: {'loss': 11.965872486344011, 'CER': 0.12029841208261907, 'WER': 0.0352802432898635, 'F1_char': 0.8419727803601266, 'F1_word': 0.8048422770837619}\n",
      "val  : {'loss': 21.95712490862524, 'CER': 0.12704599526077648, 'WER': 0.039615903575396086, 'F1_char': 0.8340631495031745, 'F1_word': 0.7815898395454152}\n",
      "\n",
      "Epoch 33/50\n"
     ]
    },
    {
     "data": {
      "application/vnd.jupyter.widget-view+json": {
       "model_id": "39ee336908fd43139e86b32847a8315c",
       "version_major": 2,
       "version_minor": 0
      },
      "text/plain": [
       "[train]:   0%|          | 0/281 [00:00<?, ?it/s]"
      ]
     },
     "metadata": {},
     "output_type": "display_data"
    },
    {
     "data": {
      "application/vnd.jupyter.widget-view+json": {
       "model_id": "2914cd72b8aa40b9bd170152a7e6715b",
       "version_major": 2,
       "version_minor": 0
      },
      "text/plain": [
       "[val]:   0%|          | 0/71 [00:00<?, ?it/s]"
      ]
     },
     "metadata": {},
     "output_type": "display_data"
    },
    {
     "name": "stdout",
     "output_type": "stream",
     "text": [
      "train: {'loss': 11.703597062635252, 'CER': 0.12116415937128301, 'WER': 0.03512553930700946, 'F1_char': 0.840832670827573, 'F1_word': 0.8057387729017801}\n",
      "val  : {'loss': 23.15338067269661, 'CER': 0.10365025102627551, 'WER': 0.03432361172695588, 'F1_char': 0.8829801598996782, 'F1_word': 0.8167935750513338}\n",
      "\n",
      "Epoch 34/50\n"
     ]
    },
    {
     "data": {
      "application/vnd.jupyter.widget-view+json": {
       "model_id": "f890ed124f574b19a77b0df64123994b",
       "version_major": 2,
       "version_minor": 0
      },
      "text/plain": [
       "[train]:   0%|          | 0/281 [00:00<?, ?it/s]"
      ]
     },
     "metadata": {},
     "output_type": "display_data"
    },
    {
     "data": {
      "application/vnd.jupyter.widget-view+json": {
       "model_id": "48fd54dbb18f40b09ad1c619d99cd18b",
       "version_major": 2,
       "version_minor": 0
      },
      "text/plain": [
       "[val]:   0%|          | 0/71 [00:00<?, ?it/s]"
      ]
     },
     "metadata": {},
     "output_type": "display_data"
    },
    {
     "name": "stdout",
     "output_type": "stream",
     "text": [
      "train: {'loss': 13.727486724106866, 'CER': 0.1295336448436865, 'WER': 0.04101143083928696, 'F1_char': 0.8319817967673453, 'F1_word': 0.7737483746080787}\n",
      "val  : {'loss': 38.230522666178956, 'CER': 0.3032483229156237, 'WER': 0.14482046734274504, 'F1_char': 0.6218804589972786, 'F1_word': 0.3453576617110611}\n",
      "\n",
      "Epoch 35/50\n"
     ]
    },
    {
     "data": {
      "application/vnd.jupyter.widget-view+json": {
       "model_id": "df14cf72326548eb8f085bc7152ff81d",
       "version_major": 2,
       "version_minor": 0
      },
      "text/plain": [
       "[train]:   0%|          | 0/281 [00:00<?, ?it/s]"
      ]
     },
     "metadata": {},
     "output_type": "display_data"
    },
    {
     "ename": "KeyboardInterrupt",
     "evalue": "",
     "output_type": "error",
     "traceback": [
      "\u001b[0;31m---------------------------------------------------------------------------\u001b[0m",
      "\u001b[0;31mKeyboardInterrupt\u001b[0m                         Traceback (most recent call last)",
      "Cell \u001b[0;32mIn[22], line 8\u001b[0m\n\u001b[1;32m      6\u001b[0m \u001b[38;5;28;01mfor\u001b[39;00m epoch \u001b[38;5;129;01min\u001b[39;00m \u001b[38;5;28mrange\u001b[39m(\u001b[38;5;241m1\u001b[39m, epochs\u001b[38;5;241m+\u001b[39m\u001b[38;5;241m1\u001b[39m):\n\u001b[1;32m      7\u001b[0m    \u001b[38;5;28mprint\u001b[39m(\u001b[38;5;124mf\u001b[39m\u001b[38;5;124m\"\u001b[39m\u001b[38;5;130;01m\\n\u001b[39;00m\u001b[38;5;124mEpoch \u001b[39m\u001b[38;5;132;01m{\u001b[39;00mepoch\u001b[38;5;132;01m}\u001b[39;00m\u001b[38;5;124m/\u001b[39m\u001b[38;5;132;01m{\u001b[39;00mepochs\u001b[38;5;132;01m}\u001b[39;00m\u001b[38;5;124m\"\u001b[39m)\n\u001b[0;32m----> 8\u001b[0m    train_stats , _ \u001b[38;5;241m=\u001b[39m \u001b[43mrun_epoch\u001b[49m\u001b[43m(\u001b[49m\u001b[43mmodel\u001b[49m\u001b[43m,\u001b[49m\u001b[43m \u001b[49m\u001b[43mtrain_loader\u001b[49m\u001b[43m,\u001b[49m\u001b[43m \u001b[49m\u001b[43mcriterion\u001b[49m\u001b[43m,\u001b[49m\u001b[43m \u001b[49m\u001b[43moptimizer\u001b[49m\u001b[43m,\u001b[49m\u001b[43m \u001b[49m\u001b[43mdevice\u001b[49m\u001b[43m,\u001b[49m\u001b[43m \u001b[49m\u001b[43mconverter\u001b[49m\u001b[43m,\u001b[49m\u001b[43m \u001b[49m\u001b[43mtrain\u001b[49m\u001b[38;5;241;43m=\u001b[39;49m\u001b[38;5;28;43;01mTrue\u001b[39;49;00m\u001b[43m,\u001b[49m\n\u001b[1;32m      9\u001b[0m \u001b[43m                          \u001b[49m\u001b[43mepoch_idx\u001b[49m\u001b[38;5;241;43m=\u001b[39;49m\u001b[43mepoch\u001b[49m\u001b[43m)\u001b[49m\n\u001b[1;32m     10\u001b[0m    val_stats, best_cer \u001b[38;5;241m=\u001b[39m run_epoch(model, valid_loader, criterion, optimizer, device, converter,\n\u001b[1;32m     11\u001b[0m                                        train\u001b[38;5;241m=\u001b[39m\u001b[38;5;28;01mFalse\u001b[39;00m, save_samples\u001b[38;5;241m=\u001b[39m\u001b[38;5;28;01mTrue\u001b[39;00m, sample_count\u001b[38;5;241m=\u001b[39m\u001b[38;5;241m10\u001b[39m,\n\u001b[1;32m     12\u001b[0m                                        log_dir\u001b[38;5;241m=\u001b[39mLOG_DIR, epoch_idx\u001b[38;5;241m=\u001b[39mepoch, best_cer\u001b[38;5;241m=\u001b[39mbest_cer)\n\u001b[1;32m     13\u001b[0m    \u001b[38;5;28mprint\u001b[39m(\u001b[38;5;124mf\u001b[39m\u001b[38;5;124m\"\u001b[39m\u001b[38;5;124mtrain: \u001b[39m\u001b[38;5;132;01m{\u001b[39;00mtrain_stats\u001b[38;5;132;01m}\u001b[39;00m\u001b[38;5;130;01m\\n\u001b[39;00m\u001b[38;5;124mval  : \u001b[39m\u001b[38;5;132;01m{\u001b[39;00mval_stats\u001b[38;5;132;01m}\u001b[39;00m\u001b[38;5;124m\"\u001b[39m)\n",
      "Cell \u001b[0;32mIn[19], line 24\u001b[0m, in \u001b[0;36mrun_epoch\u001b[0;34m(model, loader, crit, opt, device, conv, train, save_samples, sample_count, log_dir, epoch_idx, best_cer)\u001b[0m\n\u001b[1;32m     22\u001b[0m logp \u001b[38;5;241m=\u001b[39m model(imgs)\n\u001b[1;32m     23\u001b[0m in_len \u001b[38;5;241m=\u001b[39m torch\u001b[38;5;241m.\u001b[39mfull((imgs\u001b[38;5;241m.\u001b[39msize(\u001b[38;5;241m0\u001b[39m),), logp\u001b[38;5;241m.\u001b[39msize(\u001b[38;5;241m0\u001b[39m), dtype\u001b[38;5;241m=\u001b[39mtorch\u001b[38;5;241m.\u001b[39mlong, device\u001b[38;5;241m=\u001b[39mdevice)\n\u001b[0;32m---> 24\u001b[0m loss \u001b[38;5;241m=\u001b[39m \u001b[43mcrit\u001b[49m\u001b[43m(\u001b[49m\u001b[43mlogp\u001b[49m\u001b[43m,\u001b[49m\u001b[43m \u001b[49m\u001b[43mtgt\u001b[49m\u001b[43m,\u001b[49m\u001b[43m \u001b[49m\u001b[43min_len\u001b[49m\u001b[43m,\u001b[49m\u001b[43m \u001b[49m\u001b[43mtlen\u001b[49m\u001b[43m)\u001b[49m\n\u001b[1;32m     25\u001b[0m \u001b[38;5;28;01mif\u001b[39;00m train:\n\u001b[1;32m     26\u001b[0m     opt\u001b[38;5;241m.\u001b[39mzero_grad(set_to_none\u001b[38;5;241m=\u001b[39m\u001b[38;5;28;01mTrue\u001b[39;00m); loss\u001b[38;5;241m.\u001b[39mbackward(); opt\u001b[38;5;241m.\u001b[39mstep()\n",
      "File \u001b[0;32m~/anaconda3/envs/pytorch-idl/lib/python3.9/site-packages/torch/nn/modules/module.py:1739\u001b[0m, in \u001b[0;36mModule._wrapped_call_impl\u001b[0;34m(self, *args, **kwargs)\u001b[0m\n\u001b[1;32m   1737\u001b[0m     \u001b[38;5;28;01mreturn\u001b[39;00m \u001b[38;5;28mself\u001b[39m\u001b[38;5;241m.\u001b[39m_compiled_call_impl(\u001b[38;5;241m*\u001b[39margs, \u001b[38;5;241m*\u001b[39m\u001b[38;5;241m*\u001b[39mkwargs)  \u001b[38;5;66;03m# type: ignore[misc]\u001b[39;00m\n\u001b[1;32m   1738\u001b[0m \u001b[38;5;28;01melse\u001b[39;00m:\n\u001b[0;32m-> 1739\u001b[0m     \u001b[38;5;28;01mreturn\u001b[39;00m \u001b[38;5;28;43mself\u001b[39;49m\u001b[38;5;241;43m.\u001b[39;49m\u001b[43m_call_impl\u001b[49m\u001b[43m(\u001b[49m\u001b[38;5;241;43m*\u001b[39;49m\u001b[43margs\u001b[49m\u001b[43m,\u001b[49m\u001b[43m \u001b[49m\u001b[38;5;241;43m*\u001b[39;49m\u001b[38;5;241;43m*\u001b[39;49m\u001b[43mkwargs\u001b[49m\u001b[43m)\u001b[49m\n",
      "File \u001b[0;32m~/anaconda3/envs/pytorch-idl/lib/python3.9/site-packages/torch/nn/modules/module.py:1750\u001b[0m, in \u001b[0;36mModule._call_impl\u001b[0;34m(self, *args, **kwargs)\u001b[0m\n\u001b[1;32m   1745\u001b[0m \u001b[38;5;66;03m# If we don't have any hooks, we want to skip the rest of the logic in\u001b[39;00m\n\u001b[1;32m   1746\u001b[0m \u001b[38;5;66;03m# this function, and just call forward.\u001b[39;00m\n\u001b[1;32m   1747\u001b[0m \u001b[38;5;28;01mif\u001b[39;00m \u001b[38;5;129;01mnot\u001b[39;00m (\u001b[38;5;28mself\u001b[39m\u001b[38;5;241m.\u001b[39m_backward_hooks \u001b[38;5;129;01mor\u001b[39;00m \u001b[38;5;28mself\u001b[39m\u001b[38;5;241m.\u001b[39m_backward_pre_hooks \u001b[38;5;129;01mor\u001b[39;00m \u001b[38;5;28mself\u001b[39m\u001b[38;5;241m.\u001b[39m_forward_hooks \u001b[38;5;129;01mor\u001b[39;00m \u001b[38;5;28mself\u001b[39m\u001b[38;5;241m.\u001b[39m_forward_pre_hooks\n\u001b[1;32m   1748\u001b[0m         \u001b[38;5;129;01mor\u001b[39;00m _global_backward_pre_hooks \u001b[38;5;129;01mor\u001b[39;00m _global_backward_hooks\n\u001b[1;32m   1749\u001b[0m         \u001b[38;5;129;01mor\u001b[39;00m _global_forward_hooks \u001b[38;5;129;01mor\u001b[39;00m _global_forward_pre_hooks):\n\u001b[0;32m-> 1750\u001b[0m     \u001b[38;5;28;01mreturn\u001b[39;00m \u001b[43mforward_call\u001b[49m\u001b[43m(\u001b[49m\u001b[38;5;241;43m*\u001b[39;49m\u001b[43margs\u001b[49m\u001b[43m,\u001b[49m\u001b[43m \u001b[49m\u001b[38;5;241;43m*\u001b[39;49m\u001b[38;5;241;43m*\u001b[39;49m\u001b[43mkwargs\u001b[49m\u001b[43m)\u001b[49m\n\u001b[1;32m   1752\u001b[0m result \u001b[38;5;241m=\u001b[39m \u001b[38;5;28;01mNone\u001b[39;00m\n\u001b[1;32m   1753\u001b[0m called_always_called_hooks \u001b[38;5;241m=\u001b[39m \u001b[38;5;28mset\u001b[39m()\n",
      "File \u001b[0;32m~/anaconda3/envs/pytorch-idl/lib/python3.9/site-packages/torch/nn/modules/loss.py:1982\u001b[0m, in \u001b[0;36mCTCLoss.forward\u001b[0;34m(self, log_probs, targets, input_lengths, target_lengths)\u001b[0m\n\u001b[1;32m   1975\u001b[0m \u001b[38;5;28;01mdef\u001b[39;00m\u001b[38;5;250m \u001b[39m\u001b[38;5;21mforward\u001b[39m(\n\u001b[1;32m   1976\u001b[0m     \u001b[38;5;28mself\u001b[39m,\n\u001b[1;32m   1977\u001b[0m     log_probs: Tensor,\n\u001b[0;32m   (...)\u001b[0m\n\u001b[1;32m   1980\u001b[0m     target_lengths: Tensor,\n\u001b[1;32m   1981\u001b[0m ) \u001b[38;5;241m-\u001b[39m\u001b[38;5;241m>\u001b[39m Tensor:\n\u001b[0;32m-> 1982\u001b[0m     \u001b[38;5;28;01mreturn\u001b[39;00m \u001b[43mF\u001b[49m\u001b[38;5;241;43m.\u001b[39;49m\u001b[43mctc_loss\u001b[49m\u001b[43m(\u001b[49m\n\u001b[1;32m   1983\u001b[0m \u001b[43m        \u001b[49m\u001b[43mlog_probs\u001b[49m\u001b[43m,\u001b[49m\n\u001b[1;32m   1984\u001b[0m \u001b[43m        \u001b[49m\u001b[43mtargets\u001b[49m\u001b[43m,\u001b[49m\n\u001b[1;32m   1985\u001b[0m \u001b[43m        \u001b[49m\u001b[43minput_lengths\u001b[49m\u001b[43m,\u001b[49m\n\u001b[1;32m   1986\u001b[0m \u001b[43m        \u001b[49m\u001b[43mtarget_lengths\u001b[49m\u001b[43m,\u001b[49m\n\u001b[1;32m   1987\u001b[0m \u001b[43m        \u001b[49m\u001b[38;5;28;43mself\u001b[39;49m\u001b[38;5;241;43m.\u001b[39;49m\u001b[43mblank\u001b[49m\u001b[43m,\u001b[49m\n\u001b[1;32m   1988\u001b[0m \u001b[43m        \u001b[49m\u001b[38;5;28;43mself\u001b[39;49m\u001b[38;5;241;43m.\u001b[39;49m\u001b[43mreduction\u001b[49m\u001b[43m,\u001b[49m\n\u001b[1;32m   1989\u001b[0m \u001b[43m        \u001b[49m\u001b[38;5;28;43mself\u001b[39;49m\u001b[38;5;241;43m.\u001b[39;49m\u001b[43mzero_infinity\u001b[49m\u001b[43m,\u001b[49m\n\u001b[1;32m   1990\u001b[0m \u001b[43m    \u001b[49m\u001b[43m)\u001b[49m\n",
      "File \u001b[0;32m~/anaconda3/envs/pytorch-idl/lib/python3.9/site-packages/torch/nn/functional.py:3079\u001b[0m, in \u001b[0;36mctc_loss\u001b[0;34m(log_probs, targets, input_lengths, target_lengths, blank, reduction, zero_infinity)\u001b[0m\n\u001b[1;32m   3067\u001b[0m \u001b[38;5;28;01mif\u001b[39;00m has_torch_function_variadic(log_probs, targets, input_lengths, target_lengths):\n\u001b[1;32m   3068\u001b[0m     \u001b[38;5;28;01mreturn\u001b[39;00m handle_torch_function(\n\u001b[1;32m   3069\u001b[0m         ctc_loss,\n\u001b[1;32m   3070\u001b[0m         (log_probs, targets, input_lengths, target_lengths),\n\u001b[0;32m   (...)\u001b[0m\n\u001b[1;32m   3077\u001b[0m         zero_infinity\u001b[38;5;241m=\u001b[39mzero_infinity,\n\u001b[1;32m   3078\u001b[0m     )\n\u001b[0;32m-> 3079\u001b[0m \u001b[38;5;28;01mreturn\u001b[39;00m \u001b[43mtorch\u001b[49m\u001b[38;5;241;43m.\u001b[39;49m\u001b[43mctc_loss\u001b[49m\u001b[43m(\u001b[49m\n\u001b[1;32m   3080\u001b[0m \u001b[43m    \u001b[49m\u001b[43mlog_probs\u001b[49m\u001b[43m,\u001b[49m\n\u001b[1;32m   3081\u001b[0m \u001b[43m    \u001b[49m\u001b[43mtargets\u001b[49m\u001b[43m,\u001b[49m\n\u001b[1;32m   3082\u001b[0m \u001b[43m    \u001b[49m\u001b[43minput_lengths\u001b[49m\u001b[43m,\u001b[49m\n\u001b[1;32m   3083\u001b[0m \u001b[43m    \u001b[49m\u001b[43mtarget_lengths\u001b[49m\u001b[43m,\u001b[49m\n\u001b[1;32m   3084\u001b[0m \u001b[43m    \u001b[49m\u001b[43mblank\u001b[49m\u001b[43m,\u001b[49m\n\u001b[1;32m   3085\u001b[0m \u001b[43m    \u001b[49m\u001b[43m_Reduction\u001b[49m\u001b[38;5;241;43m.\u001b[39;49m\u001b[43mget_enum\u001b[49m\u001b[43m(\u001b[49m\u001b[43mreduction\u001b[49m\u001b[43m)\u001b[49m\u001b[43m,\u001b[49m\n\u001b[1;32m   3086\u001b[0m \u001b[43m    \u001b[49m\u001b[43mzero_infinity\u001b[49m\u001b[43m,\u001b[49m\n\u001b[1;32m   3087\u001b[0m \u001b[43m\u001b[49m\u001b[43m)\u001b[49m\n",
      "\u001b[0;31mKeyboardInterrupt\u001b[0m: "
     ]
    }
   ],
   "source": [
    " # ── training loop ────────────────────────────────\n",
    "wandb.watch(model, log=\"all\")\n",
    "epochs = 50\n",
    "LOG_DIR = f\"{model_name}_logs\"\n",
    "best_cer = float(\"inf\")\n",
    "for epoch in range(1, epochs+1):\n",
    "    print(f\"\\nEpoch {epoch}/{epochs}\")\n",
    "    train_stats , _ = run_epoch(model, train_loader, criterion, optimizer, device, converter, train=True,\n",
    "                           epoch_idx=epoch)\n",
    "    val_stats, best_cer = run_epoch(model, valid_loader, criterion, optimizer, device, converter,\n",
    "                                        train=False, save_samples=True, sample_count=10,\n",
    "                                        log_dir=LOG_DIR, epoch_idx=epoch, best_cer=best_cer)\n",
    "    print(f\"train: {train_stats}\\nval  : {val_stats}\")\n",
    "    ## add T to train starts keys\n",
    "    train_stats = {f\"train_{k}\": v for k, v in train_stats.items()}\n",
    "    val_stats   = {f\"val_{k}\": v for k, v in val_stats.items()}\n",
    "    wandb.log({\"epoch\": epoch, **train_stats, **val_stats})"
   ]
  },
  {
   "cell_type": "code",
   "execution_count": null,
   "id": "ee108274",
   "metadata": {},
   "outputs": [],
   "source": []
  },
  {
   "cell_type": "code",
   "execution_count": null,
   "id": "73336e79",
   "metadata": {},
   "outputs": [],
   "source": []
  },
  {
   "cell_type": "code",
   "execution_count": null,
   "id": "12b52eb9",
   "metadata": {},
   "outputs": [],
   "source": []
  }
 ],
 "metadata": {
  "kernelspec": {
   "display_name": "pytorch-idl",
   "language": "python",
   "name": "python3"
  },
  "language_info": {
   "codemirror_mode": {
    "name": "ipython",
    "version": 3
   },
   "file_extension": ".py",
   "mimetype": "text/x-python",
   "name": "python",
   "nbconvert_exporter": "python",
   "pygments_lexer": "ipython3",
   "version": "3.9.18"
  }
 },
 "nbformat": 4,
 "nbformat_minor": 5
}
