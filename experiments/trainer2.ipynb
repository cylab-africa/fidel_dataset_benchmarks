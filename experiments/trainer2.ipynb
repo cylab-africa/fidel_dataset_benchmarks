{
 "cells": [
  {
   "cell_type": "code",
   "execution_count": 1,
   "metadata": {},
   "outputs": [
    {
     "name": "stderr",
     "output_type": "stream",
     "text": [
      "2025-01-17 09:07:32.218515: I tensorflow/tsl/cuda/cudart_stub.cc:28] Could not find cuda drivers on your machine, GPU will not be used.\n",
      "2025-01-17 09:07:32.259291: I tensorflow/core/platform/cpu_feature_guard.cc:182] This TensorFlow binary is optimized to use available CPU instructions in performance-critical operations.\n",
      "To enable the following instructions: AVX2 AVX512F FMA, in other operations, rebuild TensorFlow with the appropriate compiler flags.\n",
      "2025-01-17 09:07:32.952151: W tensorflow/compiler/tf2tensorrt/utils/py_utils.cc:38] TF-TRT Warning: Could not find TensorRT\n",
      "Some weights of VisionEncoderDecoderModel were not initialized from the model checkpoint at microsoft/trocr-base-handwritten and are newly initialized: ['encoder.pooler.dense.bias', 'encoder.pooler.dense.weight']\n",
      "You should probably TRAIN this model on a down-stream task to be able to use it for predictions and inference.\n",
      "/tmp/ipykernel_2691744/2651094423.py:129: FutureWarning: `torch.cuda.amp.GradScaler(args...)` is deprecated. Please use `torch.amp.GradScaler('cuda', args...)` instead.\n",
      "  scaler = torch.cuda.amp.GradScaler(enabled=True)\n"
     ]
    },
    {
     "data": {
      "application/vnd.jupyter.widget-view+json": {
       "model_id": "f40148a4696c47318cf63feb781d8abf",
       "version_major": 2,
       "version_minor": 0
      },
      "text/plain": [
       "  0%|          | 0/46 [00:00<?, ?it/s]"
      ]
     },
     "metadata": {},
     "output_type": "display_data"
    },
    {
     "data": {
      "application/vnd.jupyter.widget-view+json": {
       "model_id": "787e3c8c868c4b0d82b30baaae0ff661",
       "version_major": 2,
       "version_minor": 0
      },
      "text/plain": [
       "  0%|          | 0/12 [00:00<?, ?it/s]"
      ]
     },
     "metadata": {},
     "output_type": "display_data"
    },
    {
     "name": "stdout",
     "output_type": "stream",
     "text": [
      "New best model saved with WER: 1.0725\n",
      "Epoch 1: LR = 0.000100, Train Loss: 5.1261, Train WER: 1.1072, Train CER: 1.4980\n",
      "Epoch 1: Val Loss: 2.6395, Val WER: 1.0725, Val CER: 0.9694\n"
     ]
    },
    {
     "data": {
      "application/vnd.jupyter.widget-view+json": {
       "model_id": "b6e8d4d3d57b43e6bbbf487b94ba9e2d",
       "version_major": 2,
       "version_minor": 0
      },
      "text/plain": [
       "  0%|          | 0/46 [00:00<?, ?it/s]"
      ]
     },
     "metadata": {},
     "output_type": "display_data"
    },
    {
     "data": {
      "application/vnd.jupyter.widget-view+json": {
       "model_id": "cd5ea506e2184906b21a44cf4a57c1f8",
       "version_major": 2,
       "version_minor": 0
      },
      "text/plain": [
       "  0%|          | 0/12 [00:00<?, ?it/s]"
      ]
     },
     "metadata": {},
     "output_type": "display_data"
    },
    {
     "name": "stdout",
     "output_type": "stream",
     "text": [
      "New best model saved with WER: 1.0072\n",
      "Epoch 2: LR = 0.000100, Train Loss: 2.1812, Train WER: 1.0239, Train CER: 1.1226\n",
      "Epoch 2: Val Loss: 2.3862, Val WER: 1.0072, Val CER: 1.0217\n"
     ]
    },
    {
     "data": {
      "application/vnd.jupyter.widget-view+json": {
       "model_id": "b37a40986e9e4a6e825a1be59a27aea8",
       "version_major": 2,
       "version_minor": 0
      },
      "text/plain": [
       "  0%|          | 0/46 [00:00<?, ?it/s]"
      ]
     },
     "metadata": {},
     "output_type": "display_data"
    },
    {
     "data": {
      "application/vnd.jupyter.widget-view+json": {
       "model_id": "7e4fe6eca50e4b01a8b383251e8a34c5",
       "version_major": 2,
       "version_minor": 0
      },
      "text/plain": [
       "  0%|          | 0/12 [00:00<?, ?it/s]"
      ]
     },
     "metadata": {},
     "output_type": "display_data"
    },
    {
     "name": "stdout",
     "output_type": "stream",
     "text": [
      "New best model saved with WER: 0.9928\n",
      "Epoch 3: LR = 0.000050, Train Loss: 1.9641, Train WER: 0.9730, Train CER: 1.0162\n",
      "Epoch 3: Val Loss: 2.4086, Val WER: 0.9928, Val CER: 0.8259\n"
     ]
    },
    {
     "data": {
      "application/vnd.jupyter.widget-view+json": {
       "model_id": "fe61fcaf51e44250848a9d053dcf3d8e",
       "version_major": 2,
       "version_minor": 0
      },
      "text/plain": [
       "  0%|          | 0/46 [00:00<?, ?it/s]"
      ]
     },
     "metadata": {},
     "output_type": "display_data"
    },
    {
     "data": {
      "application/vnd.jupyter.widget-view+json": {
       "model_id": "4be96c3320204c41acd74a66296c7cc0",
       "version_major": 2,
       "version_minor": 0
      },
      "text/plain": [
       "  0%|          | 0/12 [00:00<?, ?it/s]"
      ]
     },
     "metadata": {},
     "output_type": "display_data"
    },
    {
     "name": "stdout",
     "output_type": "stream",
     "text": [
      "New best model saved with WER: 0.9638\n",
      "Epoch 4: LR = 0.000050, Train Loss: 1.6447, Train WER: 0.9522, Train CER: 0.8411\n",
      "Epoch 4: Val Loss: 1.9452, Val WER: 0.9638, Val CER: 0.7698\n"
     ]
    },
    {
     "data": {
      "application/vnd.jupyter.widget-view+json": {
       "model_id": "e42fcec906d34c8b8959bc5f368e57d8",
       "version_major": 2,
       "version_minor": 0
      },
      "text/plain": [
       "  0%|          | 0/46 [00:00<?, ?it/s]"
      ]
     },
     "metadata": {},
     "output_type": "display_data"
    },
    {
     "data": {
      "application/vnd.jupyter.widget-view+json": {
       "model_id": "824329306faf4046a938094c7e827663",
       "version_major": 2,
       "version_minor": 0
      },
      "text/plain": [
       "  0%|          | 0/12 [00:00<?, ?it/s]"
      ]
     },
     "metadata": {},
     "output_type": "display_data"
    },
    {
     "name": "stdout",
     "output_type": "stream",
     "text": [
      "New best model saved with WER: 0.9348\n",
      "Epoch 5: LR = 0.000050, Train Loss: 1.4677, Train WER: 0.9197, Train CER: 0.7667\n",
      "Epoch 5: Val Loss: 1.9368, Val WER: 0.9348, Val CER: 0.6586\n"
     ]
    },
    {
     "data": {
      "application/vnd.jupyter.widget-view+json": {
       "model_id": "ef1fffb91c824b8b83b16e44cccc0388",
       "version_major": 2,
       "version_minor": 0
      },
      "text/plain": [
       "  0%|          | 0/46 [00:00<?, ?it/s]"
      ]
     },
     "metadata": {},
     "output_type": "display_data"
    },
    {
     "data": {
      "application/vnd.jupyter.widget-view+json": {
       "model_id": "e3183aaece4a454eb5128f04529e76d0",
       "version_major": 2,
       "version_minor": 0
      },
      "text/plain": [
       "  0%|          | 0/12 [00:00<?, ?it/s]"
      ]
     },
     "metadata": {},
     "output_type": "display_data"
    },
    {
     "name": "stdout",
     "output_type": "stream",
     "text": [
      "Epoch 6: LR = 0.000025, Train Loss: 1.2373, Train WER: 0.9081, Train CER: 0.7097\n",
      "Epoch 6: Val Loss: 1.9578, Val WER: 0.9638, Val CER: 0.7786\n"
     ]
    },
    {
     "data": {
      "application/vnd.jupyter.widget-view+json": {
       "model_id": "5d31ffd2c39843148f53a98463cdb103",
       "version_major": 2,
       "version_minor": 0
      },
      "text/plain": [
       "  0%|          | 0/46 [00:00<?, ?it/s]"
      ]
     },
     "metadata": {},
     "output_type": "display_data"
    },
    {
     "data": {
      "application/vnd.jupyter.widget-view+json": {
       "model_id": "31d3ef4872b448539be97ef4549be06f",
       "version_major": 2,
       "version_minor": 0
      },
      "text/plain": [
       "  0%|          | 0/12 [00:00<?, ?it/s]"
      ]
     },
     "metadata": {},
     "output_type": "display_data"
    },
    {
     "name": "stdout",
     "output_type": "stream",
     "text": [
      "Epoch 7: LR = 0.000025, Train Loss: 1.1016, Train WER: 0.9013, Train CER: 0.7118\n",
      "Epoch 7: Val Loss: 1.9218, Val WER: 0.9928, Val CER: 0.6818\n"
     ]
    },
    {
     "data": {
      "application/vnd.jupyter.widget-view+json": {
       "model_id": "aec264f97a6b447592736aba6e8ac317",
       "version_major": 2,
       "version_minor": 0
      },
      "text/plain": [
       "  0%|          | 0/46 [00:00<?, ?it/s]"
      ]
     },
     "metadata": {},
     "output_type": "display_data"
    },
    {
     "data": {
      "application/vnd.jupyter.widget-view+json": {
       "model_id": "4dfd423b2e7d4e32b9f7e39f2b87c13e",
       "version_major": 2,
       "version_minor": 0
      },
      "text/plain": [
       "  0%|          | 0/12 [00:00<?, ?it/s]"
      ]
     },
     "metadata": {},
     "output_type": "display_data"
    },
    {
     "name": "stdout",
     "output_type": "stream",
     "text": [
      "Epoch 8: LR = 0.000025, Train Loss: 0.9661, Train WER: 0.8897, Train CER: 0.6490\n",
      "Epoch 8: Val Loss: 2.0517, Val WER: 1.0290, Val CER: 0.7820\n"
     ]
    },
    {
     "data": {
      "application/vnd.jupyter.widget-view+json": {
       "model_id": "f322c6db1e4c4d1ca64f80201e0cebf7",
       "version_major": 2,
       "version_minor": 0
      },
      "text/plain": [
       "  0%|          | 0/46 [00:00<?, ?it/s]"
      ]
     },
     "metadata": {},
     "output_type": "display_data"
    },
    {
     "data": {
      "application/vnd.jupyter.widget-view+json": {
       "model_id": "3751f53f978c4b06b39d4d1f06cfc058",
       "version_major": 2,
       "version_minor": 0
      },
      "text/plain": [
       "  0%|          | 0/12 [00:00<?, ?it/s]"
      ]
     },
     "metadata": {},
     "output_type": "display_data"
    },
    {
     "name": "stdout",
     "output_type": "stream",
     "text": [
      "Epoch 9: LR = 0.000013, Train Loss: 0.8687, Train WER: 0.8413, Train CER: 0.7178\n",
      "Epoch 9: Val Loss: 2.0699, Val WER: 0.9565, Val CER: 0.6672\n"
     ]
    },
    {
     "data": {
      "application/vnd.jupyter.widget-view+json": {
       "model_id": "7312c642c2464b308265d3c62954408a",
       "version_major": 2,
       "version_minor": 0
      },
      "text/plain": [
       "  0%|          | 0/46 [00:00<?, ?it/s]"
      ]
     },
     "metadata": {},
     "output_type": "display_data"
    },
    {
     "data": {
      "application/vnd.jupyter.widget-view+json": {
       "model_id": "5e06b51872b94b23b6ed080a4da79957",
       "version_major": 2,
       "version_minor": 0
      },
      "text/plain": [
       "  0%|          | 0/12 [00:00<?, ?it/s]"
      ]
     },
     "metadata": {},
     "output_type": "display_data"
    },
    {
     "name": "stdout",
     "output_type": "stream",
     "text": [
      "Epoch 10: LR = 0.000013, Train Loss: 0.7237, Train WER: 0.8045, Train CER: 0.5268\n",
      "Epoch 10: Val Loss: 2.0486, Val WER: 0.9420, Val CER: 0.6264\n"
     ]
    },
    {
     "data": {
      "application/vnd.jupyter.widget-view+json": {
       "model_id": "38a7ebd0bccd4f6da54b40ac2762f6c9",
       "version_major": 2,
       "version_minor": 0
      },
      "text/plain": [
       "  0%|          | 0/46 [00:00<?, ?it/s]"
      ]
     },
     "metadata": {},
     "output_type": "display_data"
    },
    {
     "data": {
      "application/vnd.jupyter.widget-view+json": {
       "model_id": "bfb26b8647f7453a9c9111f52f5c01c9",
       "version_major": 2,
       "version_minor": 0
      },
      "text/plain": [
       "  0%|          | 0/12 [00:00<?, ?it/s]"
      ]
     },
     "metadata": {},
     "output_type": "display_data"
    },
    {
     "name": "stdout",
     "output_type": "stream",
     "text": [
      "Epoch 11: LR = 0.000013, Train Loss: 0.6775, Train WER: 0.7898, Train CER: 0.5164\n",
      "Epoch 11: Val Loss: 2.0699, Val WER: 0.9638, Val CER: 0.6323\n"
     ]
    },
    {
     "data": {
      "application/vnd.jupyter.widget-view+json": {
       "model_id": "111b9e39a6f6413f9a9604a6492146e6",
       "version_major": 2,
       "version_minor": 0
      },
      "text/plain": [
       "  0%|          | 0/46 [00:00<?, ?it/s]"
      ]
     },
     "metadata": {},
     "output_type": "display_data"
    },
    {
     "data": {
      "application/vnd.jupyter.widget-view+json": {
       "model_id": "9c3febc0de644701b5ad123c04cbacea",
       "version_major": 2,
       "version_minor": 0
      },
      "text/plain": [
       "  0%|          | 0/12 [00:00<?, ?it/s]"
      ]
     },
     "metadata": {},
     "output_type": "display_data"
    },
    {
     "name": "stdout",
     "output_type": "stream",
     "text": [
      "New best model saved with WER: 0.8986\n",
      "Epoch 12: LR = 0.000006, Train Loss: 0.5997, Train WER: 0.7678, Train CER: 0.4729\n",
      "Epoch 12: Val Loss: 2.1427, Val WER: 0.8986, Val CER: 0.5921\n"
     ]
    },
    {
     "data": {
      "application/vnd.jupyter.widget-view+json": {
       "model_id": "11d86735e9a6431e9cd7e5c435e6f25d",
       "version_major": 2,
       "version_minor": 0
      },
      "text/plain": [
       "  0%|          | 0/46 [00:00<?, ?it/s]"
      ]
     },
     "metadata": {},
     "output_type": "display_data"
    },
    {
     "data": {
      "application/vnd.jupyter.widget-view+json": {
       "model_id": "087341fb90b24290a5774f489c125963",
       "version_major": 2,
       "version_minor": 0
      },
      "text/plain": [
       "  0%|          | 0/12 [00:00<?, ?it/s]"
      ]
     },
     "metadata": {},
     "output_type": "display_data"
    },
    {
     "name": "stdout",
     "output_type": "stream",
     "text": [
      "Epoch 13: LR = 0.000006, Train Loss: 0.5770, Train WER: 0.7377, Train CER: 0.4237\n",
      "Epoch 13: Val Loss: 2.1434, Val WER: 0.9420, Val CER: 0.5989\n"
     ]
    },
    {
     "data": {
      "application/vnd.jupyter.widget-view+json": {
       "model_id": "c0b6ae8f2ee648a499ba0f30816b871f",
       "version_major": 2,
       "version_minor": 0
      },
      "text/plain": [
       "  0%|          | 0/46 [00:00<?, ?it/s]"
      ]
     },
     "metadata": {},
     "output_type": "display_data"
    },
    {
     "data": {
      "application/vnd.jupyter.widget-view+json": {
       "model_id": "948f0abaca214a7ebb6f9fd53b51b2d2",
       "version_major": 2,
       "version_minor": 0
      },
      "text/plain": [
       "  0%|          | 0/12 [00:00<?, ?it/s]"
      ]
     },
     "metadata": {},
     "output_type": "display_data"
    },
    {
     "name": "stdout",
     "output_type": "stream",
     "text": [
      "Epoch 14: LR = 0.000006, Train Loss: 0.4960, Train WER: 0.7181, Train CER: 0.4034\n",
      "Epoch 14: Val Loss: 2.1639, Val WER: 0.9493, Val CER: 0.6463\n"
     ]
    },
    {
     "data": {
      "application/vnd.jupyter.widget-view+json": {
       "model_id": "ac926254e2034e4d9e6af03f7136a64c",
       "version_major": 2,
       "version_minor": 0
      },
      "text/plain": [
       "  0%|          | 0/46 [00:00<?, ?it/s]"
      ]
     },
     "metadata": {},
     "output_type": "display_data"
    },
    {
     "data": {
      "application/vnd.jupyter.widget-view+json": {
       "model_id": "7efabeb4e4b5435ea48ad7dd9b801270",
       "version_major": 2,
       "version_minor": 0
      },
      "text/plain": [
       "  0%|          | 0/12 [00:00<?, ?it/s]"
      ]
     },
     "metadata": {},
     "output_type": "display_data"
    },
    {
     "name": "stdout",
     "output_type": "stream",
     "text": [
      "Epoch 15: LR = 0.000003, Train Loss: 0.4749, Train WER: 0.6991, Train CER: 0.3998\n",
      "Epoch 15: Val Loss: 2.1556, Val WER: 0.9275, Val CER: 0.5904\n"
     ]
    },
    {
     "data": {
      "application/vnd.jupyter.widget-view+json": {
       "model_id": "3561b6f1e09e4bb3af96852ce4e5f5ca",
       "version_major": 2,
       "version_minor": 0
      },
      "text/plain": [
       "  0%|          | 0/46 [00:00<?, ?it/s]"
      ]
     },
     "metadata": {},
     "output_type": "display_data"
    },
    {
     "data": {
      "application/vnd.jupyter.widget-view+json": {
       "model_id": "7ffcbc6402e24c20b67f0113bd302f96",
       "version_major": 2,
       "version_minor": 0
      },
      "text/plain": [
       "  0%|          | 0/12 [00:00<?, ?it/s]"
      ]
     },
     "metadata": {},
     "output_type": "display_data"
    },
    {
     "name": "stdout",
     "output_type": "stream",
     "text": [
      "Epoch 16: LR = 0.000003, Train Loss: 0.4304, Train WER: 0.6869, Train CER: 0.3746\n",
      "Epoch 16: Val Loss: 2.2164, Val WER: 0.9275, Val CER: 0.6180\n"
     ]
    },
    {
     "data": {
      "application/vnd.jupyter.widget-view+json": {
       "model_id": "bf67260419fb429da3aca4469479bcd8",
       "version_major": 2,
       "version_minor": 0
      },
      "text/plain": [
       "  0%|          | 0/46 [00:00<?, ?it/s]"
      ]
     },
     "metadata": {},
     "output_type": "display_data"
    },
    {
     "data": {
      "application/vnd.jupyter.widget-view+json": {
       "model_id": "f986602787d045e286beae480e8e3f94",
       "version_major": 2,
       "version_minor": 0
      },
      "text/plain": [
       "  0%|          | 0/12 [00:00<?, ?it/s]"
      ]
     },
     "metadata": {},
     "output_type": "display_data"
    },
    {
     "name": "stdout",
     "output_type": "stream",
     "text": [
      "Epoch 17: LR = 0.000003, Train Loss: 0.4021, Train WER: 0.6893, Train CER: 0.3594\n",
      "Epoch 17: Val Loss: 2.1999, Val WER: 0.9275, Val CER: 0.5829\n"
     ]
    },
    {
     "data": {
      "application/vnd.jupyter.widget-view+json": {
       "model_id": "786f65a3422c43abb640ee8e105efc72",
       "version_major": 2,
       "version_minor": 0
      },
      "text/plain": [
       "  0%|          | 0/46 [00:00<?, ?it/s]"
      ]
     },
     "metadata": {},
     "output_type": "display_data"
    },
    {
     "data": {
      "application/vnd.jupyter.widget-view+json": {
       "model_id": "8219526d0ff74586a6d43ffd0c160393",
       "version_major": 2,
       "version_minor": 0
      },
      "text/plain": [
       "  0%|          | 0/12 [00:00<?, ?it/s]"
      ]
     },
     "metadata": {},
     "output_type": "display_data"
    },
    {
     "name": "stdout",
     "output_type": "stream",
     "text": [
      "Epoch 18: LR = 0.000002, Train Loss: 0.3906, Train WER: 0.6648, Train CER: 0.3603\n",
      "Epoch 18: Val Loss: 2.2096, Val WER: 0.9203, Val CER: 0.6240\n"
     ]
    },
    {
     "data": {
      "application/vnd.jupyter.widget-view+json": {
       "model_id": "1984df11802040abbde815004cb5d36f",
       "version_major": 2,
       "version_minor": 0
      },
      "text/plain": [
       "  0%|          | 0/46 [00:00<?, ?it/s]"
      ]
     },
     "metadata": {},
     "output_type": "display_data"
    },
    {
     "data": {
      "application/vnd.jupyter.widget-view+json": {
       "model_id": "e40f9e1187ce4701addea8d483b30539",
       "version_major": 2,
       "version_minor": 0
      },
      "text/plain": [
       "  0%|          | 0/12 [00:00<?, ?it/s]"
      ]
     },
     "metadata": {},
     "output_type": "display_data"
    },
    {
     "name": "stdout",
     "output_type": "stream",
     "text": [
      "Epoch 19: LR = 0.000002, Train Loss: 0.3700, Train WER: 0.6624, Train CER: 0.3395\n",
      "Epoch 19: Val Loss: 2.2119, Val WER: 0.9203, Val CER: 0.6259\n"
     ]
    },
    {
     "data": {
      "application/vnd.jupyter.widget-view+json": {
       "model_id": "92e15858146f469a8fffe527147468fd",
       "version_major": 2,
       "version_minor": 0
      },
      "text/plain": [
       "  0%|          | 0/46 [00:00<?, ?it/s]"
      ]
     },
     "metadata": {},
     "output_type": "display_data"
    },
    {
     "data": {
      "application/vnd.jupyter.widget-view+json": {
       "model_id": "33f4479f3f43457ca42ed52a77d45140",
       "version_major": 2,
       "version_minor": 0
      },
      "text/plain": [
       "  0%|          | 0/12 [00:00<?, ?it/s]"
      ]
     },
     "metadata": {},
     "output_type": "display_data"
    },
    {
     "name": "stdout",
     "output_type": "stream",
     "text": [
      "Epoch 20: LR = 0.000002, Train Loss: 0.3574, Train WER: 0.6520, Train CER: 0.3155\n",
      "Epoch 20: Val Loss: 2.2235, Val WER: 0.9203, Val CER: 0.6094\n"
     ]
    }
   ],
   "source": [
    "import sys\n",
    "sys.path.append(\"/home/admin/blessed/HandWritten_Amharic_English_OCR\")\n",
    "from dataset.dataloader import MyOcrDataloader\n",
    "import pandas as pd\n",
    "import math\n",
    "import random\n",
    "import torch\n",
    "import yaml\n",
    "import os\n",
    "from PIL import Image\n",
    "from transformers import TrOCRProcessor, VisionEncoderDecoderModel\n",
    "from utils.utils import forward_pass_with_labels, update\n",
    "from jiwer import wer, cer\n",
    "from tqdm.auto import tqdm\n",
    "\n",
    "# Load config\n",
    "config_path = os.path.join(os.path.abspath(os.path.join(os.getcwd(), '..')), \"config/main.yaml\")\n",
    "with open(config_path, \"r\") as file:\n",
    "    config = yaml.safe_load(file)\n",
    "DATASET_PATH = config[\"DATASET_PATH\"]\n",
    "# VAL_DATASET_PATH = config[\"VAL_DATASET_PATH\"]\n",
    "MODEL_ID = config[\"MODEL_ID\"]\n",
    "\n",
    "# Set up device, processor, and model\n",
    "device = \"cuda\" if torch.cuda.is_available() else \"cpu\"\n",
    "processor = TrOCRProcessor.from_pretrained(MODEL_ID)\n",
    "model = VisionEncoderDecoderModel.from_pretrained(MODEL_ID).to(device)\n",
    "model.config.decoder_start_token_id = processor.tokenizer.eos_token_id\n",
    "model.config.pad_token_id = processor.tokenizer.pad_token_id\n",
    "model.config.vocab_size = model.config.decoder.vocab_size\n",
    "\n",
    "# Create data loaders\n",
    "os.chdir(\"../dataset\")\n",
    "DATASET_PATH = \"/home/admin/blessed/HandWritten_Amharic_English_OCR/dataset/labeled_english_train.csv\"\n",
    "train_data = MyOcrDataloader(DATASET_PATH, preprocessor=processor)\n",
    "VAL_DATASET_PATH = \"/home/admin/blessed/HandWritten_Amharic_English_OCR/dataset/labeled_english_test.csv\"\n",
    "val_data = MyOcrDataloader(VAL_DATASET_PATH, preprocessor=processor)\n",
    "\n",
    "train_loader = torch.utils.data.DataLoader(\n",
    "    dataset=train_data,\n",
    "    batch_size=config['BATCH_SIZE'],\n",
    "    shuffle=True,\n",
    "    collate_fn=train_data.collate_fn\n",
    ")\n",
    "\n",
    "val_loader = torch.utils.data.DataLoader(\n",
    "    dataset=val_data,\n",
    "    batch_size=config['BATCH_SIZE'],\n",
    "    shuffle=False,\n",
    "    collate_fn=val_data.collate_fn\n",
    ")\n",
    "\n",
    "# Training and validation functions\n",
    "def one_train_epoch(model, train_data_loader, scaler, optimizer):\n",
    "    model.train()\n",
    "    pbar = tqdm(range(len(train_data_loader)))\n",
    "    train_loss = 0\n",
    "    train_wers = 0.0\n",
    "    train_cers = 0.0\n",
    "    samples = 0\n",
    "    for i, batch in enumerate(train_data_loader):\n",
    "        loss, logits = update(model, optimizer,scaler, batch)\n",
    "        preds = processor.batch_decode(logits.argmax(dim=2), skip_special_tokens=True)\n",
    "        actuals = processor.batch_decode(batch[1], skip_special_tokens=True)\n",
    "\n",
    "        train_loss += (1 / (i + 1)) * (loss - train_loss)\n",
    "        for pred, actual in zip(preds, actuals):\n",
    "            train_wers += wer(actual, pred)\n",
    "            train_cers += cer(actual, pred)\n",
    "\n",
    "        samples += len(preds)\n",
    "        pbar.set_description(f\"Train Loss: {train_loss:.4f} WER: {train_wers / samples:.4f} CER: {train_cers / samples:.4f}\")\n",
    "        pbar.update(1)\n",
    "    pbar.close()\n",
    "    return train_loss, train_wers / samples, train_cers / samples\n",
    "\n",
    "def one_val_epoch(model, val_data_loader):\n",
    "    model.eval()\n",
    "    val_loss = 0\n",
    "    val_wers = 0.0\n",
    "    val_cers = 0.0\n",
    "    samples = 0\n",
    "    with torch.no_grad():\n",
    "        pbar = tqdm(range(len(val_data_loader)))\n",
    "        for i, batch in enumerate(val_data_loader):\n",
    "            loss, logits = forward_pass_with_labels(model, batch)\n",
    "            preds = processor.batch_decode(logits.argmax(dim=2), skip_special_tokens=True)\n",
    "            actuals = processor.batch_decode(batch[1], skip_special_tokens=True)\n",
    "\n",
    "            val_loss += (1 / (i + 1)) * (loss - val_loss)\n",
    "            for pred, actual in zip(preds, actuals):\n",
    "                val_wers += wer(actual, pred)\n",
    "                val_cers += cer(actual, pred)\n",
    "\n",
    "            samples += len(preds)\n",
    "            pbar.set_description(f\"Val Loss: {val_loss:.4f} WER: {val_wers / samples:.4f} CER: {val_cers / samples:.4f}\")\n",
    "            pbar.update(1)\n",
    "        pbar.close()\n",
    "    return val_loss, val_wers / samples, val_cers / samples\n",
    "\n",
    "def train(model, tdataloader, vdataloader, optimizer, scaler,scheduler, epochs=3, log_dir=\"logs/a\"):\n",
    "    os.makedirs(log_dir, exist_ok=True)\n",
    "    with open(f\"{log_dir}/train.txt\", \"w\") as tf, open(f\"{log_dir}/val.txt\", \"w\") as vf:\n",
    "        tf.write(\"Epoch,Loss,WER,CER\\n\")\n",
    "        vf.write(\"Epoch,Loss,WER,CER\\n\")\n",
    "\n",
    "    best_val_score = float('inf')\n",
    "    for epoch in range(1, 1 + epochs):\n",
    "        train_loss, train_wers, train_cers = one_train_epoch(model, tdataloader, scaler, optimizer)\n",
    "        val_loss, val_wers, val_cers = one_val_epoch(model, vdataloader)\n",
    "\n",
    "        with open(f\"{log_dir}/train.txt\", \"a\") as tf, open(f\"{log_dir}/val.txt\", \"a\") as vf:\n",
    "            tf.write(f\"{epoch},{train_loss:.4f},{train_wers:.4f},{train_cers:.4f}\\n\")\n",
    "            vf.write(f\"{epoch},{val_loss:.4f},{val_wers:.4f},{val_cers:.4f}\\n\")\n",
    "\n",
    "        if val_wers < best_val_score:\n",
    "            best_val_score = val_wers\n",
    "            torch.save(model.state_dict(), f\"{log_dir}/best_model.pth\")\n",
    "            print(f\"New best model saved with WER: {val_wers:.4f}\")\n",
    "        \n",
    "        # Update the learning rate\n",
    "        scheduler.step()\n",
    "        # Print current learning rate\n",
    "        current_lr = optimizer.param_groups[0]['lr']\n",
    "        print(f\"Epoch {epoch}: LR = {current_lr:.6f}, Train Loss: {train_loss:.4f}, Train WER: {train_wers:.4f}, Train CER: {train_cers:.4f}\")\n",
    "        print(f\"Epoch {epoch}: Val Loss: {val_loss:.4f}, Val WER: {val_wers:.4f}, Val CER: {val_cers:.4f}\")\n",
    "# Initialize optimizer and scaler\n",
    "optimizer = torch.optim.AdamW(model.parameters(), 1e-4)\n",
    "scaler = torch.cuda.amp.GradScaler(enabled=True)\n",
    "scheduler = torch.optim.lr_scheduler.StepLR(optimizer, step_size=3, gamma=0.5)  \n",
    "# Start training\n",
    "train(model, train_loader, val_loader, optimizer, scaler, scheduler, epochs=20,  log_dir=\"logs/phi_teleqna\")"
   ]
  },
  {
   "cell_type": "code",
   "execution_count": 2,
   "metadata": {},
   "outputs": [
    {
     "data": {
      "image/png": "[encoded data removed]",
      "text/plain": [
       "<Figure size 1200x600 with 1 Axes>"
      ]
     },
     "metadata": {},
     "output_type": "display_data"
    },
    {
     "data": {
      "image/png": "[encoded data removed]",
      "text/plain": [
       "<Figure size 1200x600 with 1 Axes>"
      ]
     },
     "metadata": {},
     "output_type": "display_data"
    },
    {
     "data": {
      "image/png": "[encoded data removed]",
      "text/plain": [
       "<Figure size 1200x600 with 1 Axes>"
      ]
     },
     "metadata": {},
     "output_type": "display_data"
    }
   ],
   "source": [
    "import pandas as pd\n",
    "import matplotlib.pyplot as plt\n",
    "\n",
    "# Path to the log directory\n",
    "log_dir = \"logs/phi_teleqna\"\n",
    "\n",
    "# Load training and validation metrics\n",
    "train_metrics = pd.read_csv(f\"{log_dir}/train.txt\")\n",
    "val_metrics = pd.read_csv(f\"{log_dir}/val.txt\")\n",
    "\n",
    "# Plot Loss\n",
    "plt.figure(figsize=(12, 6))\n",
    "plt.plot(train_metrics[\"Epoch\"], train_metrics[\"Loss\"], label=\"Train Loss\")\n",
    "plt.plot(val_metrics[\"Epoch\"], val_metrics[\"Loss\"], label=\"Val Loss\")\n",
    "plt.xlabel(\"Epoch\")\n",
    "plt.ylabel(\"Loss\")\n",
    "plt.title(\"Training and Validation Loss\")\n",
    "plt.legend()\n",
    "plt.grid()\n",
    "plt.savefig(f\"{log_dir}/loss_plot.png\")  # Save plot\n",
    "plt.show()\n",
    "\n",
    "# Plot WER\n",
    "plt.figure(figsize=(12, 6))\n",
    "plt.plot(train_metrics[\"Epoch\"], train_metrics[\"WER\"], label=\"Train WER\")\n",
    "plt.plot(val_metrics[\"Epoch\"], val_metrics[\"WER\"], label=\"Val WER\")\n",
    "plt.xlabel(\"Epoch\")\n",
    "plt.ylabel(\"WER\")\n",
    "plt.title(\"Training and Validation Word Error Rate (WER)\")\n",
    "plt.legend()\n",
    "plt.grid()\n",
    "plt.savefig(f\"{log_dir}/wer_plot.png\")  # Save plot\n",
    "plt.show()\n",
    "\n",
    "# Plot CER\n",
    "plt.figure(figsize=(12, 6))\n",
    "plt.plot(train_metrics[\"Epoch\"], train_metrics[\"CER\"], label=\"Train CER\")\n",
    "plt.plot(val_metrics[\"Epoch\"], val_metrics[\"CER\"], label=\"Val CER\")\n",
    "plt.xlabel(\"Epoch\")\n",
    "plt.ylabel(\"CER\")\n",
    "plt.title(\"Training and Validation Character Error Rate (CER)\")\n",
    "plt.legend()\n",
    "plt.grid()\n",
    "plt.savefig(f\"{log_dir}/cer_plot.png\")  # Save plot\n",
    "plt.show()"
   ]
  }
 ],
 "metadata": {
  "kernelspec": {
   "display_name": "Python 3",
   "language": "python",
   "name": "python3"
  },
  "language_info": {
   "codemirror_mode": {
    "name": "ipython",
    "version": 3
   },
   "file_extension": ".py",
   "mimetype": "text/x-python",
   "name": "python",
   "nbconvert_exporter": "python",
   "pygments_lexer": "ipython3",
   "version": "3.8.10"
  }
 },
 "nbformat": 4,
 "nbformat_minor": 2
}
