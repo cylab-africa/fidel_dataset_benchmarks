{
 "cells": [
  {
   "cell_type": "code",
   "execution_count": 1,
   "metadata": {},
   "outputs": [
    {
     "name": "stderr",
     "output_type": "stream",
     "text": [
      "/home/ubuntu/datagen/lib/python3.12/site-packages/tqdm/auto.py:21: TqdmWarning: IProgress not found. Please update jupyter and ipywidgets. See https://ipywidgets.readthedocs.io/en/stable/user_install.html\n",
      "  from .autonotebook import tqdm as notebook_tqdm\n",
      "Using a slow image processor as `use_fast` is unset and a slow processor was saved with this model. `use_fast=True` will be the default behavior in v4.52, even if the model was saved with a slow processor. This will result in minor differences in outputs. You'll still be able to use a slow processor with `use_fast=False`.\n"
     ]
    },
    {
     "name": "stdout",
     "output_type": "stream",
     "text": [
      "config {'SCENARIO': 1, 'USE_WANDB': False, 'TRAIN_TASK': 'SYNTHETIC', 'HANDWRITTEN_TRAIN_PATH': '/home/ubuntu/data/handwritten_labels/gabby_handwritten_train.csv', 'HANDWRITTEN_VAL_PATH': '/home/ubuntu/data/handwritten_labels/gabby_handwritten_test.csv', 'HANDWRITTEN_IMG_ROOT': '/home/ubuntu/data/Amharic_Data/train', 'HANDWRITTEN_IMG_ROOT_TEST': '/home/ubuntu/data/Amharic_Data/test', 'TYPED_TRAIN_PATH': '/home/ubuntu/data/typed_labels/gabby_typed_train.csv', 'TYPED_VAL_PATH': '/home/ubuntu/data/typed_labels/gabby_typed_test.csv', 'TYPED_IMG_ROOT': '/home/ubuntu/data/Amharic_Data/train', 'TYPED_IMG_ROOT_TEST': '/home/ubuntu/data/Amharic_Data/test', 'SYNTHETIC_TRAIN_PATH': '/home/ubuntu/data/synthetic_data/labels/gabby_synthetic_train.csv', 'SYNTHETIC_VAL_PATH': '/home/ubuntu/data/synthetic_data/labels/gabby_synthetic_test.csv', 'SYNTHETIC_IMG_ROOT': '/home/ubuntu/data/Amharic_Data/train', 'SYNTHETIC_IMG_ROOT_TEST': '/home/ubuntu/data/Amharic_Data/test', 'HDD_TRAIN_PATH': '/home/ubuntu/data/hdd_labels/gabby_hdd_train.csv', 'HDD_VAL_PATH': '/home/ubuntu/data/hdd_labels/gabby_hdd_test.csv', 'HDD_IMG_ROOT': '/home/ubuntu/data/Amharic_Data/train', 'HDD_IMG_ROOT_TEST': '/home/ubuntu/data/Amharic_Data/test', 'BATCH_SIZE': 128, 'MODEL_ID': 'microsoft/trocr-base-handwritten', 'EPOCHS': 100, 'enc_dropout': 0.2, 'enc_num_layers': 1, 'enc_num_heads': 1, 'dec_dropout': 0.2, 'dec_num_layers': 4, 'dec_num_heads': 4, 'd_model': 256, 'd_ff': 1024, 'learning_rate': '5E-5', 'optimizer': 'AdamW', 'momentum': 0.0, 'nesterov': True, 'scheduler': 'CosineAnnealing', 'factor': 0.9, 'patience': 6, 'epochs': 50, 'Name': 'blessed', 'BEAM_WIDTH': 10}\n"
     ]
    }
   ],
   "source": [
    "import sys\n",
    "sys.path.append(\"..\")\n",
    "from dataset.dataloader import MyOcrDataloader, MyCustomOcrDataloader, OCRDataAugmentor\n",
    "import pandas as pd\n",
    "import math\n",
    "import random\n",
    "import torch\n",
    "import yaml\n",
    "import wandb\n",
    "import os\n",
    "from PIL import Image\n",
    "from transformers import TrOCRProcessor, VisionEncoderDecoderModel\n",
    "import gc\n",
    "from utils.utils import *\n",
    "from utils.charactertokenizer import CharacterTokenizer\n",
    "from jiwer import wer, cer\n",
    "from models.models import TrOCRMyDecoder\n",
    "from tqdm.auto import tqdm"
   ]
  },
  {
   "cell_type": "code",
   "execution_count": 2,
   "metadata": {},
   "outputs": [],
   "source": [
    "config_path = os.path.join(os.path.abspath(os.path.join(os.getcwd(), '..')), \"config/main.yaml\")\n",
    "with open(config_path, \"r\") as file:\n",
    "    config = yaml.safe_load(file)\n",
    "task  = config[\"TRAIN_TASK\"]\n",
    "os.environ[\"TOKENIZERS_PARALLELISM\"] = \"false\"\n",
    "\n",
    "TRAIN_PATH =config[task+\"_\"+\"TRAIN_PATH\"]\n",
    "VAL_PATH =config[task+\"_\"+\"VAL_PATH\"]\n",
    "IMG_ROOT = config[task+\"_\"+\"IMG_ROOT\"]\n",
    "\n",
    "MODEL_ID = config[\"MODEL_ID\"]\n",
    "\n",
    "device = \"cuda\" if torch.cuda.is_available() else \"cpu\"\n",
    "processor = resize_and_patch_image\n",
    "# model =VisionEncoderDecoderModel.from_pretrained(MODEL_ID).to(device)\n",
    "# model.config.decoder_start_token_id = processor.tokenizer.eos_token_id\n",
    "# model.config.pad_token_id = processor.tokenizer.pad_token_id\n",
    "# model.config.vocab_size = model.config.decoder.vocab_size"
   ]
  },
  {
   "cell_type": "code",
   "execution_count": 3,
   "metadata": {},
   "outputs": [],
   "source": [
    "## sanity check for data loader\n",
    "os.chdir(\"../dataset\")\n",
    "augmentor = OCRDataAugmentor()\n",
    "tokenizer = CharacterTokenizer.from_pretrained('/home/ubuntu/HandWritten_Amharic_English_OCR/Amharic_Char_Tokenizer2')\n",
    "# tokenizer = PreTrainedTokenizerFast.from_pretrained(\"/home/ubuntu/data/synthetic_data/amharic_tokenizer_hf\")\n",
    "\n",
    "# tokenizer = AutoTokenizer.from_pretrained(\"rasyosef/bert-amharic-tokenizer\")\n",
    "\n",
    "if tokenizer.bos_token_id== None:\n",
    "    print(\"setting tokenizer\")\n",
    "    special_tokens_dict = {\n",
    "    \"bos_token\": \"<sos>\",\n",
    "    \"eos_token\": \"<eos>\"\n",
    "    }\n",
    "    tokenizer.add_special_tokens(special_tokens_dict)\n",
    "\n",
    "train_data = MyCustomOcrDataloader(TRAIN_PATH, preprocessor=processor, tokenizer  = tokenizer, img_root=IMG_ROOT, transform=augmentor)\n",
    "IMG_ROOT = config[task+\"_IMG_ROOT\"+\"_TEST\"]\n",
    "val_data = MyCustomOcrDataloader(VAL_PATH, preprocessor=processor, tokenizer  = tokenizer, img_root=IMG_ROOT)\n",
    "train_loader = torch.utils.data.DataLoader(\n",
    "    dataset     = train_data,\n",
    "    batch_size  = config['BATCH_SIZE'],\n",
    "    shuffle     = True,\n",
    "    collate_fn= train_data.collate_fn\n",
    "    )\n",
    "\n"
   ]
  },
  {
   "cell_type": "code",
   "execution_count": 4,
   "metadata": {},
   "outputs": [
    {
     "name": "stdout",
     "output_type": "stream",
     "text": [
      "No. of Train Images   :  10000\n",
      "Batch Size           :  128\n",
      "Train Batches        :  79\n",
      "Val Batches          :  79\n"
     ]
    }
   ],
   "source": [
    "\n",
    "train_loader    = torch.utils.data.DataLoader(\n",
    "    dataset     = train_data,\n",
    "    batch_size  = config[\"BATCH_SIZE\"],\n",
    "    shuffle     = True,\n",
    "    num_workers = 4,\n",
    "    pin_memory  = True,\n",
    "    collate_fn  = train_data.collate_fn\n",
    ")\n",
    "\n",
    "val_loader      = torch.utils.data.DataLoader(\n",
    "    dataset     = val_data,\n",
    "    batch_size  = config[\"BATCH_SIZE\"],\n",
    "    shuffle     = False,\n",
    "    num_workers = 2,\n",
    "    pin_memory  = True,\n",
    "    collate_fn  = train_data.collate_fn,\n",
    ")\n",
    "\n",
    "print(\"No. of Train Images   : \", train_data.__len__())\n",
    "print(\"Batch Size           : \", config[\"BATCH_SIZE\"])\n",
    "print(\"Train Batches        : \", train_loader.__len__())\n",
    "print(\"Val Batches          : \", val_loader.__len__())"
   ]
  },
  {
   "cell_type": "code",
   "execution_count": 5,
   "metadata": {},
   "outputs": [
    {
     "name": "stdout",
     "output_type": "stream",
     "text": [
      "No. of Train Images   :  10000\n",
      "Batch Size           :  128\n",
      "Train Batches        :  79\n",
      "No. of Val Images   :  10000\n",
      "Val Batches          :  79\n"
     ]
    }
   ],
   "source": [
    "\n",
    "train_loader    = torch.utils.data.DataLoader(\n",
    "    dataset     = train_data,\n",
    "    batch_size  = config[\"BATCH_SIZE\"],\n",
    "    shuffle     = True,\n",
    "    num_workers = 4,\n",
    "    pin_memory  = True,\n",
    "    collate_fn  = train_data.collate_fn\n",
    ")\n",
    "\n",
    "val_loader      = torch.utils.data.DataLoader(\n",
    "    dataset     = val_data,\n",
    "    batch_size  = config[\"BATCH_SIZE\"],\n",
    "    shuffle     = False,\n",
    "    num_workers = 2,\n",
    "    pin_memory  = True,\n",
    "    collate_fn  = train_data.collate_fn,\n",
    ")\n",
    "\n",
    "print(\"No. of Train Images   : \", train_data.__len__())\n",
    "print(\"Batch Size           : \", config[\"BATCH_SIZE\"])\n",
    "print(\"Train Batches        : \", train_loader.__len__())\n",
    "print(\"No. of Val Images   : \", val_data.__len__())\n",
    "\n",
    "print(\"Val Batches          : \", val_loader.__len__())"
   ]
  },
  {
   "cell_type": "code",
   "execution_count": 6,
   "metadata": {},
   "outputs": [],
   "source": [
    "def validate_fast(model, dataloader):\n",
    "    model.eval()\n",
    "\n",
    "    # progress bar\n",
    "    batch_bar = tqdm(total=len(dataloader), dynamic_ncols=True, leave=False, position=0, desc=\"Val\", ncols=5)\n",
    "\n",
    "    running_distance = 0.0\n",
    "    running_cer = 0.0\n",
    "    running_wer = 0.0\n",
    "    running_char_f1 = 0.0\n",
    "    running_word_f1 = 0.0\n",
    "\n",
    "\n",
    "    for i, (inputs, targets_shifted, targets_golden, inputs_lengths, targets_lengths) in enumerate(dataloader):\n",
    "\n",
    "        inputs  = inputs.to(device)\n",
    "        targets_golden = targets_golden.to(device)\n",
    "\n",
    "        with torch.inference_mode():\n",
    "            greedy_predictions = model.recognize(inputs, inputs_lengths)\n",
    "\n",
    "        # calculating Levenshtein Distance\n",
    "        # @NOTE: modify the print_example to print more or less validation examples\n",
    "        dist, cer, wer, charf1, word_f1 = calc_edit_distance(greedy_predictions, targets_golden, targets_lengths, tokenizer, print_example=True)\n",
    "        running_distance += dist\n",
    "        running_cer += cer\n",
    "        running_wer += wer\n",
    "        running_char_f1 += charf1\n",
    "        running_word_f1 += word_f1\n",
    "\n",
    "\n",
    "        # online validation distance monitoring\n",
    "        batch_bar.set_postfix(\n",
    "            running_distance = \"{:.04f}\".format(float(running_distance / (i + 1))),\n",
    "            running_cer = \"{:.04f}\".format(float(running_cer / (i + 1))),\n",
    "            running_wer = \"{:.04f}\".format(float(running_wer / (i + 1))),\n",
    "            running_char_f1 = \"{:.04f}\".format(float(running_char_f1 / (i + 1))),\n",
    "            running_word_f1 = \"{:.04f}\".format(float(running_word_f1 / (i + 1)))\n",
    "\n",
    "        )\n",
    "\n",
    "        batch_bar.update()\n",
    "\n",
    "        del inputs, targets_shifted, targets_golden, inputs_lengths, targets_lengths\n",
    "        torch.cuda.empty_cache()\n",
    "\n",
    "        if i==4: break      # validating only upon first five batches\n",
    "\n",
    "    batch_bar.close()\n",
    "    running_distance /= 5\n",
    "    running_cer /= 5\n",
    "    running_wer /= 5\n",
    "    running_char_f1 /= 5\n",
    "    running_word_f1 /= 5\n",
    "\n",
    "    return running_distance, running_cer, running_wer, running_char_f1, running_word_f1\n",
    "\n",
    "def validate_full(model, dataloader):\n",
    "    model.eval()\n",
    "\n",
    "    # progress bar\n",
    "    batch_bar = tqdm(total=len(dataloader), dynamic_ncols=True, leave=False, position=0, desc=\"Val\", ncols=5)\n",
    "\n",
    "    running_distance = 0.0\n",
    "    running_cer = 0.0\n",
    "    running_wer = 0.0\n",
    "    running_char_f1 = 0.0\n",
    "    running_word_f1 =0.0\n",
    "\n",
    "    for i, (inputs, targets_shifted, targets_golden, inputs_lengths, targets_lengths) in enumerate(dataloader):\n",
    "\n",
    "        inputs  = inputs.to(device)\n",
    "        targets_golden = targets_golden.to(device)\n",
    "\n",
    "        with torch.inference_mode():\n",
    "            greedy_predictions = model.recognize(inputs, inputs_lengths)\n",
    "\n",
    "        # calculating Levenshtein Distance\n",
    "        # @NOTE: modify the print_example to print more or less validation examples\n",
    "        dist, cer, wer, charf1, word_f1 = calc_edit_distance(greedy_predictions, targets_golden, targets_lengths, tokenizer, print_example=False)\n",
    "        running_distance += dist\n",
    "        running_cer += cer\n",
    "        running_wer += wer\n",
    "        running_char_f1 += charf1\n",
    "        running_word_f1 += word_f1\n",
    "\n",
    "\n",
    "        # online validation distance monitoring\n",
    "        batch_bar.set_postfix(\n",
    "            running_distance = \"{:.04f}\".format(float(running_distance / (i + 1))),\n",
    "            running_cer = \"{:.04f}\".format(float(running_cer / (i + 1))),\n",
    "            running_wer = \"{:.04f}\".format(float(running_wer / (i + 1))),\n",
    "            running_char_f1 = \"{:.04f}\".format(float(running_char_f1 / (i + 1))),\n",
    "            running_word_f1 = \"{:.04f}\".format(float(running_word_f1 / (i + 1)))\n",
    "\n",
    "        )\n",
    "        batch_bar.update()\n",
    "\n",
    "        del inputs, targets_shifted, targets_golden, inputs_lengths, targets_lengths\n",
    "        torch.cuda.empty_cache()\n",
    "\n",
    "\n",
    "    batch_bar.close()\n",
    "    running_distance /= len(dataloader)\n",
    "    running_cer /= len(dataloader)\n",
    "    running_wer /= len(dataloader)\n",
    "    running_char_f1 /= len(dataloader)\n",
    "    running_word_f1 /= len(dataloader)\n",
    "\n",
    "\n",
    "    return running_distance, running_cer, running_wer, running_char_f1, running_word_f1"
   ]
  },
  {
   "cell_type": "code",
   "execution_count": 7,
   "metadata": {},
   "outputs": [
    {
     "name": "stdout",
     "output_type": "stream",
     "text": [
      "Checking the Shapes of the Data --\n",
      "\n",
      "x_pad shape:\t\ttorch.Size([128, 1, 1, 128, 1536])\n",
      "x_len shape:\t\ttorch.Size([128])\n",
      "\n",
      "y_shifted_pad shape:\ttorch.Size([128, 117])\n",
      "y_golden_pad shape:\ttorch.Size([128, 117])\n",
      "y_len shape:\t\ttorch.Size([128])\n",
      "\n"
     ]
    }
   ],
   "source": [
    "\n",
    "print(\"Checking the Shapes of the Data --\\n\")\n",
    "\n",
    "for batch in train_loader:\n",
    "    x_pad, y_shifted_pad, y_golden_pad, x_len, y_len, = batch\n",
    "\n",
    "    print(f\"x_pad shape:\\t\\t{x_pad.shape}\")\n",
    "    print(f\"x_len shape:\\t\\t{x_len.shape}\\n\")\n",
    "\n",
    "    print(f\"y_shifted_pad shape:\\t{y_shifted_pad.shape}\")\n",
    "    print(f\"y_golden_pad shape:\\t{y_golden_pad.shape}\")\n",
    "    print(f\"y_len shape:\\t\\t{y_len.shape}\\n\")\n",
    "\n",
    "    # print(y_shifted_pad)\n",
    "\n",
    "    break"
   ]
  },
  {
   "cell_type": "code",
   "execution_count": 25,
   "metadata": {},
   "outputs": [
    {
     "name": "stderr",
     "output_type": "stream",
     "text": [
      "/home/ubuntu/datagen/lib/python3.12/site-packages/torchvision/models/_utils.py:208: UserWarning: The parameter 'pretrained' is deprecated since 0.13 and may be removed in the future, please use 'weights' instead.\n",
      "  warnings.warn(\n",
      "/home/ubuntu/datagen/lib/python3.12/site-packages/torchvision/models/_utils.py:223: UserWarning: Arguments other than a weight enum or `None` for 'weights' are deprecated since 0.13 and may be removed in the future. The current behavior is equivalent to passing `weights=ResNet18_Weights.IMAGENET1K_V1`. You can also use `weights=ResNet18_Weights.DEFAULT` to get the most up-to-date weights.\n",
      "  warnings.warn(msg)\n"
     ]
    },
    {
     "name": "stdout",
     "output_type": "stream",
     "text": [
      "##########\n",
      "Model Parameters:\n",
      " 15.758103\n",
      "##########\n"
     ]
    }
   ],
   "source": [
    "\n",
    "\n",
    "# %%\n",
    "''' Please refer to the config file and top sections to fill in the following '''\n",
    "\n",
    "model = TrOCRMyDecoder(\n",
    "input_dim                   = None,\n",
    "dec_num_layers              = config[\"dec_num_layers\"],\n",
    "dec_num_heads               = config[\"dec_num_heads\"],\n",
    "\n",
    "d_model                     = config[\"d_model\"],\n",
    "d_ff                        = config[\"d_ff\"],\n",
    "\n",
    "target_vocab_size           = tokenizer.vocab_size,\n",
    "eos_token                   = tokenizer.eos_token_id,\n",
    "sos_token                   = tokenizer.bos_token_id,\n",
    "pad_token                   = tokenizer.pad_token_id,\n",
    "\n",
    "enc_dropout                 = config[\"enc_dropout\"],\n",
    "dec_dropout                 = config[\"enc_dropout\"],\n",
    "\n",
    "# decrease to a small number if you are just trying to implement the network\n",
    "max_seq_length              = 512 , # Max sequence length for transcripts. Check data verification.\n",
    ").to(device)\n",
    "\n",
    "\n",
    "\n",
    "e                   = 0\n",
    "best_loss           = 20\n",
    "\n",
    "\n",
    "best_loss_model_path  = \"/home/ubuntu/HandWritten_Amharic_English_OCR/dataset/checkpoints-basic-cnn-trocr/TYPEDcheckpoint-best-distance-model.pth\"\n",
    "\n",
    "checkpoint = torch.load(best_loss_model_path)\n",
    "\n",
    "model.load_state_dict(checkpoint['model_state_dict'])\n",
    "def num_parameters(mode):\n",
    "    total_params = sum(p.numel() for p in model.parameters() if p.requires_grad)\n",
    "    return total_params / 1E6\n",
    "\n",
    "para = num_parameters(model)\n",
    "print(\"#\"*10)\n",
    "print(f\"Model Parameters:\\n {para}\")\n",
    "print(\"#\"*10)\n",
    "\n"
   ]
  },
  {
   "cell_type": "code",
   "execution_count": 26,
   "metadata": {},
   "outputs": [],
   "source": [
    "data = pd.read_csv('/home/ubuntu/data/typed_labels/gabby_typed_test.csv')"
   ]
  },
  {
   "cell_type": "code",
   "execution_count": 27,
   "metadata": {},
   "outputs": [
    {
     "name": "stdout",
     "output_type": "stream",
     "text": [
      "torch.Size([1, 1, 1, 128, 1536])\n"
     ]
    },
    {
     "name": "stdout",
     "output_type": "stream",
     "text": [
      "አመ                                                                                                 -> ነገር አለመኖሩ  ነው።  ባለሁበት  ሐላፊነትና  እንደ  አንድ  ምእመን  ሆኜ ሳየው  መዝሙር  አጠቃላይ  ሒደቱ  ሥርዓቱ  መሥመር  እየሳተ  ነው።  ከነዚህም\n"
     ]
    },
    {
     "data": {
      "text/plain": [
       "<matplotlib.image.AxesImage at 0x7a2bb9bdd820>"
      ]
     },
     "execution_count": 27,
     "metadata": {},
     "output_type": "execute_result"
    },
    {
     "data": {
      "image/png": "[encoded data removed]",
      "text/plain": [
       "<Figure size 640x480 with 1 Axes>"
      ]
     },
     "metadata": {},
     "output_type": "display_data"
    }
   ],
   "source": [
    "import random \n",
    "\n",
    "id = random.randint(0, len(data))\n",
    "row = data.iloc[id]\n",
    "# image = Image.open(os.path.join(IMG_ROOT, row[\"images\"])).convert(\"L\")\n",
    "image = Image.open(os.path.join(IMG_ROOT, row[\"image_filename\"]))\n",
    "inp = processor(image, return_tensors=\"pt\").pixel_values.to(\"cuda\").unsqueeze(0)\n",
    "print(inp.shape)\n",
    "with torch.inference_mode():\n",
    "    greedy_predictions = model.recognize(inp, None)\n",
    "pred_text  =  tokenizer.decode(greedy_predictions[0], skip_special_tokens = True)\n",
    "print(pred_text, \"->\", row[\"line_text\"] )\n",
    "plt.imshow(inp[0][0].permute((1,2,0)).to('cpu'), cmap='gray')\n",
    "# image, "
   ]
  },
  {
   "cell_type": "code",
   "execution_count": 28,
   "metadata": {},
   "outputs": [
    {
     "name": "stderr",
     "output_type": "stream",
     "text": [
      "Val:   0%|          | 0/79 [00:00<?, ?it/s]"
     ]
    },
    {
     "name": "stdout",
     "output_type": "stream",
     "text": [
      "\n",
      "Ground Truth :  ያካሄዱት አካላት ለመስተዳደሩ በጹኁፍ ያላሳወቁ መሆኑ ከአቶ ማርቆስ ብዙነህ የሰላማዊ ሠልፍና ስብሰባ ማሳወቂያ ኦፍሲር በገለጹት መሠረት ለመረዳ ተችሎሃል::\n",
      "Prediction   :  መ                                                                                                \n"
     ]
    },
    {
     "name": "stderr",
     "output_type": "stream",
     "text": [
      "Val:   1%|▏         | 1/79 [00:23<30:50, 23.73s/it, running_cer=0.9899, running_char_f1=0.1922, running_distance=84.2188, running_wer=0.9996, running_word_f1=0.0000]"
     ]
    },
    {
     "name": "stdout",
     "output_type": "stream",
     "text": [
      "\n",
      "Ground Truth :  እንዲህ ማድረግ ትችዪ ይሆናል::\n",
      "Prediction   :  መ                                                                                                \n"
     ]
    },
    {
     "name": "stderr",
     "output_type": "stream",
     "text": [
      "Val:   3%|▎         | 2/79 [00:34<20:53, 16.28s/it, running_cer=0.9894, running_char_f1=0.1917, running_distance=84.2148, running_wer=0.9996, running_word_f1=0.0000]"
     ]
    },
    {
     "name": "stdout",
     "output_type": "stream",
     "text": [
      "\n",
      "Ground Truth :  እቴጌይት መግደርደር እኮ ኩራት ከሚገለጥበት አንዱ መንገድ ነው ትንሿን ነገር ቢግ ዲል ማድረግ ግን የተጨናቂነት ወይም የነጭናጫነት ወይም ቅድሚያ የሚሰጠውን\n",
      "Prediction   :  መ                                                                                                \n"
     ]
    },
    {
     "name": "stderr",
     "output_type": "stream",
     "text": [
      "Val:   4%|▍         | 3/79 [00:43<16:19, 12.89s/it, running_cer=0.9893, running_char_f1=0.1926, running_distance=84.1823, running_wer=0.9997, running_word_f1=0.0000]"
     ]
    },
    {
     "name": "stdout",
     "output_type": "stream",
     "text": [
      "\n",
      "Ground Truth :  ፈርዖንም የዮሴፍን ስም ጸፍናት ፐዕናህ ብሎ ጠራው የሄልዮቱ ከተማ ካህን የጶጥፌራ ልጅ የምትሆን አስናትን አጋባው ዮሴፍም በግብፅ ምድር ሁሉ ወጣ::\n",
      "Prediction   :  መ                                                                                                \n"
     ]
    },
    {
     "name": "stderr",
     "output_type": "stream",
     "text": [
      "Val:   5%|▌         | 4/79 [00:54<15:10, 12.15s/it, running_cer=0.9897, running_char_f1=0.1927, running_distance=84.1816, running_wer=0.9998, running_word_f1=0.0000]"
     ]
    },
    {
     "name": "stdout",
     "output_type": "stream",
     "text": [
      "\n",
      "Ground Truth :  ፲፱፻፶፪ ዓም በሞሮኮ የተከሰተ የመሬት እንቅጥቅጥ አጋዲር የተባለችውን ከተማ አወደመ::\n",
      "Prediction   :  መ                                                                                                \n"
     ]
    },
    {
     "name": "stderr",
     "output_type": "stream",
     "text": [
      "                                                                                                                                                                     \r"
     ]
    }
   ],
   "source": [
    "\n",
    "levenshtein_distance, cer, wer, charf1, wordf1 = validate_fast(model, val_loader)"
   ]
  },
  {
   "cell_type": "code",
   "execution_count": null,
   "metadata": {},
   "outputs": [],
   "source": [
    "levenshtein_distance, cers, wers, charf1, wordf1 = validate_full(model, val_loader)"
   ]
  },
  {
   "cell_type": "code",
   "execution_count": 18,
   "metadata": {},
   "outputs": [
    {
     "ename": "FileNotFoundError",
     "evalue": "[Errno 2] No such file or directory: '/data/synthetic_data/static/NotoSansEthiopic-Black.ttf'",
     "output_type": "error",
     "traceback": [
      "\u001b[31m---------------------------------------------------------------------------\u001b[39m",
      "\u001b[31mFileNotFoundError\u001b[39m                         Traceback (most recent call last)",
      "\u001b[36mCell\u001b[39m\u001b[36m \u001b[39m\u001b[32mIn[18]\u001b[39m\u001b[32m, line 3\u001b[39m\n\u001b[32m      1\u001b[39m \u001b[38;5;28;01mimport\u001b[39;00m\u001b[38;5;250m \u001b[39m\u001b[34;01mmatplotlib\u001b[39;00m\u001b[34;01m.\u001b[39;00m\u001b[34;01mfont_manager\u001b[39;00m\u001b[38;5;250m \u001b[39m\u001b[38;5;28;01mas\u001b[39;00m\u001b[38;5;250m \u001b[39m\u001b[34;01mfm\u001b[39;00m\n\u001b[32m      2\u001b[39m font_path = \u001b[33m\"\u001b[39m\u001b[33m/data/synthetic_data/static/NotoSansEthiopic-Black.ttf\u001b[39m\u001b[33m\"\u001b[39m\n\u001b[32m----> \u001b[39m\u001b[32m3\u001b[39m \u001b[43mfm\u001b[49m\u001b[43m.\u001b[49m\u001b[43mfontManager\u001b[49m\u001b[43m.\u001b[49m\u001b[43maddfont\u001b[49m\u001b[43m(\u001b[49m\u001b[43mfont_path\u001b[49m\u001b[43m)\u001b[49m\n\u001b[32m      4\u001b[39m font_name = fm.FontProperties(fname=font_path).get_name()\n\u001b[32m      5\u001b[39m plt.rcParams[\u001b[33m'\u001b[39m\u001b[33mfont.family\u001b[39m\u001b[33m'\u001b[39m] = font_name\n",
      "\u001b[36mFile \u001b[39m\u001b[32m~/datagen/lib/python3.12/site-packages/matplotlib/font_manager.py:1136\u001b[39m, in \u001b[36mFontManager.addfont\u001b[39m\u001b[34m(self, path)\u001b[39m\n\u001b[32m   1134\u001b[39m     \u001b[38;5;28mself\u001b[39m.afmlist.append(prop)\n\u001b[32m   1135\u001b[39m \u001b[38;5;28;01melse\u001b[39;00m:\n\u001b[32m-> \u001b[39m\u001b[32m1136\u001b[39m     font = \u001b[43mft2font\u001b[49m\u001b[43m.\u001b[49m\u001b[43mFT2Font\u001b[49m\u001b[43m(\u001b[49m\u001b[43mpath\u001b[49m\u001b[43m)\u001b[49m\n\u001b[32m   1137\u001b[39m     prop = ttfFontProperty(font)\n\u001b[32m   1138\u001b[39m     \u001b[38;5;28mself\u001b[39m.ttflist.append(prop)\n",
      "\u001b[31mFileNotFoundError\u001b[39m: [Errno 2] No such file or directory: '/data/synthetic_data/static/NotoSansEthiopic-Black.ttf'"
     ]
    }
   ],
   "source": [
    "\n",
    "import matplotlib.font_manager as fm\n",
    "font_path = \"/data/synthetic_data/static/NotoSansEthiopic-Black.ttf\"\n",
    "fm.fontManager.addfont(font_path)\n",
    "font_name = fm.FontProperties(fname=font_path).get_name()\n",
    "plt.rcParams['font.family'] = font_name\n",
    "plt.rcParams['axes.unicode_minus'] = False"
   ]
  },
  {
   "cell_type": "code",
   "execution_count": 5,
   "metadata": {},
   "outputs": [],
   "source": [
    "\n",
    "import matplotlib.pyplot as plt\n",
    "import numpy as np\n",
    "from tqdm import tqdm\n",
    "\n",
    "def validate_fast(model, dataloader):\n",
    "    model.eval()\n",
    "\n",
    "    # progress bar\n",
    "    batch_bar = tqdm(total=len(dataloader), dynamic_ncols=True, leave=False, position=0, desc=\"Val\", ncols=5)\n",
    "\n",
    "    running_distance = 0.0\n",
    "    running_cer = 0.0\n",
    "    running_wer = 0.0\n",
    "\n",
    "    # Create a figure for displaying results\n",
    "    plt.figure(figsize=(100, 4))\n",
    "    \n",
    "    for i, (inputs, targets_shifted, targets_golden, inputs_lengths, targets_lengths) in enumerate(dataloader):\n",
    "        inputs = inputs.to(device)\n",
    "        targets_golden = targets_golden.to(device)\n",
    "\n",
    "\n",
    "        # Display images and predictions for the first batch\n",
    "        if i == 0:\n",
    "            # Convert tensor to numpy and denormalize if needed\n",
    "            images = inputs.cpu().numpy()\n",
    "            if images.shape[1] == 1:  # Grayscale\n",
    "                images = np.squeeze(images, axis=1)\n",
    "            else:  # RGB\n",
    "                images = np.transpose(images, (0, 2, 3, 1))\n",
    "            \n",
    "            # Display up to 4 examples from the first batch\n",
    "            num_examples = min(4, inputs.size(0))\n",
    "            for j in range(num_examples):\n",
    "                # plt.subplot(2, 2, j+1)\n",
    "                \n",
    "                # Display image\n",
    "                if images[j].shape[0] == 3:  # RGB\n",
    "                    \n",
    "                    plt.imshow(np.transpose(images[j], (1, 2, 0)))\n",
    "                else:  # Grayscale\n",
    "                    plt.imshow(images[j], cmap='gray')\n",
    "                \n",
    "                # Get prediction and ground truth text\n",
    "                # pred_text = tokenizer.decode(greedy_predictions[j])\n",
    "                # true_text = tokenizer.decode(targets_golden[j].cpu().numpy())\n",
    "                \n",
    "                # # Format the title\n",
    "                # title = f\"Pred: {pred_text}\\nTrue: {true_text}\"\n",
    "                # if pred_text == true_text:\n",
    "                #     plt.title(title, color='green')\n",
    "                # else:\n",
    "                #     plt.title(title, color='red')\n",
    "                \n",
    "                plt.axis('off')\n",
    "            \n",
    "            plt.tight_layout()\n",
    "            plt.show()\n",
    "        with torch.inference_mode():\n",
    "            greedy_predictions = model.recognize(inputs, inputs_lengths)\n",
    "\n",
    "        # Calculate metrics\n",
    "        dist, cer, wer = calc_edit_distance(greedy_predictions, targets_golden, targets_lengths, tokenizer, print_example=False)\n",
    "        running_distance += dist\n",
    "        running_cer += cer\n",
    "        running_wer += wer\n",
    "\n",
    "\n",
    "\n",
    "        # Update progress bar\n",
    "        batch_bar.set_postfix(\n",
    "            running_distance=\"{:.04f}\".format(float(running_distance / (i + 1))),\n",
    "            running_cer=\"{:.04f}\".format(float(running_cer / (i + 1))),\n",
    "            running_wer=\"{:.04f}\".format(float(running_wer / (i + 1)))\n",
    "        )\n",
    "        batch_bar.update()\n",
    "\n",
    "        del inputs, targets_shifted, targets_golden, inputs_lengths, targets_lengths\n",
    "        torch.cuda.empty_cache()\n",
    "\n",
    "        if i == 4:  # validating only upon first five batches\n",
    "            break\n",
    "\n",
    "    batch_bar.close()\n",
    "    running_distance /= 5\n",
    "    running_cer /= 5\n",
    "    running_wer /= 5\n",
    "\n",
    "    return running_distance, running_cer, running_wer\n",
    "\n",
    "def validate_full(model, dataloader):\n",
    "    model.eval()\n",
    "\n",
    "    # progress bar\n",
    "    batch_bar = tqdm(total=len(dataloader), dynamic_ncols=True, leave=False, position=0, desc=\"Val\", ncols=5)\n",
    "\n",
    "    running_distance = 0.0\n",
    "\n",
    "    for i, (inputs, targets_shifted, targets_golden, inputs_lengths, targets_lengths) in enumerate(dataloader):\n",
    "\n",
    "        inputs  = inputs.to(device)\n",
    "        targets_golden = targets_golden.to(device)\n",
    "\n",
    "        with torch.inference_mode():\n",
    "            greedy_predictions = model.recognize(inputs, inputs_lengths)\n",
    "\n",
    "        # calculating Levenshtein Distance\n",
    "        # @NOTE: modify the print_example to print more or less validation examples\n",
    "        running_distance += calc_edit_distance(greedy_predictions, targets_golden, targets_lengths, tokenizer, print_example=True)\n",
    "\n",
    "        # online validation distance monitoring\n",
    "        batch_bar.set_postfix(\n",
    "            running_distance = \"{:.04f}\".format(float(running_distance / (i + 1)))\n",
    "        )\n",
    "\n",
    "        batch_bar.update()\n",
    "\n",
    "        del inputs, targets_shifted, targets_golden, inputs_lengths, targets_lengths\n",
    "        torch.cuda.empty_cache()\n",
    "\n",
    "\n",
    "    batch_bar.close()\n",
    "    running_distance /= len(dataloader)\n",
    "\n",
    "    return running_distance\n",
    "\n",
    "\n",
    "#"
   ]
  },
  {
   "cell_type": "code",
   "execution_count": null,
   "metadata": {},
   "outputs": [],
   "source": []
  },
  {
   "cell_type": "code",
   "execution_count": null,
   "metadata": {},
   "outputs": [],
   "source": [
    "levenshtein_distance = validate_fast(model, val_loader)\n"
   ]
  }
 ],
 "metadata": {
  "kernelspec": {
   "display_name": "datagen",
   "language": "python",
   "name": "python3"
  },
  "language_info": {
   "codemirror_mode": {
    "name": "ipython",
    "version": 3
   },
   "file_extension": ".py",
   "mimetype": "text/x-python",
   "name": "python",
   "nbconvert_exporter": "python",
   "pygments_lexer": "ipython3",
   "version": "3.12.3"
  }
 },
 "nbformat": 4,
 "nbformat_minor": 2
}
