{
 "cells": [
  {
   "cell_type": "code",
   "execution_count": 1,
   "metadata": {},
   "outputs": [
    {
     "ename": "KeyboardInterrupt",
     "evalue": "",
     "output_type": "error",
     "traceback": [
      "\u001b[31m---------------------------------------------------------------------------\u001b[39m",
      "\u001b[31mKeyboardInterrupt\u001b[39m                         Traceback (most recent call last)",
      "\u001b[36mCell\u001b[39m\u001b[36m \u001b[39m\u001b[32mIn[1]\u001b[39m\u001b[32m, line 17\u001b[39m\n\u001b[32m     15\u001b[39m image_path = os.path.join(image_dir, filename)\n\u001b[32m     16\u001b[39m \u001b[38;5;28;01mtry\u001b[39;00m:\n\u001b[32m---> \u001b[39m\u001b[32m17\u001b[39m     \u001b[38;5;28;01mwith\u001b[39;00m \u001b[43mImage\u001b[49m\u001b[43m.\u001b[49m\u001b[43mopen\u001b[49m\u001b[43m(\u001b[49m\u001b[43mimage_path\u001b[49m\u001b[43m)\u001b[49m \u001b[38;5;28;01mas\u001b[39;00m img:\n\u001b[32m     18\u001b[39m         width, height = img.size\n\u001b[32m     19\u001b[39m         total_width += width\n",
      "\u001b[36mFile \u001b[39m\u001b[32m~/datagen/lib/python3.12/site-packages/PIL/Image.py:3476\u001b[39m, in \u001b[36mopen\u001b[39m\u001b[34m(fp, mode, formats)\u001b[39m\n\u001b[32m   3473\u001b[39m     fp = io.BytesIO(fp.read())\n\u001b[32m   3474\u001b[39m     exclusive_fp = \u001b[38;5;28;01mTrue\u001b[39;00m\n\u001b[32m-> \u001b[39m\u001b[32m3476\u001b[39m prefix = \u001b[43mfp\u001b[49m\u001b[43m.\u001b[49m\u001b[43mread\u001b[49m\u001b[43m(\u001b[49m\u001b[32;43m16\u001b[39;49m\u001b[43m)\u001b[49m\n\u001b[32m   3478\u001b[39m preinit()\n\u001b[32m   3480\u001b[39m warning_messages: \u001b[38;5;28mlist\u001b[39m[\u001b[38;5;28mstr\u001b[39m] = []\n",
      "\u001b[31mKeyboardInterrupt\u001b[39m: "
     ]
    }
   ],
   "source": [
    "import pandas as pd\n",
    "from PIL import Image\n",
    "import os\n",
    "df = pd.read_csv(\"/home/ubuntu/data/synthetic_data/labels/output_labels_train.csv\")  \n",
    "\n",
    "\n",
    "image_dir = \"/home/ubuntu/data/synthetic_data/data\" \n",
    "\n",
    "\n",
    "total_width, total_height = 0, 0\n",
    "count = 0\n",
    "\n",
    "\n",
    "for filename in df['image_filename']:\n",
    "    image_path = os.path.join(image_dir, filename)\n",
    "    try:\n",
    "        with Image.open(image_path) as img:\n",
    "            width, height = img.size\n",
    "            total_width += width\n",
    "            total_height += height\n",
    "            count += 1\n",
    "    except FileNotFoundError:\n",
    "        print(f\"Image not found: {image_path}\")\n",
    "    except Exception as e:\n",
    "        print(f\"Error reading {image_path}: {e}\")\n",
    "\n",
    "\n",
    "if count > 0:\n",
    "    avg_width = total_width / count\n",
    "    avg_height = total_height / count\n",
    "    print(f\"Average Width: {avg_width:.2f}px\")\n",
    "    print(f\"Average Height: {avg_height:.2f}px\")\n",
    "else:\n",
    "    print(\"No images found or processed.\")\n"
   ]
  },
  {
   "cell_type": "code",
   "execution_count": 144,
   "metadata": {},
   "outputs": [],
   "source": [
    "from PIL import Image\n",
    "import os\n",
    "import numpy as np\n",
    "\n",
    "# Define the resize and patching function\n",
    "def resize_and_patch_image(image_path, target_size=(128, 1536), patch_size=(32, 32)):\n",
    "    \"\"\"\n",
    "    Resize image while maintaining aspect ratio, pad to target_size, and split into patches of patch_size.\n",
    "    Returns a list of patches as NumPy arrays.\n",
    "    \"\"\"\n",
    "    target_height, target_width = target_size\n",
    "    patch_height, patch_width = patch_size\n",
    "\n",
    "    with Image.open(image_path) as img:\n",
    "        # Convert to RGB if grayscale or other mode\n",
    "        img = img.convert(\"RGB\")\n",
    "        \n",
    "       \n",
    "        aspect_ratio = img.width / img.height\n",
    "        new_height = target_height\n",
    "        new_width = min(int(aspect_ratio * new_height), target_width)\n",
    "        img_resized = img.resize((new_width, new_height), Image.BICUBIC)\n",
    "   \n",
    "        padded_img = Image.new(\"RGB\", (target_width, target_height), (0, 0, 0))\n",
    "        padded_img.paste(img_resized, (0, 0))\n",
    "        \n",
    "\n",
    "        img_array = np.array(padded_img)\n",
    "        plt.imshow(padded_img)\n",
    "        patches = []\n",
    "        for y in range(0, target_height, patch_height):\n",
    "            for x in range(0, target_width, patch_width):\n",
    "                patch = img_array[y:y+patch_height, x:x+patch_width]\n",
    "                if patch.shape[0] == patch_height and patch.shape[1] == patch_width:\n",
    "                    patches.append(patch)\n",
    "        \n",
    "        return patches\n",
    "\n",
    "\n"
   ]
  },
  {
   "cell_type": "code",
   "execution_count": 147,
   "metadata": {},
   "outputs": [
    {
     "data": {
      "text/plain": [
       "(192, (32, 32, 3))"
      ]
     },
     "execution_count": 147,
     "metadata": {},
     "output_type": "execute_result"
    },
    {
     "data": {
      "image/png": "[encoded data removed]",
      "text/plain": [
       "<Figure size 640x480 with 1 Axes>"
      ]
     },
     "metadata": {},
     "output_type": "display_data"
    }
   ],
   "source": [
    "import random\n",
    "rand_index =  random.randint(0, len(df['image_filename'])) \n",
    "filename = df['image_filename'][rand_index]\n",
    "image_path = os.path.join(image_dir, filename)\n",
    "\n",
    "patches = resize_and_patch_image(image_path)\n",
    "len(patches), patches[0].shape  # Should be 64 patches of shape (64, 64, 3)\n"
   ]
  },
  {
   "cell_type": "code",
   "execution_count": 4,
   "metadata": {},
   "outputs": [
    {
     "data": {
      "text/plain": [
       "<matplotlib.image.AxesImage at 0x75de3f128890>"
      ]
     },
     "execution_count": 4,
     "metadata": {},
     "output_type": "execute_result"
    },
    {
     "data": {
      "image/png": "[encoded data removed]",
      "text/plain": [
       "<Figure size 640x480 with 1 Axes>"
      ]
     },
     "metadata": {},
     "output_type": "display_data"
    }
   ],
   "source": [
    "import matplotlib.pyplot as plt\n",
    "\n",
    "plt.imshow(patches[30])\n",
    "\n"
   ]
  }
 ],
 "metadata": {
  "kernelspec": {
   "display_name": "datagen",
   "language": "python",
   "name": "python3"
  },
  "language_info": {
   "codemirror_mode": {
    "name": "ipython",
    "version": 3
   },
   "file_extension": ".py",
   "mimetype": "text/x-python",
   "name": "python",
   "nbconvert_exporter": "python",
   "pygments_lexer": "ipython3",
   "version": "3.12.3"
  }
 },
 "nbformat": 4,
 "nbformat_minor": 2
}
